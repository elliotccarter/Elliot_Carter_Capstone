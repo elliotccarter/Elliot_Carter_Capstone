{
 "cells": [
  {
   "cell_type": "code",
   "execution_count": 15,
   "id": "db98d6b7",
   "metadata": {},
   "outputs": [],
   "source": [
    "# import statements\n",
    "\n",
    "import pandas as pd\n",
    "import numpy as np\n"
   ]
  },
  {
   "cell_type": "code",
   "execution_count": 16,
   "id": "a7d01d2c",
   "metadata": {},
   "outputs": [],
   "source": [
    "# reading data\n",
    "\n",
    "df1 = pd.read_csv(\"data/data_study1.csv\")"
   ]
  },
  {
   "cell_type": "code",
   "execution_count": 17,
   "id": "55a975ba",
   "metadata": {
    "scrolled": true
   },
   "outputs": [
    {
     "data": {
      "text/html": [
       "<div>\n",
       "<style scoped>\n",
       "    .dataframe tbody tr th:only-of-type {\n",
       "        vertical-align: middle;\n",
       "    }\n",
       "\n",
       "    .dataframe tbody tr th {\n",
       "        vertical-align: top;\n",
       "    }\n",
       "\n",
       "    .dataframe thead th {\n",
       "        text-align: right;\n",
       "    }\n",
       "</style>\n",
       "<table border=\"1\" class=\"dataframe\">\n",
       "  <thead>\n",
       "    <tr style=\"text-align: right;\">\n",
       "      <th></th>\n",
       "      <th>Unnamed: 0</th>\n",
       "      <th>UID</th>\n",
       "      <th>Country</th>\n",
       "      <th>Sex</th>\n",
       "      <th>Age</th>\n",
       "      <th>Edu_high</th>\n",
       "      <th>Edu_low</th>\n",
       "      <th>Pol_Ori</th>\n",
       "      <th>ZmeanPO</th>\n",
       "      <th>ZPO</th>\n",
       "      <th>...</th>\n",
       "      <th>mean_lrgen</th>\n",
       "      <th>mean_lrecon</th>\n",
       "      <th>mean_galtan</th>\n",
       "      <th>zmean_lrgen</th>\n",
       "      <th>zmean_lrecon</th>\n",
       "      <th>zmean_galtan</th>\n",
       "      <th>lrgengov</th>\n",
       "      <th>lrecongov</th>\n",
       "      <th>galtangov</th>\n",
       "      <th>CPO</th>\n",
       "    </tr>\n",
       "  </thead>\n",
       "  <tbody>\n",
       "    <tr>\n",
       "      <th>0</th>\n",
       "      <td>iceland.1</td>\n",
       "      <td>Iceland::1</td>\n",
       "      <td>Iceland</td>\n",
       "      <td>male</td>\n",
       "      <td>33.0</td>\n",
       "      <td>1.0</td>\n",
       "      <td>0.0</td>\n",
       "      <td>4.2</td>\n",
       "      <td>1.064809</td>\n",
       "      <td>-0.453397</td>\n",
       "      <td>...</td>\n",
       "      <td>NaN</td>\n",
       "      <td>NaN</td>\n",
       "      <td>NaN</td>\n",
       "      <td>NaN</td>\n",
       "      <td>NaN</td>\n",
       "      <td>NaN</td>\n",
       "      <td>NaN</td>\n",
       "      <td>NaN</td>\n",
       "      <td>NaN</td>\n",
       "      <td>-0.827639</td>\n",
       "    </tr>\n",
       "    <tr>\n",
       "      <th>1</th>\n",
       "      <td>iceland.2</td>\n",
       "      <td>Iceland::2</td>\n",
       "      <td>Iceland</td>\n",
       "      <td>male</td>\n",
       "      <td>28.0</td>\n",
       "      <td>1.0</td>\n",
       "      <td>0.0</td>\n",
       "      <td>4.2</td>\n",
       "      <td>1.064809</td>\n",
       "      <td>-0.453397</td>\n",
       "      <td>...</td>\n",
       "      <td>NaN</td>\n",
       "      <td>NaN</td>\n",
       "      <td>NaN</td>\n",
       "      <td>NaN</td>\n",
       "      <td>NaN</td>\n",
       "      <td>NaN</td>\n",
       "      <td>NaN</td>\n",
       "      <td>NaN</td>\n",
       "      <td>NaN</td>\n",
       "      <td>-0.827639</td>\n",
       "    </tr>\n",
       "    <tr>\n",
       "      <th>2</th>\n",
       "      <td>iceland.3</td>\n",
       "      <td>Iceland::3</td>\n",
       "      <td>Iceland</td>\n",
       "      <td>female</td>\n",
       "      <td>35.0</td>\n",
       "      <td>0.0</td>\n",
       "      <td>1.0</td>\n",
       "      <td>NaN</td>\n",
       "      <td>1.064809</td>\n",
       "      <td>NaN</td>\n",
       "      <td>...</td>\n",
       "      <td>NaN</td>\n",
       "      <td>NaN</td>\n",
       "      <td>NaN</td>\n",
       "      <td>NaN</td>\n",
       "      <td>NaN</td>\n",
       "      <td>NaN</td>\n",
       "      <td>NaN</td>\n",
       "      <td>NaN</td>\n",
       "      <td>NaN</td>\n",
       "      <td>NaN</td>\n",
       "    </tr>\n",
       "    <tr>\n",
       "      <th>3</th>\n",
       "      <td>iceland.4</td>\n",
       "      <td>Iceland::4</td>\n",
       "      <td>Iceland</td>\n",
       "      <td>male</td>\n",
       "      <td>55.0</td>\n",
       "      <td>1.0</td>\n",
       "      <td>0.0</td>\n",
       "      <td>5.0</td>\n",
       "      <td>1.064809</td>\n",
       "      <td>-0.015141</td>\n",
       "      <td>...</td>\n",
       "      <td>NaN</td>\n",
       "      <td>NaN</td>\n",
       "      <td>NaN</td>\n",
       "      <td>NaN</td>\n",
       "      <td>NaN</td>\n",
       "      <td>NaN</td>\n",
       "      <td>NaN</td>\n",
       "      <td>NaN</td>\n",
       "      <td>NaN</td>\n",
       "      <td>-0.027639</td>\n",
       "    </tr>\n",
       "    <tr>\n",
       "      <th>4</th>\n",
       "      <td>iceland.5</td>\n",
       "      <td>Iceland::5</td>\n",
       "      <td>Iceland</td>\n",
       "      <td>male</td>\n",
       "      <td>52.0</td>\n",
       "      <td>0.0</td>\n",
       "      <td>1.0</td>\n",
       "      <td>5.8</td>\n",
       "      <td>1.064809</td>\n",
       "      <td>0.423114</td>\n",
       "      <td>...</td>\n",
       "      <td>NaN</td>\n",
       "      <td>NaN</td>\n",
       "      <td>NaN</td>\n",
       "      <td>NaN</td>\n",
       "      <td>NaN</td>\n",
       "      <td>NaN</td>\n",
       "      <td>NaN</td>\n",
       "      <td>NaN</td>\n",
       "      <td>NaN</td>\n",
       "      <td>0.772361</td>\n",
       "    </tr>\n",
       "  </tbody>\n",
       "</table>\n",
       "<p>5 rows × 38 columns</p>\n",
       "</div>"
      ],
      "text/plain": [
       "  Unnamed: 0         UID  Country     Sex   Age  Edu_high  Edu_low  Pol_Ori  \\\n",
       "0  iceland.1  Iceland::1  Iceland    male  33.0       1.0      0.0      4.2   \n",
       "1  iceland.2  Iceland::2  Iceland    male  28.0       1.0      0.0      4.2   \n",
       "2  iceland.3  Iceland::3  Iceland  female  35.0       0.0      1.0      NaN   \n",
       "3  iceland.4  Iceland::4  Iceland    male  55.0       1.0      0.0      5.0   \n",
       "4  iceland.5  Iceland::5  Iceland    male  52.0       0.0      1.0      5.8   \n",
       "\n",
       "    ZmeanPO       ZPO  ...  mean_lrgen  mean_lrecon  mean_galtan  zmean_lrgen  \\\n",
       "0  1.064809 -0.453397  ...         NaN          NaN          NaN          NaN   \n",
       "1  1.064809 -0.453397  ...         NaN          NaN          NaN          NaN   \n",
       "2  1.064809       NaN  ...         NaN          NaN          NaN          NaN   \n",
       "3  1.064809 -0.015141  ...         NaN          NaN          NaN          NaN   \n",
       "4  1.064809  0.423114  ...         NaN          NaN          NaN          NaN   \n",
       "\n",
       "   zmean_lrecon  zmean_galtan  lrgengov  lrecongov  galtangov       CPO  \n",
       "0           NaN           NaN       NaN        NaN        NaN -0.827639  \n",
       "1           NaN           NaN       NaN        NaN        NaN -0.827639  \n",
       "2           NaN           NaN       NaN        NaN        NaN       NaN  \n",
       "3           NaN           NaN       NaN        NaN        NaN -0.027639  \n",
       "4           NaN           NaN       NaN        NaN        NaN  0.772361  \n",
       "\n",
       "[5 rows x 38 columns]"
      ]
     },
     "execution_count": 17,
     "metadata": {},
     "output_type": "execute_result"
    }
   ],
   "source": [
    "df1.head()"
   ]
  },
  {
   "cell_type": "code",
   "execution_count": 18,
   "id": "af6ef13e",
   "metadata": {},
   "outputs": [
    {
     "name": "stdout",
     "output_type": "stream",
     "text": [
      "<class 'pandas.core.frame.DataFrame'>\n",
      "RangeIndex: 40954 entries, 0 to 40953\n",
      "Data columns (total 38 columns):\n",
      " #   Column        Non-Null Count  Dtype  \n",
      "---  ------        --------------  -----  \n",
      " 0   Unnamed: 0    40954 non-null  object \n",
      " 1   UID           40954 non-null  object \n",
      " 2   Country       40954 non-null  object \n",
      " 3   Sex           37629 non-null  object \n",
      " 4   Age           37555 non-null  float64\n",
      " 5   Edu_high      31414 non-null  float64\n",
      " 6   Edu_low       31414 non-null  float64\n",
      " 7   Pol_Ori       38145 non-null  float64\n",
      " 8   ZmeanPO       40954 non-null  float64\n",
      " 9   ZPO           38145 non-null  float64\n",
      " 10  CMQ_1         33670 non-null  float64\n",
      " 11  CMQ_2         33641 non-null  float64\n",
      " 12  CMQ_3         33592 non-null  float64\n",
      " 13  CMQ_4         33447 non-null  float64\n",
      " 14  CMQ_5         33505 non-null  float64\n",
      " 15  CM4x          33195 non-null  float64\n",
      " 16  CM5x          33152 non-null  float64\n",
      " 17  CT_left       29555 non-null  float64\n",
      " 18  CT_right      29639 non-null  float64\n",
      " 19  CT_neutral    29141 non-null  float64\n",
      " 20  Winner_state  29184 non-null  float64\n",
      " 21  CHES_version  38385 non-null  object \n",
      " 22  lrgen         27371 non-null  float64\n",
      " 23  lrecon        27371 non-null  float64\n",
      " 24  galtan        27371 non-null  float64\n",
      " 25  zlrgen        27371 non-null  float64\n",
      " 26  zlrecon       27371 non-null  float64\n",
      " 27  zgaltan       27371 non-null  float64\n",
      " 28  mean_lrgen    38385 non-null  float64\n",
      " 29  mean_lrecon   38385 non-null  float64\n",
      " 30  mean_galtan   38385 non-null  float64\n",
      " 31  zmean_lrgen   38385 non-null  float64\n",
      " 32  zmean_lrecon  38385 non-null  float64\n",
      " 33  zmean_galtan  38385 non-null  float64\n",
      " 34  lrgengov      38030 non-null  float64\n",
      " 35  lrecongov     38030 non-null  float64\n",
      " 36  galtangov     38030 non-null  float64\n",
      " 37  CPO           38145 non-null  float64\n",
      "dtypes: float64(33), object(5)\n",
      "memory usage: 11.9+ MB\n"
     ]
    }
   ],
   "source": [
    "df1.info()"
   ]
  },
  {
   "cell_type": "code",
   "execution_count": 19,
   "id": "eff711e4",
   "metadata": {},
   "outputs": [
    {
     "data": {
      "text/plain": [
       "(40954, 38)"
      ]
     },
     "execution_count": 19,
     "metadata": {},
     "output_type": "execute_result"
    }
   ],
   "source": [
    "df1.shape"
   ]
  },
  {
   "cell_type": "code",
   "execution_count": 20,
   "id": "fb0f6619",
   "metadata": {},
   "outputs": [],
   "source": [
    "df2 = pd.read_csv(\"data/data_study2.csv\")"
   ]
  },
  {
   "cell_type": "code",
   "execution_count": 21,
   "id": "39797e7b",
   "metadata": {
    "scrolled": true
   },
   "outputs": [
    {
     "data": {
      "text/html": [
       "<div>\n",
       "<style scoped>\n",
       "    .dataframe tbody tr th:only-of-type {\n",
       "        vertical-align: middle;\n",
       "    }\n",
       "\n",
       "    .dataframe tbody tr th {\n",
       "        vertical-align: top;\n",
       "    }\n",
       "\n",
       "    .dataframe thead th {\n",
       "        text-align: right;\n",
       "    }\n",
       "</style>\n",
       "<table border=\"1\" class=\"dataframe\">\n",
       "  <thead>\n",
       "    <tr style=\"text-align: right;\">\n",
       "      <th></th>\n",
       "      <th>Unnamed: 0</th>\n",
       "      <th>Weights</th>\n",
       "      <th>Sex</th>\n",
       "      <th>Age</th>\n",
       "      <th>Country</th>\n",
       "      <th>Pol_Ori</th>\n",
       "      <th>CMQ_1</th>\n",
       "      <th>CMQ_2</th>\n",
       "      <th>CMQ_3</th>\n",
       "      <th>CMQ_4</th>\n",
       "      <th>...</th>\n",
       "      <th>lrecon</th>\n",
       "      <th>galtan</th>\n",
       "      <th>zlrgen</th>\n",
       "      <th>zlrecon</th>\n",
       "      <th>zgaltan</th>\n",
       "      <th>ZPO</th>\n",
       "      <th>ZmeanPO</th>\n",
       "      <th>CM4x</th>\n",
       "      <th>CM5x</th>\n",
       "      <th>CPO</th>\n",
       "    </tr>\n",
       "  </thead>\n",
       "  <tbody>\n",
       "    <tr>\n",
       "      <th>0</th>\n",
       "      <td>1</td>\n",
       "      <td>1.532339</td>\n",
       "      <td>Male</td>\n",
       "      <td>18.916667</td>\n",
       "      <td>Sweden</td>\n",
       "      <td>5.0</td>\n",
       "      <td>8.0</td>\n",
       "      <td>8.0</td>\n",
       "      <td>4.0</td>\n",
       "      <td>6.0</td>\n",
       "      <td>...</td>\n",
       "      <td>3.470588</td>\n",
       "      <td>4.411765</td>\n",
       "      <td>-0.799850</td>\n",
       "      <td>-0.780204</td>\n",
       "      <td>-0.336897</td>\n",
       "      <td>-0.449278</td>\n",
       "      <td>1.062604</td>\n",
       "      <td>6.25</td>\n",
       "      <td>6.6</td>\n",
       "      <td>-1.304476</td>\n",
       "    </tr>\n",
       "    <tr>\n",
       "      <th>1</th>\n",
       "      <td>2</td>\n",
       "      <td>0.997387</td>\n",
       "      <td>Male</td>\n",
       "      <td>25.750000</td>\n",
       "      <td>Sweden</td>\n",
       "      <td>11.0</td>\n",
       "      <td>NaN</td>\n",
       "      <td>NaN</td>\n",
       "      <td>NaN</td>\n",
       "      <td>NaN</td>\n",
       "      <td>...</td>\n",
       "      <td>8.411765</td>\n",
       "      <td>5.888889</td>\n",
       "      <td>0.837842</td>\n",
       "      <td>1.306571</td>\n",
       "      <td>0.191618</td>\n",
       "      <td>1.617198</td>\n",
       "      <td>1.062604</td>\n",
       "      <td>NaN</td>\n",
       "      <td>NaN</td>\n",
       "      <td>4.695524</td>\n",
       "    </tr>\n",
       "    <tr>\n",
       "      <th>2</th>\n",
       "      <td>3</td>\n",
       "      <td>6.050884</td>\n",
       "      <td>Female</td>\n",
       "      <td>19.916667</td>\n",
       "      <td>Sweden</td>\n",
       "      <td>11.0</td>\n",
       "      <td>11.0</td>\n",
       "      <td>11.0</td>\n",
       "      <td>11.0</td>\n",
       "      <td>9.0</td>\n",
       "      <td>...</td>\n",
       "      <td>5.941176</td>\n",
       "      <td>8.944445</td>\n",
       "      <td>0.860276</td>\n",
       "      <td>0.263184</td>\n",
       "      <td>1.284895</td>\n",
       "      <td>1.617198</td>\n",
       "      <td>1.062604</td>\n",
       "      <td>10.50</td>\n",
       "      <td>10.6</td>\n",
       "      <td>4.695524</td>\n",
       "    </tr>\n",
       "    <tr>\n",
       "      <th>3</th>\n",
       "      <td>4</td>\n",
       "      <td>1.838405</td>\n",
       "      <td>Male</td>\n",
       "      <td>62.750000</td>\n",
       "      <td>Sweden</td>\n",
       "      <td>8.0</td>\n",
       "      <td>NaN</td>\n",
       "      <td>NaN</td>\n",
       "      <td>NaN</td>\n",
       "      <td>NaN</td>\n",
       "      <td>...</td>\n",
       "      <td>8.411765</td>\n",
       "      <td>5.888889</td>\n",
       "      <td>0.837842</td>\n",
       "      <td>1.306571</td>\n",
       "      <td>0.191618</td>\n",
       "      <td>0.583960</td>\n",
       "      <td>1.062604</td>\n",
       "      <td>NaN</td>\n",
       "      <td>NaN</td>\n",
       "      <td>1.695524</td>\n",
       "    </tr>\n",
       "    <tr>\n",
       "      <th>4</th>\n",
       "      <td>5</td>\n",
       "      <td>0.997387</td>\n",
       "      <td>Male</td>\n",
       "      <td>30.916667</td>\n",
       "      <td>Sweden</td>\n",
       "      <td>5.0</td>\n",
       "      <td>11.0</td>\n",
       "      <td>7.0</td>\n",
       "      <td>9.0</td>\n",
       "      <td>6.0</td>\n",
       "      <td>...</td>\n",
       "      <td>3.470588</td>\n",
       "      <td>4.411765</td>\n",
       "      <td>-0.799850</td>\n",
       "      <td>-0.780204</td>\n",
       "      <td>-0.336897</td>\n",
       "      <td>-0.449278</td>\n",
       "      <td>1.062604</td>\n",
       "      <td>8.25</td>\n",
       "      <td>8.8</td>\n",
       "      <td>-1.304476</td>\n",
       "    </tr>\n",
       "  </tbody>\n",
       "</table>\n",
       "<p>5 rows × 26 columns</p>\n",
       "</div>"
      ],
      "text/plain": [
       "   Unnamed: 0   Weights     Sex        Age Country  Pol_Ori  CMQ_1  CMQ_2  \\\n",
       "0           1  1.532339    Male  18.916667  Sweden      5.0    8.0    8.0   \n",
       "1           2  0.997387    Male  25.750000  Sweden     11.0    NaN    NaN   \n",
       "2           3  6.050884  Female  19.916667  Sweden     11.0   11.0   11.0   \n",
       "3           4  1.838405    Male  62.750000  Sweden      8.0    NaN    NaN   \n",
       "4           5  0.997387    Male  30.916667  Sweden      5.0   11.0    7.0   \n",
       "\n",
       "   CMQ_3  CMQ_4  ...    lrecon    galtan    zlrgen   zlrecon   zgaltan  \\\n",
       "0    4.0    6.0  ...  3.470588  4.411765 -0.799850 -0.780204 -0.336897   \n",
       "1    NaN    NaN  ...  8.411765  5.888889  0.837842  1.306571  0.191618   \n",
       "2   11.0    9.0  ...  5.941176  8.944445  0.860276  0.263184  1.284895   \n",
       "3    NaN    NaN  ...  8.411765  5.888889  0.837842  1.306571  0.191618   \n",
       "4    9.0    6.0  ...  3.470588  4.411765 -0.799850 -0.780204 -0.336897   \n",
       "\n",
       "        ZPO   ZmeanPO   CM4x  CM5x       CPO  \n",
       "0 -0.449278  1.062604   6.25   6.6 -1.304476  \n",
       "1  1.617198  1.062604    NaN   NaN  4.695524  \n",
       "2  1.617198  1.062604  10.50  10.6  4.695524  \n",
       "3  0.583960  1.062604    NaN   NaN  1.695524  \n",
       "4 -0.449278  1.062604   8.25   8.8 -1.304476  \n",
       "\n",
       "[5 rows x 26 columns]"
      ]
     },
     "execution_count": 21,
     "metadata": {},
     "output_type": "execute_result"
    }
   ],
   "source": [
    "df2.head()"
   ]
  },
  {
   "cell_type": "code",
   "execution_count": 22,
   "id": "f9666c10",
   "metadata": {},
   "outputs": [
    {
     "name": "stdout",
     "output_type": "stream",
     "text": [
      "<class 'pandas.core.frame.DataFrame'>\n",
      "RangeIndex: 89576 entries, 0 to 89575\n",
      "Data columns (total 26 columns):\n",
      " #   Column        Non-Null Count  Dtype  \n",
      "---  ------        --------------  -----  \n",
      " 0   Unnamed: 0    89576 non-null  int64  \n",
      " 1   Weights       66596 non-null  float64\n",
      " 2   Sex           71913 non-null  object \n",
      " 3   Age           72988 non-null  float64\n",
      " 4   Country       89576 non-null  object \n",
      " 5   Pol_Ori       73636 non-null  float64\n",
      " 6   CMQ_1         53437 non-null  float64\n",
      " 7   CMQ_2         52895 non-null  float64\n",
      " 8   CMQ_3         52890 non-null  float64\n",
      " 9   CMQ_4         52718 non-null  float64\n",
      " 10  CMQ_5         52716 non-null  float64\n",
      " 11  Edu_low       89507 non-null  float64\n",
      " 12  Edu_high      89507 non-null  float64\n",
      " 13  Winner_state  65087 non-null  float64\n",
      " 14  CHES_version  89576 non-null  object \n",
      " 15  lrgen         55414 non-null  float64\n",
      " 16  lrecon        55414 non-null  float64\n",
      " 17  galtan        55414 non-null  float64\n",
      " 18  zlrgen        55414 non-null  float64\n",
      " 19  zlrecon       55414 non-null  float64\n",
      " 20  zgaltan       55414 non-null  float64\n",
      " 21  ZPO           73636 non-null  float64\n",
      " 22  ZmeanPO       89576 non-null  float64\n",
      " 23  CM4x          51759 non-null  float64\n",
      " 24  CM5x          51691 non-null  float64\n",
      " 25  CPO           73636 non-null  float64\n",
      "dtypes: float64(22), int64(1), object(3)\n",
      "memory usage: 17.8+ MB\n"
     ]
    }
   ],
   "source": [
    "df2.info()"
   ]
  },
  {
   "cell_type": "code",
   "execution_count": 23,
   "id": "8e57fc67",
   "metadata": {},
   "outputs": [
    {
     "data": {
      "text/plain": [
       "(89576, 26)"
      ]
     },
     "execution_count": 23,
     "metadata": {},
     "output_type": "execute_result"
    }
   ],
   "source": [
    "df2.shape"
   ]
  },
  {
   "cell_type": "code",
   "execution_count": 24,
   "id": "56cd9ad4",
   "metadata": {
    "scrolled": true
   },
   "outputs": [
    {
     "data": {
      "text/plain": [
       "Index(['Unnamed: 0', 'Weights', 'Sex', 'Age', 'Country', 'Pol_Ori', 'CMQ_1',\n",
       "       'CMQ_2', 'CMQ_3', 'CMQ_4', 'CMQ_5', 'Edu_low', 'Edu_high',\n",
       "       'Winner_state', 'CHES_version', 'lrgen', 'lrecon', 'galtan', 'zlrgen',\n",
       "       'zlrecon', 'zgaltan', 'ZPO', 'ZmeanPO', 'CM4x', 'CM5x', 'CPO'],\n",
       "      dtype='object')"
      ]
     },
     "execution_count": 24,
     "metadata": {},
     "output_type": "execute_result"
    }
   ],
   "source": [
    "df2.columns"
   ]
  },
  {
   "cell_type": "code",
   "execution_count": 25,
   "id": "d54bea84",
   "metadata": {
    "scrolled": true
   },
   "outputs": [
    {
     "data": {
      "text/html": [
       "<div>\n",
       "<style scoped>\n",
       "    .dataframe tbody tr th:only-of-type {\n",
       "        vertical-align: middle;\n",
       "    }\n",
       "\n",
       "    .dataframe tbody tr th {\n",
       "        vertical-align: top;\n",
       "    }\n",
       "\n",
       "    .dataframe thead th {\n",
       "        text-align: right;\n",
       "    }\n",
       "</style>\n",
       "<table border=\"1\" class=\"dataframe\">\n",
       "  <thead>\n",
       "    <tr style=\"text-align: right;\">\n",
       "      <th></th>\n",
       "      <th>Weights</th>\n",
       "      <th>Sex</th>\n",
       "      <th>Age</th>\n",
       "      <th>Country</th>\n",
       "      <th>Pol_Ori</th>\n",
       "      <th>CMQ_1</th>\n",
       "      <th>CMQ_2</th>\n",
       "      <th>CMQ_3</th>\n",
       "      <th>CMQ_4</th>\n",
       "      <th>CMQ_5</th>\n",
       "      <th>...</th>\n",
       "      <th>lrecon</th>\n",
       "      <th>galtan</th>\n",
       "      <th>zlrgen</th>\n",
       "      <th>zlrecon</th>\n",
       "      <th>zgaltan</th>\n",
       "      <th>ZPO</th>\n",
       "      <th>ZmeanPO</th>\n",
       "      <th>CM4x</th>\n",
       "      <th>CM5x</th>\n",
       "      <th>CPO</th>\n",
       "    </tr>\n",
       "  </thead>\n",
       "  <tbody>\n",
       "    <tr>\n",
       "      <th>0</th>\n",
       "      <td>1.532339</td>\n",
       "      <td>Male</td>\n",
       "      <td>18.916667</td>\n",
       "      <td>Sweden</td>\n",
       "      <td>5.0</td>\n",
       "      <td>8.0</td>\n",
       "      <td>8.0</td>\n",
       "      <td>4.0</td>\n",
       "      <td>6.0</td>\n",
       "      <td>7.0</td>\n",
       "      <td>...</td>\n",
       "      <td>3.470588</td>\n",
       "      <td>4.411765</td>\n",
       "      <td>-0.799850</td>\n",
       "      <td>-0.780204</td>\n",
       "      <td>-0.336897</td>\n",
       "      <td>-0.449278</td>\n",
       "      <td>1.062604</td>\n",
       "      <td>6.25</td>\n",
       "      <td>6.6</td>\n",
       "      <td>-1.304476</td>\n",
       "    </tr>\n",
       "    <tr>\n",
       "      <th>1</th>\n",
       "      <td>0.997387</td>\n",
       "      <td>Male</td>\n",
       "      <td>25.750000</td>\n",
       "      <td>Sweden</td>\n",
       "      <td>11.0</td>\n",
       "      <td>NaN</td>\n",
       "      <td>NaN</td>\n",
       "      <td>NaN</td>\n",
       "      <td>NaN</td>\n",
       "      <td>NaN</td>\n",
       "      <td>...</td>\n",
       "      <td>8.411765</td>\n",
       "      <td>5.888889</td>\n",
       "      <td>0.837842</td>\n",
       "      <td>1.306571</td>\n",
       "      <td>0.191618</td>\n",
       "      <td>1.617198</td>\n",
       "      <td>1.062604</td>\n",
       "      <td>NaN</td>\n",
       "      <td>NaN</td>\n",
       "      <td>4.695524</td>\n",
       "    </tr>\n",
       "    <tr>\n",
       "      <th>2</th>\n",
       "      <td>6.050884</td>\n",
       "      <td>Female</td>\n",
       "      <td>19.916667</td>\n",
       "      <td>Sweden</td>\n",
       "      <td>11.0</td>\n",
       "      <td>11.0</td>\n",
       "      <td>11.0</td>\n",
       "      <td>11.0</td>\n",
       "      <td>9.0</td>\n",
       "      <td>11.0</td>\n",
       "      <td>...</td>\n",
       "      <td>5.941176</td>\n",
       "      <td>8.944445</td>\n",
       "      <td>0.860276</td>\n",
       "      <td>0.263184</td>\n",
       "      <td>1.284895</td>\n",
       "      <td>1.617198</td>\n",
       "      <td>1.062604</td>\n",
       "      <td>10.50</td>\n",
       "      <td>10.6</td>\n",
       "      <td>4.695524</td>\n",
       "    </tr>\n",
       "    <tr>\n",
       "      <th>3</th>\n",
       "      <td>1.838405</td>\n",
       "      <td>Male</td>\n",
       "      <td>62.750000</td>\n",
       "      <td>Sweden</td>\n",
       "      <td>8.0</td>\n",
       "      <td>NaN</td>\n",
       "      <td>NaN</td>\n",
       "      <td>NaN</td>\n",
       "      <td>NaN</td>\n",
       "      <td>NaN</td>\n",
       "      <td>...</td>\n",
       "      <td>8.411765</td>\n",
       "      <td>5.888889</td>\n",
       "      <td>0.837842</td>\n",
       "      <td>1.306571</td>\n",
       "      <td>0.191618</td>\n",
       "      <td>0.583960</td>\n",
       "      <td>1.062604</td>\n",
       "      <td>NaN</td>\n",
       "      <td>NaN</td>\n",
       "      <td>1.695524</td>\n",
       "    </tr>\n",
       "    <tr>\n",
       "      <th>4</th>\n",
       "      <td>0.997387</td>\n",
       "      <td>Male</td>\n",
       "      <td>30.916667</td>\n",
       "      <td>Sweden</td>\n",
       "      <td>5.0</td>\n",
       "      <td>11.0</td>\n",
       "      <td>7.0</td>\n",
       "      <td>9.0</td>\n",
       "      <td>6.0</td>\n",
       "      <td>11.0</td>\n",
       "      <td>...</td>\n",
       "      <td>3.470588</td>\n",
       "      <td>4.411765</td>\n",
       "      <td>-0.799850</td>\n",
       "      <td>-0.780204</td>\n",
       "      <td>-0.336897</td>\n",
       "      <td>-0.449278</td>\n",
       "      <td>1.062604</td>\n",
       "      <td>8.25</td>\n",
       "      <td>8.8</td>\n",
       "      <td>-1.304476</td>\n",
       "    </tr>\n",
       "  </tbody>\n",
       "</table>\n",
       "<p>5 rows × 25 columns</p>\n",
       "</div>"
      ],
      "text/plain": [
       "    Weights     Sex        Age Country  Pol_Ori  CMQ_1  CMQ_2  CMQ_3  CMQ_4  \\\n",
       "0  1.532339    Male  18.916667  Sweden      5.0    8.0    8.0    4.0    6.0   \n",
       "1  0.997387    Male  25.750000  Sweden     11.0    NaN    NaN    NaN    NaN   \n",
       "2  6.050884  Female  19.916667  Sweden     11.0   11.0   11.0   11.0    9.0   \n",
       "3  1.838405    Male  62.750000  Sweden      8.0    NaN    NaN    NaN    NaN   \n",
       "4  0.997387    Male  30.916667  Sweden      5.0   11.0    7.0    9.0    6.0   \n",
       "\n",
       "   CMQ_5  ...    lrecon    galtan    zlrgen   zlrecon   zgaltan       ZPO  \\\n",
       "0    7.0  ...  3.470588  4.411765 -0.799850 -0.780204 -0.336897 -0.449278   \n",
       "1    NaN  ...  8.411765  5.888889  0.837842  1.306571  0.191618  1.617198   \n",
       "2   11.0  ...  5.941176  8.944445  0.860276  0.263184  1.284895  1.617198   \n",
       "3    NaN  ...  8.411765  5.888889  0.837842  1.306571  0.191618  0.583960   \n",
       "4   11.0  ...  3.470588  4.411765 -0.799850 -0.780204 -0.336897 -0.449278   \n",
       "\n",
       "    ZmeanPO   CM4x  CM5x       CPO  \n",
       "0  1.062604   6.25   6.6 -1.304476  \n",
       "1  1.062604    NaN   NaN  4.695524  \n",
       "2  1.062604  10.50  10.6  4.695524  \n",
       "3  1.062604    NaN   NaN  1.695524  \n",
       "4  1.062604   8.25   8.8 -1.304476  \n",
       "\n",
       "[5 rows x 25 columns]"
      ]
     },
     "execution_count": 25,
     "metadata": {},
     "output_type": "execute_result"
    }
   ],
   "source": [
    "# Dropping old index\n",
    "\n",
    "df2.drop(columns='Unnamed: 0', axis=1, inplace=True)\n",
    "\n",
    "df2.head()"
   ]
  },
  {
   "cell_type": "code",
   "execution_count": 42,
   "id": "43621c64",
   "metadata": {},
   "outputs": [
    {
     "data": {
      "text/plain": [
       "array([ 8., nan, 11., 10.,  4.,  7.,  6.,  9.,  5.,  3.,  2.,  1.])"
      ]
     },
     "execution_count": 42,
     "metadata": {},
     "output_type": "execute_result"
    }
   ],
   "source": [
    "df2['CMQ_1'].unique()"
   ]
  },
  {
   "cell_type": "code",
   "execution_count": 27,
   "id": "e6d5762c",
   "metadata": {},
   "outputs": [],
   "source": [
    "# Looking at the rows where the CMQ responses are missing\n",
    "\n",
    "df2['cmq_missing'] = np.where((df2['CM4x'].isna() | df2['CM5x'].isna()),1,0)"
   ]
  },
  {
   "cell_type": "code",
   "execution_count": 28,
   "id": "b0f4bb1e",
   "metadata": {},
   "outputs": [
    {
     "name": "stdout",
     "output_type": "stream",
     "text": [
      "42.29% of the rows are missing CMQ data.\n"
     ]
    }
   ],
   "source": [
    "# How much CMQ data is missing overall?\n",
    "\n",
    "print(f\"{round(df2['cmq_missing'].mean()*100, 2)}% of the rows are missing CMQ data.\")"
   ]
  },
  {
   "cell_type": "code",
   "execution_count": 29,
   "id": "ed8e19a1",
   "metadata": {},
   "outputs": [
    {
     "data": {
      "text/plain": [
       "France              5142\n",
       "Spain               4322\n",
       "Italy               3470\n",
       "Netherlands         3458\n",
       "Poland              3381\n",
       "Austria             2867\n",
       "Germany             2623\n",
       "Romania             2400\n",
       "Sweden              1948\n",
       "Hungary             1835\n",
       "Portugal            1669\n",
       "Belgium-Wallonia    1648\n",
       "Denmark             1408\n",
       "Belgium-Flanders    1383\n",
       "UK                   331\n",
       "Name: Country, dtype: int64"
      ]
     },
     "execution_count": 29,
     "metadata": {},
     "output_type": "execute_result"
    }
   ],
   "source": [
    "# Breakdown of missing values by country\n",
    "\n",
    "df2['Country'][df2['cmq_missing'] == 1].value_counts()"
   ]
  },
  {
   "cell_type": "code",
   "execution_count": 30,
   "id": "b27cacaf",
   "metadata": {},
   "outputs": [
    {
     "data": {
      "text/plain": [
       "France              11774\n",
       "Netherlands         11327\n",
       "Spain                9385\n",
       "Italy                7698\n",
       "Poland               6785\n",
       "Romania              6328\n",
       "Germany              5692\n",
       "Austria              5141\n",
       "Sweden               4872\n",
       "Hungary              4705\n",
       "Portugal             4666\n",
       "Belgium-Flanders     3611\n",
       "Belgium-Wallonia     3444\n",
       "Denmark              3060\n",
       "UK                   1088\n",
       "Name: Country, dtype: int64"
      ]
     },
     "execution_count": 30,
     "metadata": {},
     "output_type": "execute_result"
    }
   ],
   "source": [
    "# How are the countries represented in the data?\n",
    "\n",
    "df2['Country'].value_counts()"
   ]
  },
  {
   "cell_type": "code",
   "execution_count": 31,
   "id": "51159d74",
   "metadata": {
    "scrolled": false
   },
   "outputs": [
    {
     "data": {
      "text/plain": [
       "Country\n",
       "Austria             55.767360\n",
       "Belgium-Flanders    38.299640\n",
       "Belgium-Wallonia    47.851336\n",
       "Denmark             46.013072\n",
       "France              43.672499\n",
       "Germany             46.082221\n",
       "Hungary             39.001063\n",
       "Italy               45.076643\n",
       "Netherlands         30.528825\n",
       "Poland              49.830508\n",
       "Portugal            35.769396\n",
       "Romania             37.926675\n",
       "Spain               46.052211\n",
       "Sweden              39.983580\n",
       "UK                  30.422794\n",
       "Name: cmq_missing, dtype: float64"
      ]
     },
     "execution_count": 31,
     "metadata": {},
     "output_type": "execute_result"
    }
   ],
   "source": [
    "# Percentage of CMQ data missing by country\n",
    "\n",
    "df2.groupby('Country')['cmq_missing'].mean()*100"
   ]
  },
  {
   "cell_type": "code",
   "execution_count": 32,
   "id": "8b9e588e",
   "metadata": {},
   "outputs": [
    {
     "data": {
      "text/plain": [
       "Country           Sex   \n",
       "Austria           Female    48.960739\n",
       "                  Male      40.689013\n",
       "                  NaN       90.800952\n",
       "Belgium-Flanders  Female     6.790945\n",
       "                  Male       3.049203\n",
       "                  NaN       90.896260\n",
       "Belgium-Wallonia  Female     4.102564\n",
       "                  Male       2.015776\n",
       "                  NaN       93.189756\n",
       "Denmark           Female     6.797583\n",
       "                  Male       2.203065\n",
       "                  NaN       98.966027\n",
       "France            Female    40.878567\n",
       "                  Male      37.350937\n",
       "                  NaN       90.830450\n",
       "Germany           Female    36.954023\n",
       "                  Male      35.238095\n",
       "                  NaN       87.824530\n",
       "Hungary           Female    10.271041\n",
       "                  Male       8.751459\n",
       "                  NaN       96.979232\n",
       "Italy             Female    38.701299\n",
       "                  Male      34.320557\n",
       "                  NaN       87.372263\n",
       "Netherlands       Female    34.484965\n",
       "                  Male      28.769387\n",
       "                  NaN       34.925373\n",
       "Poland            Female    33.900052\n",
       "                  Male      22.209696\n",
       "                  NaN       97.663765\n",
       "Portugal          Female     3.448276\n",
       "                  Male       2.136317\n",
       "                  NaN       97.725876\n",
       "Romania           Female    34.129536\n",
       "                  Male      31.693526\n",
       "                  NaN       87.296417\n",
       "Spain             Female    44.325021\n",
       "                  Male      40.801042\n",
       "                  NaN       85.605234\n",
       "Sweden            Female    30.406291\n",
       "                  Male      25.979983\n",
       "                  NaN       90.822785\n",
       "UK                Female    25.418060\n",
       "                  Male      28.688525\n",
       "                  NaN       78.947368\n",
       "Name: cmq_missing, dtype: float64"
      ]
     },
     "execution_count": 32,
     "metadata": {},
     "output_type": "execute_result"
    }
   ],
   "source": [
    "# Percentage of CMQ data missing by country and by sex\n",
    "\n",
    "df2.groupby(['Country','Sex'], dropna=False)['cmq_missing'].mean()*100"
   ]
  },
  {
   "cell_type": "code",
   "execution_count": 33,
   "id": "d88e17bb",
   "metadata": {},
   "outputs": [
    {
     "data": {
      "text/plain": [
       "CMQ_1    36139\n",
       "CMQ_2    36681\n",
       "CMQ_3    36686\n",
       "CMQ_4    36858\n",
       "CMQ_5    36860\n",
       "dtype: int64"
      ]
     },
     "execution_count": 33,
     "metadata": {},
     "output_type": "execute_result"
    }
   ],
   "source": [
    "# Which answers are missing?\n",
    "\n",
    "df2[['CMQ_1', 'CMQ_2', 'CMQ_3', 'CMQ_4', 'CMQ_5']].isna().sum()"
   ]
  },
  {
   "cell_type": "code",
   "execution_count": 34,
   "id": "89c63538",
   "metadata": {},
   "outputs": [
    {
     "data": {
      "text/plain": [
       "Country\n",
       "Portugal            8.037971\n",
       "Spain               7.961841\n",
       "Romania             7.733859\n",
       "Hungary             7.551568\n",
       "Poland              7.409459\n",
       "Belgium-Wallonia    7.385857\n",
       "Belgium-Flanders    7.213375\n",
       "France              6.931092\n",
       "UK                  6.852048\n",
       "Denmark             6.768523\n",
       "Austria             6.671416\n",
       "Italy               6.491627\n",
       "Sweden              6.288577\n",
       "Germany             6.247768\n",
       "Netherlands         5.788766\n",
       "Name: CM5x, dtype: float64"
      ]
     },
     "execution_count": 34,
     "metadata": {},
     "output_type": "execute_result"
    }
   ],
   "source": [
    "# Average CM5x by country\n",
    "\n",
    "df2.groupby('Country')['CM5x'].mean().sort_values(ascending=False)"
   ]
  },
  {
   "cell_type": "code",
   "execution_count": 35,
   "id": "ac75f801",
   "metadata": {},
   "outputs": [
    {
     "data": {
      "text/plain": [
       "count    51691.000000\n",
       "mean         6.946614\n",
       "std          2.106488\n",
       "min          1.000000\n",
       "25%          5.400000\n",
       "50%          7.000000\n",
       "75%          8.400000\n",
       "max         11.000000\n",
       "Name: CM5x, dtype: float64"
      ]
     },
     "execution_count": 35,
     "metadata": {},
     "output_type": "execute_result"
    }
   ],
   "source": [
    "# CM5x Statistics\n",
    "\n",
    "df2['CM5x'].describe()"
   ]
  },
  {
   "cell_type": "code",
   "execution_count": 36,
   "id": "b1f25882",
   "metadata": {},
   "outputs": [
    {
     "data": {
      "text/plain": [
       "Sex\n",
       "Female    7.177107\n",
       "Male      6.831201\n",
       "Name: CM5x, dtype: float64"
      ]
     },
     "execution_count": 36,
     "metadata": {},
     "output_type": "execute_result"
    }
   ],
   "source": [
    "# CM5x by sex\n",
    "\n",
    "df2.groupby('Sex')['CM5x'].mean().sort_values(ascending=False)"
   ]
  },
  {
   "cell_type": "code",
   "execution_count": 37,
   "id": "20cad808",
   "metadata": {},
   "outputs": [],
   "source": [
    "# Looking at percentage of null values for each column\n",
    "\n",
    "percent_missing = df2.isnull().sum() * 100 / len(df2)\n",
    "missing_value_df = pd.DataFrame({'percent_missing': percent_missing})"
   ]
  },
  {
   "cell_type": "code",
   "execution_count": 38,
   "id": "49a136b8",
   "metadata": {},
   "outputs": [
    {
     "data": {
      "text/html": [
       "<div>\n",
       "<style scoped>\n",
       "    .dataframe tbody tr th:only-of-type {\n",
       "        vertical-align: middle;\n",
       "    }\n",
       "\n",
       "    .dataframe tbody tr th {\n",
       "        vertical-align: top;\n",
       "    }\n",
       "\n",
       "    .dataframe thead th {\n",
       "        text-align: right;\n",
       "    }\n",
       "</style>\n",
       "<table border=\"1\" class=\"dataframe\">\n",
       "  <thead>\n",
       "    <tr style=\"text-align: right;\">\n",
       "      <th></th>\n",
       "      <th>Weights</th>\n",
       "      <th>Sex</th>\n",
       "      <th>Age</th>\n",
       "      <th>Country</th>\n",
       "      <th>Pol_Ori</th>\n",
       "      <th>CMQ_1</th>\n",
       "      <th>CMQ_2</th>\n",
       "      <th>CMQ_3</th>\n",
       "      <th>CMQ_4</th>\n",
       "      <th>CMQ_5</th>\n",
       "      <th>...</th>\n",
       "      <th>galtan</th>\n",
       "      <th>zlrgen</th>\n",
       "      <th>zlrecon</th>\n",
       "      <th>zgaltan</th>\n",
       "      <th>ZPO</th>\n",
       "      <th>ZmeanPO</th>\n",
       "      <th>CM4x</th>\n",
       "      <th>CM5x</th>\n",
       "      <th>CPO</th>\n",
       "      <th>cmq_missing</th>\n",
       "    </tr>\n",
       "  </thead>\n",
       "  <tbody>\n",
       "    <tr>\n",
       "      <th>percent_missing</th>\n",
       "      <td>25.654193</td>\n",
       "      <td>19.718451</td>\n",
       "      <td>18.518353</td>\n",
       "      <td>0.0</td>\n",
       "      <td>17.794945</td>\n",
       "      <td>40.344512</td>\n",
       "      <td>40.949585</td>\n",
       "      <td>40.955167</td>\n",
       "      <td>41.147182</td>\n",
       "      <td>41.149415</td>\n",
       "      <td>...</td>\n",
       "      <td>38.137448</td>\n",
       "      <td>38.137448</td>\n",
       "      <td>38.137448</td>\n",
       "      <td>38.137448</td>\n",
       "      <td>17.794945</td>\n",
       "      <td>0.0</td>\n",
       "      <td>42.217782</td>\n",
       "      <td>42.293695</td>\n",
       "      <td>17.794945</td>\n",
       "      <td>0.0</td>\n",
       "    </tr>\n",
       "  </tbody>\n",
       "</table>\n",
       "<p>1 rows × 26 columns</p>\n",
       "</div>"
      ],
      "text/plain": [
       "                   Weights        Sex        Age  Country    Pol_Ori  \\\n",
       "percent_missing  25.654193  19.718451  18.518353      0.0  17.794945   \n",
       "\n",
       "                     CMQ_1      CMQ_2      CMQ_3      CMQ_4      CMQ_5  ...  \\\n",
       "percent_missing  40.344512  40.949585  40.955167  41.147182  41.149415  ...   \n",
       "\n",
       "                    galtan     zlrgen    zlrecon    zgaltan        ZPO  \\\n",
       "percent_missing  38.137448  38.137448  38.137448  38.137448  17.794945   \n",
       "\n",
       "                 ZmeanPO       CM4x       CM5x        CPO  cmq_missing  \n",
       "percent_missing      0.0  42.217782  42.293695  17.794945          0.0  \n",
       "\n",
       "[1 rows x 26 columns]"
      ]
     },
     "execution_count": 38,
     "metadata": {},
     "output_type": "execute_result"
    }
   ],
   "source": [
    "missing_value_df.T"
   ]
  },
  {
   "cell_type": "code",
   "execution_count": null,
   "id": "3530078d",
   "metadata": {},
   "outputs": [],
   "source": []
  }
 ],
 "metadata": {
  "kernelspec": {
   "display_name": "Python 3 (ipykernel)",
   "language": "python",
   "name": "python3"
  },
  "language_info": {
   "codemirror_mode": {
    "name": "ipython",
    "version": 3
   },
   "file_extension": ".py",
   "mimetype": "text/x-python",
   "name": "python",
   "nbconvert_exporter": "python",
   "pygments_lexer": "ipython3",
   "version": "3.10.9"
  }
 },
 "nbformat": 4,
 "nbformat_minor": 5
}
