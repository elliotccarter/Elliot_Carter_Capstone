{
 "cells": [
  {
   "cell_type": "markdown",
   "id": "e06acd01",
   "metadata": {},
   "source": [
    "## Capstone Project: Initial EDA\n",
    "\n",
    "**Author: Elliot Carter**\n",
    "\n",
    "**Date Created: July 21, 2023**\n",
    "\n",
    "**Contact: elliot.carter@gmail.com**\n",
    "\n",
    "---"
   ]
  },
  {
   "cell_type": "markdown",
   "id": "1c5006bb",
   "metadata": {},
   "source": [
    "### Table of Contents"
   ]
  },
  {
   "cell_type": "markdown",
   "id": "029fc8ba",
   "metadata": {},
   "source": [
    "[Introduction](#introduction)\n",
    "\n",
    "[Part 1 - Basic Information About the Data](#part1)\n",
    "\n",
    "[Part 2 - Exploring the Missing Data](#part2)\n",
    "\n",
    "[Part 3 - Basic Analysis](#part3)\n",
    "\n",
    "[Conclusion and Next Steps](#conclusion)"
   ]
  },
  {
   "cell_type": "markdown",
   "id": "85c58e32",
   "metadata": {},
   "source": [
    "<a id = 'introduction'></a>\n",
    "### Introduction"
   ]
  },
  {
   "cell_type": "markdown",
   "id": "b60160e4",
   "metadata": {},
   "source": [
    "This notebook contains my initial Exploratory Data Analysis (EDA) for my capstone project at the BrainStation Data Science bootcamp.\n",
    "\n",
    "My project is aimed at using the tools of data science to better understand the phenomenon of conspiracy theory belief. The dataset I am working with comes from a 2022 paper by Roland Imhoff and 39 coauthors at various European universities (Imhoff et al 2022). The paper reports the results of two surveys studying the relationship between political orientation and susceptibility to conspiracy belief, with respondants from 26 European countries. The datasets include two measures of  political orientation: self-reported location on a left-right political spectrum (in both surveys) and reported voting behaviour in the previous election (in the second survey only). In both surveys, susceptibility to conspiracy belief is measured via responses to a standard questionnaire (the 'Conspiracy Mentality Questionnaire,' or 'CMQ') (originating in Bruder et al 2013). The datasets also include personal-level demographic information (age, sex, country, etc.) as well as some country-level information about political and economic climate.\n",
    "\n",
    "The ultimate aim is to use machine learning to model the data and predict scores on the CMQ (serving as a measure of conspiracy-susceptibility, or 'conspiracy mindset') based on other variables. In this notebook, I will begin the project by exploring the data and beginning to assess what kinds of cleaning and preprocessing will be required. I will also see if there are any initial insights that we can draw from the data."
   ]
  },
  {
   "cell_type": "markdown",
   "id": "2aaaa7bd",
   "metadata": {},
   "source": [
    "#### The Conspiracy Mentality Questionnaire (CMQ)\n",
    "\n",
    "I will construct a full data dictionary after doing some exploratory analysis. But it will be helpful to begin with some description of the CMQ, which will be important for understanding the target variables we will be interested in. The CMQ consists of five statements for which respondants are asked to rate their level of confidence (from 0% for 'certainly not' to 100% for 'certain', in increments of 10%). The statements are as follows:\n",
    "\n",
    "1. *I think that many very important things happen in the world, which the public is never informed about.*\n",
    "2. *I think that politicians usually do not tell us the true motives for their decisions.*\n",
    "3. *I think that government agencies closely monitor all citizens.*\n",
    "4. *I think that events which superficially seem to lack a connection are often the result of secret activities.*\n",
    "5. *I think that there are secret organizations that greatly influence political decisions.*"
   ]
  },
  {
   "cell_type": "markdown",
   "id": "7e64059a",
   "metadata": {},
   "source": [
    "#### References\n",
    "\n",
    "- Imhoff, R., Zimmer, F., Klein, O. et al. (2022) Conspiracy mentality and political orientation across 26 countries. Nat Hum Behav 6, 392–403. https://doi.org/10.1038/s41562-021-01258-7\n",
    "- Bruder, M., Haffke, P., Neave N., Nouripanah, N. and Imhoff, R. (2013) Measuring individual differences in generic beliefs in conspiracy theories across cultures: Conspiracy Mentality Questionnaire. Front. Psychol. 4: 225. https://doi.org/10.3389/fpsyg.2013.00225"
   ]
  },
  {
   "cell_type": "markdown",
   "id": "eee25cc6",
   "metadata": {},
   "source": [
    "<a id = 'part1'></a>\n",
    "### Part 1: Basic Information About the Data"
   ]
  },
  {
   "cell_type": "markdown",
   "id": "2142c350",
   "metadata": {},
   "source": [
    "We will start by loading in the Python libraries we'll be using in this notebook."
   ]
  },
  {
   "cell_type": "code",
   "execution_count": 80,
   "id": "9861f043",
   "metadata": {},
   "outputs": [],
   "source": [
    "import pandas as pd\n",
    "import numpy as np\n",
    "import matplotlib.pyplot as plt\n",
    "import seaborn as sns\n",
    "import statsmodels.api as sm\n",
    "import plotly.express as px\n",
    "from scipy import stats"
   ]
  },
  {
   "cell_type": "markdown",
   "id": "659782c6",
   "metadata": {},
   "source": [
    "Next, we'll load in the data and look at the first few rows as well as the shape (i.e., the number of rows and columns)."
   ]
  },
  {
   "cell_type": "code",
   "execution_count": 81,
   "id": "85921f2b",
   "metadata": {},
   "outputs": [
    {
     "data": {
      "text/html": [
       "<div>\n",
       "<style scoped>\n",
       "    .dataframe tbody tr th:only-of-type {\n",
       "        vertical-align: middle;\n",
       "    }\n",
       "\n",
       "    .dataframe tbody tr th {\n",
       "        vertical-align: top;\n",
       "    }\n",
       "\n",
       "    .dataframe thead th {\n",
       "        text-align: right;\n",
       "    }\n",
       "</style>\n",
       "<table border=\"1\" class=\"dataframe\">\n",
       "  <thead>\n",
       "    <tr style=\"text-align: right;\">\n",
       "      <th></th>\n",
       "      <th>Unnamed: 0</th>\n",
       "      <th>UID</th>\n",
       "      <th>Country</th>\n",
       "      <th>Sex</th>\n",
       "      <th>Age</th>\n",
       "      <th>Edu_high</th>\n",
       "      <th>Edu_low</th>\n",
       "      <th>Pol_Ori</th>\n",
       "      <th>ZmeanPO</th>\n",
       "      <th>ZPO</th>\n",
       "      <th>CMQ_1</th>\n",
       "      <th>CMQ_2</th>\n",
       "      <th>CMQ_3</th>\n",
       "      <th>CMQ_4</th>\n",
       "      <th>CMQ_5</th>\n",
       "      <th>CM4x</th>\n",
       "      <th>CM5x</th>\n",
       "      <th>CT_left</th>\n",
       "      <th>CT_right</th>\n",
       "      <th>CT_neutral</th>\n",
       "      <th>Winner_state</th>\n",
       "      <th>CHES_version</th>\n",
       "      <th>lrgen</th>\n",
       "      <th>lrecon</th>\n",
       "      <th>galtan</th>\n",
       "      <th>zlrgen</th>\n",
       "      <th>zlrecon</th>\n",
       "      <th>zgaltan</th>\n",
       "      <th>mean_lrgen</th>\n",
       "      <th>mean_lrecon</th>\n",
       "      <th>mean_galtan</th>\n",
       "      <th>zmean_lrgen</th>\n",
       "      <th>zmean_lrecon</th>\n",
       "      <th>zmean_galtan</th>\n",
       "      <th>lrgengov</th>\n",
       "      <th>lrecongov</th>\n",
       "      <th>galtangov</th>\n",
       "      <th>CPO</th>\n",
       "    </tr>\n",
       "  </thead>\n",
       "  <tbody>\n",
       "    <tr>\n",
       "      <th>0</th>\n",
       "      <td>iceland.1</td>\n",
       "      <td>Iceland::1</td>\n",
       "      <td>Iceland</td>\n",
       "      <td>male</td>\n",
       "      <td>33.0</td>\n",
       "      <td>1.0</td>\n",
       "      <td>0.0</td>\n",
       "      <td>4.2</td>\n",
       "      <td>1.064809</td>\n",
       "      <td>-0.453397</td>\n",
       "      <td>11.0</td>\n",
       "      <td>10.0</td>\n",
       "      <td>1.0</td>\n",
       "      <td>7.0</td>\n",
       "      <td>1.0</td>\n",
       "      <td>5.00</td>\n",
       "      <td>6.0</td>\n",
       "      <td>7.0</td>\n",
       "      <td>4.0</td>\n",
       "      <td>1.0</td>\n",
       "      <td>NaN</td>\n",
       "      <td>NaN</td>\n",
       "      <td>NaN</td>\n",
       "      <td>NaN</td>\n",
       "      <td>NaN</td>\n",
       "      <td>NaN</td>\n",
       "      <td>NaN</td>\n",
       "      <td>NaN</td>\n",
       "      <td>NaN</td>\n",
       "      <td>NaN</td>\n",
       "      <td>NaN</td>\n",
       "      <td>NaN</td>\n",
       "      <td>NaN</td>\n",
       "      <td>NaN</td>\n",
       "      <td>NaN</td>\n",
       "      <td>NaN</td>\n",
       "      <td>NaN</td>\n",
       "      <td>-0.827639</td>\n",
       "    </tr>\n",
       "    <tr>\n",
       "      <th>1</th>\n",
       "      <td>iceland.2</td>\n",
       "      <td>Iceland::2</td>\n",
       "      <td>Iceland</td>\n",
       "      <td>male</td>\n",
       "      <td>28.0</td>\n",
       "      <td>1.0</td>\n",
       "      <td>0.0</td>\n",
       "      <td>4.2</td>\n",
       "      <td>1.064809</td>\n",
       "      <td>-0.453397</td>\n",
       "      <td>7.0</td>\n",
       "      <td>7.0</td>\n",
       "      <td>4.0</td>\n",
       "      <td>3.0</td>\n",
       "      <td>5.0</td>\n",
       "      <td>4.75</td>\n",
       "      <td>5.2</td>\n",
       "      <td>1.0</td>\n",
       "      <td>1.0</td>\n",
       "      <td>2.5</td>\n",
       "      <td>0.0</td>\n",
       "      <td>NaN</td>\n",
       "      <td>NaN</td>\n",
       "      <td>NaN</td>\n",
       "      <td>NaN</td>\n",
       "      <td>NaN</td>\n",
       "      <td>NaN</td>\n",
       "      <td>NaN</td>\n",
       "      <td>NaN</td>\n",
       "      <td>NaN</td>\n",
       "      <td>NaN</td>\n",
       "      <td>NaN</td>\n",
       "      <td>NaN</td>\n",
       "      <td>NaN</td>\n",
       "      <td>NaN</td>\n",
       "      <td>NaN</td>\n",
       "      <td>NaN</td>\n",
       "      <td>-0.827639</td>\n",
       "    </tr>\n",
       "    <tr>\n",
       "      <th>2</th>\n",
       "      <td>iceland.3</td>\n",
       "      <td>Iceland::3</td>\n",
       "      <td>Iceland</td>\n",
       "      <td>female</td>\n",
       "      <td>35.0</td>\n",
       "      <td>0.0</td>\n",
       "      <td>1.0</td>\n",
       "      <td>NaN</td>\n",
       "      <td>1.064809</td>\n",
       "      <td>NaN</td>\n",
       "      <td>8.0</td>\n",
       "      <td>7.0</td>\n",
       "      <td>4.0</td>\n",
       "      <td>9.0</td>\n",
       "      <td>3.0</td>\n",
       "      <td>6.00</td>\n",
       "      <td>6.2</td>\n",
       "      <td>5.5</td>\n",
       "      <td>5.5</td>\n",
       "      <td>4.0</td>\n",
       "      <td>NaN</td>\n",
       "      <td>NaN</td>\n",
       "      <td>NaN</td>\n",
       "      <td>NaN</td>\n",
       "      <td>NaN</td>\n",
       "      <td>NaN</td>\n",
       "      <td>NaN</td>\n",
       "      <td>NaN</td>\n",
       "      <td>NaN</td>\n",
       "      <td>NaN</td>\n",
       "      <td>NaN</td>\n",
       "      <td>NaN</td>\n",
       "      <td>NaN</td>\n",
       "      <td>NaN</td>\n",
       "      <td>NaN</td>\n",
       "      <td>NaN</td>\n",
       "      <td>NaN</td>\n",
       "      <td>NaN</td>\n",
       "    </tr>\n",
       "    <tr>\n",
       "      <th>3</th>\n",
       "      <td>iceland.4</td>\n",
       "      <td>Iceland::4</td>\n",
       "      <td>Iceland</td>\n",
       "      <td>male</td>\n",
       "      <td>55.0</td>\n",
       "      <td>1.0</td>\n",
       "      <td>0.0</td>\n",
       "      <td>5.0</td>\n",
       "      <td>1.064809</td>\n",
       "      <td>-0.015141</td>\n",
       "      <td>5.0</td>\n",
       "      <td>8.0</td>\n",
       "      <td>6.0</td>\n",
       "      <td>4.0</td>\n",
       "      <td>3.0</td>\n",
       "      <td>4.50</td>\n",
       "      <td>5.2</td>\n",
       "      <td>4.0</td>\n",
       "      <td>1.0</td>\n",
       "      <td>1.0</td>\n",
       "      <td>1.0</td>\n",
       "      <td>NaN</td>\n",
       "      <td>NaN</td>\n",
       "      <td>NaN</td>\n",
       "      <td>NaN</td>\n",
       "      <td>NaN</td>\n",
       "      <td>NaN</td>\n",
       "      <td>NaN</td>\n",
       "      <td>NaN</td>\n",
       "      <td>NaN</td>\n",
       "      <td>NaN</td>\n",
       "      <td>NaN</td>\n",
       "      <td>NaN</td>\n",
       "      <td>NaN</td>\n",
       "      <td>NaN</td>\n",
       "      <td>NaN</td>\n",
       "      <td>NaN</td>\n",
       "      <td>-0.027639</td>\n",
       "    </tr>\n",
       "    <tr>\n",
       "      <th>4</th>\n",
       "      <td>iceland.5</td>\n",
       "      <td>Iceland::5</td>\n",
       "      <td>Iceland</td>\n",
       "      <td>male</td>\n",
       "      <td>52.0</td>\n",
       "      <td>0.0</td>\n",
       "      <td>1.0</td>\n",
       "      <td>5.8</td>\n",
       "      <td>1.064809</td>\n",
       "      <td>0.423114</td>\n",
       "      <td>8.0</td>\n",
       "      <td>6.0</td>\n",
       "      <td>5.0</td>\n",
       "      <td>7.0</td>\n",
       "      <td>6.0</td>\n",
       "      <td>6.50</td>\n",
       "      <td>6.4</td>\n",
       "      <td>5.5</td>\n",
       "      <td>4.0</td>\n",
       "      <td>4.0</td>\n",
       "      <td>0.0</td>\n",
       "      <td>NaN</td>\n",
       "      <td>NaN</td>\n",
       "      <td>NaN</td>\n",
       "      <td>NaN</td>\n",
       "      <td>NaN</td>\n",
       "      <td>NaN</td>\n",
       "      <td>NaN</td>\n",
       "      <td>NaN</td>\n",
       "      <td>NaN</td>\n",
       "      <td>NaN</td>\n",
       "      <td>NaN</td>\n",
       "      <td>NaN</td>\n",
       "      <td>NaN</td>\n",
       "      <td>NaN</td>\n",
       "      <td>NaN</td>\n",
       "      <td>NaN</td>\n",
       "      <td>0.772361</td>\n",
       "    </tr>\n",
       "  </tbody>\n",
       "</table>\n",
       "</div>"
      ],
      "text/plain": [
       "  Unnamed: 0         UID  Country     Sex   Age  Edu_high  Edu_low  Pol_Ori  \\\n",
       "0  iceland.1  Iceland::1  Iceland    male  33.0       1.0      0.0      4.2   \n",
       "1  iceland.2  Iceland::2  Iceland    male  28.0       1.0      0.0      4.2   \n",
       "2  iceland.3  Iceland::3  Iceland  female  35.0       0.0      1.0      NaN   \n",
       "3  iceland.4  Iceland::4  Iceland    male  55.0       1.0      0.0      5.0   \n",
       "4  iceland.5  Iceland::5  Iceland    male  52.0       0.0      1.0      5.8   \n",
       "\n",
       "    ZmeanPO       ZPO  CMQ_1  CMQ_2  CMQ_3  CMQ_4  CMQ_5  CM4x  CM5x  CT_left  \\\n",
       "0  1.064809 -0.453397   11.0   10.0    1.0    7.0    1.0  5.00   6.0      7.0   \n",
       "1  1.064809 -0.453397    7.0    7.0    4.0    3.0    5.0  4.75   5.2      1.0   \n",
       "2  1.064809       NaN    8.0    7.0    4.0    9.0    3.0  6.00   6.2      5.5   \n",
       "3  1.064809 -0.015141    5.0    8.0    6.0    4.0    3.0  4.50   5.2      4.0   \n",
       "4  1.064809  0.423114    8.0    6.0    5.0    7.0    6.0  6.50   6.4      5.5   \n",
       "\n",
       "   CT_right  CT_neutral  Winner_state CHES_version  lrgen  lrecon  galtan  \\\n",
       "0       4.0         1.0           NaN          NaN    NaN     NaN     NaN   \n",
       "1       1.0         2.5           0.0          NaN    NaN     NaN     NaN   \n",
       "2       5.5         4.0           NaN          NaN    NaN     NaN     NaN   \n",
       "3       1.0         1.0           1.0          NaN    NaN     NaN     NaN   \n",
       "4       4.0         4.0           0.0          NaN    NaN     NaN     NaN   \n",
       "\n",
       "   zlrgen  zlrecon  zgaltan  mean_lrgen  mean_lrecon  mean_galtan  \\\n",
       "0     NaN      NaN      NaN         NaN          NaN          NaN   \n",
       "1     NaN      NaN      NaN         NaN          NaN          NaN   \n",
       "2     NaN      NaN      NaN         NaN          NaN          NaN   \n",
       "3     NaN      NaN      NaN         NaN          NaN          NaN   \n",
       "4     NaN      NaN      NaN         NaN          NaN          NaN   \n",
       "\n",
       "   zmean_lrgen  zmean_lrecon  zmean_galtan  lrgengov  lrecongov  galtangov  \\\n",
       "0          NaN           NaN           NaN       NaN        NaN        NaN   \n",
       "1          NaN           NaN           NaN       NaN        NaN        NaN   \n",
       "2          NaN           NaN           NaN       NaN        NaN        NaN   \n",
       "3          NaN           NaN           NaN       NaN        NaN        NaN   \n",
       "4          NaN           NaN           NaN       NaN        NaN        NaN   \n",
       "\n",
       "        CPO  \n",
       "0 -0.827639  \n",
       "1 -0.827639  \n",
       "2       NaN  \n",
       "3 -0.027639  \n",
       "4  0.772361  "
      ]
     },
     "execution_count": 81,
     "metadata": {},
     "output_type": "execute_result"
    }
   ],
   "source": [
    "# Loading the data for study 1 and looking at head\n",
    "df1 = pd.read_csv('data/data_study1.csv')\n",
    "\n",
    "# Setting option to display unlimited number of columns\n",
    "pd.set_option('display.max_columns', None)\n",
    "\n",
    "df1.head()"
   ]
  },
  {
   "cell_type": "code",
   "execution_count": 82,
   "id": "39719367",
   "metadata": {},
   "outputs": [
    {
     "data": {
      "text/plain": [
       "(40954, 38)"
      ]
     },
     "execution_count": 82,
     "metadata": {},
     "output_type": "execute_result"
    }
   ],
   "source": [
    "df1.shape"
   ]
  },
  {
   "cell_type": "markdown",
   "id": "cf81701d",
   "metadata": {},
   "source": [
    "We see that the dataset from the first study contains ~41,000 rows across 38 columns. The first column is an unnamed column, which appears to be an old index. We'll remove this shortly. Let's also look at the information on the columns, including the data types."
   ]
  },
  {
   "cell_type": "code",
   "execution_count": 83,
   "id": "bfc79b68",
   "metadata": {},
   "outputs": [
    {
     "name": "stdout",
     "output_type": "stream",
     "text": [
      "<class 'pandas.core.frame.DataFrame'>\n",
      "RangeIndex: 40954 entries, 0 to 40953\n",
      "Data columns (total 38 columns):\n",
      " #   Column        Non-Null Count  Dtype  \n",
      "---  ------        --------------  -----  \n",
      " 0   Unnamed: 0    40954 non-null  object \n",
      " 1   UID           40954 non-null  object \n",
      " 2   Country       40954 non-null  object \n",
      " 3   Sex           37629 non-null  object \n",
      " 4   Age           37555 non-null  float64\n",
      " 5   Edu_high      31414 non-null  float64\n",
      " 6   Edu_low       31414 non-null  float64\n",
      " 7   Pol_Ori       38145 non-null  float64\n",
      " 8   ZmeanPO       40954 non-null  float64\n",
      " 9   ZPO           38145 non-null  float64\n",
      " 10  CMQ_1         33670 non-null  float64\n",
      " 11  CMQ_2         33641 non-null  float64\n",
      " 12  CMQ_3         33592 non-null  float64\n",
      " 13  CMQ_4         33447 non-null  float64\n",
      " 14  CMQ_5         33505 non-null  float64\n",
      " 15  CM4x          33195 non-null  float64\n",
      " 16  CM5x          33152 non-null  float64\n",
      " 17  CT_left       29555 non-null  float64\n",
      " 18  CT_right      29639 non-null  float64\n",
      " 19  CT_neutral    29141 non-null  float64\n",
      " 20  Winner_state  29184 non-null  float64\n",
      " 21  CHES_version  38385 non-null  object \n",
      " 22  lrgen         27371 non-null  float64\n",
      " 23  lrecon        27371 non-null  float64\n",
      " 24  galtan        27371 non-null  float64\n",
      " 25  zlrgen        27371 non-null  float64\n",
      " 26  zlrecon       27371 non-null  float64\n",
      " 27  zgaltan       27371 non-null  float64\n",
      " 28  mean_lrgen    38385 non-null  float64\n",
      " 29  mean_lrecon   38385 non-null  float64\n",
      " 30  mean_galtan   38385 non-null  float64\n",
      " 31  zmean_lrgen   38385 non-null  float64\n",
      " 32  zmean_lrecon  38385 non-null  float64\n",
      " 33  zmean_galtan  38385 non-null  float64\n",
      " 34  lrgengov      38030 non-null  float64\n",
      " 35  lrecongov     38030 non-null  float64\n",
      " 36  galtangov     38030 non-null  float64\n",
      " 37  CPO           38145 non-null  float64\n",
      "dtypes: float64(33), object(5)\n",
      "memory usage: 11.9+ MB\n"
     ]
    }
   ],
   "source": [
    "df1.info()"
   ]
  },
  {
   "cell_type": "markdown",
   "id": "3693037b",
   "metadata": {},
   "source": [
    "We see a mix of object data type and numeric (float64) columns. Some of these numeric columns are storing categorical information (e.g., `Edu_high` and `Edu_low` store binary information about education status). We can also see that there is a considerable amount of missing data, an issue we'll return to in the next section."
   ]
  },
  {
   "cell_type": "markdown",
   "id": "86c06a0a",
   "metadata": {},
   "source": [
    "Because we are looking at data from two studies, we now need to repeat these steps for the dataset from the second study."
   ]
  },
  {
   "cell_type": "code",
   "execution_count": 84,
   "id": "c2d3a82c",
   "metadata": {},
   "outputs": [
    {
     "data": {
      "text/html": [
       "<div>\n",
       "<style scoped>\n",
       "    .dataframe tbody tr th:only-of-type {\n",
       "        vertical-align: middle;\n",
       "    }\n",
       "\n",
       "    .dataframe tbody tr th {\n",
       "        vertical-align: top;\n",
       "    }\n",
       "\n",
       "    .dataframe thead th {\n",
       "        text-align: right;\n",
       "    }\n",
       "</style>\n",
       "<table border=\"1\" class=\"dataframe\">\n",
       "  <thead>\n",
       "    <tr style=\"text-align: right;\">\n",
       "      <th></th>\n",
       "      <th>Unnamed: 0</th>\n",
       "      <th>Weights</th>\n",
       "      <th>Sex</th>\n",
       "      <th>Age</th>\n",
       "      <th>Country</th>\n",
       "      <th>Pol_Ori</th>\n",
       "      <th>CMQ_1</th>\n",
       "      <th>CMQ_2</th>\n",
       "      <th>CMQ_3</th>\n",
       "      <th>CMQ_4</th>\n",
       "      <th>CMQ_5</th>\n",
       "      <th>Edu_low</th>\n",
       "      <th>Edu_high</th>\n",
       "      <th>Winner_state</th>\n",
       "      <th>CHES_version</th>\n",
       "      <th>lrgen</th>\n",
       "      <th>lrecon</th>\n",
       "      <th>galtan</th>\n",
       "      <th>zlrgen</th>\n",
       "      <th>zlrecon</th>\n",
       "      <th>zgaltan</th>\n",
       "      <th>ZPO</th>\n",
       "      <th>ZmeanPO</th>\n",
       "      <th>CM4x</th>\n",
       "      <th>CM5x</th>\n",
       "      <th>CPO</th>\n",
       "    </tr>\n",
       "  </thead>\n",
       "  <tbody>\n",
       "    <tr>\n",
       "      <th>0</th>\n",
       "      <td>1</td>\n",
       "      <td>1.532339</td>\n",
       "      <td>Male</td>\n",
       "      <td>18.916667</td>\n",
       "      <td>Sweden</td>\n",
       "      <td>5.0</td>\n",
       "      <td>8.0</td>\n",
       "      <td>8.0</td>\n",
       "      <td>4.0</td>\n",
       "      <td>6.0</td>\n",
       "      <td>7.0</td>\n",
       "      <td>0.0</td>\n",
       "      <td>0.0</td>\n",
       "      <td>1.0</td>\n",
       "      <td>CHES17</td>\n",
       "      <td>3.888889</td>\n",
       "      <td>3.470588</td>\n",
       "      <td>4.411765</td>\n",
       "      <td>-0.799850</td>\n",
       "      <td>-0.780204</td>\n",
       "      <td>-0.336897</td>\n",
       "      <td>-0.449278</td>\n",
       "      <td>1.062604</td>\n",
       "      <td>6.25</td>\n",
       "      <td>6.6</td>\n",
       "      <td>-1.304476</td>\n",
       "    </tr>\n",
       "    <tr>\n",
       "      <th>1</th>\n",
       "      <td>2</td>\n",
       "      <td>0.997387</td>\n",
       "      <td>Male</td>\n",
       "      <td>25.750000</td>\n",
       "      <td>Sweden</td>\n",
       "      <td>11.0</td>\n",
       "      <td>NaN</td>\n",
       "      <td>NaN</td>\n",
       "      <td>NaN</td>\n",
       "      <td>NaN</td>\n",
       "      <td>NaN</td>\n",
       "      <td>0.0</td>\n",
       "      <td>1.0</td>\n",
       "      <td>1.0</td>\n",
       "      <td>CHES17</td>\n",
       "      <td>7.944445</td>\n",
       "      <td>8.411765</td>\n",
       "      <td>5.888889</td>\n",
       "      <td>0.837842</td>\n",
       "      <td>1.306571</td>\n",
       "      <td>0.191618</td>\n",
       "      <td>1.617198</td>\n",
       "      <td>1.062604</td>\n",
       "      <td>NaN</td>\n",
       "      <td>NaN</td>\n",
       "      <td>4.695524</td>\n",
       "    </tr>\n",
       "    <tr>\n",
       "      <th>2</th>\n",
       "      <td>3</td>\n",
       "      <td>6.050884</td>\n",
       "      <td>Female</td>\n",
       "      <td>19.916667</td>\n",
       "      <td>Sweden</td>\n",
       "      <td>11.0</td>\n",
       "      <td>11.0</td>\n",
       "      <td>11.0</td>\n",
       "      <td>11.0</td>\n",
       "      <td>9.0</td>\n",
       "      <td>11.0</td>\n",
       "      <td>0.0</td>\n",
       "      <td>0.0</td>\n",
       "      <td>0.0</td>\n",
       "      <td>CHES17</td>\n",
       "      <td>8.000000</td>\n",
       "      <td>5.941176</td>\n",
       "      <td>8.944445</td>\n",
       "      <td>0.860276</td>\n",
       "      <td>0.263184</td>\n",
       "      <td>1.284895</td>\n",
       "      <td>1.617198</td>\n",
       "      <td>1.062604</td>\n",
       "      <td>10.50</td>\n",
       "      <td>10.6</td>\n",
       "      <td>4.695524</td>\n",
       "    </tr>\n",
       "    <tr>\n",
       "      <th>3</th>\n",
       "      <td>4</td>\n",
       "      <td>1.838405</td>\n",
       "      <td>Male</td>\n",
       "      <td>62.750000</td>\n",
       "      <td>Sweden</td>\n",
       "      <td>8.0</td>\n",
       "      <td>NaN</td>\n",
       "      <td>NaN</td>\n",
       "      <td>NaN</td>\n",
       "      <td>NaN</td>\n",
       "      <td>NaN</td>\n",
       "      <td>0.0</td>\n",
       "      <td>0.0</td>\n",
       "      <td>1.0</td>\n",
       "      <td>CHES17</td>\n",
       "      <td>7.944445</td>\n",
       "      <td>8.411765</td>\n",
       "      <td>5.888889</td>\n",
       "      <td>0.837842</td>\n",
       "      <td>1.306571</td>\n",
       "      <td>0.191618</td>\n",
       "      <td>0.583960</td>\n",
       "      <td>1.062604</td>\n",
       "      <td>NaN</td>\n",
       "      <td>NaN</td>\n",
       "      <td>1.695524</td>\n",
       "    </tr>\n",
       "    <tr>\n",
       "      <th>4</th>\n",
       "      <td>5</td>\n",
       "      <td>0.997387</td>\n",
       "      <td>Male</td>\n",
       "      <td>30.916667</td>\n",
       "      <td>Sweden</td>\n",
       "      <td>5.0</td>\n",
       "      <td>11.0</td>\n",
       "      <td>7.0</td>\n",
       "      <td>9.0</td>\n",
       "      <td>6.0</td>\n",
       "      <td>11.0</td>\n",
       "      <td>0.0</td>\n",
       "      <td>1.0</td>\n",
       "      <td>1.0</td>\n",
       "      <td>CHES17</td>\n",
       "      <td>3.888889</td>\n",
       "      <td>3.470588</td>\n",
       "      <td>4.411765</td>\n",
       "      <td>-0.799850</td>\n",
       "      <td>-0.780204</td>\n",
       "      <td>-0.336897</td>\n",
       "      <td>-0.449278</td>\n",
       "      <td>1.062604</td>\n",
       "      <td>8.25</td>\n",
       "      <td>8.8</td>\n",
       "      <td>-1.304476</td>\n",
       "    </tr>\n",
       "  </tbody>\n",
       "</table>\n",
       "</div>"
      ],
      "text/plain": [
       "   Unnamed: 0   Weights     Sex        Age Country  Pol_Ori  CMQ_1  CMQ_2  \\\n",
       "0           1  1.532339    Male  18.916667  Sweden      5.0    8.0    8.0   \n",
       "1           2  0.997387    Male  25.750000  Sweden     11.0    NaN    NaN   \n",
       "2           3  6.050884  Female  19.916667  Sweden     11.0   11.0   11.0   \n",
       "3           4  1.838405    Male  62.750000  Sweden      8.0    NaN    NaN   \n",
       "4           5  0.997387    Male  30.916667  Sweden      5.0   11.0    7.0   \n",
       "\n",
       "   CMQ_3  CMQ_4  CMQ_5  Edu_low  Edu_high  Winner_state CHES_version  \\\n",
       "0    4.0    6.0    7.0      0.0       0.0           1.0       CHES17   \n",
       "1    NaN    NaN    NaN      0.0       1.0           1.0       CHES17   \n",
       "2   11.0    9.0   11.0      0.0       0.0           0.0       CHES17   \n",
       "3    NaN    NaN    NaN      0.0       0.0           1.0       CHES17   \n",
       "4    9.0    6.0   11.0      0.0       1.0           1.0       CHES17   \n",
       "\n",
       "      lrgen    lrecon    galtan    zlrgen   zlrecon   zgaltan       ZPO  \\\n",
       "0  3.888889  3.470588  4.411765 -0.799850 -0.780204 -0.336897 -0.449278   \n",
       "1  7.944445  8.411765  5.888889  0.837842  1.306571  0.191618  1.617198   \n",
       "2  8.000000  5.941176  8.944445  0.860276  0.263184  1.284895  1.617198   \n",
       "3  7.944445  8.411765  5.888889  0.837842  1.306571  0.191618  0.583960   \n",
       "4  3.888889  3.470588  4.411765 -0.799850 -0.780204 -0.336897 -0.449278   \n",
       "\n",
       "    ZmeanPO   CM4x  CM5x       CPO  \n",
       "0  1.062604   6.25   6.6 -1.304476  \n",
       "1  1.062604    NaN   NaN  4.695524  \n",
       "2  1.062604  10.50  10.6  4.695524  \n",
       "3  1.062604    NaN   NaN  1.695524  \n",
       "4  1.062604   8.25   8.8 -1.304476  "
      ]
     },
     "execution_count": 84,
     "metadata": {},
     "output_type": "execute_result"
    }
   ],
   "source": [
    "# Loading the data from the second study\n",
    "\n",
    "df2 = pd.read_csv('data/data_study2.csv')\n",
    "\n",
    "df2.head()"
   ]
  },
  {
   "cell_type": "code",
   "execution_count": 85,
   "id": "604c07c3",
   "metadata": {},
   "outputs": [
    {
     "data": {
      "text/plain": [
       "(89576, 26)"
      ]
     },
     "execution_count": 85,
     "metadata": {},
     "output_type": "execute_result"
    }
   ],
   "source": [
    "df2.shape"
   ]
  },
  {
   "cell_type": "code",
   "execution_count": 86,
   "id": "92e59ec9",
   "metadata": {},
   "outputs": [
    {
     "name": "stdout",
     "output_type": "stream",
     "text": [
      "<class 'pandas.core.frame.DataFrame'>\n",
      "RangeIndex: 89576 entries, 0 to 89575\n",
      "Data columns (total 26 columns):\n",
      " #   Column        Non-Null Count  Dtype  \n",
      "---  ------        --------------  -----  \n",
      " 0   Unnamed: 0    89576 non-null  int64  \n",
      " 1   Weights       66596 non-null  float64\n",
      " 2   Sex           71913 non-null  object \n",
      " 3   Age           72988 non-null  float64\n",
      " 4   Country       89576 non-null  object \n",
      " 5   Pol_Ori       73636 non-null  float64\n",
      " 6   CMQ_1         53437 non-null  float64\n",
      " 7   CMQ_2         52895 non-null  float64\n",
      " 8   CMQ_3         52890 non-null  float64\n",
      " 9   CMQ_4         52718 non-null  float64\n",
      " 10  CMQ_5         52716 non-null  float64\n",
      " 11  Edu_low       89507 non-null  float64\n",
      " 12  Edu_high      89507 non-null  float64\n",
      " 13  Winner_state  65087 non-null  float64\n",
      " 14  CHES_version  89576 non-null  object \n",
      " 15  lrgen         55414 non-null  float64\n",
      " 16  lrecon        55414 non-null  float64\n",
      " 17  galtan        55414 non-null  float64\n",
      " 18  zlrgen        55414 non-null  float64\n",
      " 19  zlrecon       55414 non-null  float64\n",
      " 20  zgaltan       55414 non-null  float64\n",
      " 21  ZPO           73636 non-null  float64\n",
      " 22  ZmeanPO       89576 non-null  float64\n",
      " 23  CM4x          51759 non-null  float64\n",
      " 24  CM5x          51691 non-null  float64\n",
      " 25  CPO           73636 non-null  float64\n",
      "dtypes: float64(22), int64(1), object(3)\n",
      "memory usage: 17.8+ MB\n"
     ]
    }
   ],
   "source": [
    "df2.info()"
   ]
  },
  {
   "cell_type": "markdown",
   "id": "e205f4c7",
   "metadata": {},
   "source": [
    "The dataset from the second study contains ~90,000 rows and 26 columns. Again, we see that the first column appears to be an old index, which we can remove. We still see a mix of object and numeric (float64) datatypes, and a mix of numeric and categorical information, and again we see that there is a considerable amount of missing data, which we'll examine shortly."
   ]
  },
  {
   "cell_type": "markdown",
   "id": "65b5ccfe",
   "metadata": {},
   "source": [
    "Let's now remove the old indexes from both dataframes."
   ]
  },
  {
   "cell_type": "code",
   "execution_count": 87,
   "id": "03f44a16",
   "metadata": {},
   "outputs": [
    {
     "data": {
      "text/html": [
       "<div>\n",
       "<style scoped>\n",
       "    .dataframe tbody tr th:only-of-type {\n",
       "        vertical-align: middle;\n",
       "    }\n",
       "\n",
       "    .dataframe tbody tr th {\n",
       "        vertical-align: top;\n",
       "    }\n",
       "\n",
       "    .dataframe thead th {\n",
       "        text-align: right;\n",
       "    }\n",
       "</style>\n",
       "<table border=\"1\" class=\"dataframe\">\n",
       "  <thead>\n",
       "    <tr style=\"text-align: right;\">\n",
       "      <th></th>\n",
       "      <th>UID</th>\n",
       "      <th>Country</th>\n",
       "      <th>Sex</th>\n",
       "      <th>Age</th>\n",
       "      <th>Edu_high</th>\n",
       "      <th>Edu_low</th>\n",
       "      <th>Pol_Ori</th>\n",
       "      <th>ZmeanPO</th>\n",
       "      <th>ZPO</th>\n",
       "      <th>CMQ_1</th>\n",
       "      <th>CMQ_2</th>\n",
       "      <th>CMQ_3</th>\n",
       "      <th>CMQ_4</th>\n",
       "      <th>CMQ_5</th>\n",
       "      <th>CM4x</th>\n",
       "      <th>CM5x</th>\n",
       "      <th>CT_left</th>\n",
       "      <th>CT_right</th>\n",
       "      <th>CT_neutral</th>\n",
       "      <th>Winner_state</th>\n",
       "      <th>CHES_version</th>\n",
       "      <th>lrgen</th>\n",
       "      <th>lrecon</th>\n",
       "      <th>galtan</th>\n",
       "      <th>zlrgen</th>\n",
       "      <th>zlrecon</th>\n",
       "      <th>zgaltan</th>\n",
       "      <th>mean_lrgen</th>\n",
       "      <th>mean_lrecon</th>\n",
       "      <th>mean_galtan</th>\n",
       "      <th>zmean_lrgen</th>\n",
       "      <th>zmean_lrecon</th>\n",
       "      <th>zmean_galtan</th>\n",
       "      <th>lrgengov</th>\n",
       "      <th>lrecongov</th>\n",
       "      <th>galtangov</th>\n",
       "      <th>CPO</th>\n",
       "    </tr>\n",
       "  </thead>\n",
       "  <tbody>\n",
       "    <tr>\n",
       "      <th>0</th>\n",
       "      <td>Iceland::1</td>\n",
       "      <td>Iceland</td>\n",
       "      <td>male</td>\n",
       "      <td>33.0</td>\n",
       "      <td>1.0</td>\n",
       "      <td>0.0</td>\n",
       "      <td>4.2</td>\n",
       "      <td>1.064809</td>\n",
       "      <td>-0.453397</td>\n",
       "      <td>11.0</td>\n",
       "      <td>10.0</td>\n",
       "      <td>1.0</td>\n",
       "      <td>7.0</td>\n",
       "      <td>1.0</td>\n",
       "      <td>5.00</td>\n",
       "      <td>6.0</td>\n",
       "      <td>7.0</td>\n",
       "      <td>4.0</td>\n",
       "      <td>1.0</td>\n",
       "      <td>NaN</td>\n",
       "      <td>NaN</td>\n",
       "      <td>NaN</td>\n",
       "      <td>NaN</td>\n",
       "      <td>NaN</td>\n",
       "      <td>NaN</td>\n",
       "      <td>NaN</td>\n",
       "      <td>NaN</td>\n",
       "      <td>NaN</td>\n",
       "      <td>NaN</td>\n",
       "      <td>NaN</td>\n",
       "      <td>NaN</td>\n",
       "      <td>NaN</td>\n",
       "      <td>NaN</td>\n",
       "      <td>NaN</td>\n",
       "      <td>NaN</td>\n",
       "      <td>NaN</td>\n",
       "      <td>-0.827639</td>\n",
       "    </tr>\n",
       "    <tr>\n",
       "      <th>1</th>\n",
       "      <td>Iceland::2</td>\n",
       "      <td>Iceland</td>\n",
       "      <td>male</td>\n",
       "      <td>28.0</td>\n",
       "      <td>1.0</td>\n",
       "      <td>0.0</td>\n",
       "      <td>4.2</td>\n",
       "      <td>1.064809</td>\n",
       "      <td>-0.453397</td>\n",
       "      <td>7.0</td>\n",
       "      <td>7.0</td>\n",
       "      <td>4.0</td>\n",
       "      <td>3.0</td>\n",
       "      <td>5.0</td>\n",
       "      <td>4.75</td>\n",
       "      <td>5.2</td>\n",
       "      <td>1.0</td>\n",
       "      <td>1.0</td>\n",
       "      <td>2.5</td>\n",
       "      <td>0.0</td>\n",
       "      <td>NaN</td>\n",
       "      <td>NaN</td>\n",
       "      <td>NaN</td>\n",
       "      <td>NaN</td>\n",
       "      <td>NaN</td>\n",
       "      <td>NaN</td>\n",
       "      <td>NaN</td>\n",
       "      <td>NaN</td>\n",
       "      <td>NaN</td>\n",
       "      <td>NaN</td>\n",
       "      <td>NaN</td>\n",
       "      <td>NaN</td>\n",
       "      <td>NaN</td>\n",
       "      <td>NaN</td>\n",
       "      <td>NaN</td>\n",
       "      <td>NaN</td>\n",
       "      <td>-0.827639</td>\n",
       "    </tr>\n",
       "    <tr>\n",
       "      <th>2</th>\n",
       "      <td>Iceland::3</td>\n",
       "      <td>Iceland</td>\n",
       "      <td>female</td>\n",
       "      <td>35.0</td>\n",
       "      <td>0.0</td>\n",
       "      <td>1.0</td>\n",
       "      <td>NaN</td>\n",
       "      <td>1.064809</td>\n",
       "      <td>NaN</td>\n",
       "      <td>8.0</td>\n",
       "      <td>7.0</td>\n",
       "      <td>4.0</td>\n",
       "      <td>9.0</td>\n",
       "      <td>3.0</td>\n",
       "      <td>6.00</td>\n",
       "      <td>6.2</td>\n",
       "      <td>5.5</td>\n",
       "      <td>5.5</td>\n",
       "      <td>4.0</td>\n",
       "      <td>NaN</td>\n",
       "      <td>NaN</td>\n",
       "      <td>NaN</td>\n",
       "      <td>NaN</td>\n",
       "      <td>NaN</td>\n",
       "      <td>NaN</td>\n",
       "      <td>NaN</td>\n",
       "      <td>NaN</td>\n",
       "      <td>NaN</td>\n",
       "      <td>NaN</td>\n",
       "      <td>NaN</td>\n",
       "      <td>NaN</td>\n",
       "      <td>NaN</td>\n",
       "      <td>NaN</td>\n",
       "      <td>NaN</td>\n",
       "      <td>NaN</td>\n",
       "      <td>NaN</td>\n",
       "      <td>NaN</td>\n",
       "    </tr>\n",
       "    <tr>\n",
       "      <th>3</th>\n",
       "      <td>Iceland::4</td>\n",
       "      <td>Iceland</td>\n",
       "      <td>male</td>\n",
       "      <td>55.0</td>\n",
       "      <td>1.0</td>\n",
       "      <td>0.0</td>\n",
       "      <td>5.0</td>\n",
       "      <td>1.064809</td>\n",
       "      <td>-0.015141</td>\n",
       "      <td>5.0</td>\n",
       "      <td>8.0</td>\n",
       "      <td>6.0</td>\n",
       "      <td>4.0</td>\n",
       "      <td>3.0</td>\n",
       "      <td>4.50</td>\n",
       "      <td>5.2</td>\n",
       "      <td>4.0</td>\n",
       "      <td>1.0</td>\n",
       "      <td>1.0</td>\n",
       "      <td>1.0</td>\n",
       "      <td>NaN</td>\n",
       "      <td>NaN</td>\n",
       "      <td>NaN</td>\n",
       "      <td>NaN</td>\n",
       "      <td>NaN</td>\n",
       "      <td>NaN</td>\n",
       "      <td>NaN</td>\n",
       "      <td>NaN</td>\n",
       "      <td>NaN</td>\n",
       "      <td>NaN</td>\n",
       "      <td>NaN</td>\n",
       "      <td>NaN</td>\n",
       "      <td>NaN</td>\n",
       "      <td>NaN</td>\n",
       "      <td>NaN</td>\n",
       "      <td>NaN</td>\n",
       "      <td>-0.027639</td>\n",
       "    </tr>\n",
       "    <tr>\n",
       "      <th>4</th>\n",
       "      <td>Iceland::5</td>\n",
       "      <td>Iceland</td>\n",
       "      <td>male</td>\n",
       "      <td>52.0</td>\n",
       "      <td>0.0</td>\n",
       "      <td>1.0</td>\n",
       "      <td>5.8</td>\n",
       "      <td>1.064809</td>\n",
       "      <td>0.423114</td>\n",
       "      <td>8.0</td>\n",
       "      <td>6.0</td>\n",
       "      <td>5.0</td>\n",
       "      <td>7.0</td>\n",
       "      <td>6.0</td>\n",
       "      <td>6.50</td>\n",
       "      <td>6.4</td>\n",
       "      <td>5.5</td>\n",
       "      <td>4.0</td>\n",
       "      <td>4.0</td>\n",
       "      <td>0.0</td>\n",
       "      <td>NaN</td>\n",
       "      <td>NaN</td>\n",
       "      <td>NaN</td>\n",
       "      <td>NaN</td>\n",
       "      <td>NaN</td>\n",
       "      <td>NaN</td>\n",
       "      <td>NaN</td>\n",
       "      <td>NaN</td>\n",
       "      <td>NaN</td>\n",
       "      <td>NaN</td>\n",
       "      <td>NaN</td>\n",
       "      <td>NaN</td>\n",
       "      <td>NaN</td>\n",
       "      <td>NaN</td>\n",
       "      <td>NaN</td>\n",
       "      <td>NaN</td>\n",
       "      <td>0.772361</td>\n",
       "    </tr>\n",
       "  </tbody>\n",
       "</table>\n",
       "</div>"
      ],
      "text/plain": [
       "          UID  Country     Sex   Age  Edu_high  Edu_low  Pol_Ori   ZmeanPO  \\\n",
       "0  Iceland::1  Iceland    male  33.0       1.0      0.0      4.2  1.064809   \n",
       "1  Iceland::2  Iceland    male  28.0       1.0      0.0      4.2  1.064809   \n",
       "2  Iceland::3  Iceland  female  35.0       0.0      1.0      NaN  1.064809   \n",
       "3  Iceland::4  Iceland    male  55.0       1.0      0.0      5.0  1.064809   \n",
       "4  Iceland::5  Iceland    male  52.0       0.0      1.0      5.8  1.064809   \n",
       "\n",
       "        ZPO  CMQ_1  CMQ_2  CMQ_3  CMQ_4  CMQ_5  CM4x  CM5x  CT_left  CT_right  \\\n",
       "0 -0.453397   11.0   10.0    1.0    7.0    1.0  5.00   6.0      7.0       4.0   \n",
       "1 -0.453397    7.0    7.0    4.0    3.0    5.0  4.75   5.2      1.0       1.0   \n",
       "2       NaN    8.0    7.0    4.0    9.0    3.0  6.00   6.2      5.5       5.5   \n",
       "3 -0.015141    5.0    8.0    6.0    4.0    3.0  4.50   5.2      4.0       1.0   \n",
       "4  0.423114    8.0    6.0    5.0    7.0    6.0  6.50   6.4      5.5       4.0   \n",
       "\n",
       "   CT_neutral  Winner_state CHES_version  lrgen  lrecon  galtan  zlrgen  \\\n",
       "0         1.0           NaN          NaN    NaN     NaN     NaN     NaN   \n",
       "1         2.5           0.0          NaN    NaN     NaN     NaN     NaN   \n",
       "2         4.0           NaN          NaN    NaN     NaN     NaN     NaN   \n",
       "3         1.0           1.0          NaN    NaN     NaN     NaN     NaN   \n",
       "4         4.0           0.0          NaN    NaN     NaN     NaN     NaN   \n",
       "\n",
       "   zlrecon  zgaltan  mean_lrgen  mean_lrecon  mean_galtan  zmean_lrgen  \\\n",
       "0      NaN      NaN         NaN          NaN          NaN          NaN   \n",
       "1      NaN      NaN         NaN          NaN          NaN          NaN   \n",
       "2      NaN      NaN         NaN          NaN          NaN          NaN   \n",
       "3      NaN      NaN         NaN          NaN          NaN          NaN   \n",
       "4      NaN      NaN         NaN          NaN          NaN          NaN   \n",
       "\n",
       "   zmean_lrecon  zmean_galtan  lrgengov  lrecongov  galtangov       CPO  \n",
       "0           NaN           NaN       NaN        NaN        NaN -0.827639  \n",
       "1           NaN           NaN       NaN        NaN        NaN -0.827639  \n",
       "2           NaN           NaN       NaN        NaN        NaN       NaN  \n",
       "3           NaN           NaN       NaN        NaN        NaN -0.027639  \n",
       "4           NaN           NaN       NaN        NaN        NaN  0.772361  "
      ]
     },
     "execution_count": 87,
     "metadata": {},
     "output_type": "execute_result"
    }
   ],
   "source": [
    "df1.drop(columns='Unnamed: 0', axis=1, inplace=True)\n",
    "\n",
    "# Sanity check\n",
    "df1.head()"
   ]
  },
  {
   "cell_type": "code",
   "execution_count": 88,
   "id": "b2d487f0",
   "metadata": {},
   "outputs": [
    {
     "data": {
      "text/html": [
       "<div>\n",
       "<style scoped>\n",
       "    .dataframe tbody tr th:only-of-type {\n",
       "        vertical-align: middle;\n",
       "    }\n",
       "\n",
       "    .dataframe tbody tr th {\n",
       "        vertical-align: top;\n",
       "    }\n",
       "\n",
       "    .dataframe thead th {\n",
       "        text-align: right;\n",
       "    }\n",
       "</style>\n",
       "<table border=\"1\" class=\"dataframe\">\n",
       "  <thead>\n",
       "    <tr style=\"text-align: right;\">\n",
       "      <th></th>\n",
       "      <th>Weights</th>\n",
       "      <th>Sex</th>\n",
       "      <th>Age</th>\n",
       "      <th>Country</th>\n",
       "      <th>Pol_Ori</th>\n",
       "      <th>CMQ_1</th>\n",
       "      <th>CMQ_2</th>\n",
       "      <th>CMQ_3</th>\n",
       "      <th>CMQ_4</th>\n",
       "      <th>CMQ_5</th>\n",
       "      <th>Edu_low</th>\n",
       "      <th>Edu_high</th>\n",
       "      <th>Winner_state</th>\n",
       "      <th>CHES_version</th>\n",
       "      <th>lrgen</th>\n",
       "      <th>lrecon</th>\n",
       "      <th>galtan</th>\n",
       "      <th>zlrgen</th>\n",
       "      <th>zlrecon</th>\n",
       "      <th>zgaltan</th>\n",
       "      <th>ZPO</th>\n",
       "      <th>ZmeanPO</th>\n",
       "      <th>CM4x</th>\n",
       "      <th>CM5x</th>\n",
       "      <th>CPO</th>\n",
       "    </tr>\n",
       "  </thead>\n",
       "  <tbody>\n",
       "    <tr>\n",
       "      <th>0</th>\n",
       "      <td>1.532339</td>\n",
       "      <td>Male</td>\n",
       "      <td>18.916667</td>\n",
       "      <td>Sweden</td>\n",
       "      <td>5.0</td>\n",
       "      <td>8.0</td>\n",
       "      <td>8.0</td>\n",
       "      <td>4.0</td>\n",
       "      <td>6.0</td>\n",
       "      <td>7.0</td>\n",
       "      <td>0.0</td>\n",
       "      <td>0.0</td>\n",
       "      <td>1.0</td>\n",
       "      <td>CHES17</td>\n",
       "      <td>3.888889</td>\n",
       "      <td>3.470588</td>\n",
       "      <td>4.411765</td>\n",
       "      <td>-0.799850</td>\n",
       "      <td>-0.780204</td>\n",
       "      <td>-0.336897</td>\n",
       "      <td>-0.449278</td>\n",
       "      <td>1.062604</td>\n",
       "      <td>6.25</td>\n",
       "      <td>6.6</td>\n",
       "      <td>-1.304476</td>\n",
       "    </tr>\n",
       "    <tr>\n",
       "      <th>1</th>\n",
       "      <td>0.997387</td>\n",
       "      <td>Male</td>\n",
       "      <td>25.750000</td>\n",
       "      <td>Sweden</td>\n",
       "      <td>11.0</td>\n",
       "      <td>NaN</td>\n",
       "      <td>NaN</td>\n",
       "      <td>NaN</td>\n",
       "      <td>NaN</td>\n",
       "      <td>NaN</td>\n",
       "      <td>0.0</td>\n",
       "      <td>1.0</td>\n",
       "      <td>1.0</td>\n",
       "      <td>CHES17</td>\n",
       "      <td>7.944445</td>\n",
       "      <td>8.411765</td>\n",
       "      <td>5.888889</td>\n",
       "      <td>0.837842</td>\n",
       "      <td>1.306571</td>\n",
       "      <td>0.191618</td>\n",
       "      <td>1.617198</td>\n",
       "      <td>1.062604</td>\n",
       "      <td>NaN</td>\n",
       "      <td>NaN</td>\n",
       "      <td>4.695524</td>\n",
       "    </tr>\n",
       "    <tr>\n",
       "      <th>2</th>\n",
       "      <td>6.050884</td>\n",
       "      <td>Female</td>\n",
       "      <td>19.916667</td>\n",
       "      <td>Sweden</td>\n",
       "      <td>11.0</td>\n",
       "      <td>11.0</td>\n",
       "      <td>11.0</td>\n",
       "      <td>11.0</td>\n",
       "      <td>9.0</td>\n",
       "      <td>11.0</td>\n",
       "      <td>0.0</td>\n",
       "      <td>0.0</td>\n",
       "      <td>0.0</td>\n",
       "      <td>CHES17</td>\n",
       "      <td>8.000000</td>\n",
       "      <td>5.941176</td>\n",
       "      <td>8.944445</td>\n",
       "      <td>0.860276</td>\n",
       "      <td>0.263184</td>\n",
       "      <td>1.284895</td>\n",
       "      <td>1.617198</td>\n",
       "      <td>1.062604</td>\n",
       "      <td>10.50</td>\n",
       "      <td>10.6</td>\n",
       "      <td>4.695524</td>\n",
       "    </tr>\n",
       "    <tr>\n",
       "      <th>3</th>\n",
       "      <td>1.838405</td>\n",
       "      <td>Male</td>\n",
       "      <td>62.750000</td>\n",
       "      <td>Sweden</td>\n",
       "      <td>8.0</td>\n",
       "      <td>NaN</td>\n",
       "      <td>NaN</td>\n",
       "      <td>NaN</td>\n",
       "      <td>NaN</td>\n",
       "      <td>NaN</td>\n",
       "      <td>0.0</td>\n",
       "      <td>0.0</td>\n",
       "      <td>1.0</td>\n",
       "      <td>CHES17</td>\n",
       "      <td>7.944445</td>\n",
       "      <td>8.411765</td>\n",
       "      <td>5.888889</td>\n",
       "      <td>0.837842</td>\n",
       "      <td>1.306571</td>\n",
       "      <td>0.191618</td>\n",
       "      <td>0.583960</td>\n",
       "      <td>1.062604</td>\n",
       "      <td>NaN</td>\n",
       "      <td>NaN</td>\n",
       "      <td>1.695524</td>\n",
       "    </tr>\n",
       "    <tr>\n",
       "      <th>4</th>\n",
       "      <td>0.997387</td>\n",
       "      <td>Male</td>\n",
       "      <td>30.916667</td>\n",
       "      <td>Sweden</td>\n",
       "      <td>5.0</td>\n",
       "      <td>11.0</td>\n",
       "      <td>7.0</td>\n",
       "      <td>9.0</td>\n",
       "      <td>6.0</td>\n",
       "      <td>11.0</td>\n",
       "      <td>0.0</td>\n",
       "      <td>1.0</td>\n",
       "      <td>1.0</td>\n",
       "      <td>CHES17</td>\n",
       "      <td>3.888889</td>\n",
       "      <td>3.470588</td>\n",
       "      <td>4.411765</td>\n",
       "      <td>-0.799850</td>\n",
       "      <td>-0.780204</td>\n",
       "      <td>-0.336897</td>\n",
       "      <td>-0.449278</td>\n",
       "      <td>1.062604</td>\n",
       "      <td>8.25</td>\n",
       "      <td>8.8</td>\n",
       "      <td>-1.304476</td>\n",
       "    </tr>\n",
       "  </tbody>\n",
       "</table>\n",
       "</div>"
      ],
      "text/plain": [
       "    Weights     Sex        Age Country  Pol_Ori  CMQ_1  CMQ_2  CMQ_3  CMQ_4  \\\n",
       "0  1.532339    Male  18.916667  Sweden      5.0    8.0    8.0    4.0    6.0   \n",
       "1  0.997387    Male  25.750000  Sweden     11.0    NaN    NaN    NaN    NaN   \n",
       "2  6.050884  Female  19.916667  Sweden     11.0   11.0   11.0   11.0    9.0   \n",
       "3  1.838405    Male  62.750000  Sweden      8.0    NaN    NaN    NaN    NaN   \n",
       "4  0.997387    Male  30.916667  Sweden      5.0   11.0    7.0    9.0    6.0   \n",
       "\n",
       "   CMQ_5  Edu_low  Edu_high  Winner_state CHES_version     lrgen    lrecon  \\\n",
       "0    7.0      0.0       0.0           1.0       CHES17  3.888889  3.470588   \n",
       "1    NaN      0.0       1.0           1.0       CHES17  7.944445  8.411765   \n",
       "2   11.0      0.0       0.0           0.0       CHES17  8.000000  5.941176   \n",
       "3    NaN      0.0       0.0           1.0       CHES17  7.944445  8.411765   \n",
       "4   11.0      0.0       1.0           1.0       CHES17  3.888889  3.470588   \n",
       "\n",
       "     galtan    zlrgen   zlrecon   zgaltan       ZPO   ZmeanPO   CM4x  CM5x  \\\n",
       "0  4.411765 -0.799850 -0.780204 -0.336897 -0.449278  1.062604   6.25   6.6   \n",
       "1  5.888889  0.837842  1.306571  0.191618  1.617198  1.062604    NaN   NaN   \n",
       "2  8.944445  0.860276  0.263184  1.284895  1.617198  1.062604  10.50  10.6   \n",
       "3  5.888889  0.837842  1.306571  0.191618  0.583960  1.062604    NaN   NaN   \n",
       "4  4.411765 -0.799850 -0.780204 -0.336897 -0.449278  1.062604   8.25   8.8   \n",
       "\n",
       "        CPO  \n",
       "0 -1.304476  \n",
       "1  4.695524  \n",
       "2  4.695524  \n",
       "3  1.695524  \n",
       "4 -1.304476  "
      ]
     },
     "execution_count": 88,
     "metadata": {},
     "output_type": "execute_result"
    }
   ],
   "source": [
    "df2.drop(columns='Unnamed: 0', axis=1, inplace=True)\n",
    "\n",
    "# Sanity check\n",
    "df2.head()"
   ]
  },
  {
   "cell_type": "markdown",
   "id": "d06bebfc",
   "metadata": {},
   "source": [
    "We see that the old indexes have been removed. We'll now move on to looking at the null and missing values in the data."
   ]
  },
  {
   "cell_type": "markdown",
   "id": "c65ff410",
   "metadata": {},
   "source": [
    "<a id = 'part2'></a>\n",
    "### Part 2. Exploring the Missing Data"
   ]
  },
  {
   "cell_type": "markdown",
   "id": "b8f4c695",
   "metadata": {},
   "source": [
    "Let's begin exploring the missing data by looking at the percentage of data missing for each column in each of the datasets."
   ]
  },
  {
   "cell_type": "markdown",
   "id": "0f5c08ea",
   "metadata": {},
   "source": [
    "#### 2.1 - Missing Values in the First Dataset"
   ]
  },
  {
   "cell_type": "code",
   "execution_count": 89,
   "id": "027ed371",
   "metadata": {
    "scrolled": false
   },
   "outputs": [
    {
     "data": {
      "text/html": [
       "<div>\n",
       "<style scoped>\n",
       "    .dataframe tbody tr th:only-of-type {\n",
       "        vertical-align: middle;\n",
       "    }\n",
       "\n",
       "    .dataframe tbody tr th {\n",
       "        vertical-align: top;\n",
       "    }\n",
       "\n",
       "    .dataframe thead th {\n",
       "        text-align: right;\n",
       "    }\n",
       "</style>\n",
       "<table border=\"1\" class=\"dataframe\">\n",
       "  <thead>\n",
       "    <tr style=\"text-align: right;\">\n",
       "      <th></th>\n",
       "      <th>galtan</th>\n",
       "      <th>zlrgen</th>\n",
       "      <th>lrecon</th>\n",
       "      <th>lrgen</th>\n",
       "      <th>zlrecon</th>\n",
       "      <th>zgaltan</th>\n",
       "      <th>CT_neutral</th>\n",
       "      <th>Winner_state</th>\n",
       "      <th>CT_left</th>\n",
       "      <th>CT_right</th>\n",
       "      <th>Edu_high</th>\n",
       "      <th>Edu_low</th>\n",
       "      <th>CM5x</th>\n",
       "      <th>CM4x</th>\n",
       "      <th>CMQ_4</th>\n",
       "      <th>CMQ_5</th>\n",
       "      <th>CMQ_3</th>\n",
       "      <th>CMQ_2</th>\n",
       "      <th>CMQ_1</th>\n",
       "      <th>Age</th>\n",
       "      <th>Sex</th>\n",
       "      <th>lrgengov</th>\n",
       "      <th>galtangov</th>\n",
       "      <th>lrecongov</th>\n",
       "      <th>CPO</th>\n",
       "      <th>ZPO</th>\n",
       "      <th>Pol_Ori</th>\n",
       "      <th>CHES_version</th>\n",
       "      <th>mean_lrgen</th>\n",
       "      <th>mean_lrecon</th>\n",
       "      <th>mean_galtan</th>\n",
       "      <th>zmean_lrgen</th>\n",
       "      <th>zmean_lrecon</th>\n",
       "      <th>zmean_galtan</th>\n",
       "      <th>Country</th>\n",
       "      <th>ZmeanPO</th>\n",
       "      <th>UID</th>\n",
       "    </tr>\n",
       "  </thead>\n",
       "  <tbody>\n",
       "    <tr>\n",
       "      <th>percent_missing</th>\n",
       "      <td>33.17</td>\n",
       "      <td>33.17</td>\n",
       "      <td>33.17</td>\n",
       "      <td>33.17</td>\n",
       "      <td>33.17</td>\n",
       "      <td>33.17</td>\n",
       "      <td>28.84</td>\n",
       "      <td>28.74</td>\n",
       "      <td>27.83</td>\n",
       "      <td>27.63</td>\n",
       "      <td>23.29</td>\n",
       "      <td>23.29</td>\n",
       "      <td>19.05</td>\n",
       "      <td>18.95</td>\n",
       "      <td>18.33</td>\n",
       "      <td>18.19</td>\n",
       "      <td>17.98</td>\n",
       "      <td>17.86</td>\n",
       "      <td>17.79</td>\n",
       "      <td>8.3</td>\n",
       "      <td>8.12</td>\n",
       "      <td>7.14</td>\n",
       "      <td>7.14</td>\n",
       "      <td>7.14</td>\n",
       "      <td>6.86</td>\n",
       "      <td>6.86</td>\n",
       "      <td>6.86</td>\n",
       "      <td>6.27</td>\n",
       "      <td>6.27</td>\n",
       "      <td>6.27</td>\n",
       "      <td>6.27</td>\n",
       "      <td>6.27</td>\n",
       "      <td>6.27</td>\n",
       "      <td>6.27</td>\n",
       "      <td>0.0</td>\n",
       "      <td>0.0</td>\n",
       "      <td>0.0</td>\n",
       "    </tr>\n",
       "  </tbody>\n",
       "</table>\n",
       "</div>"
      ],
      "text/plain": [
       "                 galtan  zlrgen  lrecon  lrgen  zlrecon  zgaltan  CT_neutral  \\\n",
       "percent_missing   33.17   33.17   33.17  33.17    33.17    33.17       28.84   \n",
       "\n",
       "                 Winner_state  CT_left  CT_right  Edu_high  Edu_low   CM5x  \\\n",
       "percent_missing         28.74    27.83     27.63     23.29    23.29  19.05   \n",
       "\n",
       "                  CM4x  CMQ_4  CMQ_5  CMQ_3  CMQ_2  CMQ_1  Age   Sex  \\\n",
       "percent_missing  18.95  18.33  18.19  17.98  17.86  17.79  8.3  8.12   \n",
       "\n",
       "                 lrgengov  galtangov  lrecongov   CPO   ZPO  Pol_Ori  \\\n",
       "percent_missing      7.14       7.14       7.14  6.86  6.86     6.86   \n",
       "\n",
       "                 CHES_version  mean_lrgen  mean_lrecon  mean_galtan  \\\n",
       "percent_missing          6.27        6.27         6.27         6.27   \n",
       "\n",
       "                 zmean_lrgen  zmean_lrecon  zmean_galtan  Country  ZmeanPO  \\\n",
       "percent_missing         6.27          6.27          6.27      0.0      0.0   \n",
       "\n",
       "                 UID  \n",
       "percent_missing  0.0  "
      ]
     },
     "execution_count": 89,
     "metadata": {},
     "output_type": "execute_result"
    }
   ],
   "source": [
    "# Creating dataframe to show missing values in df1\n",
    "missing_values_df1 = pd.DataFrame({'percent_missing': round(df1.isnull().mean(),4)*100})\n",
    "\n",
    "\n",
    "# Displaying missing_values_df1 sorted by highest-to-lowest % missing\n",
    "missing_values_df1.sort_values(by='percent_missing', ascending=False).T"
   ]
  },
  {
   "cell_type": "markdown",
   "id": "e32998fb",
   "metadata": {},
   "source": [
    "Here are some initial observations about the missing data:\n",
    "- We see that we are missing relatively high percentages of the data (between 33.2% and 27.5%) for the following columns:\n",
    "\n",
    "    - `galtan` (rating of political party preference on a *social* left-right scale)\n",
    "    - `zlrgen` (*centered* rating of political party preference on a *general* left-right scale)\n",
    "    - `lrecon` (rating of political party preference on an *economic* left-right scale)\n",
    "    - `lrgen` (rating of political party preference on a *general* left-right scale\n",
    "    - `zlrecon` (*centered* rating of political party preference on an *economic* left-right scale)\n",
    "    - `zgaltan` (*centered* rating of political party preference on a *social* left-right scale)\n",
    "    - `CT_neutral` (endorsement of country-specific conspiracy theories categorized as politically 'neutral')\n",
    "    - `Winner_state` (dummy variable representing whether respondant's preferred party was in power at time of survey)\n",
    "    - `CT_left` (endorsement of country-specific conspiracy theories categorized as politically 'left')\n",
    "    - `CT_right` (endorsement of country-specific conspiracy theories categorized as politically 'right')\n",
    "\n",
    "    The general picture here is that for the first survey, we are missing a large portion of the data having to do with participants' political preferences and views.\n",
    "\n",
    "- We are also missing about 23% of the data for `Edu_high` (a binary variable, where '1' represents that the respondant has a university degree) and `Edu_low` (a binary variable, where '1' represents that the respondant did not finish high school).\n",
    "\n",
    "- Next, let's describe the missing values for the columns having to do with CMQ (remember: ultimately, our target variable will be one of, or a function of some of, these columns). We are missing about 19% of the data for `CM5x` (the CMQ score for all five items) as well as for `CM4x` (the CMQ score for four items, where the second question is excluded). Around 18% of the data is missing for responses to the individual CMQ questions.\n",
    "\n",
    "- We're missing about 8% of the data for `Age` and `Sex`.\n",
    "\n",
    "- We're missing about 7% of data for `lrgengov`, `galtangov`,\tand `lrecongov` (country-level variables representing the ruling party's location on three different left-right spectra: general, social, and economic, respectively).\n",
    "\n",
    "- We're also missing about 7% of data from `Pol_Ori`, `CPO`, and `ZPO` (columns representing respondants' self-ratings on a left-right spectrum of political orientation, including variations involving a centered scale and Z-scores).\n",
    "\n",
    "- 6% of data are missing from the following columns having to do with mean scores for the left-right political spectrum questions (`1mean_lrgen`, `mean_lrecon`, `mean_galtan`, `zmean_lrgen`, `zmean_lrecon`, and `zmean_galtan`). \n",
    "\n",
    "- Finally, 6% of the data is missing from `CHES_version`. This column represents the version of the 'Chapel Hill Expert Survey' used, a survey of experts which produces a codebook for estimating the political ideology of political parties. The CHES codebook was used to translate participants' proclaimed voting intentions or party preferences into comparable numerical ratings.\n",
    "\n"
   ]
  },
  {
   "cell_type": "markdown",
   "id": "3755d9e6",
   "metadata": {},
   "source": [
    "Since the survey includes 24 countries, it could be helpful to see how much of the data and which parts of the data are missing for each one."
   ]
  },
  {
   "cell_type": "code",
   "execution_count": 90,
   "id": "19450b14",
   "metadata": {
    "scrolled": true
   },
   "outputs": [
    {
     "data": {
      "text/html": [
       "<div>\n",
       "<style scoped>\n",
       "    .dataframe tbody tr th:only-of-type {\n",
       "        vertical-align: middle;\n",
       "    }\n",
       "\n",
       "    .dataframe tbody tr th {\n",
       "        vertical-align: top;\n",
       "    }\n",
       "\n",
       "    .dataframe thead th {\n",
       "        text-align: right;\n",
       "    }\n",
       "</style>\n",
       "<table border=\"1\" class=\"dataframe\">\n",
       "  <thead>\n",
       "    <tr style=\"text-align: right;\">\n",
       "      <th></th>\n",
       "      <th>Iceland</th>\n",
       "      <th>Belgium, FR</th>\n",
       "      <th>Bosnia</th>\n",
       "      <th>Brazil</th>\n",
       "      <th>Switzerland, FR</th>\n",
       "      <th>Switzerland, GE</th>\n",
       "      <th>Croatia</th>\n",
       "      <th>Czech Republic</th>\n",
       "      <th>France</th>\n",
       "      <th>Greece</th>\n",
       "      <th>Hungary</th>\n",
       "      <th>Italy</th>\n",
       "      <th>Macedonia</th>\n",
       "      <th>Netherlands</th>\n",
       "      <th>Poland</th>\n",
       "      <th>Serbia</th>\n",
       "      <th>Spain</th>\n",
       "      <th>Turkey</th>\n",
       "      <th>Norway</th>\n",
       "      <th>Germany</th>\n",
       "      <th>Israel</th>\n",
       "      <th>Portugal</th>\n",
       "      <th>Romania</th>\n",
       "      <th>UK</th>\n",
       "    </tr>\n",
       "  </thead>\n",
       "  <tbody>\n",
       "    <tr>\n",
       "      <th>UID</th>\n",
       "      <td>0.000000</td>\n",
       "      <td>0.000000</td>\n",
       "      <td>0.000000</td>\n",
       "      <td>0.000000</td>\n",
       "      <td>0.0</td>\n",
       "      <td>0.000000</td>\n",
       "      <td>0.000000</td>\n",
       "      <td>0.000000</td>\n",
       "      <td>0.0</td>\n",
       "      <td>0.000000</td>\n",
       "      <td>0.0</td>\n",
       "      <td>0.000000</td>\n",
       "      <td>0.000000</td>\n",
       "      <td>0.000000</td>\n",
       "      <td>0.000000</td>\n",
       "      <td>0.000000</td>\n",
       "      <td>0.000000</td>\n",
       "      <td>0.000000</td>\n",
       "      <td>0.000000</td>\n",
       "      <td>0.000000</td>\n",
       "      <td>0.000000</td>\n",
       "      <td>0.000000</td>\n",
       "      <td>0.000000</td>\n",
       "      <td>0.000000</td>\n",
       "    </tr>\n",
       "    <tr>\n",
       "      <th>Country</th>\n",
       "      <td>0.000000</td>\n",
       "      <td>0.000000</td>\n",
       "      <td>0.000000</td>\n",
       "      <td>0.000000</td>\n",
       "      <td>0.0</td>\n",
       "      <td>0.000000</td>\n",
       "      <td>0.000000</td>\n",
       "      <td>0.000000</td>\n",
       "      <td>0.0</td>\n",
       "      <td>0.000000</td>\n",
       "      <td>0.0</td>\n",
       "      <td>0.000000</td>\n",
       "      <td>0.000000</td>\n",
       "      <td>0.000000</td>\n",
       "      <td>0.000000</td>\n",
       "      <td>0.000000</td>\n",
       "      <td>0.000000</td>\n",
       "      <td>0.000000</td>\n",
       "      <td>0.000000</td>\n",
       "      <td>0.000000</td>\n",
       "      <td>0.000000</td>\n",
       "      <td>0.000000</td>\n",
       "      <td>0.000000</td>\n",
       "      <td>0.000000</td>\n",
       "    </tr>\n",
       "    <tr>\n",
       "      <th>Sex</th>\n",
       "      <td>0.000000</td>\n",
       "      <td>0.000000</td>\n",
       "      <td>0.000000</td>\n",
       "      <td>0.000000</td>\n",
       "      <td>0.0</td>\n",
       "      <td>0.000000</td>\n",
       "      <td>1.123596</td>\n",
       "      <td>0.000000</td>\n",
       "      <td>0.0</td>\n",
       "      <td>0.000000</td>\n",
       "      <td>0.0</td>\n",
       "      <td>1.288245</td>\n",
       "      <td>0.000000</td>\n",
       "      <td>15.618412</td>\n",
       "      <td>0.000000</td>\n",
       "      <td>0.167504</td>\n",
       "      <td>0.000000</td>\n",
       "      <td>39.674267</td>\n",
       "      <td>0.000000</td>\n",
       "      <td>0.017042</td>\n",
       "      <td>6.590909</td>\n",
       "      <td>0.194932</td>\n",
       "      <td>0.000000</td>\n",
       "      <td>0.066711</td>\n",
       "    </tr>\n",
       "    <tr>\n",
       "      <th>Age</th>\n",
       "      <td>0.000000</td>\n",
       "      <td>0.000000</td>\n",
       "      <td>0.000000</td>\n",
       "      <td>0.000000</td>\n",
       "      <td>0.0</td>\n",
       "      <td>0.000000</td>\n",
       "      <td>1.605136</td>\n",
       "      <td>0.000000</td>\n",
       "      <td>0.0</td>\n",
       "      <td>0.000000</td>\n",
       "      <td>0.0</td>\n",
       "      <td>2.254428</td>\n",
       "      <td>0.000000</td>\n",
       "      <td>15.735535</td>\n",
       "      <td>0.000000</td>\n",
       "      <td>0.083752</td>\n",
       "      <td>1.178604</td>\n",
       "      <td>41.824104</td>\n",
       "      <td>0.000000</td>\n",
       "      <td>0.017042</td>\n",
       "      <td>6.590909</td>\n",
       "      <td>0.389864</td>\n",
       "      <td>0.000000</td>\n",
       "      <td>0.000000</td>\n",
       "    </tr>\n",
       "    <tr>\n",
       "      <th>Edu_high</th>\n",
       "      <td>3.513909</td>\n",
       "      <td>0.000000</td>\n",
       "      <td>0.000000</td>\n",
       "      <td>0.000000</td>\n",
       "      <td>3.4</td>\n",
       "      <td>0.000000</td>\n",
       "      <td>1.605136</td>\n",
       "      <td>0.000000</td>\n",
       "      <td>0.0</td>\n",
       "      <td>0.203252</td>\n",
       "      <td>0.0</td>\n",
       "      <td>1.288245</td>\n",
       "      <td>0.325203</td>\n",
       "      <td>15.794097</td>\n",
       "      <td>0.000000</td>\n",
       "      <td>0.083752</td>\n",
       "      <td>0.000000</td>\n",
       "      <td>39.543974</td>\n",
       "      <td>5.110173</td>\n",
       "      <td>100.000000</td>\n",
       "      <td>8.409091</td>\n",
       "      <td>0.194932</td>\n",
       "      <td>1.408451</td>\n",
       "      <td>10.206805</td>\n",
       "    </tr>\n",
       "    <tr>\n",
       "      <th>Edu_low</th>\n",
       "      <td>3.513909</td>\n",
       "      <td>0.000000</td>\n",
       "      <td>0.000000</td>\n",
       "      <td>0.000000</td>\n",
       "      <td>3.4</td>\n",
       "      <td>0.000000</td>\n",
       "      <td>1.605136</td>\n",
       "      <td>0.000000</td>\n",
       "      <td>0.0</td>\n",
       "      <td>0.203252</td>\n",
       "      <td>0.0</td>\n",
       "      <td>1.288245</td>\n",
       "      <td>0.325203</td>\n",
       "      <td>15.794097</td>\n",
       "      <td>0.000000</td>\n",
       "      <td>0.083752</td>\n",
       "      <td>0.000000</td>\n",
       "      <td>39.543974</td>\n",
       "      <td>5.110173</td>\n",
       "      <td>100.000000</td>\n",
       "      <td>8.409091</td>\n",
       "      <td>0.194932</td>\n",
       "      <td>1.408451</td>\n",
       "      <td>10.206805</td>\n",
       "    </tr>\n",
       "    <tr>\n",
       "      <th>Pol_Ori</th>\n",
       "      <td>23.718887</td>\n",
       "      <td>0.000000</td>\n",
       "      <td>0.000000</td>\n",
       "      <td>0.000000</td>\n",
       "      <td>0.2</td>\n",
       "      <td>0.000000</td>\n",
       "      <td>0.321027</td>\n",
       "      <td>0.000000</td>\n",
       "      <td>0.0</td>\n",
       "      <td>9.959350</td>\n",
       "      <td>0.0</td>\n",
       "      <td>5.152979</td>\n",
       "      <td>0.000000</td>\n",
       "      <td>7.730148</td>\n",
       "      <td>23.748773</td>\n",
       "      <td>8.542714</td>\n",
       "      <td>3.898459</td>\n",
       "      <td>34.527687</td>\n",
       "      <td>1.687764</td>\n",
       "      <td>4.192229</td>\n",
       "      <td>6.590909</td>\n",
       "      <td>1.364522</td>\n",
       "      <td>2.253521</td>\n",
       "      <td>0.000000</td>\n",
       "    </tr>\n",
       "    <tr>\n",
       "      <th>ZmeanPO</th>\n",
       "      <td>0.000000</td>\n",
       "      <td>0.000000</td>\n",
       "      <td>0.000000</td>\n",
       "      <td>0.000000</td>\n",
       "      <td>0.0</td>\n",
       "      <td>0.000000</td>\n",
       "      <td>0.000000</td>\n",
       "      <td>0.000000</td>\n",
       "      <td>0.0</td>\n",
       "      <td>0.000000</td>\n",
       "      <td>0.0</td>\n",
       "      <td>0.000000</td>\n",
       "      <td>0.000000</td>\n",
       "      <td>0.000000</td>\n",
       "      <td>0.000000</td>\n",
       "      <td>0.000000</td>\n",
       "      <td>0.000000</td>\n",
       "      <td>0.000000</td>\n",
       "      <td>0.000000</td>\n",
       "      <td>0.000000</td>\n",
       "      <td>0.000000</td>\n",
       "      <td>0.000000</td>\n",
       "      <td>0.000000</td>\n",
       "      <td>0.000000</td>\n",
       "    </tr>\n",
       "    <tr>\n",
       "      <th>ZPO</th>\n",
       "      <td>23.718887</td>\n",
       "      <td>0.000000</td>\n",
       "      <td>0.000000</td>\n",
       "      <td>0.000000</td>\n",
       "      <td>0.2</td>\n",
       "      <td>0.000000</td>\n",
       "      <td>0.321027</td>\n",
       "      <td>0.000000</td>\n",
       "      <td>0.0</td>\n",
       "      <td>9.959350</td>\n",
       "      <td>0.0</td>\n",
       "      <td>5.152979</td>\n",
       "      <td>0.000000</td>\n",
       "      <td>7.730148</td>\n",
       "      <td>23.748773</td>\n",
       "      <td>8.542714</td>\n",
       "      <td>3.898459</td>\n",
       "      <td>34.527687</td>\n",
       "      <td>1.687764</td>\n",
       "      <td>4.192229</td>\n",
       "      <td>6.590909</td>\n",
       "      <td>1.364522</td>\n",
       "      <td>2.253521</td>\n",
       "      <td>0.000000</td>\n",
       "    </tr>\n",
       "    <tr>\n",
       "      <th>CMQ_1</th>\n",
       "      <td>0.732064</td>\n",
       "      <td>0.000000</td>\n",
       "      <td>0.000000</td>\n",
       "      <td>0.000000</td>\n",
       "      <td>0.0</td>\n",
       "      <td>0.000000</td>\n",
       "      <td>2.889246</td>\n",
       "      <td>0.000000</td>\n",
       "      <td>0.0</td>\n",
       "      <td>0.000000</td>\n",
       "      <td>0.0</td>\n",
       "      <td>5.152979</td>\n",
       "      <td>0.000000</td>\n",
       "      <td>12.344811</td>\n",
       "      <td>22.178606</td>\n",
       "      <td>4.355109</td>\n",
       "      <td>0.997280</td>\n",
       "      <td>33.811075</td>\n",
       "      <td>4.125645</td>\n",
       "      <td>71.608725</td>\n",
       "      <td>5.000000</td>\n",
       "      <td>0.194932</td>\n",
       "      <td>0.000000</td>\n",
       "      <td>0.000000</td>\n",
       "    </tr>\n",
       "    <tr>\n",
       "      <th>CMQ_2</th>\n",
       "      <td>0.732064</td>\n",
       "      <td>0.000000</td>\n",
       "      <td>0.000000</td>\n",
       "      <td>0.000000</td>\n",
       "      <td>0.0</td>\n",
       "      <td>0.000000</td>\n",
       "      <td>2.728732</td>\n",
       "      <td>0.000000</td>\n",
       "      <td>0.0</td>\n",
       "      <td>0.000000</td>\n",
       "      <td>0.0</td>\n",
       "      <td>5.152979</td>\n",
       "      <td>0.000000</td>\n",
       "      <td>12.409229</td>\n",
       "      <td>23.650638</td>\n",
       "      <td>3.433836</td>\n",
       "      <td>0.725295</td>\n",
       "      <td>33.941368</td>\n",
       "      <td>4.500703</td>\n",
       "      <td>71.728016</td>\n",
       "      <td>5.000000</td>\n",
       "      <td>0.194932</td>\n",
       "      <td>0.281690</td>\n",
       "      <td>0.000000</td>\n",
       "    </tr>\n",
       "    <tr>\n",
       "      <th>CMQ_3</th>\n",
       "      <td>0.585652</td>\n",
       "      <td>0.000000</td>\n",
       "      <td>0.000000</td>\n",
       "      <td>0.000000</td>\n",
       "      <td>0.0</td>\n",
       "      <td>0.000000</td>\n",
       "      <td>2.728732</td>\n",
       "      <td>0.000000</td>\n",
       "      <td>0.0</td>\n",
       "      <td>0.203252</td>\n",
       "      <td>0.0</td>\n",
       "      <td>5.152979</td>\n",
       "      <td>0.000000</td>\n",
       "      <td>12.409229</td>\n",
       "      <td>17.860648</td>\n",
       "      <td>8.375209</td>\n",
       "      <td>2.175884</td>\n",
       "      <td>33.941368</td>\n",
       "      <td>4.922644</td>\n",
       "      <td>72.119973</td>\n",
       "      <td>5.000000</td>\n",
       "      <td>0.389864</td>\n",
       "      <td>0.281690</td>\n",
       "      <td>0.000000</td>\n",
       "    </tr>\n",
       "    <tr>\n",
       "      <th>CMQ_4</th>\n",
       "      <td>0.732064</td>\n",
       "      <td>0.000000</td>\n",
       "      <td>0.000000</td>\n",
       "      <td>0.000000</td>\n",
       "      <td>0.0</td>\n",
       "      <td>0.000000</td>\n",
       "      <td>2.568218</td>\n",
       "      <td>0.000000</td>\n",
       "      <td>0.0</td>\n",
       "      <td>0.203252</td>\n",
       "      <td>0.0</td>\n",
       "      <td>5.152979</td>\n",
       "      <td>0.000000</td>\n",
       "      <td>12.438510</td>\n",
       "      <td>26.594701</td>\n",
       "      <td>5.611390</td>\n",
       "      <td>4.170444</td>\n",
       "      <td>34.332248</td>\n",
       "      <td>5.063291</td>\n",
       "      <td>73.023177</td>\n",
       "      <td>5.000000</td>\n",
       "      <td>0.389864</td>\n",
       "      <td>0.281690</td>\n",
       "      <td>0.000000</td>\n",
       "    </tr>\n",
       "    <tr>\n",
       "      <th>CMQ_5</th>\n",
       "      <td>0.439239</td>\n",
       "      <td>0.000000</td>\n",
       "      <td>0.000000</td>\n",
       "      <td>0.000000</td>\n",
       "      <td>0.0</td>\n",
       "      <td>0.000000</td>\n",
       "      <td>2.728732</td>\n",
       "      <td>0.000000</td>\n",
       "      <td>0.0</td>\n",
       "      <td>0.000000</td>\n",
       "      <td>0.0</td>\n",
       "      <td>5.152979</td>\n",
       "      <td>0.000000</td>\n",
       "      <td>12.432654</td>\n",
       "      <td>27.379784</td>\n",
       "      <td>6.365159</td>\n",
       "      <td>2.357208</td>\n",
       "      <td>34.006515</td>\n",
       "      <td>4.594468</td>\n",
       "      <td>72.426721</td>\n",
       "      <td>5.000000</td>\n",
       "      <td>0.194932</td>\n",
       "      <td>0.000000</td>\n",
       "      <td>0.000000</td>\n",
       "    </tr>\n",
       "    <tr>\n",
       "      <th>CM4x</th>\n",
       "      <td>1.317716</td>\n",
       "      <td>0.000000</td>\n",
       "      <td>0.000000</td>\n",
       "      <td>0.000000</td>\n",
       "      <td>0.0</td>\n",
       "      <td>0.000000</td>\n",
       "      <td>3.531300</td>\n",
       "      <td>0.000000</td>\n",
       "      <td>0.0</td>\n",
       "      <td>0.203252</td>\n",
       "      <td>0.0</td>\n",
       "      <td>5.152979</td>\n",
       "      <td>0.000000</td>\n",
       "      <td>12.461935</td>\n",
       "      <td>34.641806</td>\n",
       "      <td>12.730318</td>\n",
       "      <td>5.621034</td>\n",
       "      <td>34.853420</td>\n",
       "      <td>5.719644</td>\n",
       "      <td>73.551466</td>\n",
       "      <td>5.000000</td>\n",
       "      <td>0.584795</td>\n",
       "      <td>0.563380</td>\n",
       "      <td>0.000000</td>\n",
       "    </tr>\n",
       "    <tr>\n",
       "      <th>CM5x</th>\n",
       "      <td>1.610542</td>\n",
       "      <td>0.000000</td>\n",
       "      <td>0.000000</td>\n",
       "      <td>0.000000</td>\n",
       "      <td>0.0</td>\n",
       "      <td>0.000000</td>\n",
       "      <td>3.691814</td>\n",
       "      <td>0.000000</td>\n",
       "      <td>0.0</td>\n",
       "      <td>0.203252</td>\n",
       "      <td>0.0</td>\n",
       "      <td>5.152979</td>\n",
       "      <td>0.000000</td>\n",
       "      <td>12.491216</td>\n",
       "      <td>36.310108</td>\n",
       "      <td>13.065327</td>\n",
       "      <td>5.802357</td>\n",
       "      <td>35.048860</td>\n",
       "      <td>5.954055</td>\n",
       "      <td>73.602590</td>\n",
       "      <td>5.000000</td>\n",
       "      <td>0.584795</td>\n",
       "      <td>0.845070</td>\n",
       "      <td>0.000000</td>\n",
       "    </tr>\n",
       "    <tr>\n",
       "      <th>CT_left</th>\n",
       "      <td>4.245974</td>\n",
       "      <td>0.000000</td>\n",
       "      <td>0.000000</td>\n",
       "      <td>0.000000</td>\n",
       "      <td>0.0</td>\n",
       "      <td>0.000000</td>\n",
       "      <td>2.247191</td>\n",
       "      <td>0.000000</td>\n",
       "      <td>0.0</td>\n",
       "      <td>3.455285</td>\n",
       "      <td>0.0</td>\n",
       "      <td>5.636071</td>\n",
       "      <td>0.000000</td>\n",
       "      <td>26.024830</td>\n",
       "      <td>23.650638</td>\n",
       "      <td>3.433836</td>\n",
       "      <td>0.362647</td>\n",
       "      <td>36.221498</td>\n",
       "      <td>5.954055</td>\n",
       "      <td>100.000000</td>\n",
       "      <td>4.545455</td>\n",
       "      <td>0.194932</td>\n",
       "      <td>0.563380</td>\n",
       "      <td>0.000000</td>\n",
       "    </tr>\n",
       "    <tr>\n",
       "      <th>CT_right</th>\n",
       "      <td>5.270864</td>\n",
       "      <td>0.000000</td>\n",
       "      <td>0.000000</td>\n",
       "      <td>0.000000</td>\n",
       "      <td>0.0</td>\n",
       "      <td>0.000000</td>\n",
       "      <td>1.926164</td>\n",
       "      <td>0.000000</td>\n",
       "      <td>0.0</td>\n",
       "      <td>6.707317</td>\n",
       "      <td>0.0</td>\n",
       "      <td>5.636071</td>\n",
       "      <td>0.000000</td>\n",
       "      <td>26.024830</td>\n",
       "      <td>12.953876</td>\n",
       "      <td>4.941374</td>\n",
       "      <td>0.000000</td>\n",
       "      <td>36.026059</td>\n",
       "      <td>5.625879</td>\n",
       "      <td>100.000000</td>\n",
       "      <td>4.545455</td>\n",
       "      <td>0.194932</td>\n",
       "      <td>0.563380</td>\n",
       "      <td>0.000000</td>\n",
       "    </tr>\n",
       "    <tr>\n",
       "      <th>CT_neutral</th>\n",
       "      <td>6.295754</td>\n",
       "      <td>0.000000</td>\n",
       "      <td>0.000000</td>\n",
       "      <td>0.000000</td>\n",
       "      <td>0.0</td>\n",
       "      <td>0.000000</td>\n",
       "      <td>2.407705</td>\n",
       "      <td>0.000000</td>\n",
       "      <td>0.0</td>\n",
       "      <td>17.276423</td>\n",
       "      <td>0.0</td>\n",
       "      <td>5.636071</td>\n",
       "      <td>0.000000</td>\n",
       "      <td>26.024830</td>\n",
       "      <td>12.266928</td>\n",
       "      <td>2.177554</td>\n",
       "      <td>1.087942</td>\n",
       "      <td>36.807818</td>\n",
       "      <td>7.032349</td>\n",
       "      <td>100.000000</td>\n",
       "      <td>100.000000</td>\n",
       "      <td>0.194932</td>\n",
       "      <td>1.126761</td>\n",
       "      <td>0.000000</td>\n",
       "    </tr>\n",
       "    <tr>\n",
       "      <th>Winner_state</th>\n",
       "      <td>37.774524</td>\n",
       "      <td>48.127341</td>\n",
       "      <td>22.053232</td>\n",
       "      <td>57.261411</td>\n",
       "      <td>38.6</td>\n",
       "      <td>49.363057</td>\n",
       "      <td>85.393258</td>\n",
       "      <td>37.229437</td>\n",
       "      <td>0.0</td>\n",
       "      <td>40.040650</td>\n",
       "      <td>46.5</td>\n",
       "      <td>43.156200</td>\n",
       "      <td>27.154472</td>\n",
       "      <td>10.669946</td>\n",
       "      <td>41.118744</td>\n",
       "      <td>43.383585</td>\n",
       "      <td>44.061650</td>\n",
       "      <td>56.938111</td>\n",
       "      <td>16.783872</td>\n",
       "      <td>54.277437</td>\n",
       "      <td>17.727273</td>\n",
       "      <td>43.664717</td>\n",
       "      <td>24.788732</td>\n",
       "      <td>11.207472</td>\n",
       "    </tr>\n",
       "    <tr>\n",
       "      <th>CHES_version</th>\n",
       "      <td>100.000000</td>\n",
       "      <td>0.000000</td>\n",
       "      <td>0.000000</td>\n",
       "      <td>100.000000</td>\n",
       "      <td>0.0</td>\n",
       "      <td>0.000000</td>\n",
       "      <td>0.000000</td>\n",
       "      <td>0.000000</td>\n",
       "      <td>0.0</td>\n",
       "      <td>0.000000</td>\n",
       "      <td>0.0</td>\n",
       "      <td>0.000000</td>\n",
       "      <td>0.000000</td>\n",
       "      <td>0.000000</td>\n",
       "      <td>0.000000</td>\n",
       "      <td>0.000000</td>\n",
       "      <td>0.000000</td>\n",
       "      <td>0.000000</td>\n",
       "      <td>0.000000</td>\n",
       "      <td>0.000000</td>\n",
       "      <td>100.000000</td>\n",
       "      <td>0.000000</td>\n",
       "      <td>0.000000</td>\n",
       "      <td>0.000000</td>\n",
       "    </tr>\n",
       "    <tr>\n",
       "      <th>lrgen</th>\n",
       "      <td>100.000000</td>\n",
       "      <td>48.127341</td>\n",
       "      <td>22.053232</td>\n",
       "      <td>100.000000</td>\n",
       "      <td>38.6</td>\n",
       "      <td>49.363057</td>\n",
       "      <td>85.393258</td>\n",
       "      <td>37.229437</td>\n",
       "      <td>0.0</td>\n",
       "      <td>55.284553</td>\n",
       "      <td>46.5</td>\n",
       "      <td>34.138486</td>\n",
       "      <td>34.471545</td>\n",
       "      <td>10.669946</td>\n",
       "      <td>41.118744</td>\n",
       "      <td>55.946399</td>\n",
       "      <td>44.061650</td>\n",
       "      <td>56.938111</td>\n",
       "      <td>18.706048</td>\n",
       "      <td>54.277437</td>\n",
       "      <td>100.000000</td>\n",
       "      <td>43.664717</td>\n",
       "      <td>67.887324</td>\n",
       "      <td>11.207472</td>\n",
       "    </tr>\n",
       "    <tr>\n",
       "      <th>lrecon</th>\n",
       "      <td>100.000000</td>\n",
       "      <td>48.127341</td>\n",
       "      <td>22.053232</td>\n",
       "      <td>100.000000</td>\n",
       "      <td>38.6</td>\n",
       "      <td>49.363057</td>\n",
       "      <td>85.393258</td>\n",
       "      <td>37.229437</td>\n",
       "      <td>0.0</td>\n",
       "      <td>55.284553</td>\n",
       "      <td>46.5</td>\n",
       "      <td>34.138486</td>\n",
       "      <td>34.471545</td>\n",
       "      <td>10.669946</td>\n",
       "      <td>41.118744</td>\n",
       "      <td>55.946399</td>\n",
       "      <td>44.061650</td>\n",
       "      <td>56.938111</td>\n",
       "      <td>18.706048</td>\n",
       "      <td>54.277437</td>\n",
       "      <td>100.000000</td>\n",
       "      <td>43.664717</td>\n",
       "      <td>67.887324</td>\n",
       "      <td>11.207472</td>\n",
       "    </tr>\n",
       "    <tr>\n",
       "      <th>galtan</th>\n",
       "      <td>100.000000</td>\n",
       "      <td>48.127341</td>\n",
       "      <td>22.053232</td>\n",
       "      <td>100.000000</td>\n",
       "      <td>38.6</td>\n",
       "      <td>49.363057</td>\n",
       "      <td>85.393258</td>\n",
       "      <td>37.229437</td>\n",
       "      <td>0.0</td>\n",
       "      <td>55.284553</td>\n",
       "      <td>46.5</td>\n",
       "      <td>34.138486</td>\n",
       "      <td>34.471545</td>\n",
       "      <td>10.669946</td>\n",
       "      <td>41.118744</td>\n",
       "      <td>55.946399</td>\n",
       "      <td>44.061650</td>\n",
       "      <td>56.938111</td>\n",
       "      <td>18.706048</td>\n",
       "      <td>54.277437</td>\n",
       "      <td>100.000000</td>\n",
       "      <td>43.664717</td>\n",
       "      <td>67.887324</td>\n",
       "      <td>11.207472</td>\n",
       "    </tr>\n",
       "    <tr>\n",
       "      <th>zlrgen</th>\n",
       "      <td>100.000000</td>\n",
       "      <td>48.127341</td>\n",
       "      <td>22.053232</td>\n",
       "      <td>100.000000</td>\n",
       "      <td>38.6</td>\n",
       "      <td>49.363057</td>\n",
       "      <td>85.393258</td>\n",
       "      <td>37.229437</td>\n",
       "      <td>0.0</td>\n",
       "      <td>55.284553</td>\n",
       "      <td>46.5</td>\n",
       "      <td>34.138486</td>\n",
       "      <td>34.471545</td>\n",
       "      <td>10.669946</td>\n",
       "      <td>41.118744</td>\n",
       "      <td>55.946399</td>\n",
       "      <td>44.061650</td>\n",
       "      <td>56.938111</td>\n",
       "      <td>18.706048</td>\n",
       "      <td>54.277437</td>\n",
       "      <td>100.000000</td>\n",
       "      <td>43.664717</td>\n",
       "      <td>67.887324</td>\n",
       "      <td>11.207472</td>\n",
       "    </tr>\n",
       "    <tr>\n",
       "      <th>zlrecon</th>\n",
       "      <td>100.000000</td>\n",
       "      <td>48.127341</td>\n",
       "      <td>22.053232</td>\n",
       "      <td>100.000000</td>\n",
       "      <td>38.6</td>\n",
       "      <td>49.363057</td>\n",
       "      <td>85.393258</td>\n",
       "      <td>37.229437</td>\n",
       "      <td>0.0</td>\n",
       "      <td>55.284553</td>\n",
       "      <td>46.5</td>\n",
       "      <td>34.138486</td>\n",
       "      <td>34.471545</td>\n",
       "      <td>10.669946</td>\n",
       "      <td>41.118744</td>\n",
       "      <td>55.946399</td>\n",
       "      <td>44.061650</td>\n",
       "      <td>56.938111</td>\n",
       "      <td>18.706048</td>\n",
       "      <td>54.277437</td>\n",
       "      <td>100.000000</td>\n",
       "      <td>43.664717</td>\n",
       "      <td>67.887324</td>\n",
       "      <td>11.207472</td>\n",
       "    </tr>\n",
       "    <tr>\n",
       "      <th>zgaltan</th>\n",
       "      <td>100.000000</td>\n",
       "      <td>48.127341</td>\n",
       "      <td>22.053232</td>\n",
       "      <td>100.000000</td>\n",
       "      <td>38.6</td>\n",
       "      <td>49.363057</td>\n",
       "      <td>85.393258</td>\n",
       "      <td>37.229437</td>\n",
       "      <td>0.0</td>\n",
       "      <td>55.284553</td>\n",
       "      <td>46.5</td>\n",
       "      <td>34.138486</td>\n",
       "      <td>34.471545</td>\n",
       "      <td>10.669946</td>\n",
       "      <td>41.118744</td>\n",
       "      <td>55.946399</td>\n",
       "      <td>44.061650</td>\n",
       "      <td>56.938111</td>\n",
       "      <td>18.706048</td>\n",
       "      <td>54.277437</td>\n",
       "      <td>100.000000</td>\n",
       "      <td>43.664717</td>\n",
       "      <td>67.887324</td>\n",
       "      <td>11.207472</td>\n",
       "    </tr>\n",
       "    <tr>\n",
       "      <th>mean_lrgen</th>\n",
       "      <td>100.000000</td>\n",
       "      <td>0.000000</td>\n",
       "      <td>0.000000</td>\n",
       "      <td>100.000000</td>\n",
       "      <td>0.0</td>\n",
       "      <td>0.000000</td>\n",
       "      <td>0.000000</td>\n",
       "      <td>0.000000</td>\n",
       "      <td>0.0</td>\n",
       "      <td>0.000000</td>\n",
       "      <td>0.0</td>\n",
       "      <td>0.000000</td>\n",
       "      <td>0.000000</td>\n",
       "      <td>0.000000</td>\n",
       "      <td>0.000000</td>\n",
       "      <td>0.000000</td>\n",
       "      <td>0.000000</td>\n",
       "      <td>0.000000</td>\n",
       "      <td>0.000000</td>\n",
       "      <td>0.000000</td>\n",
       "      <td>100.000000</td>\n",
       "      <td>0.000000</td>\n",
       "      <td>0.000000</td>\n",
       "      <td>0.000000</td>\n",
       "    </tr>\n",
       "    <tr>\n",
       "      <th>mean_lrecon</th>\n",
       "      <td>100.000000</td>\n",
       "      <td>0.000000</td>\n",
       "      <td>0.000000</td>\n",
       "      <td>100.000000</td>\n",
       "      <td>0.0</td>\n",
       "      <td>0.000000</td>\n",
       "      <td>0.000000</td>\n",
       "      <td>0.000000</td>\n",
       "      <td>0.0</td>\n",
       "      <td>0.000000</td>\n",
       "      <td>0.0</td>\n",
       "      <td>0.000000</td>\n",
       "      <td>0.000000</td>\n",
       "      <td>0.000000</td>\n",
       "      <td>0.000000</td>\n",
       "      <td>0.000000</td>\n",
       "      <td>0.000000</td>\n",
       "      <td>0.000000</td>\n",
       "      <td>0.000000</td>\n",
       "      <td>0.000000</td>\n",
       "      <td>100.000000</td>\n",
       "      <td>0.000000</td>\n",
       "      <td>0.000000</td>\n",
       "      <td>0.000000</td>\n",
       "    </tr>\n",
       "    <tr>\n",
       "      <th>mean_galtan</th>\n",
       "      <td>100.000000</td>\n",
       "      <td>0.000000</td>\n",
       "      <td>0.000000</td>\n",
       "      <td>100.000000</td>\n",
       "      <td>0.0</td>\n",
       "      <td>0.000000</td>\n",
       "      <td>0.000000</td>\n",
       "      <td>0.000000</td>\n",
       "      <td>0.0</td>\n",
       "      <td>0.000000</td>\n",
       "      <td>0.0</td>\n",
       "      <td>0.000000</td>\n",
       "      <td>0.000000</td>\n",
       "      <td>0.000000</td>\n",
       "      <td>0.000000</td>\n",
       "      <td>0.000000</td>\n",
       "      <td>0.000000</td>\n",
       "      <td>0.000000</td>\n",
       "      <td>0.000000</td>\n",
       "      <td>0.000000</td>\n",
       "      <td>100.000000</td>\n",
       "      <td>0.000000</td>\n",
       "      <td>0.000000</td>\n",
       "      <td>0.000000</td>\n",
       "    </tr>\n",
       "    <tr>\n",
       "      <th>zmean_lrgen</th>\n",
       "      <td>100.000000</td>\n",
       "      <td>0.000000</td>\n",
       "      <td>0.000000</td>\n",
       "      <td>100.000000</td>\n",
       "      <td>0.0</td>\n",
       "      <td>0.000000</td>\n",
       "      <td>0.000000</td>\n",
       "      <td>0.000000</td>\n",
       "      <td>0.0</td>\n",
       "      <td>0.000000</td>\n",
       "      <td>0.0</td>\n",
       "      <td>0.000000</td>\n",
       "      <td>0.000000</td>\n",
       "      <td>0.000000</td>\n",
       "      <td>0.000000</td>\n",
       "      <td>0.000000</td>\n",
       "      <td>0.000000</td>\n",
       "      <td>0.000000</td>\n",
       "      <td>0.000000</td>\n",
       "      <td>0.000000</td>\n",
       "      <td>100.000000</td>\n",
       "      <td>0.000000</td>\n",
       "      <td>0.000000</td>\n",
       "      <td>0.000000</td>\n",
       "    </tr>\n",
       "    <tr>\n",
       "      <th>zmean_lrecon</th>\n",
       "      <td>100.000000</td>\n",
       "      <td>0.000000</td>\n",
       "      <td>0.000000</td>\n",
       "      <td>100.000000</td>\n",
       "      <td>0.0</td>\n",
       "      <td>0.000000</td>\n",
       "      <td>0.000000</td>\n",
       "      <td>0.000000</td>\n",
       "      <td>0.0</td>\n",
       "      <td>0.000000</td>\n",
       "      <td>0.0</td>\n",
       "      <td>0.000000</td>\n",
       "      <td>0.000000</td>\n",
       "      <td>0.000000</td>\n",
       "      <td>0.000000</td>\n",
       "      <td>0.000000</td>\n",
       "      <td>0.000000</td>\n",
       "      <td>0.000000</td>\n",
       "      <td>0.000000</td>\n",
       "      <td>0.000000</td>\n",
       "      <td>100.000000</td>\n",
       "      <td>0.000000</td>\n",
       "      <td>0.000000</td>\n",
       "      <td>0.000000</td>\n",
       "    </tr>\n",
       "    <tr>\n",
       "      <th>zmean_galtan</th>\n",
       "      <td>100.000000</td>\n",
       "      <td>0.000000</td>\n",
       "      <td>0.000000</td>\n",
       "      <td>100.000000</td>\n",
       "      <td>0.0</td>\n",
       "      <td>0.000000</td>\n",
       "      <td>0.000000</td>\n",
       "      <td>0.000000</td>\n",
       "      <td>0.0</td>\n",
       "      <td>0.000000</td>\n",
       "      <td>0.0</td>\n",
       "      <td>0.000000</td>\n",
       "      <td>0.000000</td>\n",
       "      <td>0.000000</td>\n",
       "      <td>0.000000</td>\n",
       "      <td>0.000000</td>\n",
       "      <td>0.000000</td>\n",
       "      <td>0.000000</td>\n",
       "      <td>0.000000</td>\n",
       "      <td>0.000000</td>\n",
       "      <td>100.000000</td>\n",
       "      <td>0.000000</td>\n",
       "      <td>0.000000</td>\n",
       "      <td>0.000000</td>\n",
       "    </tr>\n",
       "    <tr>\n",
       "      <th>lrgengov</th>\n",
       "      <td>100.000000</td>\n",
       "      <td>0.000000</td>\n",
       "      <td>0.000000</td>\n",
       "      <td>100.000000</td>\n",
       "      <td>0.0</td>\n",
       "      <td>0.000000</td>\n",
       "      <td>0.000000</td>\n",
       "      <td>0.000000</td>\n",
       "      <td>0.0</td>\n",
       "      <td>0.000000</td>\n",
       "      <td>0.0</td>\n",
       "      <td>0.000000</td>\n",
       "      <td>0.000000</td>\n",
       "      <td>0.000000</td>\n",
       "      <td>0.000000</td>\n",
       "      <td>0.000000</td>\n",
       "      <td>0.000000</td>\n",
       "      <td>0.000000</td>\n",
       "      <td>0.000000</td>\n",
       "      <td>0.000000</td>\n",
       "      <td>100.000000</td>\n",
       "      <td>0.000000</td>\n",
       "      <td>100.000000</td>\n",
       "      <td>0.000000</td>\n",
       "    </tr>\n",
       "    <tr>\n",
       "      <th>lrecongov</th>\n",
       "      <td>100.000000</td>\n",
       "      <td>0.000000</td>\n",
       "      <td>0.000000</td>\n",
       "      <td>100.000000</td>\n",
       "      <td>0.0</td>\n",
       "      <td>0.000000</td>\n",
       "      <td>0.000000</td>\n",
       "      <td>0.000000</td>\n",
       "      <td>0.0</td>\n",
       "      <td>0.000000</td>\n",
       "      <td>0.0</td>\n",
       "      <td>0.000000</td>\n",
       "      <td>0.000000</td>\n",
       "      <td>0.000000</td>\n",
       "      <td>0.000000</td>\n",
       "      <td>0.000000</td>\n",
       "      <td>0.000000</td>\n",
       "      <td>0.000000</td>\n",
       "      <td>0.000000</td>\n",
       "      <td>0.000000</td>\n",
       "      <td>100.000000</td>\n",
       "      <td>0.000000</td>\n",
       "      <td>100.000000</td>\n",
       "      <td>0.000000</td>\n",
       "    </tr>\n",
       "    <tr>\n",
       "      <th>galtangov</th>\n",
       "      <td>100.000000</td>\n",
       "      <td>0.000000</td>\n",
       "      <td>0.000000</td>\n",
       "      <td>100.000000</td>\n",
       "      <td>0.0</td>\n",
       "      <td>0.000000</td>\n",
       "      <td>0.000000</td>\n",
       "      <td>0.000000</td>\n",
       "      <td>0.0</td>\n",
       "      <td>0.000000</td>\n",
       "      <td>0.0</td>\n",
       "      <td>0.000000</td>\n",
       "      <td>0.000000</td>\n",
       "      <td>0.000000</td>\n",
       "      <td>0.000000</td>\n",
       "      <td>0.000000</td>\n",
       "      <td>0.000000</td>\n",
       "      <td>0.000000</td>\n",
       "      <td>0.000000</td>\n",
       "      <td>0.000000</td>\n",
       "      <td>100.000000</td>\n",
       "      <td>0.000000</td>\n",
       "      <td>100.000000</td>\n",
       "      <td>0.000000</td>\n",
       "    </tr>\n",
       "    <tr>\n",
       "      <th>CPO</th>\n",
       "      <td>23.718887</td>\n",
       "      <td>0.000000</td>\n",
       "      <td>0.000000</td>\n",
       "      <td>0.000000</td>\n",
       "      <td>0.2</td>\n",
       "      <td>0.000000</td>\n",
       "      <td>0.321027</td>\n",
       "      <td>0.000000</td>\n",
       "      <td>0.0</td>\n",
       "      <td>9.959350</td>\n",
       "      <td>0.0</td>\n",
       "      <td>5.152979</td>\n",
       "      <td>0.000000</td>\n",
       "      <td>7.730148</td>\n",
       "      <td>23.748773</td>\n",
       "      <td>8.542714</td>\n",
       "      <td>3.898459</td>\n",
       "      <td>34.527687</td>\n",
       "      <td>1.687764</td>\n",
       "      <td>4.192229</td>\n",
       "      <td>6.590909</td>\n",
       "      <td>1.364522</td>\n",
       "      <td>2.253521</td>\n",
       "      <td>0.000000</td>\n",
       "    </tr>\n",
       "  </tbody>\n",
       "</table>\n",
       "</div>"
      ],
      "text/plain": [
       "                 Iceland  Belgium, FR     Bosnia      Brazil  Switzerland, FR  \\\n",
       "UID             0.000000     0.000000   0.000000    0.000000              0.0   \n",
       "Country         0.000000     0.000000   0.000000    0.000000              0.0   \n",
       "Sex             0.000000     0.000000   0.000000    0.000000              0.0   \n",
       "Age             0.000000     0.000000   0.000000    0.000000              0.0   \n",
       "Edu_high        3.513909     0.000000   0.000000    0.000000              3.4   \n",
       "Edu_low         3.513909     0.000000   0.000000    0.000000              3.4   \n",
       "Pol_Ori        23.718887     0.000000   0.000000    0.000000              0.2   \n",
       "ZmeanPO         0.000000     0.000000   0.000000    0.000000              0.0   \n",
       "ZPO            23.718887     0.000000   0.000000    0.000000              0.2   \n",
       "CMQ_1           0.732064     0.000000   0.000000    0.000000              0.0   \n",
       "CMQ_2           0.732064     0.000000   0.000000    0.000000              0.0   \n",
       "CMQ_3           0.585652     0.000000   0.000000    0.000000              0.0   \n",
       "CMQ_4           0.732064     0.000000   0.000000    0.000000              0.0   \n",
       "CMQ_5           0.439239     0.000000   0.000000    0.000000              0.0   \n",
       "CM4x            1.317716     0.000000   0.000000    0.000000              0.0   \n",
       "CM5x            1.610542     0.000000   0.000000    0.000000              0.0   \n",
       "CT_left         4.245974     0.000000   0.000000    0.000000              0.0   \n",
       "CT_right        5.270864     0.000000   0.000000    0.000000              0.0   \n",
       "CT_neutral      6.295754     0.000000   0.000000    0.000000              0.0   \n",
       "Winner_state   37.774524    48.127341  22.053232   57.261411             38.6   \n",
       "CHES_version  100.000000     0.000000   0.000000  100.000000              0.0   \n",
       "lrgen         100.000000    48.127341  22.053232  100.000000             38.6   \n",
       "lrecon        100.000000    48.127341  22.053232  100.000000             38.6   \n",
       "galtan        100.000000    48.127341  22.053232  100.000000             38.6   \n",
       "zlrgen        100.000000    48.127341  22.053232  100.000000             38.6   \n",
       "zlrecon       100.000000    48.127341  22.053232  100.000000             38.6   \n",
       "zgaltan       100.000000    48.127341  22.053232  100.000000             38.6   \n",
       "mean_lrgen    100.000000     0.000000   0.000000  100.000000              0.0   \n",
       "mean_lrecon   100.000000     0.000000   0.000000  100.000000              0.0   \n",
       "mean_galtan   100.000000     0.000000   0.000000  100.000000              0.0   \n",
       "zmean_lrgen   100.000000     0.000000   0.000000  100.000000              0.0   \n",
       "zmean_lrecon  100.000000     0.000000   0.000000  100.000000              0.0   \n",
       "zmean_galtan  100.000000     0.000000   0.000000  100.000000              0.0   \n",
       "lrgengov      100.000000     0.000000   0.000000  100.000000              0.0   \n",
       "lrecongov     100.000000     0.000000   0.000000  100.000000              0.0   \n",
       "galtangov     100.000000     0.000000   0.000000  100.000000              0.0   \n",
       "CPO            23.718887     0.000000   0.000000    0.000000              0.2   \n",
       "\n",
       "              Switzerland, GE    Croatia  Czech Republic  France     Greece  \\\n",
       "UID                  0.000000   0.000000        0.000000     0.0   0.000000   \n",
       "Country              0.000000   0.000000        0.000000     0.0   0.000000   \n",
       "Sex                  0.000000   1.123596        0.000000     0.0   0.000000   \n",
       "Age                  0.000000   1.605136        0.000000     0.0   0.000000   \n",
       "Edu_high             0.000000   1.605136        0.000000     0.0   0.203252   \n",
       "Edu_low              0.000000   1.605136        0.000000     0.0   0.203252   \n",
       "Pol_Ori              0.000000   0.321027        0.000000     0.0   9.959350   \n",
       "ZmeanPO              0.000000   0.000000        0.000000     0.0   0.000000   \n",
       "ZPO                  0.000000   0.321027        0.000000     0.0   9.959350   \n",
       "CMQ_1                0.000000   2.889246        0.000000     0.0   0.000000   \n",
       "CMQ_2                0.000000   2.728732        0.000000     0.0   0.000000   \n",
       "CMQ_3                0.000000   2.728732        0.000000     0.0   0.203252   \n",
       "CMQ_4                0.000000   2.568218        0.000000     0.0   0.203252   \n",
       "CMQ_5                0.000000   2.728732        0.000000     0.0   0.000000   \n",
       "CM4x                 0.000000   3.531300        0.000000     0.0   0.203252   \n",
       "CM5x                 0.000000   3.691814        0.000000     0.0   0.203252   \n",
       "CT_left              0.000000   2.247191        0.000000     0.0   3.455285   \n",
       "CT_right             0.000000   1.926164        0.000000     0.0   6.707317   \n",
       "CT_neutral           0.000000   2.407705        0.000000     0.0  17.276423   \n",
       "Winner_state        49.363057  85.393258       37.229437     0.0  40.040650   \n",
       "CHES_version         0.000000   0.000000        0.000000     0.0   0.000000   \n",
       "lrgen               49.363057  85.393258       37.229437     0.0  55.284553   \n",
       "lrecon              49.363057  85.393258       37.229437     0.0  55.284553   \n",
       "galtan              49.363057  85.393258       37.229437     0.0  55.284553   \n",
       "zlrgen              49.363057  85.393258       37.229437     0.0  55.284553   \n",
       "zlrecon             49.363057  85.393258       37.229437     0.0  55.284553   \n",
       "zgaltan             49.363057  85.393258       37.229437     0.0  55.284553   \n",
       "mean_lrgen           0.000000   0.000000        0.000000     0.0   0.000000   \n",
       "mean_lrecon          0.000000   0.000000        0.000000     0.0   0.000000   \n",
       "mean_galtan          0.000000   0.000000        0.000000     0.0   0.000000   \n",
       "zmean_lrgen          0.000000   0.000000        0.000000     0.0   0.000000   \n",
       "zmean_lrecon         0.000000   0.000000        0.000000     0.0   0.000000   \n",
       "zmean_galtan         0.000000   0.000000        0.000000     0.0   0.000000   \n",
       "lrgengov             0.000000   0.000000        0.000000     0.0   0.000000   \n",
       "lrecongov            0.000000   0.000000        0.000000     0.0   0.000000   \n",
       "galtangov            0.000000   0.000000        0.000000     0.0   0.000000   \n",
       "CPO                  0.000000   0.321027        0.000000     0.0   9.959350   \n",
       "\n",
       "              Hungary      Italy  Macedonia  Netherlands     Poland  \\\n",
       "UID               0.0   0.000000   0.000000     0.000000   0.000000   \n",
       "Country           0.0   0.000000   0.000000     0.000000   0.000000   \n",
       "Sex               0.0   1.288245   0.000000    15.618412   0.000000   \n",
       "Age               0.0   2.254428   0.000000    15.735535   0.000000   \n",
       "Edu_high          0.0   1.288245   0.325203    15.794097   0.000000   \n",
       "Edu_low           0.0   1.288245   0.325203    15.794097   0.000000   \n",
       "Pol_Ori           0.0   5.152979   0.000000     7.730148  23.748773   \n",
       "ZmeanPO           0.0   0.000000   0.000000     0.000000   0.000000   \n",
       "ZPO               0.0   5.152979   0.000000     7.730148  23.748773   \n",
       "CMQ_1             0.0   5.152979   0.000000    12.344811  22.178606   \n",
       "CMQ_2             0.0   5.152979   0.000000    12.409229  23.650638   \n",
       "CMQ_3             0.0   5.152979   0.000000    12.409229  17.860648   \n",
       "CMQ_4             0.0   5.152979   0.000000    12.438510  26.594701   \n",
       "CMQ_5             0.0   5.152979   0.000000    12.432654  27.379784   \n",
       "CM4x              0.0   5.152979   0.000000    12.461935  34.641806   \n",
       "CM5x              0.0   5.152979   0.000000    12.491216  36.310108   \n",
       "CT_left           0.0   5.636071   0.000000    26.024830  23.650638   \n",
       "CT_right          0.0   5.636071   0.000000    26.024830  12.953876   \n",
       "CT_neutral        0.0   5.636071   0.000000    26.024830  12.266928   \n",
       "Winner_state     46.5  43.156200  27.154472    10.669946  41.118744   \n",
       "CHES_version      0.0   0.000000   0.000000     0.000000   0.000000   \n",
       "lrgen            46.5  34.138486  34.471545    10.669946  41.118744   \n",
       "lrecon           46.5  34.138486  34.471545    10.669946  41.118744   \n",
       "galtan           46.5  34.138486  34.471545    10.669946  41.118744   \n",
       "zlrgen           46.5  34.138486  34.471545    10.669946  41.118744   \n",
       "zlrecon          46.5  34.138486  34.471545    10.669946  41.118744   \n",
       "zgaltan          46.5  34.138486  34.471545    10.669946  41.118744   \n",
       "mean_lrgen        0.0   0.000000   0.000000     0.000000   0.000000   \n",
       "mean_lrecon       0.0   0.000000   0.000000     0.000000   0.000000   \n",
       "mean_galtan       0.0   0.000000   0.000000     0.000000   0.000000   \n",
       "zmean_lrgen       0.0   0.000000   0.000000     0.000000   0.000000   \n",
       "zmean_lrecon      0.0   0.000000   0.000000     0.000000   0.000000   \n",
       "zmean_galtan      0.0   0.000000   0.000000     0.000000   0.000000   \n",
       "lrgengov          0.0   0.000000   0.000000     0.000000   0.000000   \n",
       "lrecongov         0.0   0.000000   0.000000     0.000000   0.000000   \n",
       "galtangov         0.0   0.000000   0.000000     0.000000   0.000000   \n",
       "CPO               0.0   5.152979   0.000000     7.730148  23.748773   \n",
       "\n",
       "                 Serbia      Spain     Turkey     Norway     Germany  \\\n",
       "UID            0.000000   0.000000   0.000000   0.000000    0.000000   \n",
       "Country        0.000000   0.000000   0.000000   0.000000    0.000000   \n",
       "Sex            0.167504   0.000000  39.674267   0.000000    0.017042   \n",
       "Age            0.083752   1.178604  41.824104   0.000000    0.017042   \n",
       "Edu_high       0.083752   0.000000  39.543974   5.110173  100.000000   \n",
       "Edu_low        0.083752   0.000000  39.543974   5.110173  100.000000   \n",
       "Pol_Ori        8.542714   3.898459  34.527687   1.687764    4.192229   \n",
       "ZmeanPO        0.000000   0.000000   0.000000   0.000000    0.000000   \n",
       "ZPO            8.542714   3.898459  34.527687   1.687764    4.192229   \n",
       "CMQ_1          4.355109   0.997280  33.811075   4.125645   71.608725   \n",
       "CMQ_2          3.433836   0.725295  33.941368   4.500703   71.728016   \n",
       "CMQ_3          8.375209   2.175884  33.941368   4.922644   72.119973   \n",
       "CMQ_4          5.611390   4.170444  34.332248   5.063291   73.023177   \n",
       "CMQ_5          6.365159   2.357208  34.006515   4.594468   72.426721   \n",
       "CM4x          12.730318   5.621034  34.853420   5.719644   73.551466   \n",
       "CM5x          13.065327   5.802357  35.048860   5.954055   73.602590   \n",
       "CT_left        3.433836   0.362647  36.221498   5.954055  100.000000   \n",
       "CT_right       4.941374   0.000000  36.026059   5.625879  100.000000   \n",
       "CT_neutral     2.177554   1.087942  36.807818   7.032349  100.000000   \n",
       "Winner_state  43.383585  44.061650  56.938111  16.783872   54.277437   \n",
       "CHES_version   0.000000   0.000000   0.000000   0.000000    0.000000   \n",
       "lrgen         55.946399  44.061650  56.938111  18.706048   54.277437   \n",
       "lrecon        55.946399  44.061650  56.938111  18.706048   54.277437   \n",
       "galtan        55.946399  44.061650  56.938111  18.706048   54.277437   \n",
       "zlrgen        55.946399  44.061650  56.938111  18.706048   54.277437   \n",
       "zlrecon       55.946399  44.061650  56.938111  18.706048   54.277437   \n",
       "zgaltan       55.946399  44.061650  56.938111  18.706048   54.277437   \n",
       "mean_lrgen     0.000000   0.000000   0.000000   0.000000    0.000000   \n",
       "mean_lrecon    0.000000   0.000000   0.000000   0.000000    0.000000   \n",
       "mean_galtan    0.000000   0.000000   0.000000   0.000000    0.000000   \n",
       "zmean_lrgen    0.000000   0.000000   0.000000   0.000000    0.000000   \n",
       "zmean_lrecon   0.000000   0.000000   0.000000   0.000000    0.000000   \n",
       "zmean_galtan   0.000000   0.000000   0.000000   0.000000    0.000000   \n",
       "lrgengov       0.000000   0.000000   0.000000   0.000000    0.000000   \n",
       "lrecongov      0.000000   0.000000   0.000000   0.000000    0.000000   \n",
       "galtangov      0.000000   0.000000   0.000000   0.000000    0.000000   \n",
       "CPO            8.542714   3.898459  34.527687   1.687764    4.192229   \n",
       "\n",
       "                  Israel   Portugal     Romania         UK  \n",
       "UID             0.000000   0.000000    0.000000   0.000000  \n",
       "Country         0.000000   0.000000    0.000000   0.000000  \n",
       "Sex             6.590909   0.194932    0.000000   0.066711  \n",
       "Age             6.590909   0.389864    0.000000   0.000000  \n",
       "Edu_high        8.409091   0.194932    1.408451  10.206805  \n",
       "Edu_low         8.409091   0.194932    1.408451  10.206805  \n",
       "Pol_Ori         6.590909   1.364522    2.253521   0.000000  \n",
       "ZmeanPO         0.000000   0.000000    0.000000   0.000000  \n",
       "ZPO             6.590909   1.364522    2.253521   0.000000  \n",
       "CMQ_1           5.000000   0.194932    0.000000   0.000000  \n",
       "CMQ_2           5.000000   0.194932    0.281690   0.000000  \n",
       "CMQ_3           5.000000   0.389864    0.281690   0.000000  \n",
       "CMQ_4           5.000000   0.389864    0.281690   0.000000  \n",
       "CMQ_5           5.000000   0.194932    0.000000   0.000000  \n",
       "CM4x            5.000000   0.584795    0.563380   0.000000  \n",
       "CM5x            5.000000   0.584795    0.845070   0.000000  \n",
       "CT_left         4.545455   0.194932    0.563380   0.000000  \n",
       "CT_right        4.545455   0.194932    0.563380   0.000000  \n",
       "CT_neutral    100.000000   0.194932    1.126761   0.000000  \n",
       "Winner_state   17.727273  43.664717   24.788732  11.207472  \n",
       "CHES_version  100.000000   0.000000    0.000000   0.000000  \n",
       "lrgen         100.000000  43.664717   67.887324  11.207472  \n",
       "lrecon        100.000000  43.664717   67.887324  11.207472  \n",
       "galtan        100.000000  43.664717   67.887324  11.207472  \n",
       "zlrgen        100.000000  43.664717   67.887324  11.207472  \n",
       "zlrecon       100.000000  43.664717   67.887324  11.207472  \n",
       "zgaltan       100.000000  43.664717   67.887324  11.207472  \n",
       "mean_lrgen    100.000000   0.000000    0.000000   0.000000  \n",
       "mean_lrecon   100.000000   0.000000    0.000000   0.000000  \n",
       "mean_galtan   100.000000   0.000000    0.000000   0.000000  \n",
       "zmean_lrgen   100.000000   0.000000    0.000000   0.000000  \n",
       "zmean_lrecon  100.000000   0.000000    0.000000   0.000000  \n",
       "zmean_galtan  100.000000   0.000000    0.000000   0.000000  \n",
       "lrgengov      100.000000   0.000000  100.000000   0.000000  \n",
       "lrecongov     100.000000   0.000000  100.000000   0.000000  \n",
       "galtangov     100.000000   0.000000  100.000000   0.000000  \n",
       "CPO             6.590909   1.364522    2.253521   0.000000  "
      ]
     },
     "metadata": {},
     "output_type": "display_data"
    }
   ],
   "source": [
    "# Creating dataframe for percent missing per column per country\n",
    "missing_dict = {}\n",
    "for country in df1['Country'].unique():\n",
    "    missing_dict[country] = df1[df1['Country'] == country].isna().mean()*100\n",
    "\n",
    "missing_by_country = pd.DataFrame(missing_dict)\n",
    "\n",
    "# Displaying the 'percent missing by country' dataframe\n",
    "display(missing_by_country)"
   ]
  },
  {
   "cell_type": "markdown",
   "id": "d1e67a93",
   "metadata": {},
   "source": [
    "Let's visualize this information using a heatmap to get a sense of how the missing values are distributed across the countries and the columns."
   ]
  },
  {
   "cell_type": "code",
   "execution_count": 91,
   "id": "4e50196c",
   "metadata": {
    "scrolled": true
   },
   "outputs": [
    {
     "data": {
      "application/vnd.plotly.v1+json": {
       "config": {
        "plotlyServerURL": "https://plot.ly"
       },
       "data": [
        {
         "coloraxis": "coloraxis",
         "hovertemplate": "x: %{x}<br>y: %{y}<br>% Missing: %{z}<extra></extra>",
         "name": "0",
         "type": "heatmap",
         "x": [
          "UID",
          "Country",
          "Sex",
          "Age",
          "Edu_high",
          "Edu_low",
          "Pol_Ori",
          "ZmeanPO",
          "ZPO",
          "CMQ_1",
          "CMQ_2",
          "CMQ_3",
          "CMQ_4",
          "CMQ_5",
          "CM4x",
          "CM5x",
          "CT_left",
          "CT_right",
          "CT_neutral",
          "Winner_state",
          "CHES_version",
          "lrgen",
          "lrecon",
          "galtan",
          "zlrgen",
          "zlrecon",
          "zgaltan",
          "mean_lrgen",
          "mean_lrecon",
          "mean_galtan",
          "zmean_lrgen",
          "zmean_lrecon",
          "zmean_galtan",
          "lrgengov",
          "lrecongov",
          "galtangov",
          "CPO"
         ],
         "xaxis": "x",
         "y": [
          "Iceland",
          "Belgium, FR",
          "Bosnia",
          "Brazil",
          "Switzerland, FR",
          "Switzerland, GE",
          "Croatia",
          "Czech Republic",
          "France",
          "Greece",
          "Hungary",
          "Italy",
          "Macedonia",
          "Netherlands",
          "Poland",
          "Serbia",
          "Spain",
          "Turkey",
          "Norway",
          "Germany",
          "Israel",
          "Portugal",
          "Romania",
          "UK"
         ],
         "yaxis": "y",
         "z": [
          [
           0,
           0,
           0,
           0,
           3.513909224011713,
           3.513909224011713,
           23.718887262079065,
           0,
           23.718887262079065,
           0.7320644216691069,
           0.7320644216691069,
           0.5856515373352855,
           0.7320644216691069,
           0.43923865300146414,
           1.3177159590043925,
           1.610541727672035,
           4.24597364568082,
           5.27086383601757,
           6.295754026354319,
           37.774524158125914,
           100,
           100,
           100,
           100,
           100,
           100,
           100,
           100,
           100,
           100,
           100,
           100,
           100,
           100,
           100,
           100,
           23.718887262079065
          ],
          [
           0,
           0,
           0,
           0,
           0,
           0,
           0,
           0,
           0,
           0,
           0,
           0,
           0,
           0,
           0,
           0,
           0,
           0,
           0,
           48.12734082397004,
           0,
           48.12734082397004,
           48.12734082397004,
           48.12734082397004,
           48.12734082397004,
           48.12734082397004,
           48.12734082397004,
           0,
           0,
           0,
           0,
           0,
           0,
           0,
           0,
           0,
           0
          ],
          [
           0,
           0,
           0,
           0,
           0,
           0,
           0,
           0,
           0,
           0,
           0,
           0,
           0,
           0,
           0,
           0,
           0,
           0,
           0,
           22.0532319391635,
           0,
           22.0532319391635,
           22.0532319391635,
           22.0532319391635,
           22.0532319391635,
           22.0532319391635,
           22.0532319391635,
           0,
           0,
           0,
           0,
           0,
           0,
           0,
           0,
           0,
           0
          ],
          [
           0,
           0,
           0,
           0,
           0,
           0,
           0,
           0,
           0,
           0,
           0,
           0,
           0,
           0,
           0,
           0,
           0,
           0,
           0,
           57.26141078838174,
           100,
           100,
           100,
           100,
           100,
           100,
           100,
           100,
           100,
           100,
           100,
           100,
           100,
           100,
           100,
           100,
           0
          ],
          [
           0,
           0,
           0,
           0,
           3.4000000000000004,
           3.4000000000000004,
           0.2,
           0,
           0.2,
           0,
           0,
           0,
           0,
           0,
           0,
           0,
           0,
           0,
           0,
           38.6,
           0,
           38.6,
           38.6,
           38.6,
           38.6,
           38.6,
           38.6,
           0,
           0,
           0,
           0,
           0,
           0,
           0,
           0,
           0,
           0.2
          ],
          [
           0,
           0,
           0,
           0,
           0,
           0,
           0,
           0,
           0,
           0,
           0,
           0,
           0,
           0,
           0,
           0,
           0,
           0,
           0,
           49.36305732484077,
           0,
           49.36305732484077,
           49.36305732484077,
           49.36305732484077,
           49.36305732484077,
           49.36305732484077,
           49.36305732484077,
           0,
           0,
           0,
           0,
           0,
           0,
           0,
           0,
           0,
           0
          ],
          [
           0,
           0,
           1.1235955056179776,
           1.6051364365971106,
           1.6051364365971106,
           1.6051364365971106,
           0.32102728731942215,
           0,
           0.32102728731942215,
           2.889245585874799,
           2.7287319422150884,
           2.7287319422150884,
           2.568218298555377,
           2.7287319422150884,
           3.5313001605136436,
           3.6918138041733553,
           2.247191011235955,
           1.9261637239165328,
           2.4077046548956664,
           85.39325842696628,
           0,
           85.39325842696628,
           85.39325842696628,
           85.39325842696628,
           85.39325842696628,
           85.39325842696628,
           85.39325842696628,
           0,
           0,
           0,
           0,
           0,
           0,
           0,
           0,
           0,
           0.32102728731942215
          ],
          [
           0,
           0,
           0,
           0,
           0,
           0,
           0,
           0,
           0,
           0,
           0,
           0,
           0,
           0,
           0,
           0,
           0,
           0,
           0,
           37.22943722943723,
           0,
           37.22943722943723,
           37.22943722943723,
           37.22943722943723,
           37.22943722943723,
           37.22943722943723,
           37.22943722943723,
           0,
           0,
           0,
           0,
           0,
           0,
           0,
           0,
           0,
           0
          ],
          [
           0,
           0,
           0,
           0,
           0,
           0,
           0,
           0,
           0,
           0,
           0,
           0,
           0,
           0,
           0,
           0,
           0,
           0,
           0,
           0,
           0,
           0,
           0,
           0,
           0,
           0,
           0,
           0,
           0,
           0,
           0,
           0,
           0,
           0,
           0,
           0,
           0
          ],
          [
           0,
           0,
           0,
           0,
           0.20325203252032523,
           0.20325203252032523,
           9.959349593495935,
           0,
           9.959349593495935,
           0,
           0,
           0.20325203252032523,
           0.20325203252032523,
           0,
           0.20325203252032523,
           0.20325203252032523,
           3.4552845528455287,
           6.707317073170732,
           17.276422764227643,
           40.040650406504064,
           0,
           55.28455284552846,
           55.28455284552846,
           55.28455284552846,
           55.28455284552846,
           55.28455284552846,
           55.28455284552846,
           0,
           0,
           0,
           0,
           0,
           0,
           0,
           0,
           0,
           9.959349593495935
          ],
          [
           0,
           0,
           0,
           0,
           0,
           0,
           0,
           0,
           0,
           0,
           0,
           0,
           0,
           0,
           0,
           0,
           0,
           0,
           0,
           46.5,
           0,
           46.5,
           46.5,
           46.5,
           46.5,
           46.5,
           46.5,
           0,
           0,
           0,
           0,
           0,
           0,
           0,
           0,
           0,
           0
          ],
          [
           0,
           0,
           1.288244766505636,
           2.254428341384863,
           1.288244766505636,
           1.288244766505636,
           5.152979066022544,
           0,
           5.152979066022544,
           5.152979066022544,
           5.152979066022544,
           5.152979066022544,
           5.152979066022544,
           5.152979066022544,
           5.152979066022544,
           5.152979066022544,
           5.636070853462158,
           5.636070853462158,
           5.636070853462158,
           43.15619967793881,
           0,
           34.13848631239936,
           34.13848631239936,
           34.13848631239936,
           34.13848631239936,
           34.13848631239936,
           34.13848631239936,
           0,
           0,
           0,
           0,
           0,
           0,
           0,
           0,
           0,
           5.152979066022544
          ],
          [
           0,
           0,
           0,
           0,
           0.3252032520325203,
           0.3252032520325203,
           0,
           0,
           0,
           0,
           0,
           0,
           0,
           0,
           0,
           0,
           0,
           0,
           0,
           27.15447154471545,
           0,
           34.47154471544715,
           34.47154471544715,
           34.47154471544715,
           34.47154471544715,
           34.47154471544715,
           34.47154471544715,
           0,
           0,
           0,
           0,
           0,
           0,
           0,
           0,
           0,
           0
          ],
          [
           0,
           0,
           15.61841180604357,
           15.735535254157881,
           15.79409697821504,
           15.79409697821504,
           7.730147575544624,
           0,
           7.730147575544624,
           12.344811431248536,
           12.409229327711408,
           12.409229327711408,
           12.438510189739986,
           12.43265401733427,
           12.461934879362849,
           12.491215741391425,
           26.024830171000236,
           26.024830171000236,
           26.024830171000236,
           10.669946123213867,
           0,
           10.669946123213867,
           10.669946123213867,
           10.669946123213867,
           10.669946123213867,
           10.669946123213867,
           10.669946123213867,
           0,
           0,
           0,
           0,
           0,
           0,
           0,
           0,
           0,
           7.730147575544624
          ],
          [
           0,
           0,
           0,
           0,
           0,
           0,
           23.748773307163887,
           0,
           23.748773307163887,
           22.178606476938175,
           23.65063788027478,
           17.86064769381747,
           26.594700686947988,
           27.379784102060846,
           34.64180569185476,
           36.31010794896958,
           23.65063788027478,
           12.95387634936212,
           12.26692836113837,
           41.118743866535816,
           0,
           41.118743866535816,
           41.118743866535816,
           41.118743866535816,
           41.118743866535816,
           41.118743866535816,
           41.118743866535816,
           0,
           0,
           0,
           0,
           0,
           0,
           0,
           0,
           0,
           23.748773307163887
          ],
          [
           0,
           0,
           0.16750418760469013,
           0.08375209380234507,
           0.08375209380234507,
           0.08375209380234507,
           8.542713567839195,
           0,
           8.542713567839195,
           4.355108877721943,
           3.433835845896147,
           8.375209380234507,
           5.611390284757118,
           6.365159128978225,
           12.73031825795645,
           13.06532663316583,
           3.433835845896147,
           4.941373534338359,
           2.1775544388609713,
           43.383584589614735,
           0,
           55.9463986599665,
           55.9463986599665,
           55.9463986599665,
           55.9463986599665,
           55.9463986599665,
           55.9463986599665,
           0,
           0,
           0,
           0,
           0,
           0,
           0,
           0,
           0,
           8.542713567839195
          ],
          [
           0,
           0,
           0,
           1.1786038077969174,
           0,
           0,
           3.8984587488667275,
           0,
           3.8984587488667275,
           0.9972801450589301,
           0.7252946509519492,
           2.175883952855848,
           4.170444242973708,
           2.357207615593835,
           5.621033544877607,
           5.802357207615594,
           0.3626473254759746,
           0,
           1.087941976427924,
           44.061650045330914,
           0,
           44.061650045330914,
           44.061650045330914,
           44.061650045330914,
           44.061650045330914,
           44.061650045330914,
           44.061650045330914,
           0,
           0,
           0,
           0,
           0,
           0,
           0,
           0,
           0,
           3.8984587488667275
          ],
          [
           0,
           0,
           39.674267100977204,
           41.82410423452769,
           39.54397394136808,
           39.54397394136808,
           34.527687296416936,
           0,
           34.527687296416936,
           33.811074918566774,
           33.94136807817589,
           33.94136807817589,
           34.33224755700326,
           34.00651465798046,
           34.85342019543974,
           35.04885993485342,
           36.2214983713355,
           36.02605863192183,
           36.807817589576544,
           56.93811074918567,
           0,
           56.93811074918567,
           56.93811074918567,
           56.93811074918567,
           56.93811074918567,
           56.93811074918567,
           56.93811074918567,
           0,
           0,
           0,
           0,
           0,
           0,
           0,
           0,
           0,
           34.527687296416936
          ],
          [
           0,
           0,
           0,
           0,
           5.110173464603844,
           5.110173464603844,
           1.6877637130801686,
           0,
           1.6877637130801686,
           4.125644631973746,
           4.50070323488045,
           4.922644163150492,
           5.063291139240507,
           4.594467885607126,
           5.719643694327239,
           5.954055321143929,
           5.954055321143929,
           5.625879043600563,
           7.032348804500703,
           16.78387248007501,
           0,
           18.70604781997187,
           18.70604781997187,
           18.70604781997187,
           18.70604781997187,
           18.70604781997187,
           18.70604781997187,
           0,
           0,
           0,
           0,
           0,
           0,
           0,
           0,
           0,
           1.6877637130801686
          ],
          [
           0,
           0,
           0.017041581458759374,
           0.017041581458759374,
           100,
           100,
           4.192229038854806,
           0,
           4.192229038854806,
           71.60872528970688,
           71.7280163599182,
           72.11997273346967,
           73.0231765507839,
           72.42672119972734,
           73.55146557600546,
           73.60259032038174,
           100,
           100,
           100,
           54.277436946148605,
           0,
           54.277436946148605,
           54.277436946148605,
           54.277436946148605,
           54.277436946148605,
           54.277436946148605,
           54.277436946148605,
           0,
           0,
           0,
           0,
           0,
           0,
           0,
           0,
           0,
           4.192229038854806
          ],
          [
           0,
           0,
           6.59090909090909,
           6.59090909090909,
           8.409090909090908,
           8.409090909090908,
           6.59090909090909,
           0,
           6.59090909090909,
           5,
           5,
           5,
           5,
           5,
           5,
           5,
           4.545454545454546,
           4.545454545454546,
           100,
           17.727272727272727,
           100,
           100,
           100,
           100,
           100,
           100,
           100,
           100,
           100,
           100,
           100,
           100,
           100,
           100,
           100,
           100,
           6.59090909090909
          ],
          [
           0,
           0,
           0.1949317738791423,
           0.3898635477582846,
           0.1949317738791423,
           0.1949317738791423,
           1.364522417153996,
           0,
           1.364522417153996,
           0.1949317738791423,
           0.1949317738791423,
           0.3898635477582846,
           0.3898635477582846,
           0.1949317738791423,
           0.5847953216374269,
           0.5847953216374269,
           0.1949317738791423,
           0.1949317738791423,
           0.1949317738791423,
           43.66471734892787,
           0,
           43.66471734892787,
           43.66471734892787,
           43.66471734892787,
           43.66471734892787,
           43.66471734892787,
           43.66471734892787,
           0,
           0,
           0,
           0,
           0,
           0,
           0,
           0,
           0,
           1.364522417153996
          ],
          [
           0,
           0,
           0,
           0,
           1.4084507042253522,
           1.4084507042253522,
           2.2535211267605635,
           0,
           2.2535211267605635,
           0,
           0.28169014084507044,
           0.28169014084507044,
           0.28169014084507044,
           0,
           0.5633802816901409,
           0.8450704225352111,
           0.5633802816901409,
           0.5633802816901409,
           1.1267605633802817,
           24.788732394366196,
           0,
           67.88732394366197,
           67.88732394366197,
           67.88732394366197,
           67.88732394366197,
           67.88732394366197,
           67.88732394366197,
           0,
           0,
           0,
           0,
           0,
           0,
           100,
           100,
           100,
           2.2535211267605635
          ],
          [
           0,
           0,
           0.06671114076050699,
           0,
           10.206804536357572,
           10.206804536357572,
           0,
           0,
           0,
           0,
           0,
           0,
           0,
           0,
           0,
           0,
           0,
           0,
           0,
           11.207471647765177,
           0,
           11.207471647765177,
           11.207471647765177,
           11.207471647765177,
           11.207471647765177,
           11.207471647765177,
           11.207471647765177,
           0,
           0,
           0,
           0,
           0,
           0,
           0,
           0,
           0,
           0
          ]
         ]
        }
       ],
       "layout": {
        "coloraxis": {
         "colorbar": {
          "title": {
           "text": "% Missing"
          }
         },
         "colorscale": [
          [
           0,
           "#0d0887"
          ],
          [
           0.1111111111111111,
           "#46039f"
          ],
          [
           0.2222222222222222,
           "#7201a8"
          ],
          [
           0.3333333333333333,
           "#9c179e"
          ],
          [
           0.4444444444444444,
           "#bd3786"
          ],
          [
           0.5555555555555556,
           "#d8576b"
          ],
          [
           0.6666666666666666,
           "#ed7953"
          ],
          [
           0.7777777777777778,
           "#fb9f3a"
          ],
          [
           0.8888888888888888,
           "#fdca26"
          ],
          [
           1,
           "#f0f921"
          ]
         ]
        },
        "height": 650,
        "template": {
         "data": {
          "bar": [
           {
            "error_x": {
             "color": "#2a3f5f"
            },
            "error_y": {
             "color": "#2a3f5f"
            },
            "marker": {
             "line": {
              "color": "#E5ECF6",
              "width": 0.5
             },
             "pattern": {
              "fillmode": "overlay",
              "size": 10,
              "solidity": 0.2
             }
            },
            "type": "bar"
           }
          ],
          "barpolar": [
           {
            "marker": {
             "line": {
              "color": "#E5ECF6",
              "width": 0.5
             },
             "pattern": {
              "fillmode": "overlay",
              "size": 10,
              "solidity": 0.2
             }
            },
            "type": "barpolar"
           }
          ],
          "carpet": [
           {
            "aaxis": {
             "endlinecolor": "#2a3f5f",
             "gridcolor": "white",
             "linecolor": "white",
             "minorgridcolor": "white",
             "startlinecolor": "#2a3f5f"
            },
            "baxis": {
             "endlinecolor": "#2a3f5f",
             "gridcolor": "white",
             "linecolor": "white",
             "minorgridcolor": "white",
             "startlinecolor": "#2a3f5f"
            },
            "type": "carpet"
           }
          ],
          "choropleth": [
           {
            "colorbar": {
             "outlinewidth": 0,
             "ticks": ""
            },
            "type": "choropleth"
           }
          ],
          "contour": [
           {
            "colorbar": {
             "outlinewidth": 0,
             "ticks": ""
            },
            "colorscale": [
             [
              0,
              "#0d0887"
             ],
             [
              0.1111111111111111,
              "#46039f"
             ],
             [
              0.2222222222222222,
              "#7201a8"
             ],
             [
              0.3333333333333333,
              "#9c179e"
             ],
             [
              0.4444444444444444,
              "#bd3786"
             ],
             [
              0.5555555555555556,
              "#d8576b"
             ],
             [
              0.6666666666666666,
              "#ed7953"
             ],
             [
              0.7777777777777778,
              "#fb9f3a"
             ],
             [
              0.8888888888888888,
              "#fdca26"
             ],
             [
              1,
              "#f0f921"
             ]
            ],
            "type": "contour"
           }
          ],
          "contourcarpet": [
           {
            "colorbar": {
             "outlinewidth": 0,
             "ticks": ""
            },
            "type": "contourcarpet"
           }
          ],
          "heatmap": [
           {
            "colorbar": {
             "outlinewidth": 0,
             "ticks": ""
            },
            "colorscale": [
             [
              0,
              "#0d0887"
             ],
             [
              0.1111111111111111,
              "#46039f"
             ],
             [
              0.2222222222222222,
              "#7201a8"
             ],
             [
              0.3333333333333333,
              "#9c179e"
             ],
             [
              0.4444444444444444,
              "#bd3786"
             ],
             [
              0.5555555555555556,
              "#d8576b"
             ],
             [
              0.6666666666666666,
              "#ed7953"
             ],
             [
              0.7777777777777778,
              "#fb9f3a"
             ],
             [
              0.8888888888888888,
              "#fdca26"
             ],
             [
              1,
              "#f0f921"
             ]
            ],
            "type": "heatmap"
           }
          ],
          "heatmapgl": [
           {
            "colorbar": {
             "outlinewidth": 0,
             "ticks": ""
            },
            "colorscale": [
             [
              0,
              "#0d0887"
             ],
             [
              0.1111111111111111,
              "#46039f"
             ],
             [
              0.2222222222222222,
              "#7201a8"
             ],
             [
              0.3333333333333333,
              "#9c179e"
             ],
             [
              0.4444444444444444,
              "#bd3786"
             ],
             [
              0.5555555555555556,
              "#d8576b"
             ],
             [
              0.6666666666666666,
              "#ed7953"
             ],
             [
              0.7777777777777778,
              "#fb9f3a"
             ],
             [
              0.8888888888888888,
              "#fdca26"
             ],
             [
              1,
              "#f0f921"
             ]
            ],
            "type": "heatmapgl"
           }
          ],
          "histogram": [
           {
            "marker": {
             "pattern": {
              "fillmode": "overlay",
              "size": 10,
              "solidity": 0.2
             }
            },
            "type": "histogram"
           }
          ],
          "histogram2d": [
           {
            "colorbar": {
             "outlinewidth": 0,
             "ticks": ""
            },
            "colorscale": [
             [
              0,
              "#0d0887"
             ],
             [
              0.1111111111111111,
              "#46039f"
             ],
             [
              0.2222222222222222,
              "#7201a8"
             ],
             [
              0.3333333333333333,
              "#9c179e"
             ],
             [
              0.4444444444444444,
              "#bd3786"
             ],
             [
              0.5555555555555556,
              "#d8576b"
             ],
             [
              0.6666666666666666,
              "#ed7953"
             ],
             [
              0.7777777777777778,
              "#fb9f3a"
             ],
             [
              0.8888888888888888,
              "#fdca26"
             ],
             [
              1,
              "#f0f921"
             ]
            ],
            "type": "histogram2d"
           }
          ],
          "histogram2dcontour": [
           {
            "colorbar": {
             "outlinewidth": 0,
             "ticks": ""
            },
            "colorscale": [
             [
              0,
              "#0d0887"
             ],
             [
              0.1111111111111111,
              "#46039f"
             ],
             [
              0.2222222222222222,
              "#7201a8"
             ],
             [
              0.3333333333333333,
              "#9c179e"
             ],
             [
              0.4444444444444444,
              "#bd3786"
             ],
             [
              0.5555555555555556,
              "#d8576b"
             ],
             [
              0.6666666666666666,
              "#ed7953"
             ],
             [
              0.7777777777777778,
              "#fb9f3a"
             ],
             [
              0.8888888888888888,
              "#fdca26"
             ],
             [
              1,
              "#f0f921"
             ]
            ],
            "type": "histogram2dcontour"
           }
          ],
          "mesh3d": [
           {
            "colorbar": {
             "outlinewidth": 0,
             "ticks": ""
            },
            "type": "mesh3d"
           }
          ],
          "parcoords": [
           {
            "line": {
             "colorbar": {
              "outlinewidth": 0,
              "ticks": ""
             }
            },
            "type": "parcoords"
           }
          ],
          "pie": [
           {
            "automargin": true,
            "type": "pie"
           }
          ],
          "scatter": [
           {
            "fillpattern": {
             "fillmode": "overlay",
             "size": 10,
             "solidity": 0.2
            },
            "type": "scatter"
           }
          ],
          "scatter3d": [
           {
            "line": {
             "colorbar": {
              "outlinewidth": 0,
              "ticks": ""
             }
            },
            "marker": {
             "colorbar": {
              "outlinewidth": 0,
              "ticks": ""
             }
            },
            "type": "scatter3d"
           }
          ],
          "scattercarpet": [
           {
            "marker": {
             "colorbar": {
              "outlinewidth": 0,
              "ticks": ""
             }
            },
            "type": "scattercarpet"
           }
          ],
          "scattergeo": [
           {
            "marker": {
             "colorbar": {
              "outlinewidth": 0,
              "ticks": ""
             }
            },
            "type": "scattergeo"
           }
          ],
          "scattergl": [
           {
            "marker": {
             "colorbar": {
              "outlinewidth": 0,
              "ticks": ""
             }
            },
            "type": "scattergl"
           }
          ],
          "scattermapbox": [
           {
            "marker": {
             "colorbar": {
              "outlinewidth": 0,
              "ticks": ""
             }
            },
            "type": "scattermapbox"
           }
          ],
          "scatterpolar": [
           {
            "marker": {
             "colorbar": {
              "outlinewidth": 0,
              "ticks": ""
             }
            },
            "type": "scatterpolar"
           }
          ],
          "scatterpolargl": [
           {
            "marker": {
             "colorbar": {
              "outlinewidth": 0,
              "ticks": ""
             }
            },
            "type": "scatterpolargl"
           }
          ],
          "scatterternary": [
           {
            "marker": {
             "colorbar": {
              "outlinewidth": 0,
              "ticks": ""
             }
            },
            "type": "scatterternary"
           }
          ],
          "surface": [
           {
            "colorbar": {
             "outlinewidth": 0,
             "ticks": ""
            },
            "colorscale": [
             [
              0,
              "#0d0887"
             ],
             [
              0.1111111111111111,
              "#46039f"
             ],
             [
              0.2222222222222222,
              "#7201a8"
             ],
             [
              0.3333333333333333,
              "#9c179e"
             ],
             [
              0.4444444444444444,
              "#bd3786"
             ],
             [
              0.5555555555555556,
              "#d8576b"
             ],
             [
              0.6666666666666666,
              "#ed7953"
             ],
             [
              0.7777777777777778,
              "#fb9f3a"
             ],
             [
              0.8888888888888888,
              "#fdca26"
             ],
             [
              1,
              "#f0f921"
             ]
            ],
            "type": "surface"
           }
          ],
          "table": [
           {
            "cells": {
             "fill": {
              "color": "#EBF0F8"
             },
             "line": {
              "color": "white"
             }
            },
            "header": {
             "fill": {
              "color": "#C8D4E3"
             },
             "line": {
              "color": "white"
             }
            },
            "type": "table"
           }
          ]
         },
         "layout": {
          "annotationdefaults": {
           "arrowcolor": "#2a3f5f",
           "arrowhead": 0,
           "arrowwidth": 1
          },
          "autotypenumbers": "strict",
          "coloraxis": {
           "colorbar": {
            "outlinewidth": 0,
            "ticks": ""
           }
          },
          "colorscale": {
           "diverging": [
            [
             0,
             "#8e0152"
            ],
            [
             0.1,
             "#c51b7d"
            ],
            [
             0.2,
             "#de77ae"
            ],
            [
             0.3,
             "#f1b6da"
            ],
            [
             0.4,
             "#fde0ef"
            ],
            [
             0.5,
             "#f7f7f7"
            ],
            [
             0.6,
             "#e6f5d0"
            ],
            [
             0.7,
             "#b8e186"
            ],
            [
             0.8,
             "#7fbc41"
            ],
            [
             0.9,
             "#4d9221"
            ],
            [
             1,
             "#276419"
            ]
           ],
           "sequential": [
            [
             0,
             "#0d0887"
            ],
            [
             0.1111111111111111,
             "#46039f"
            ],
            [
             0.2222222222222222,
             "#7201a8"
            ],
            [
             0.3333333333333333,
             "#9c179e"
            ],
            [
             0.4444444444444444,
             "#bd3786"
            ],
            [
             0.5555555555555556,
             "#d8576b"
            ],
            [
             0.6666666666666666,
             "#ed7953"
            ],
            [
             0.7777777777777778,
             "#fb9f3a"
            ],
            [
             0.8888888888888888,
             "#fdca26"
            ],
            [
             1,
             "#f0f921"
            ]
           ],
           "sequentialminus": [
            [
             0,
             "#0d0887"
            ],
            [
             0.1111111111111111,
             "#46039f"
            ],
            [
             0.2222222222222222,
             "#7201a8"
            ],
            [
             0.3333333333333333,
             "#9c179e"
            ],
            [
             0.4444444444444444,
             "#bd3786"
            ],
            [
             0.5555555555555556,
             "#d8576b"
            ],
            [
             0.6666666666666666,
             "#ed7953"
            ],
            [
             0.7777777777777778,
             "#fb9f3a"
            ],
            [
             0.8888888888888888,
             "#fdca26"
            ],
            [
             1,
             "#f0f921"
            ]
           ]
          },
          "colorway": [
           "#636efa",
           "#EF553B",
           "#00cc96",
           "#ab63fa",
           "#FFA15A",
           "#19d3f3",
           "#FF6692",
           "#B6E880",
           "#FF97FF",
           "#FECB52"
          ],
          "font": {
           "color": "#2a3f5f"
          },
          "geo": {
           "bgcolor": "white",
           "lakecolor": "white",
           "landcolor": "#E5ECF6",
           "showlakes": true,
           "showland": true,
           "subunitcolor": "white"
          },
          "hoverlabel": {
           "align": "left"
          },
          "hovermode": "closest",
          "mapbox": {
           "style": "light"
          },
          "paper_bgcolor": "white",
          "plot_bgcolor": "#E5ECF6",
          "polar": {
           "angularaxis": {
            "gridcolor": "white",
            "linecolor": "white",
            "ticks": ""
           },
           "bgcolor": "#E5ECF6",
           "radialaxis": {
            "gridcolor": "white",
            "linecolor": "white",
            "ticks": ""
           }
          },
          "scene": {
           "xaxis": {
            "backgroundcolor": "#E5ECF6",
            "gridcolor": "white",
            "gridwidth": 2,
            "linecolor": "white",
            "showbackground": true,
            "ticks": "",
            "zerolinecolor": "white"
           },
           "yaxis": {
            "backgroundcolor": "#E5ECF6",
            "gridcolor": "white",
            "gridwidth": 2,
            "linecolor": "white",
            "showbackground": true,
            "ticks": "",
            "zerolinecolor": "white"
           },
           "zaxis": {
            "backgroundcolor": "#E5ECF6",
            "gridcolor": "white",
            "gridwidth": 2,
            "linecolor": "white",
            "showbackground": true,
            "ticks": "",
            "zerolinecolor": "white"
           }
          },
          "shapedefaults": {
           "line": {
            "color": "#2a3f5f"
           }
          },
          "ternary": {
           "aaxis": {
            "gridcolor": "white",
            "linecolor": "white",
            "ticks": ""
           },
           "baxis": {
            "gridcolor": "white",
            "linecolor": "white",
            "ticks": ""
           },
           "bgcolor": "#E5ECF6",
           "caxis": {
            "gridcolor": "white",
            "linecolor": "white",
            "ticks": ""
           }
          },
          "title": {
           "x": 0.05
          },
          "xaxis": {
           "automargin": true,
           "gridcolor": "white",
           "linecolor": "white",
           "ticks": "",
           "title": {
            "standoff": 15
           },
           "zerolinecolor": "white",
           "zerolinewidth": 2
          },
          "yaxis": {
           "automargin": true,
           "gridcolor": "white",
           "linecolor": "white",
           "ticks": "",
           "title": {
            "standoff": 15
           },
           "zerolinecolor": "white",
           "zerolinewidth": 2
          }
         }
        },
        "title": {
         "text": "Percentage of Data Missing for Each Column by Country in Study 1"
        },
        "width": 1000,
        "xaxis": {
         "anchor": "y",
         "domain": [
          0,
          1
         ],
         "title": {
          "text": "Column"
         }
        },
        "yaxis": {
         "anchor": "x",
         "autorange": "reversed",
         "domain": [
          0,
          1
         ]
        }
       }
      },
      "text/html": [
       "<div>                            <div id=\"ea1a4d0b-4a70-4aff-9be7-bb59e46ab082\" class=\"plotly-graph-div\" style=\"height:650px; width:1000px;\"></div>            <script type=\"text/javascript\">                require([\"plotly\"], function(Plotly) {                    window.PLOTLYENV=window.PLOTLYENV || {};                                    if (document.getElementById(\"ea1a4d0b-4a70-4aff-9be7-bb59e46ab082\")) {                    Plotly.newPlot(                        \"ea1a4d0b-4a70-4aff-9be7-bb59e46ab082\",                        [{\"coloraxis\":\"coloraxis\",\"name\":\"0\",\"x\":[\"UID\",\"Country\",\"Sex\",\"Age\",\"Edu_high\",\"Edu_low\",\"Pol_Ori\",\"ZmeanPO\",\"ZPO\",\"CMQ_1\",\"CMQ_2\",\"CMQ_3\",\"CMQ_4\",\"CMQ_5\",\"CM4x\",\"CM5x\",\"CT_left\",\"CT_right\",\"CT_neutral\",\"Winner_state\",\"CHES_version\",\"lrgen\",\"lrecon\",\"galtan\",\"zlrgen\",\"zlrecon\",\"zgaltan\",\"mean_lrgen\",\"mean_lrecon\",\"mean_galtan\",\"zmean_lrgen\",\"zmean_lrecon\",\"zmean_galtan\",\"lrgengov\",\"lrecongov\",\"galtangov\",\"CPO\"],\"y\":[\"Iceland\",\"Belgium, FR\",\"Bosnia\",\"Brazil\",\"Switzerland, FR\",\"Switzerland, GE\",\"Croatia\",\"Czech Republic\",\"France\",\"Greece\",\"Hungary\",\"Italy\",\"Macedonia\",\"Netherlands\",\"Poland\",\"Serbia\",\"Spain\",\"Turkey\",\"Norway\",\"Germany\",\"Israel\",\"Portugal\",\"Romania\",\"UK\"],\"z\":[[0.0,0.0,0.0,0.0,3.513909224011713,3.513909224011713,23.718887262079065,0.0,23.718887262079065,0.7320644216691069,0.7320644216691069,0.5856515373352855,0.7320644216691069,0.43923865300146414,1.3177159590043925,1.610541727672035,4.24597364568082,5.27086383601757,6.295754026354319,37.774524158125914,100.0,100.0,100.0,100.0,100.0,100.0,100.0,100.0,100.0,100.0,100.0,100.0,100.0,100.0,100.0,100.0,23.718887262079065],[0.0,0.0,0.0,0.0,0.0,0.0,0.0,0.0,0.0,0.0,0.0,0.0,0.0,0.0,0.0,0.0,0.0,0.0,0.0,48.12734082397004,0.0,48.12734082397004,48.12734082397004,48.12734082397004,48.12734082397004,48.12734082397004,48.12734082397004,0.0,0.0,0.0,0.0,0.0,0.0,0.0,0.0,0.0,0.0],[0.0,0.0,0.0,0.0,0.0,0.0,0.0,0.0,0.0,0.0,0.0,0.0,0.0,0.0,0.0,0.0,0.0,0.0,0.0,22.0532319391635,0.0,22.0532319391635,22.0532319391635,22.0532319391635,22.0532319391635,22.0532319391635,22.0532319391635,0.0,0.0,0.0,0.0,0.0,0.0,0.0,0.0,0.0,0.0],[0.0,0.0,0.0,0.0,0.0,0.0,0.0,0.0,0.0,0.0,0.0,0.0,0.0,0.0,0.0,0.0,0.0,0.0,0.0,57.26141078838174,100.0,100.0,100.0,100.0,100.0,100.0,100.0,100.0,100.0,100.0,100.0,100.0,100.0,100.0,100.0,100.0,0.0],[0.0,0.0,0.0,0.0,3.4000000000000004,3.4000000000000004,0.2,0.0,0.2,0.0,0.0,0.0,0.0,0.0,0.0,0.0,0.0,0.0,0.0,38.6,0.0,38.6,38.6,38.6,38.6,38.6,38.6,0.0,0.0,0.0,0.0,0.0,0.0,0.0,0.0,0.0,0.2],[0.0,0.0,0.0,0.0,0.0,0.0,0.0,0.0,0.0,0.0,0.0,0.0,0.0,0.0,0.0,0.0,0.0,0.0,0.0,49.36305732484077,0.0,49.36305732484077,49.36305732484077,49.36305732484077,49.36305732484077,49.36305732484077,49.36305732484077,0.0,0.0,0.0,0.0,0.0,0.0,0.0,0.0,0.0,0.0],[0.0,0.0,1.1235955056179776,1.6051364365971106,1.6051364365971106,1.6051364365971106,0.32102728731942215,0.0,0.32102728731942215,2.889245585874799,2.7287319422150884,2.7287319422150884,2.568218298555377,2.7287319422150884,3.5313001605136436,3.6918138041733553,2.247191011235955,1.9261637239165328,2.4077046548956664,85.39325842696628,0.0,85.39325842696628,85.39325842696628,85.39325842696628,85.39325842696628,85.39325842696628,85.39325842696628,0.0,0.0,0.0,0.0,0.0,0.0,0.0,0.0,0.0,0.32102728731942215],[0.0,0.0,0.0,0.0,0.0,0.0,0.0,0.0,0.0,0.0,0.0,0.0,0.0,0.0,0.0,0.0,0.0,0.0,0.0,37.22943722943723,0.0,37.22943722943723,37.22943722943723,37.22943722943723,37.22943722943723,37.22943722943723,37.22943722943723,0.0,0.0,0.0,0.0,0.0,0.0,0.0,0.0,0.0,0.0],[0.0,0.0,0.0,0.0,0.0,0.0,0.0,0.0,0.0,0.0,0.0,0.0,0.0,0.0,0.0,0.0,0.0,0.0,0.0,0.0,0.0,0.0,0.0,0.0,0.0,0.0,0.0,0.0,0.0,0.0,0.0,0.0,0.0,0.0,0.0,0.0,0.0],[0.0,0.0,0.0,0.0,0.20325203252032523,0.20325203252032523,9.959349593495935,0.0,9.959349593495935,0.0,0.0,0.20325203252032523,0.20325203252032523,0.0,0.20325203252032523,0.20325203252032523,3.4552845528455287,6.707317073170732,17.276422764227643,40.040650406504064,0.0,55.28455284552846,55.28455284552846,55.28455284552846,55.28455284552846,55.28455284552846,55.28455284552846,0.0,0.0,0.0,0.0,0.0,0.0,0.0,0.0,0.0,9.959349593495935],[0.0,0.0,0.0,0.0,0.0,0.0,0.0,0.0,0.0,0.0,0.0,0.0,0.0,0.0,0.0,0.0,0.0,0.0,0.0,46.5,0.0,46.5,46.5,46.5,46.5,46.5,46.5,0.0,0.0,0.0,0.0,0.0,0.0,0.0,0.0,0.0,0.0],[0.0,0.0,1.288244766505636,2.254428341384863,1.288244766505636,1.288244766505636,5.152979066022544,0.0,5.152979066022544,5.152979066022544,5.152979066022544,5.152979066022544,5.152979066022544,5.152979066022544,5.152979066022544,5.152979066022544,5.636070853462158,5.636070853462158,5.636070853462158,43.15619967793881,0.0,34.13848631239936,34.13848631239936,34.13848631239936,34.13848631239936,34.13848631239936,34.13848631239936,0.0,0.0,0.0,0.0,0.0,0.0,0.0,0.0,0.0,5.152979066022544],[0.0,0.0,0.0,0.0,0.3252032520325203,0.3252032520325203,0.0,0.0,0.0,0.0,0.0,0.0,0.0,0.0,0.0,0.0,0.0,0.0,0.0,27.15447154471545,0.0,34.47154471544715,34.47154471544715,34.47154471544715,34.47154471544715,34.47154471544715,34.47154471544715,0.0,0.0,0.0,0.0,0.0,0.0,0.0,0.0,0.0,0.0],[0.0,0.0,15.61841180604357,15.735535254157881,15.79409697821504,15.79409697821504,7.730147575544624,0.0,7.730147575544624,12.344811431248536,12.409229327711408,12.409229327711408,12.438510189739986,12.43265401733427,12.461934879362849,12.491215741391425,26.024830171000236,26.024830171000236,26.024830171000236,10.669946123213867,0.0,10.669946123213867,10.669946123213867,10.669946123213867,10.669946123213867,10.669946123213867,10.669946123213867,0.0,0.0,0.0,0.0,0.0,0.0,0.0,0.0,0.0,7.730147575544624],[0.0,0.0,0.0,0.0,0.0,0.0,23.748773307163887,0.0,23.748773307163887,22.178606476938175,23.65063788027478,17.86064769381747,26.594700686947988,27.379784102060846,34.64180569185476,36.31010794896958,23.65063788027478,12.95387634936212,12.26692836113837,41.118743866535816,0.0,41.118743866535816,41.118743866535816,41.118743866535816,41.118743866535816,41.118743866535816,41.118743866535816,0.0,0.0,0.0,0.0,0.0,0.0,0.0,0.0,0.0,23.748773307163887],[0.0,0.0,0.16750418760469013,0.08375209380234507,0.08375209380234507,0.08375209380234507,8.542713567839195,0.0,8.542713567839195,4.355108877721943,3.433835845896147,8.375209380234507,5.611390284757118,6.365159128978225,12.73031825795645,13.06532663316583,3.433835845896147,4.941373534338359,2.1775544388609713,43.383584589614735,0.0,55.9463986599665,55.9463986599665,55.9463986599665,55.9463986599665,55.9463986599665,55.9463986599665,0.0,0.0,0.0,0.0,0.0,0.0,0.0,0.0,0.0,8.542713567839195],[0.0,0.0,0.0,1.1786038077969174,0.0,0.0,3.8984587488667275,0.0,3.8984587488667275,0.9972801450589301,0.7252946509519492,2.175883952855848,4.170444242973708,2.357207615593835,5.621033544877607,5.802357207615594,0.3626473254759746,0.0,1.087941976427924,44.061650045330914,0.0,44.061650045330914,44.061650045330914,44.061650045330914,44.061650045330914,44.061650045330914,44.061650045330914,0.0,0.0,0.0,0.0,0.0,0.0,0.0,0.0,0.0,3.8984587488667275],[0.0,0.0,39.674267100977204,41.82410423452769,39.54397394136808,39.54397394136808,34.527687296416936,0.0,34.527687296416936,33.811074918566774,33.94136807817589,33.94136807817589,34.33224755700326,34.00651465798046,34.85342019543974,35.04885993485342,36.2214983713355,36.02605863192183,36.807817589576544,56.93811074918567,0.0,56.93811074918567,56.93811074918567,56.93811074918567,56.93811074918567,56.93811074918567,56.93811074918567,0.0,0.0,0.0,0.0,0.0,0.0,0.0,0.0,0.0,34.527687296416936],[0.0,0.0,0.0,0.0,5.110173464603844,5.110173464603844,1.6877637130801686,0.0,1.6877637130801686,4.125644631973746,4.50070323488045,4.922644163150492,5.063291139240507,4.594467885607126,5.719643694327239,5.954055321143929,5.954055321143929,5.625879043600563,7.032348804500703,16.78387248007501,0.0,18.70604781997187,18.70604781997187,18.70604781997187,18.70604781997187,18.70604781997187,18.70604781997187,0.0,0.0,0.0,0.0,0.0,0.0,0.0,0.0,0.0,1.6877637130801686],[0.0,0.0,0.017041581458759374,0.017041581458759374,100.0,100.0,4.192229038854806,0.0,4.192229038854806,71.60872528970688,71.7280163599182,72.11997273346967,73.0231765507839,72.42672119972734,73.55146557600546,73.60259032038174,100.0,100.0,100.0,54.277436946148605,0.0,54.277436946148605,54.277436946148605,54.277436946148605,54.277436946148605,54.277436946148605,54.277436946148605,0.0,0.0,0.0,0.0,0.0,0.0,0.0,0.0,0.0,4.192229038854806],[0.0,0.0,6.59090909090909,6.59090909090909,8.409090909090908,8.409090909090908,6.59090909090909,0.0,6.59090909090909,5.0,5.0,5.0,5.0,5.0,5.0,5.0,4.545454545454546,4.545454545454546,100.0,17.727272727272727,100.0,100.0,100.0,100.0,100.0,100.0,100.0,100.0,100.0,100.0,100.0,100.0,100.0,100.0,100.0,100.0,6.59090909090909],[0.0,0.0,0.1949317738791423,0.3898635477582846,0.1949317738791423,0.1949317738791423,1.364522417153996,0.0,1.364522417153996,0.1949317738791423,0.1949317738791423,0.3898635477582846,0.3898635477582846,0.1949317738791423,0.5847953216374269,0.5847953216374269,0.1949317738791423,0.1949317738791423,0.1949317738791423,43.66471734892787,0.0,43.66471734892787,43.66471734892787,43.66471734892787,43.66471734892787,43.66471734892787,43.66471734892787,0.0,0.0,0.0,0.0,0.0,0.0,0.0,0.0,0.0,1.364522417153996],[0.0,0.0,0.0,0.0,1.4084507042253522,1.4084507042253522,2.2535211267605635,0.0,2.2535211267605635,0.0,0.28169014084507044,0.28169014084507044,0.28169014084507044,0.0,0.5633802816901409,0.8450704225352111,0.5633802816901409,0.5633802816901409,1.1267605633802817,24.788732394366196,0.0,67.88732394366197,67.88732394366197,67.88732394366197,67.88732394366197,67.88732394366197,67.88732394366197,0.0,0.0,0.0,0.0,0.0,0.0,100.0,100.0,100.0,2.2535211267605635],[0.0,0.0,0.06671114076050699,0.0,10.206804536357572,10.206804536357572,0.0,0.0,0.0,0.0,0.0,0.0,0.0,0.0,0.0,0.0,0.0,0.0,0.0,11.207471647765177,0.0,11.207471647765177,11.207471647765177,11.207471647765177,11.207471647765177,11.207471647765177,11.207471647765177,0.0,0.0,0.0,0.0,0.0,0.0,0.0,0.0,0.0,0.0]],\"type\":\"heatmap\",\"xaxis\":\"x\",\"yaxis\":\"y\",\"hovertemplate\":\"x: %{x}<br>y: %{y}<br>% Missing: %{z}<extra></extra>\"}],                        {\"template\":{\"data\":{\"histogram2dcontour\":[{\"type\":\"histogram2dcontour\",\"colorbar\":{\"outlinewidth\":0,\"ticks\":\"\"},\"colorscale\":[[0.0,\"#0d0887\"],[0.1111111111111111,\"#46039f\"],[0.2222222222222222,\"#7201a8\"],[0.3333333333333333,\"#9c179e\"],[0.4444444444444444,\"#bd3786\"],[0.5555555555555556,\"#d8576b\"],[0.6666666666666666,\"#ed7953\"],[0.7777777777777778,\"#fb9f3a\"],[0.8888888888888888,\"#fdca26\"],[1.0,\"#f0f921\"]]}],\"choropleth\":[{\"type\":\"choropleth\",\"colorbar\":{\"outlinewidth\":0,\"ticks\":\"\"}}],\"histogram2d\":[{\"type\":\"histogram2d\",\"colorbar\":{\"outlinewidth\":0,\"ticks\":\"\"},\"colorscale\":[[0.0,\"#0d0887\"],[0.1111111111111111,\"#46039f\"],[0.2222222222222222,\"#7201a8\"],[0.3333333333333333,\"#9c179e\"],[0.4444444444444444,\"#bd3786\"],[0.5555555555555556,\"#d8576b\"],[0.6666666666666666,\"#ed7953\"],[0.7777777777777778,\"#fb9f3a\"],[0.8888888888888888,\"#fdca26\"],[1.0,\"#f0f921\"]]}],\"heatmap\":[{\"type\":\"heatmap\",\"colorbar\":{\"outlinewidth\":0,\"ticks\":\"\"},\"colorscale\":[[0.0,\"#0d0887\"],[0.1111111111111111,\"#46039f\"],[0.2222222222222222,\"#7201a8\"],[0.3333333333333333,\"#9c179e\"],[0.4444444444444444,\"#bd3786\"],[0.5555555555555556,\"#d8576b\"],[0.6666666666666666,\"#ed7953\"],[0.7777777777777778,\"#fb9f3a\"],[0.8888888888888888,\"#fdca26\"],[1.0,\"#f0f921\"]]}],\"heatmapgl\":[{\"type\":\"heatmapgl\",\"colorbar\":{\"outlinewidth\":0,\"ticks\":\"\"},\"colorscale\":[[0.0,\"#0d0887\"],[0.1111111111111111,\"#46039f\"],[0.2222222222222222,\"#7201a8\"],[0.3333333333333333,\"#9c179e\"],[0.4444444444444444,\"#bd3786\"],[0.5555555555555556,\"#d8576b\"],[0.6666666666666666,\"#ed7953\"],[0.7777777777777778,\"#fb9f3a\"],[0.8888888888888888,\"#fdca26\"],[1.0,\"#f0f921\"]]}],\"contourcarpet\":[{\"type\":\"contourcarpet\",\"colorbar\":{\"outlinewidth\":0,\"ticks\":\"\"}}],\"contour\":[{\"type\":\"contour\",\"colorbar\":{\"outlinewidth\":0,\"ticks\":\"\"},\"colorscale\":[[0.0,\"#0d0887\"],[0.1111111111111111,\"#46039f\"],[0.2222222222222222,\"#7201a8\"],[0.3333333333333333,\"#9c179e\"],[0.4444444444444444,\"#bd3786\"],[0.5555555555555556,\"#d8576b\"],[0.6666666666666666,\"#ed7953\"],[0.7777777777777778,\"#fb9f3a\"],[0.8888888888888888,\"#fdca26\"],[1.0,\"#f0f921\"]]}],\"surface\":[{\"type\":\"surface\",\"colorbar\":{\"outlinewidth\":0,\"ticks\":\"\"},\"colorscale\":[[0.0,\"#0d0887\"],[0.1111111111111111,\"#46039f\"],[0.2222222222222222,\"#7201a8\"],[0.3333333333333333,\"#9c179e\"],[0.4444444444444444,\"#bd3786\"],[0.5555555555555556,\"#d8576b\"],[0.6666666666666666,\"#ed7953\"],[0.7777777777777778,\"#fb9f3a\"],[0.8888888888888888,\"#fdca26\"],[1.0,\"#f0f921\"]]}],\"mesh3d\":[{\"type\":\"mesh3d\",\"colorbar\":{\"outlinewidth\":0,\"ticks\":\"\"}}],\"scatter\":[{\"fillpattern\":{\"fillmode\":\"overlay\",\"size\":10,\"solidity\":0.2},\"type\":\"scatter\"}],\"parcoords\":[{\"type\":\"parcoords\",\"line\":{\"colorbar\":{\"outlinewidth\":0,\"ticks\":\"\"}}}],\"scatterpolargl\":[{\"type\":\"scatterpolargl\",\"marker\":{\"colorbar\":{\"outlinewidth\":0,\"ticks\":\"\"}}}],\"bar\":[{\"error_x\":{\"color\":\"#2a3f5f\"},\"error_y\":{\"color\":\"#2a3f5f\"},\"marker\":{\"line\":{\"color\":\"#E5ECF6\",\"width\":0.5},\"pattern\":{\"fillmode\":\"overlay\",\"size\":10,\"solidity\":0.2}},\"type\":\"bar\"}],\"scattergeo\":[{\"type\":\"scattergeo\",\"marker\":{\"colorbar\":{\"outlinewidth\":0,\"ticks\":\"\"}}}],\"scatterpolar\":[{\"type\":\"scatterpolar\",\"marker\":{\"colorbar\":{\"outlinewidth\":0,\"ticks\":\"\"}}}],\"histogram\":[{\"marker\":{\"pattern\":{\"fillmode\":\"overlay\",\"size\":10,\"solidity\":0.2}},\"type\":\"histogram\"}],\"scattergl\":[{\"type\":\"scattergl\",\"marker\":{\"colorbar\":{\"outlinewidth\":0,\"ticks\":\"\"}}}],\"scatter3d\":[{\"type\":\"scatter3d\",\"line\":{\"colorbar\":{\"outlinewidth\":0,\"ticks\":\"\"}},\"marker\":{\"colorbar\":{\"outlinewidth\":0,\"ticks\":\"\"}}}],\"scattermapbox\":[{\"type\":\"scattermapbox\",\"marker\":{\"colorbar\":{\"outlinewidth\":0,\"ticks\":\"\"}}}],\"scatterternary\":[{\"type\":\"scatterternary\",\"marker\":{\"colorbar\":{\"outlinewidth\":0,\"ticks\":\"\"}}}],\"scattercarpet\":[{\"type\":\"scattercarpet\",\"marker\":{\"colorbar\":{\"outlinewidth\":0,\"ticks\":\"\"}}}],\"carpet\":[{\"aaxis\":{\"endlinecolor\":\"#2a3f5f\",\"gridcolor\":\"white\",\"linecolor\":\"white\",\"minorgridcolor\":\"white\",\"startlinecolor\":\"#2a3f5f\"},\"baxis\":{\"endlinecolor\":\"#2a3f5f\",\"gridcolor\":\"white\",\"linecolor\":\"white\",\"minorgridcolor\":\"white\",\"startlinecolor\":\"#2a3f5f\"},\"type\":\"carpet\"}],\"table\":[{\"cells\":{\"fill\":{\"color\":\"#EBF0F8\"},\"line\":{\"color\":\"white\"}},\"header\":{\"fill\":{\"color\":\"#C8D4E3\"},\"line\":{\"color\":\"white\"}},\"type\":\"table\"}],\"barpolar\":[{\"marker\":{\"line\":{\"color\":\"#E5ECF6\",\"width\":0.5},\"pattern\":{\"fillmode\":\"overlay\",\"size\":10,\"solidity\":0.2}},\"type\":\"barpolar\"}],\"pie\":[{\"automargin\":true,\"type\":\"pie\"}]},\"layout\":{\"autotypenumbers\":\"strict\",\"colorway\":[\"#636efa\",\"#EF553B\",\"#00cc96\",\"#ab63fa\",\"#FFA15A\",\"#19d3f3\",\"#FF6692\",\"#B6E880\",\"#FF97FF\",\"#FECB52\"],\"font\":{\"color\":\"#2a3f5f\"},\"hovermode\":\"closest\",\"hoverlabel\":{\"align\":\"left\"},\"paper_bgcolor\":\"white\",\"plot_bgcolor\":\"#E5ECF6\",\"polar\":{\"bgcolor\":\"#E5ECF6\",\"angularaxis\":{\"gridcolor\":\"white\",\"linecolor\":\"white\",\"ticks\":\"\"},\"radialaxis\":{\"gridcolor\":\"white\",\"linecolor\":\"white\",\"ticks\":\"\"}},\"ternary\":{\"bgcolor\":\"#E5ECF6\",\"aaxis\":{\"gridcolor\":\"white\",\"linecolor\":\"white\",\"ticks\":\"\"},\"baxis\":{\"gridcolor\":\"white\",\"linecolor\":\"white\",\"ticks\":\"\"},\"caxis\":{\"gridcolor\":\"white\",\"linecolor\":\"white\",\"ticks\":\"\"}},\"coloraxis\":{\"colorbar\":{\"outlinewidth\":0,\"ticks\":\"\"}},\"colorscale\":{\"sequential\":[[0.0,\"#0d0887\"],[0.1111111111111111,\"#46039f\"],[0.2222222222222222,\"#7201a8\"],[0.3333333333333333,\"#9c179e\"],[0.4444444444444444,\"#bd3786\"],[0.5555555555555556,\"#d8576b\"],[0.6666666666666666,\"#ed7953\"],[0.7777777777777778,\"#fb9f3a\"],[0.8888888888888888,\"#fdca26\"],[1.0,\"#f0f921\"]],\"sequentialminus\":[[0.0,\"#0d0887\"],[0.1111111111111111,\"#46039f\"],[0.2222222222222222,\"#7201a8\"],[0.3333333333333333,\"#9c179e\"],[0.4444444444444444,\"#bd3786\"],[0.5555555555555556,\"#d8576b\"],[0.6666666666666666,\"#ed7953\"],[0.7777777777777778,\"#fb9f3a\"],[0.8888888888888888,\"#fdca26\"],[1.0,\"#f0f921\"]],\"diverging\":[[0,\"#8e0152\"],[0.1,\"#c51b7d\"],[0.2,\"#de77ae\"],[0.3,\"#f1b6da\"],[0.4,\"#fde0ef\"],[0.5,\"#f7f7f7\"],[0.6,\"#e6f5d0\"],[0.7,\"#b8e186\"],[0.8,\"#7fbc41\"],[0.9,\"#4d9221\"],[1,\"#276419\"]]},\"xaxis\":{\"gridcolor\":\"white\",\"linecolor\":\"white\",\"ticks\":\"\",\"title\":{\"standoff\":15},\"zerolinecolor\":\"white\",\"automargin\":true,\"zerolinewidth\":2},\"yaxis\":{\"gridcolor\":\"white\",\"linecolor\":\"white\",\"ticks\":\"\",\"title\":{\"standoff\":15},\"zerolinecolor\":\"white\",\"automargin\":true,\"zerolinewidth\":2},\"scene\":{\"xaxis\":{\"backgroundcolor\":\"#E5ECF6\",\"gridcolor\":\"white\",\"linecolor\":\"white\",\"showbackground\":true,\"ticks\":\"\",\"zerolinecolor\":\"white\",\"gridwidth\":2},\"yaxis\":{\"backgroundcolor\":\"#E5ECF6\",\"gridcolor\":\"white\",\"linecolor\":\"white\",\"showbackground\":true,\"ticks\":\"\",\"zerolinecolor\":\"white\",\"gridwidth\":2},\"zaxis\":{\"backgroundcolor\":\"#E5ECF6\",\"gridcolor\":\"white\",\"linecolor\":\"white\",\"showbackground\":true,\"ticks\":\"\",\"zerolinecolor\":\"white\",\"gridwidth\":2}},\"shapedefaults\":{\"line\":{\"color\":\"#2a3f5f\"}},\"annotationdefaults\":{\"arrowcolor\":\"#2a3f5f\",\"arrowhead\":0,\"arrowwidth\":1},\"geo\":{\"bgcolor\":\"white\",\"landcolor\":\"#E5ECF6\",\"subunitcolor\":\"white\",\"showland\":true,\"showlakes\":true,\"lakecolor\":\"white\"},\"title\":{\"x\":0.05},\"mapbox\":{\"style\":\"light\"}}},\"xaxis\":{\"anchor\":\"y\",\"domain\":[0.0,1.0],\"title\":{\"text\":\"Column\"}},\"yaxis\":{\"anchor\":\"x\",\"domain\":[0.0,1.0],\"autorange\":\"reversed\"},\"coloraxis\":{\"colorbar\":{\"title\":{\"text\":\"% Missing\"}},\"colorscale\":[[0.0,\"#0d0887\"],[0.1111111111111111,\"#46039f\"],[0.2222222222222222,\"#7201a8\"],[0.3333333333333333,\"#9c179e\"],[0.4444444444444444,\"#bd3786\"],[0.5555555555555556,\"#d8576b\"],[0.6666666666666666,\"#ed7953\"],[0.7777777777777778,\"#fb9f3a\"],[0.8888888888888888,\"#fdca26\"],[1.0,\"#f0f921\"]]},\"title\":{\"text\":\"Percentage of Data Missing for Each Column by Country in Study 1\"},\"width\":1000,\"height\":650},                        {\"responsive\": true}                    ).then(function(){\n",
       "                            \n",
       "var gd = document.getElementById('ea1a4d0b-4a70-4aff-9be7-bb59e46ab082');\n",
       "var x = new MutationObserver(function (mutations, observer) {{\n",
       "        var display = window.getComputedStyle(gd).display;\n",
       "        if (!display || display === 'none') {{\n",
       "            console.log([gd, 'removed!']);\n",
       "            Plotly.purge(gd);\n",
       "            observer.disconnect();\n",
       "        }}\n",
       "}});\n",
       "\n",
       "// Listen for the removal of the full notebook cells\n",
       "var notebookContainer = gd.closest('#notebook-container');\n",
       "if (notebookContainer) {{\n",
       "    x.observe(notebookContainer, {childList: true});\n",
       "}}\n",
       "\n",
       "// Listen for the clearing of the current output cell\n",
       "var outputEl = gd.closest('.output');\n",
       "if (outputEl) {{\n",
       "    x.observe(outputEl, {childList: true});\n",
       "}}\n",
       "\n",
       "                        })                };                });            </script>        </div>"
      ]
     },
     "metadata": {},
     "output_type": "display_data"
    }
   ],
   "source": [
    "# Displaying with interactive heatmap\n",
    "fig = px.imshow(missing_by_country.T,\n",
    "                title='Percentage of Data Missing for Each Column by Country in Study 1',\n",
    "                labels={'color':'% Missing'},\n",
    "                aspect=\"auto\")\n",
    "fig.update_xaxes(title='Column')\n",
    "fig.update_layout(width=1000, height=650)\n",
    "fig.show()"
   ]
  },
  {
   "attachments": {
    "missing_data.png": {
     "image/png": "[encoded data removed]"
    }
   },
   "cell_type": "markdown",
   "id": "9d9861e2",
   "metadata": {},
   "source": [
    "![missing_data.png](attachment:missing_data.png)"
   ]
  },
  {
   "cell_type": "markdown",
   "id": "f8c76eaf",
   "metadata": {},
   "source": [
    "We can see some patterns in the missing data broken down by column and country:\n",
    "\n",
    "- The percentage of missing values in certain columns for a country seem to be correlated with the percentage missing in other columns. For example, each of the columns having to do with political party preferences on the left-right spectrum seem to have the same percentage of data missing for each country.\n",
    "- Iceland, Brazil, and Israel are missing 100% of the data for the above-mentioned columns having to do with political party preferences. These countries, along with Romania, are also missing 100% of data for columns representing the ruling party's location on the left-right spectrum.\n",
    "- Many other countries are missing relatively high proportions of the data for these political party preference columns (the highest being Croatia, which is missing ~85%).\n",
    "- Some countries are missing a high percentage of the data for our target variables (having to do with the CMQ). Germany is missing ~72% of data for all CMQ-related columns, and Turkey is missing about ~34% for those columns as well. Poland is missing ~35% of the data in the columns for the CMQ summary scores, `CM5x` and `CM4x`.\n",
    "- Germany is also missing 100% of the data on education status as well as all of the data from the 'CT' columns, representing the respondant's endorsement of country-specific conspiracy theories. Israel is missing just `CT_neutral`, the version of this variable for 'politcally neutral' conspiracy theories.\n",
    "- Many countries are missing a high proportion of `Winner_state` (the highest being Croatia, with ~85% missing) which represents whether the respondant's preferred political party was currently in power.\n"
   ]
  },
  {
   "cell_type": "markdown",
   "id": "769fae43",
   "metadata": {},
   "source": [
    "Before proceeding with modelling the data, we will need to decide how to deal with the missing values. For certain modelling purposes, we might be able to exclude certain columns and/or rows; for others, we might need to impute the missing values."
   ]
  },
  {
   "cell_type": "markdown",
   "id": "bd7cbdbf",
   "metadata": {},
   "source": [
    "#### 2.2 - Missing Values in the Second Dataset"
   ]
  },
  {
   "cell_type": "markdown",
   "id": "01c99978",
   "metadata": {},
   "source": [
    "Now we will repeat this process for the second study."
   ]
  },
  {
   "cell_type": "code",
   "execution_count": 92,
   "id": "2284ff3e",
   "metadata": {},
   "outputs": [
    {
     "data": {
      "text/html": [
       "<div>\n",
       "<style scoped>\n",
       "    .dataframe tbody tr th:only-of-type {\n",
       "        vertical-align: middle;\n",
       "    }\n",
       "\n",
       "    .dataframe tbody tr th {\n",
       "        vertical-align: top;\n",
       "    }\n",
       "\n",
       "    .dataframe thead th {\n",
       "        text-align: right;\n",
       "    }\n",
       "</style>\n",
       "<table border=\"1\" class=\"dataframe\">\n",
       "  <thead>\n",
       "    <tr style=\"text-align: right;\">\n",
       "      <th></th>\n",
       "      <th>CM5x</th>\n",
       "      <th>CM4x</th>\n",
       "      <th>CMQ_4</th>\n",
       "      <th>CMQ_5</th>\n",
       "      <th>CMQ_3</th>\n",
       "      <th>CMQ_2</th>\n",
       "      <th>CMQ_1</th>\n",
       "      <th>lrgen</th>\n",
       "      <th>zgaltan</th>\n",
       "      <th>zlrecon</th>\n",
       "      <th>zlrgen</th>\n",
       "      <th>galtan</th>\n",
       "      <th>lrecon</th>\n",
       "      <th>Winner_state</th>\n",
       "      <th>Weights</th>\n",
       "      <th>Sex</th>\n",
       "      <th>Age</th>\n",
       "      <th>Pol_Ori</th>\n",
       "      <th>ZPO</th>\n",
       "      <th>CPO</th>\n",
       "      <th>Edu_high</th>\n",
       "      <th>Edu_low</th>\n",
       "      <th>CHES_version</th>\n",
       "      <th>ZmeanPO</th>\n",
       "      <th>Country</th>\n",
       "    </tr>\n",
       "  </thead>\n",
       "  <tbody>\n",
       "    <tr>\n",
       "      <th>percent_missing</th>\n",
       "      <td>42.29</td>\n",
       "      <td>42.22</td>\n",
       "      <td>41.15</td>\n",
       "      <td>41.15</td>\n",
       "      <td>40.96</td>\n",
       "      <td>40.95</td>\n",
       "      <td>40.34</td>\n",
       "      <td>38.14</td>\n",
       "      <td>38.14</td>\n",
       "      <td>38.14</td>\n",
       "      <td>38.14</td>\n",
       "      <td>38.14</td>\n",
       "      <td>38.14</td>\n",
       "      <td>27.34</td>\n",
       "      <td>25.65</td>\n",
       "      <td>19.72</td>\n",
       "      <td>18.52</td>\n",
       "      <td>17.79</td>\n",
       "      <td>17.79</td>\n",
       "      <td>17.79</td>\n",
       "      <td>0.08</td>\n",
       "      <td>0.08</td>\n",
       "      <td>0.0</td>\n",
       "      <td>0.0</td>\n",
       "      <td>0.0</td>\n",
       "    </tr>\n",
       "  </tbody>\n",
       "</table>\n",
       "</div>"
      ],
      "text/plain": [
       "                  CM5x   CM4x  CMQ_4  CMQ_5  CMQ_3  CMQ_2  CMQ_1  lrgen  \\\n",
       "percent_missing  42.29  42.22  41.15  41.15  40.96  40.95  40.34  38.14   \n",
       "\n",
       "                 zgaltan  zlrecon  zlrgen  galtan  lrecon  Winner_state  \\\n",
       "percent_missing    38.14    38.14   38.14   38.14   38.14         27.34   \n",
       "\n",
       "                 Weights    Sex    Age  Pol_Ori    ZPO    CPO  Edu_high  \\\n",
       "percent_missing    25.65  19.72  18.52    17.79  17.79  17.79      0.08   \n",
       "\n",
       "                 Edu_low  CHES_version  ZmeanPO  Country  \n",
       "percent_missing     0.08           0.0      0.0      0.0  "
      ]
     },
     "execution_count": 92,
     "metadata": {},
     "output_type": "execute_result"
    }
   ],
   "source": [
    "# Creating dataframe to show missing values in df2\n",
    "missing_values_df2 = pd.DataFrame({'percent_missing': round(df2.isnull().mean(),4)*100})\n",
    "\n",
    "\n",
    "# Displaying missing_values_df2 sorted by highest-to-lowest % missing\n",
    "missing_values_df2.sort_values(by='percent_missing', ascending=False).T"
   ]
  },
  {
   "cell_type": "markdown",
   "id": "8d8ede72",
   "metadata": {},
   "source": [
    "Again, we will take note of some of the patterns in the missing data:\n",
    "\n",
    "- The second dataset is missing a higher proportion of the values for the columns related to the CMQ (between ~40-42%) compared to the first dataset.\n",
    "- It is missing a relatively high proportion (~38%) of the values for `zgaltan`, `zlrecon`, `zlrgen`, `galtan`,  `lrecon`, and `lrgen`. These columns all encode information about respondants' political party preferences on various versions of a left-right spectrum (economic, general, and social) and the related Z-scores.\n",
    "- `Winner_state` is missing ~27% of the data (which again represents whether ther respondants' preferred party was currently in power).\n",
    "- Basic demographic information in `Age` and `Sex` is missing for more rows in dataset 2 (~18.5 to 20%) than dataset 1.\n",
    "- There is a `Weights` column for dataset 2 which did not exist in dataset 1. It is missing data in about 26% of rows.\n",
    "- A smaller amount of data is missing from `Edu_high` and `Edu_low` in this dataset (just under 1%).\n",
    "\n",
    "Again, we would like to see how the missing data looks when broken down by country."
   ]
  },
  {
   "cell_type": "code",
   "execution_count": 93,
   "id": "f479359c",
   "metadata": {
    "scrolled": true
   },
   "outputs": [
    {
     "data": {
      "text/html": [
       "<div>\n",
       "<style scoped>\n",
       "    .dataframe tbody tr th:only-of-type {\n",
       "        vertical-align: middle;\n",
       "    }\n",
       "\n",
       "    .dataframe tbody tr th {\n",
       "        vertical-align: top;\n",
       "    }\n",
       "\n",
       "    .dataframe thead th {\n",
       "        text-align: right;\n",
       "    }\n",
       "</style>\n",
       "<table border=\"1\" class=\"dataframe\">\n",
       "  <thead>\n",
       "    <tr style=\"text-align: right;\">\n",
       "      <th></th>\n",
       "      <th>Sweden</th>\n",
       "      <th>Spain</th>\n",
       "      <th>Romania</th>\n",
       "      <th>Portugal</th>\n",
       "      <th>Poland</th>\n",
       "      <th>Italy</th>\n",
       "      <th>Hungary</th>\n",
       "      <th>Germany</th>\n",
       "      <th>France</th>\n",
       "      <th>Denmark</th>\n",
       "      <th>Belgium-Wallonia</th>\n",
       "      <th>Belgium-Flanders</th>\n",
       "      <th>Austria</th>\n",
       "      <th>Netherlands</th>\n",
       "      <th>UK</th>\n",
       "    </tr>\n",
       "  </thead>\n",
       "  <tbody>\n",
       "    <tr>\n",
       "      <th>Weights</th>\n",
       "      <td>21.408046</td>\n",
       "      <td>11.859350</td>\n",
       "      <td>11.915297</td>\n",
       "      <td>37.976854</td>\n",
       "      <td>35.976419</td>\n",
       "      <td>47.531826</td>\n",
       "      <td>36.238045</td>\n",
       "      <td>23.032326</td>\n",
       "      <td>12.085952</td>\n",
       "      <td>48.071895</td>\n",
       "      <td>51.480836</td>\n",
       "      <td>40.459706</td>\n",
       "      <td>28.749271</td>\n",
       "      <td>4.308290</td>\n",
       "      <td>100.000000</td>\n",
       "    </tr>\n",
       "    <tr>\n",
       "      <th>Sex</th>\n",
       "      <td>19.458128</td>\n",
       "      <td>9.770911</td>\n",
       "      <td>9.702908</td>\n",
       "      <td>34.869267</td>\n",
       "      <td>32.173913</td>\n",
       "      <td>17.796830</td>\n",
       "      <td>33.772582</td>\n",
       "      <td>19.624034</td>\n",
       "      <td>9.818244</td>\n",
       "      <td>44.248366</td>\n",
       "      <td>49.883856</td>\n",
       "      <td>39.241207</td>\n",
       "      <td>24.528302</td>\n",
       "      <td>2.957535</td>\n",
       "      <td>5.238971</td>\n",
       "    </tr>\n",
       "    <tr>\n",
       "      <th>Age</th>\n",
       "      <td>17.631363</td>\n",
       "      <td>7.863612</td>\n",
       "      <td>9.276233</td>\n",
       "      <td>34.483498</td>\n",
       "      <td>32.011791</td>\n",
       "      <td>14.679137</td>\n",
       "      <td>33.368757</td>\n",
       "      <td>17.550949</td>\n",
       "      <td>9.062341</td>\n",
       "      <td>43.954248</td>\n",
       "      <td>48.838560</td>\n",
       "      <td>38.631958</td>\n",
       "      <td>22.252480</td>\n",
       "      <td>1.977576</td>\n",
       "      <td>6.158088</td>\n",
       "    </tr>\n",
       "    <tr>\n",
       "      <th>Country</th>\n",
       "      <td>0.000000</td>\n",
       "      <td>0.000000</td>\n",
       "      <td>0.000000</td>\n",
       "      <td>0.000000</td>\n",
       "      <td>0.000000</td>\n",
       "      <td>0.000000</td>\n",
       "      <td>0.000000</td>\n",
       "      <td>0.000000</td>\n",
       "      <td>0.000000</td>\n",
       "      <td>0.000000</td>\n",
       "      <td>0.000000</td>\n",
       "      <td>0.000000</td>\n",
       "      <td>0.000000</td>\n",
       "      <td>0.000000</td>\n",
       "      <td>0.000000</td>\n",
       "    </tr>\n",
       "    <tr>\n",
       "      <th>Pol_Ori</th>\n",
       "      <td>16.543514</td>\n",
       "      <td>7.192328</td>\n",
       "      <td>8.407080</td>\n",
       "      <td>34.569224</td>\n",
       "      <td>31.215917</td>\n",
       "      <td>14.211484</td>\n",
       "      <td>33.241233</td>\n",
       "      <td>16.303584</td>\n",
       "      <td>8.603703</td>\n",
       "      <td>44.150327</td>\n",
       "      <td>46.806039</td>\n",
       "      <td>36.001108</td>\n",
       "      <td>20.404591</td>\n",
       "      <td>0.273682</td>\n",
       "      <td>23.345588</td>\n",
       "    </tr>\n",
       "    <tr>\n",
       "      <th>CMQ_1</th>\n",
       "      <td>38.526273</td>\n",
       "      <td>45.221097</td>\n",
       "      <td>33.865360</td>\n",
       "      <td>34.290613</td>\n",
       "      <td>45.232130</td>\n",
       "      <td>43.907508</td>\n",
       "      <td>33.113709</td>\n",
       "      <td>44.606465</td>\n",
       "      <td>42.585358</td>\n",
       "      <td>44.150327</td>\n",
       "      <td>46.893148</td>\n",
       "      <td>36.638050</td>\n",
       "      <td>54.055631</td>\n",
       "      <td>29.345811</td>\n",
       "      <td>29.687500</td>\n",
       "    </tr>\n",
       "    <tr>\n",
       "      <th>CMQ_2</th>\n",
       "      <td>38.875205</td>\n",
       "      <td>45.551412</td>\n",
       "      <td>35.603666</td>\n",
       "      <td>34.590656</td>\n",
       "      <td>46.779661</td>\n",
       "      <td>44.284230</td>\n",
       "      <td>35.090329</td>\n",
       "      <td>45.274069</td>\n",
       "      <td>43.027009</td>\n",
       "      <td>44.542484</td>\n",
       "      <td>46.864111</td>\n",
       "      <td>36.610357</td>\n",
       "      <td>54.716981</td>\n",
       "      <td>29.416439</td>\n",
       "      <td>29.779412</td>\n",
       "    </tr>\n",
       "    <tr>\n",
       "      <th>CMQ_3</th>\n",
       "      <td>38.834154</td>\n",
       "      <td>45.530101</td>\n",
       "      <td>35.176991</td>\n",
       "      <td>34.633519</td>\n",
       "      <td>47.251290</td>\n",
       "      <td>44.453105</td>\n",
       "      <td>34.941552</td>\n",
       "      <td>45.028110</td>\n",
       "      <td>42.899609</td>\n",
       "      <td>44.901961</td>\n",
       "      <td>47.096400</td>\n",
       "      <td>36.748823</td>\n",
       "      <td>54.464112</td>\n",
       "      <td>29.557694</td>\n",
       "      <td>29.595588</td>\n",
       "    </tr>\n",
       "    <tr>\n",
       "      <th>CMQ_4</th>\n",
       "      <td>39.018883</td>\n",
       "      <td>45.604688</td>\n",
       "      <td>35.824905</td>\n",
       "      <td>34.954994</td>\n",
       "      <td>47.605011</td>\n",
       "      <td>44.375162</td>\n",
       "      <td>35.557917</td>\n",
       "      <td>45.291637</td>\n",
       "      <td>43.035502</td>\n",
       "      <td>44.901961</td>\n",
       "      <td>47.096400</td>\n",
       "      <td>36.638050</td>\n",
       "      <td>54.833690</td>\n",
       "      <td>29.610665</td>\n",
       "      <td>29.687500</td>\n",
       "    </tr>\n",
       "    <tr>\n",
       "      <th>CMQ_5</th>\n",
       "      <td>39.080460</td>\n",
       "      <td>45.562067</td>\n",
       "      <td>35.935525</td>\n",
       "      <td>34.933562</td>\n",
       "      <td>47.840825</td>\n",
       "      <td>44.427124</td>\n",
       "      <td>35.621679</td>\n",
       "      <td>45.344343</td>\n",
       "      <td>43.010022</td>\n",
       "      <td>45.032680</td>\n",
       "      <td>46.922184</td>\n",
       "      <td>36.638050</td>\n",
       "      <td>54.755884</td>\n",
       "      <td>29.434096</td>\n",
       "      <td>29.687500</td>\n",
       "    </tr>\n",
       "    <tr>\n",
       "      <th>Edu_low</th>\n",
       "      <td>0.000000</td>\n",
       "      <td>0.000000</td>\n",
       "      <td>0.000000</td>\n",
       "      <td>0.000000</td>\n",
       "      <td>0.000000</td>\n",
       "      <td>0.000000</td>\n",
       "      <td>0.000000</td>\n",
       "      <td>0.000000</td>\n",
       "      <td>0.000000</td>\n",
       "      <td>0.000000</td>\n",
       "      <td>0.000000</td>\n",
       "      <td>0.000000</td>\n",
       "      <td>0.000000</td>\n",
       "      <td>0.000000</td>\n",
       "      <td>6.341912</td>\n",
       "    </tr>\n",
       "    <tr>\n",
       "      <th>Edu_high</th>\n",
       "      <td>0.000000</td>\n",
       "      <td>0.000000</td>\n",
       "      <td>0.000000</td>\n",
       "      <td>0.000000</td>\n",
       "      <td>0.000000</td>\n",
       "      <td>0.000000</td>\n",
       "      <td>0.000000</td>\n",
       "      <td>0.000000</td>\n",
       "      <td>0.000000</td>\n",
       "      <td>0.000000</td>\n",
       "      <td>0.000000</td>\n",
       "      <td>0.000000</td>\n",
       "      <td>0.000000</td>\n",
       "      <td>0.000000</td>\n",
       "      <td>6.341912</td>\n",
       "    </tr>\n",
       "    <tr>\n",
       "      <th>Winner_state</th>\n",
       "      <td>20.894910</td>\n",
       "      <td>16.025573</td>\n",
       "      <td>21.333755</td>\n",
       "      <td>43.934848</td>\n",
       "      <td>35.431098</td>\n",
       "      <td>37.204469</td>\n",
       "      <td>39.766206</td>\n",
       "      <td>21.152495</td>\n",
       "      <td>27.263462</td>\n",
       "      <td>50.980392</td>\n",
       "      <td>53.484321</td>\n",
       "      <td>39.130435</td>\n",
       "      <td>27.873954</td>\n",
       "      <td>3.963980</td>\n",
       "      <td>29.136029</td>\n",
       "    </tr>\n",
       "    <tr>\n",
       "      <th>CHES_version</th>\n",
       "      <td>0.000000</td>\n",
       "      <td>0.000000</td>\n",
       "      <td>0.000000</td>\n",
       "      <td>0.000000</td>\n",
       "      <td>0.000000</td>\n",
       "      <td>0.000000</td>\n",
       "      <td>0.000000</td>\n",
       "      <td>0.000000</td>\n",
       "      <td>0.000000</td>\n",
       "      <td>0.000000</td>\n",
       "      <td>0.000000</td>\n",
       "      <td>0.000000</td>\n",
       "      <td>0.000000</td>\n",
       "      <td>0.000000</td>\n",
       "      <td>0.000000</td>\n",
       "    </tr>\n",
       "    <tr>\n",
       "      <th>lrgen</th>\n",
       "      <td>26.642036</td>\n",
       "      <td>28.279169</td>\n",
       "      <td>75.505689</td>\n",
       "      <td>49.399914</td>\n",
       "      <td>40.722181</td>\n",
       "      <td>65.133801</td>\n",
       "      <td>52.964931</td>\n",
       "      <td>24.472944</td>\n",
       "      <td>30.074741</td>\n",
       "      <td>60.620915</td>\n",
       "      <td>55.865273</td>\n",
       "      <td>41.096649</td>\n",
       "      <td>32.697919</td>\n",
       "      <td>5.756158</td>\n",
       "      <td>30.147059</td>\n",
       "    </tr>\n",
       "    <tr>\n",
       "      <th>lrecon</th>\n",
       "      <td>26.642036</td>\n",
       "      <td>28.279169</td>\n",
       "      <td>75.505689</td>\n",
       "      <td>49.399914</td>\n",
       "      <td>40.722181</td>\n",
       "      <td>65.133801</td>\n",
       "      <td>52.964931</td>\n",
       "      <td>24.472944</td>\n",
       "      <td>30.074741</td>\n",
       "      <td>60.620915</td>\n",
       "      <td>55.865273</td>\n",
       "      <td>41.096649</td>\n",
       "      <td>32.697919</td>\n",
       "      <td>5.756158</td>\n",
       "      <td>30.147059</td>\n",
       "    </tr>\n",
       "    <tr>\n",
       "      <th>galtan</th>\n",
       "      <td>26.642036</td>\n",
       "      <td>28.279169</td>\n",
       "      <td>75.505689</td>\n",
       "      <td>49.399914</td>\n",
       "      <td>40.722181</td>\n",
       "      <td>65.133801</td>\n",
       "      <td>52.964931</td>\n",
       "      <td>24.472944</td>\n",
       "      <td>30.074741</td>\n",
       "      <td>60.620915</td>\n",
       "      <td>55.865273</td>\n",
       "      <td>41.096649</td>\n",
       "      <td>32.697919</td>\n",
       "      <td>5.756158</td>\n",
       "      <td>30.147059</td>\n",
       "    </tr>\n",
       "    <tr>\n",
       "      <th>zlrgen</th>\n",
       "      <td>26.642036</td>\n",
       "      <td>28.279169</td>\n",
       "      <td>75.505689</td>\n",
       "      <td>49.399914</td>\n",
       "      <td>40.722181</td>\n",
       "      <td>65.133801</td>\n",
       "      <td>52.964931</td>\n",
       "      <td>24.472944</td>\n",
       "      <td>30.074741</td>\n",
       "      <td>60.620915</td>\n",
       "      <td>55.865273</td>\n",
       "      <td>41.096649</td>\n",
       "      <td>32.697919</td>\n",
       "      <td>5.756158</td>\n",
       "      <td>30.147059</td>\n",
       "    </tr>\n",
       "    <tr>\n",
       "      <th>zlrecon</th>\n",
       "      <td>26.642036</td>\n",
       "      <td>28.279169</td>\n",
       "      <td>75.505689</td>\n",
       "      <td>49.399914</td>\n",
       "      <td>40.722181</td>\n",
       "      <td>65.133801</td>\n",
       "      <td>52.964931</td>\n",
       "      <td>24.472944</td>\n",
       "      <td>30.074741</td>\n",
       "      <td>60.620915</td>\n",
       "      <td>55.865273</td>\n",
       "      <td>41.096649</td>\n",
       "      <td>32.697919</td>\n",
       "      <td>5.756158</td>\n",
       "      <td>30.147059</td>\n",
       "    </tr>\n",
       "    <tr>\n",
       "      <th>zgaltan</th>\n",
       "      <td>26.642036</td>\n",
       "      <td>28.279169</td>\n",
       "      <td>75.505689</td>\n",
       "      <td>49.399914</td>\n",
       "      <td>40.722181</td>\n",
       "      <td>65.133801</td>\n",
       "      <td>52.964931</td>\n",
       "      <td>24.472944</td>\n",
       "      <td>30.074741</td>\n",
       "      <td>60.620915</td>\n",
       "      <td>55.865273</td>\n",
       "      <td>41.096649</td>\n",
       "      <td>32.697919</td>\n",
       "      <td>5.756158</td>\n",
       "      <td>30.147059</td>\n",
       "    </tr>\n",
       "    <tr>\n",
       "      <th>ZPO</th>\n",
       "      <td>16.543514</td>\n",
       "      <td>7.192328</td>\n",
       "      <td>8.407080</td>\n",
       "      <td>34.569224</td>\n",
       "      <td>31.215917</td>\n",
       "      <td>14.211484</td>\n",
       "      <td>33.241233</td>\n",
       "      <td>16.303584</td>\n",
       "      <td>8.603703</td>\n",
       "      <td>44.150327</td>\n",
       "      <td>46.806039</td>\n",
       "      <td>36.001108</td>\n",
       "      <td>20.404591</td>\n",
       "      <td>0.273682</td>\n",
       "      <td>23.345588</td>\n",
       "    </tr>\n",
       "    <tr>\n",
       "      <th>ZmeanPO</th>\n",
       "      <td>0.000000</td>\n",
       "      <td>0.000000</td>\n",
       "      <td>0.000000</td>\n",
       "      <td>0.000000</td>\n",
       "      <td>0.000000</td>\n",
       "      <td>0.000000</td>\n",
       "      <td>0.000000</td>\n",
       "      <td>0.000000</td>\n",
       "      <td>0.000000</td>\n",
       "      <td>0.000000</td>\n",
       "      <td>0.000000</td>\n",
       "      <td>0.000000</td>\n",
       "      <td>0.000000</td>\n",
       "      <td>0.000000</td>\n",
       "      <td>0.000000</td>\n",
       "    </tr>\n",
       "    <tr>\n",
       "      <th>CM4x</th>\n",
       "      <td>39.860427</td>\n",
       "      <td>46.041556</td>\n",
       "      <td>37.847661</td>\n",
       "      <td>35.662237</td>\n",
       "      <td>49.786293</td>\n",
       "      <td>45.037672</td>\n",
       "      <td>38.809777</td>\n",
       "      <td>46.082221</td>\n",
       "      <td>43.664005</td>\n",
       "      <td>45.980392</td>\n",
       "      <td>47.735192</td>\n",
       "      <td>38.050402</td>\n",
       "      <td>55.689555</td>\n",
       "      <td>30.396398</td>\n",
       "      <td>30.238971</td>\n",
       "    </tr>\n",
       "    <tr>\n",
       "      <th>CM5x</th>\n",
       "      <td>39.983580</td>\n",
       "      <td>46.052211</td>\n",
       "      <td>37.926675</td>\n",
       "      <td>35.769396</td>\n",
       "      <td>49.830508</td>\n",
       "      <td>45.076643</td>\n",
       "      <td>39.001063</td>\n",
       "      <td>46.082221</td>\n",
       "      <td>43.672499</td>\n",
       "      <td>46.013072</td>\n",
       "      <td>47.851336</td>\n",
       "      <td>38.299640</td>\n",
       "      <td>55.767360</td>\n",
       "      <td>30.528825</td>\n",
       "      <td>30.422794</td>\n",
       "    </tr>\n",
       "    <tr>\n",
       "      <th>CPO</th>\n",
       "      <td>16.543514</td>\n",
       "      <td>7.192328</td>\n",
       "      <td>8.407080</td>\n",
       "      <td>34.569224</td>\n",
       "      <td>31.215917</td>\n",
       "      <td>14.211484</td>\n",
       "      <td>33.241233</td>\n",
       "      <td>16.303584</td>\n",
       "      <td>8.603703</td>\n",
       "      <td>44.150327</td>\n",
       "      <td>46.806039</td>\n",
       "      <td>36.001108</td>\n",
       "      <td>20.404591</td>\n",
       "      <td>0.273682</td>\n",
       "      <td>23.345588</td>\n",
       "    </tr>\n",
       "  </tbody>\n",
       "</table>\n",
       "</div>"
      ],
      "text/plain": [
       "                 Sweden      Spain    Romania   Portugal     Poland  \\\n",
       "Weights       21.408046  11.859350  11.915297  37.976854  35.976419   \n",
       "Sex           19.458128   9.770911   9.702908  34.869267  32.173913   \n",
       "Age           17.631363   7.863612   9.276233  34.483498  32.011791   \n",
       "Country        0.000000   0.000000   0.000000   0.000000   0.000000   \n",
       "Pol_Ori       16.543514   7.192328   8.407080  34.569224  31.215917   \n",
       "CMQ_1         38.526273  45.221097  33.865360  34.290613  45.232130   \n",
       "CMQ_2         38.875205  45.551412  35.603666  34.590656  46.779661   \n",
       "CMQ_3         38.834154  45.530101  35.176991  34.633519  47.251290   \n",
       "CMQ_4         39.018883  45.604688  35.824905  34.954994  47.605011   \n",
       "CMQ_5         39.080460  45.562067  35.935525  34.933562  47.840825   \n",
       "Edu_low        0.000000   0.000000   0.000000   0.000000   0.000000   \n",
       "Edu_high       0.000000   0.000000   0.000000   0.000000   0.000000   \n",
       "Winner_state  20.894910  16.025573  21.333755  43.934848  35.431098   \n",
       "CHES_version   0.000000   0.000000   0.000000   0.000000   0.000000   \n",
       "lrgen         26.642036  28.279169  75.505689  49.399914  40.722181   \n",
       "lrecon        26.642036  28.279169  75.505689  49.399914  40.722181   \n",
       "galtan        26.642036  28.279169  75.505689  49.399914  40.722181   \n",
       "zlrgen        26.642036  28.279169  75.505689  49.399914  40.722181   \n",
       "zlrecon       26.642036  28.279169  75.505689  49.399914  40.722181   \n",
       "zgaltan       26.642036  28.279169  75.505689  49.399914  40.722181   \n",
       "ZPO           16.543514   7.192328   8.407080  34.569224  31.215917   \n",
       "ZmeanPO        0.000000   0.000000   0.000000   0.000000   0.000000   \n",
       "CM4x          39.860427  46.041556  37.847661  35.662237  49.786293   \n",
       "CM5x          39.983580  46.052211  37.926675  35.769396  49.830508   \n",
       "CPO           16.543514   7.192328   8.407080  34.569224  31.215917   \n",
       "\n",
       "                  Italy    Hungary    Germany     France    Denmark  \\\n",
       "Weights       47.531826  36.238045  23.032326  12.085952  48.071895   \n",
       "Sex           17.796830  33.772582  19.624034   9.818244  44.248366   \n",
       "Age           14.679137  33.368757  17.550949   9.062341  43.954248   \n",
       "Country        0.000000   0.000000   0.000000   0.000000   0.000000   \n",
       "Pol_Ori       14.211484  33.241233  16.303584   8.603703  44.150327   \n",
       "CMQ_1         43.907508  33.113709  44.606465  42.585358  44.150327   \n",
       "CMQ_2         44.284230  35.090329  45.274069  43.027009  44.542484   \n",
       "CMQ_3         44.453105  34.941552  45.028110  42.899609  44.901961   \n",
       "CMQ_4         44.375162  35.557917  45.291637  43.035502  44.901961   \n",
       "CMQ_5         44.427124  35.621679  45.344343  43.010022  45.032680   \n",
       "Edu_low        0.000000   0.000000   0.000000   0.000000   0.000000   \n",
       "Edu_high       0.000000   0.000000   0.000000   0.000000   0.000000   \n",
       "Winner_state  37.204469  39.766206  21.152495  27.263462  50.980392   \n",
       "CHES_version   0.000000   0.000000   0.000000   0.000000   0.000000   \n",
       "lrgen         65.133801  52.964931  24.472944  30.074741  60.620915   \n",
       "lrecon        65.133801  52.964931  24.472944  30.074741  60.620915   \n",
       "galtan        65.133801  52.964931  24.472944  30.074741  60.620915   \n",
       "zlrgen        65.133801  52.964931  24.472944  30.074741  60.620915   \n",
       "zlrecon       65.133801  52.964931  24.472944  30.074741  60.620915   \n",
       "zgaltan       65.133801  52.964931  24.472944  30.074741  60.620915   \n",
       "ZPO           14.211484  33.241233  16.303584   8.603703  44.150327   \n",
       "ZmeanPO        0.000000   0.000000   0.000000   0.000000   0.000000   \n",
       "CM4x          45.037672  38.809777  46.082221  43.664005  45.980392   \n",
       "CM5x          45.076643  39.001063  46.082221  43.672499  46.013072   \n",
       "CPO           14.211484  33.241233  16.303584   8.603703  44.150327   \n",
       "\n",
       "              Belgium-Wallonia  Belgium-Flanders    Austria  Netherlands  \\\n",
       "Weights              51.480836         40.459706  28.749271     4.308290   \n",
       "Sex                  49.883856         39.241207  24.528302     2.957535   \n",
       "Age                  48.838560         38.631958  22.252480     1.977576   \n",
       "Country               0.000000          0.000000   0.000000     0.000000   \n",
       "Pol_Ori              46.806039         36.001108  20.404591     0.273682   \n",
       "CMQ_1                46.893148         36.638050  54.055631    29.345811   \n",
       "CMQ_2                46.864111         36.610357  54.716981    29.416439   \n",
       "CMQ_3                47.096400         36.748823  54.464112    29.557694   \n",
       "CMQ_4                47.096400         36.638050  54.833690    29.610665   \n",
       "CMQ_5                46.922184         36.638050  54.755884    29.434096   \n",
       "Edu_low               0.000000          0.000000   0.000000     0.000000   \n",
       "Edu_high              0.000000          0.000000   0.000000     0.000000   \n",
       "Winner_state         53.484321         39.130435  27.873954     3.963980   \n",
       "CHES_version          0.000000          0.000000   0.000000     0.000000   \n",
       "lrgen                55.865273         41.096649  32.697919     5.756158   \n",
       "lrecon               55.865273         41.096649  32.697919     5.756158   \n",
       "galtan               55.865273         41.096649  32.697919     5.756158   \n",
       "zlrgen               55.865273         41.096649  32.697919     5.756158   \n",
       "zlrecon              55.865273         41.096649  32.697919     5.756158   \n",
       "zgaltan              55.865273         41.096649  32.697919     5.756158   \n",
       "ZPO                  46.806039         36.001108  20.404591     0.273682   \n",
       "ZmeanPO               0.000000          0.000000   0.000000     0.000000   \n",
       "CM4x                 47.735192         38.050402  55.689555    30.396398   \n",
       "CM5x                 47.851336         38.299640  55.767360    30.528825   \n",
       "CPO                  46.806039         36.001108  20.404591     0.273682   \n",
       "\n",
       "                      UK  \n",
       "Weights       100.000000  \n",
       "Sex             5.238971  \n",
       "Age             6.158088  \n",
       "Country         0.000000  \n",
       "Pol_Ori        23.345588  \n",
       "CMQ_1          29.687500  \n",
       "CMQ_2          29.779412  \n",
       "CMQ_3          29.595588  \n",
       "CMQ_4          29.687500  \n",
       "CMQ_5          29.687500  \n",
       "Edu_low         6.341912  \n",
       "Edu_high        6.341912  \n",
       "Winner_state   29.136029  \n",
       "CHES_version    0.000000  \n",
       "lrgen          30.147059  \n",
       "lrecon         30.147059  \n",
       "galtan         30.147059  \n",
       "zlrgen         30.147059  \n",
       "zlrecon        30.147059  \n",
       "zgaltan        30.147059  \n",
       "ZPO            23.345588  \n",
       "ZmeanPO         0.000000  \n",
       "CM4x           30.238971  \n",
       "CM5x           30.422794  \n",
       "CPO            23.345588  "
      ]
     },
     "metadata": {},
     "output_type": "display_data"
    }
   ],
   "source": [
    "# Creating dataframe for percent missing per column per country\n",
    "missing_dict2 = {}\n",
    "for country in df2['Country'].unique():\n",
    "    missing_dict2[country] = df2[df2['Country'] == country].isna().mean()*100\n",
    "\n",
    "missing_by_country2 = pd.DataFrame(missing_dict2)\n",
    "\n",
    "# Displaying the 'percent missing by country' dataframe\n",
    "display(missing_by_country2)"
   ]
  },
  {
   "cell_type": "code",
   "execution_count": 94,
   "id": "fdaf1c86",
   "metadata": {
    "scrolled": true
   },
   "outputs": [
    {
     "data": {
      "application/vnd.plotly.v1+json": {
       "config": {
        "plotlyServerURL": "https://plot.ly"
       },
       "data": [
        {
         "coloraxis": "coloraxis",
         "hovertemplate": "x: %{x}<br>y: %{y}<br>% Missing: %{z}<extra></extra>",
         "name": "0",
         "type": "heatmap",
         "x": [
          "Weights",
          "Sex",
          "Age",
          "Country",
          "Pol_Ori",
          "CMQ_1",
          "CMQ_2",
          "CMQ_3",
          "CMQ_4",
          "CMQ_5",
          "Edu_low",
          "Edu_high",
          "Winner_state",
          "CHES_version",
          "lrgen",
          "lrecon",
          "galtan",
          "zlrgen",
          "zlrecon",
          "zgaltan",
          "ZPO",
          "ZmeanPO",
          "CM4x",
          "CM5x",
          "CPO"
         ],
         "xaxis": "x",
         "y": [
          "Sweden",
          "Spain",
          "Romania",
          "Portugal",
          "Poland",
          "Italy",
          "Hungary",
          "Germany",
          "France",
          "Denmark",
          "Belgium-Wallonia",
          "Belgium-Flanders",
          "Austria",
          "Netherlands",
          "UK"
         ],
         "yaxis": "y",
         "z": [
          [
           21.408045977011493,
           19.458128078817737,
           17.631362889983578,
           0,
           16.54351395730706,
           38.526272577996714,
           38.8752052545156,
           38.83415435139573,
           39.01888341543514,
           39.08045977011494,
           0,
           0,
           20.894909688013136,
           0,
           26.642036124794743,
           26.642036124794743,
           26.642036124794743,
           26.642036124794743,
           26.642036124794743,
           26.642036124794743,
           16.54351395730706,
           0,
           39.860426929392446,
           39.983579638752055,
           16.54351395730706
          ],
          [
           11.859350026638253,
           9.770911028236547,
           7.863612147043154,
           0,
           7.192328183271178,
           45.22109749600426,
           45.55141182738412,
           45.530101225359616,
           45.60468833244539,
           45.56206712839638,
           0,
           0,
           16.02557272242941,
           0,
           28.279168886521045,
           28.279168886521045,
           28.279168886521045,
           28.279168886521045,
           28.279168886521045,
           28.279168886521045,
           7.192328183271178,
           0,
           46.041555673947784,
           46.05221097496005,
           7.192328183271178
          ],
          [
           11.915297092288244,
           9.70290771175727,
           9.27623261694058,
           0,
           8.4070796460177,
           33.8653603034134,
           35.60366624525916,
           35.176991150442475,
           35.82490518331226,
           35.93552465233881,
           0,
           0,
           21.333754740834387,
           0,
           75.50568900126422,
           75.50568900126422,
           75.50568900126422,
           75.50568900126422,
           75.50568900126422,
           75.50568900126422,
           8.4070796460177,
           0,
           37.84766118836915,
           37.92667509481669,
           8.4070796460177
          ],
          [
           37.97685383626232,
           34.86926703814831,
           34.48349764252036,
           0,
           34.56922417488212,
           34.29061294470639,
           34.59065580797257,
           34.633519074153455,
           34.95499357051008,
           34.93356193741963,
           0,
           0,
           43.93484783540506,
           0,
           49.39991427346764,
           49.39991427346764,
           49.39991427346764,
           49.39991427346764,
           49.39991427346764,
           49.39991427346764,
           34.56922417488212,
           0,
           35.662237462494645,
           35.76939562794685,
           34.56922417488212
          ],
          [
           35.97641857037583,
           32.17391304347826,
           32.01179071481208,
           0,
           31.215917464996316,
           45.23212969786293,
           46.779661016949156,
           47.251289609432575,
           47.60501105379514,
           47.840825350036845,
           0,
           0,
           35.43109801031687,
           0,
           40.722181282240236,
           40.722181282240236,
           40.722181282240236,
           40.722181282240236,
           40.722181282240236,
           40.722181282240236,
           31.215917464996316,
           0,
           49.786293294030955,
           49.83050847457628,
           31.215917464996316
          ],
          [
           47.53182644842816,
           17.796830345544297,
           14.679137438295662,
           0,
           14.211483502208367,
           43.907508443751624,
           44.28422967004417,
           44.453104702520136,
           44.37516237983892,
           44.427123928293064,
           0,
           0,
           37.20446869316706,
           0,
           65.13380098726942,
           65.13380098726942,
           65.13380098726942,
           65.13380098726942,
           65.13380098726942,
           65.13380098726942,
           14.211483502208367,
           0,
           45.03767212262925,
           45.076643283969865,
           14.211483502208367
          ],
          [
           36.23804463336875,
           33.77258235919235,
           33.36875664187035,
           0,
           33.24123273113709,
           33.11370882040382,
           35.090329436769395,
           34.94155154091392,
           35.557917109458025,
           35.621679064824654,
           0,
           0,
           39.76620616365569,
           0,
           52.96493092454835,
           52.96493092454835,
           52.96493092454835,
           52.96493092454835,
           52.96493092454835,
           52.96493092454835,
           33.24123273113709,
           0,
           38.80977683315622,
           39.00106269925611,
           33.24123273113709
          ],
          [
           23.032326071679552,
           19.624033731553055,
           17.550948699929727,
           0,
           16.303583977512297,
           44.60646521433591,
           45.27406886858749,
           45.02810962754744,
           45.29163738580464,
           45.34434293745608,
           0,
           0,
           21.152494729444836,
           0,
           24.47294448348559,
           24.47294448348559,
           24.47294448348559,
           24.47294448348559,
           24.47294448348559,
           24.47294448348559,
           16.303583977512297,
           0,
           46.08222066057625,
           46.08222066057625,
           16.303583977512297
          ],
          [
           12.085952097842705,
           9.818243587565822,
           9.062340750806863,
           0,
           8.603703074571088,
           42.58535756752166,
           43.02700866315611,
           42.89960930864617,
           43.035501953456766,
           43.010022082554784,
           0,
           0,
           27.263461865126548,
           0,
           30.07474095464583,
           30.07474095464583,
           30.07474095464583,
           30.07474095464583,
           30.07474095464583,
           30.07474095464583,
           8.603703074571088,
           0,
           43.664005435705796,
           43.67249872600645,
           8.603703074571088
          ],
          [
           48.071895424836605,
           44.248366013071895,
           43.95424836601307,
           0,
           44.15032679738562,
           44.15032679738562,
           44.54248366013072,
           44.90196078431373,
           44.90196078431373,
           45.032679738562095,
           0,
           0,
           50.98039215686274,
           0,
           60.62091503267973,
           60.62091503267973,
           60.62091503267973,
           60.62091503267973,
           60.62091503267973,
           60.62091503267973,
           44.15032679738562,
           0,
           45.98039215686274,
           46.01307189542484,
           44.15032679738562
          ],
          [
           51.480836236933804,
           49.88385598141696,
           48.83855981416957,
           0,
           46.80603948896632,
           46.893147502903595,
           46.864111498257834,
           47.09639953542393,
           47.09639953542393,
           46.922183507549356,
           0,
           0,
           53.484320557491294,
           0,
           55.86527293844367,
           55.86527293844367,
           55.86527293844367,
           55.86527293844367,
           55.86527293844367,
           55.86527293844367,
           46.80603948896632,
           0,
           47.73519163763066,
           47.851335656213706,
           46.80603948896632
          ],
          [
           40.45970645250623,
           39.24120742176682,
           38.63195790639712,
           0,
           36.00110772639158,
           36.638050401550814,
           36.610357241761285,
           36.74882304070894,
           36.638050401550814,
           36.638050401550814,
           0,
           0,
           39.130434782608695,
           0,
           41.09664912766547,
           41.09664912766547,
           41.09664912766547,
           41.09664912766547,
           41.09664912766547,
           41.09664912766547,
           36.00110772639158,
           0,
           38.05040155081695,
           38.299639988922735,
           36.00110772639158
          ],
          [
           28.749270569928033,
           24.528301886792452,
           22.2524800622447,
           0,
           20.404590546586267,
           54.05563120015561,
           54.71698113207547,
           54.46411204045906,
           54.83368994359075,
           54.75588406924723,
           0,
           0,
           27.873954483563505,
           0,
           32.69791869286131,
           32.69791869286131,
           32.69791869286131,
           32.69791869286131,
           32.69791869286131,
           32.69791869286131,
           20.404590546586267,
           0,
           55.689554561369384,
           55.767360435712895,
           20.404590546586267
          ],
          [
           4.3082899267237575,
           2.9575350931402844,
           1.9775757040699213,
           0,
           0.27368235190253376,
           29.3458108943233,
           29.416438598040077,
           29.557694005473646,
           29.610664783261235,
           29.43409552396928,
           0,
           0,
           3.9639798711044407,
           0,
           5.7561578529178075,
           5.7561578529178075,
           5.7561578529178075,
           5.7561578529178075,
           5.7561578529178075,
           5.7561578529178075,
           0.27368235190253376,
           0,
           30.396397987110447,
           30.52882493157941,
           0.27368235190253376
          ],
          [
           100,
           5.238970588235294,
           6.158088235294118,
           0,
           23.34558823529412,
           29.6875,
           29.77941176470588,
           29.59558823529412,
           29.6875,
           29.6875,
           6.341911764705882,
           6.341911764705882,
           29.136029411764707,
           0,
           30.14705882352941,
           30.14705882352941,
           30.14705882352941,
           30.14705882352941,
           30.14705882352941,
           30.14705882352941,
           23.34558823529412,
           0,
           30.238970588235293,
           30.422794117647058,
           23.34558823529412
          ]
         ]
        }
       ],
       "layout": {
        "coloraxis": {
         "colorbar": {
          "title": {
           "text": "% Missing"
          }
         },
         "colorscale": [
          [
           0,
           "#0d0887"
          ],
          [
           0.1111111111111111,
           "#46039f"
          ],
          [
           0.2222222222222222,
           "#7201a8"
          ],
          [
           0.3333333333333333,
           "#9c179e"
          ],
          [
           0.4444444444444444,
           "#bd3786"
          ],
          [
           0.5555555555555556,
           "#d8576b"
          ],
          [
           0.6666666666666666,
           "#ed7953"
          ],
          [
           0.7777777777777778,
           "#fb9f3a"
          ],
          [
           0.8888888888888888,
           "#fdca26"
          ],
          [
           1,
           "#f0f921"
          ]
         ]
        },
        "height": 650,
        "template": {
         "data": {
          "bar": [
           {
            "error_x": {
             "color": "#2a3f5f"
            },
            "error_y": {
             "color": "#2a3f5f"
            },
            "marker": {
             "line": {
              "color": "#E5ECF6",
              "width": 0.5
             },
             "pattern": {
              "fillmode": "overlay",
              "size": 10,
              "solidity": 0.2
             }
            },
            "type": "bar"
           }
          ],
          "barpolar": [
           {
            "marker": {
             "line": {
              "color": "#E5ECF6",
              "width": 0.5
             },
             "pattern": {
              "fillmode": "overlay",
              "size": 10,
              "solidity": 0.2
             }
            },
            "type": "barpolar"
           }
          ],
          "carpet": [
           {
            "aaxis": {
             "endlinecolor": "#2a3f5f",
             "gridcolor": "white",
             "linecolor": "white",
             "minorgridcolor": "white",
             "startlinecolor": "#2a3f5f"
            },
            "baxis": {
             "endlinecolor": "#2a3f5f",
             "gridcolor": "white",
             "linecolor": "white",
             "minorgridcolor": "white",
             "startlinecolor": "#2a3f5f"
            },
            "type": "carpet"
           }
          ],
          "choropleth": [
           {
            "colorbar": {
             "outlinewidth": 0,
             "ticks": ""
            },
            "type": "choropleth"
           }
          ],
          "contour": [
           {
            "colorbar": {
             "outlinewidth": 0,
             "ticks": ""
            },
            "colorscale": [
             [
              0,
              "#0d0887"
             ],
             [
              0.1111111111111111,
              "#46039f"
             ],
             [
              0.2222222222222222,
              "#7201a8"
             ],
             [
              0.3333333333333333,
              "#9c179e"
             ],
             [
              0.4444444444444444,
              "#bd3786"
             ],
             [
              0.5555555555555556,
              "#d8576b"
             ],
             [
              0.6666666666666666,
              "#ed7953"
             ],
             [
              0.7777777777777778,
              "#fb9f3a"
             ],
             [
              0.8888888888888888,
              "#fdca26"
             ],
             [
              1,
              "#f0f921"
             ]
            ],
            "type": "contour"
           }
          ],
          "contourcarpet": [
           {
            "colorbar": {
             "outlinewidth": 0,
             "ticks": ""
            },
            "type": "contourcarpet"
           }
          ],
          "heatmap": [
           {
            "colorbar": {
             "outlinewidth": 0,
             "ticks": ""
            },
            "colorscale": [
             [
              0,
              "#0d0887"
             ],
             [
              0.1111111111111111,
              "#46039f"
             ],
             [
              0.2222222222222222,
              "#7201a8"
             ],
             [
              0.3333333333333333,
              "#9c179e"
             ],
             [
              0.4444444444444444,
              "#bd3786"
             ],
             [
              0.5555555555555556,
              "#d8576b"
             ],
             [
              0.6666666666666666,
              "#ed7953"
             ],
             [
              0.7777777777777778,
              "#fb9f3a"
             ],
             [
              0.8888888888888888,
              "#fdca26"
             ],
             [
              1,
              "#f0f921"
             ]
            ],
            "type": "heatmap"
           }
          ],
          "heatmapgl": [
           {
            "colorbar": {
             "outlinewidth": 0,
             "ticks": ""
            },
            "colorscale": [
             [
              0,
              "#0d0887"
             ],
             [
              0.1111111111111111,
              "#46039f"
             ],
             [
              0.2222222222222222,
              "#7201a8"
             ],
             [
              0.3333333333333333,
              "#9c179e"
             ],
             [
              0.4444444444444444,
              "#bd3786"
             ],
             [
              0.5555555555555556,
              "#d8576b"
             ],
             [
              0.6666666666666666,
              "#ed7953"
             ],
             [
              0.7777777777777778,
              "#fb9f3a"
             ],
             [
              0.8888888888888888,
              "#fdca26"
             ],
             [
              1,
              "#f0f921"
             ]
            ],
            "type": "heatmapgl"
           }
          ],
          "histogram": [
           {
            "marker": {
             "pattern": {
              "fillmode": "overlay",
              "size": 10,
              "solidity": 0.2
             }
            },
            "type": "histogram"
           }
          ],
          "histogram2d": [
           {
            "colorbar": {
             "outlinewidth": 0,
             "ticks": ""
            },
            "colorscale": [
             [
              0,
              "#0d0887"
             ],
             [
              0.1111111111111111,
              "#46039f"
             ],
             [
              0.2222222222222222,
              "#7201a8"
             ],
             [
              0.3333333333333333,
              "#9c179e"
             ],
             [
              0.4444444444444444,
              "#bd3786"
             ],
             [
              0.5555555555555556,
              "#d8576b"
             ],
             [
              0.6666666666666666,
              "#ed7953"
             ],
             [
              0.7777777777777778,
              "#fb9f3a"
             ],
             [
              0.8888888888888888,
              "#fdca26"
             ],
             [
              1,
              "#f0f921"
             ]
            ],
            "type": "histogram2d"
           }
          ],
          "histogram2dcontour": [
           {
            "colorbar": {
             "outlinewidth": 0,
             "ticks": ""
            },
            "colorscale": [
             [
              0,
              "#0d0887"
             ],
             [
              0.1111111111111111,
              "#46039f"
             ],
             [
              0.2222222222222222,
              "#7201a8"
             ],
             [
              0.3333333333333333,
              "#9c179e"
             ],
             [
              0.4444444444444444,
              "#bd3786"
             ],
             [
              0.5555555555555556,
              "#d8576b"
             ],
             [
              0.6666666666666666,
              "#ed7953"
             ],
             [
              0.7777777777777778,
              "#fb9f3a"
             ],
             [
              0.8888888888888888,
              "#fdca26"
             ],
             [
              1,
              "#f0f921"
             ]
            ],
            "type": "histogram2dcontour"
           }
          ],
          "mesh3d": [
           {
            "colorbar": {
             "outlinewidth": 0,
             "ticks": ""
            },
            "type": "mesh3d"
           }
          ],
          "parcoords": [
           {
            "line": {
             "colorbar": {
              "outlinewidth": 0,
              "ticks": ""
             }
            },
            "type": "parcoords"
           }
          ],
          "pie": [
           {
            "automargin": true,
            "type": "pie"
           }
          ],
          "scatter": [
           {
            "fillpattern": {
             "fillmode": "overlay",
             "size": 10,
             "solidity": 0.2
            },
            "type": "scatter"
           }
          ],
          "scatter3d": [
           {
            "line": {
             "colorbar": {
              "outlinewidth": 0,
              "ticks": ""
             }
            },
            "marker": {
             "colorbar": {
              "outlinewidth": 0,
              "ticks": ""
             }
            },
            "type": "scatter3d"
           }
          ],
          "scattercarpet": [
           {
            "marker": {
             "colorbar": {
              "outlinewidth": 0,
              "ticks": ""
             }
            },
            "type": "scattercarpet"
           }
          ],
          "scattergeo": [
           {
            "marker": {
             "colorbar": {
              "outlinewidth": 0,
              "ticks": ""
             }
            },
            "type": "scattergeo"
           }
          ],
          "scattergl": [
           {
            "marker": {
             "colorbar": {
              "outlinewidth": 0,
              "ticks": ""
             }
            },
            "type": "scattergl"
           }
          ],
          "scattermapbox": [
           {
            "marker": {
             "colorbar": {
              "outlinewidth": 0,
              "ticks": ""
             }
            },
            "type": "scattermapbox"
           }
          ],
          "scatterpolar": [
           {
            "marker": {
             "colorbar": {
              "outlinewidth": 0,
              "ticks": ""
             }
            },
            "type": "scatterpolar"
           }
          ],
          "scatterpolargl": [
           {
            "marker": {
             "colorbar": {
              "outlinewidth": 0,
              "ticks": ""
             }
            },
            "type": "scatterpolargl"
           }
          ],
          "scatterternary": [
           {
            "marker": {
             "colorbar": {
              "outlinewidth": 0,
              "ticks": ""
             }
            },
            "type": "scatterternary"
           }
          ],
          "surface": [
           {
            "colorbar": {
             "outlinewidth": 0,
             "ticks": ""
            },
            "colorscale": [
             [
              0,
              "#0d0887"
             ],
             [
              0.1111111111111111,
              "#46039f"
             ],
             [
              0.2222222222222222,
              "#7201a8"
             ],
             [
              0.3333333333333333,
              "#9c179e"
             ],
             [
              0.4444444444444444,
              "#bd3786"
             ],
             [
              0.5555555555555556,
              "#d8576b"
             ],
             [
              0.6666666666666666,
              "#ed7953"
             ],
             [
              0.7777777777777778,
              "#fb9f3a"
             ],
             [
              0.8888888888888888,
              "#fdca26"
             ],
             [
              1,
              "#f0f921"
             ]
            ],
            "type": "surface"
           }
          ],
          "table": [
           {
            "cells": {
             "fill": {
              "color": "#EBF0F8"
             },
             "line": {
              "color": "white"
             }
            },
            "header": {
             "fill": {
              "color": "#C8D4E3"
             },
             "line": {
              "color": "white"
             }
            },
            "type": "table"
           }
          ]
         },
         "layout": {
          "annotationdefaults": {
           "arrowcolor": "#2a3f5f",
           "arrowhead": 0,
           "arrowwidth": 1
          },
          "autotypenumbers": "strict",
          "coloraxis": {
           "colorbar": {
            "outlinewidth": 0,
            "ticks": ""
           }
          },
          "colorscale": {
           "diverging": [
            [
             0,
             "#8e0152"
            ],
            [
             0.1,
             "#c51b7d"
            ],
            [
             0.2,
             "#de77ae"
            ],
            [
             0.3,
             "#f1b6da"
            ],
            [
             0.4,
             "#fde0ef"
            ],
            [
             0.5,
             "#f7f7f7"
            ],
            [
             0.6,
             "#e6f5d0"
            ],
            [
             0.7,
             "#b8e186"
            ],
            [
             0.8,
             "#7fbc41"
            ],
            [
             0.9,
             "#4d9221"
            ],
            [
             1,
             "#276419"
            ]
           ],
           "sequential": [
            [
             0,
             "#0d0887"
            ],
            [
             0.1111111111111111,
             "#46039f"
            ],
            [
             0.2222222222222222,
             "#7201a8"
            ],
            [
             0.3333333333333333,
             "#9c179e"
            ],
            [
             0.4444444444444444,
             "#bd3786"
            ],
            [
             0.5555555555555556,
             "#d8576b"
            ],
            [
             0.6666666666666666,
             "#ed7953"
            ],
            [
             0.7777777777777778,
             "#fb9f3a"
            ],
            [
             0.8888888888888888,
             "#fdca26"
            ],
            [
             1,
             "#f0f921"
            ]
           ],
           "sequentialminus": [
            [
             0,
             "#0d0887"
            ],
            [
             0.1111111111111111,
             "#46039f"
            ],
            [
             0.2222222222222222,
             "#7201a8"
            ],
            [
             0.3333333333333333,
             "#9c179e"
            ],
            [
             0.4444444444444444,
             "#bd3786"
            ],
            [
             0.5555555555555556,
             "#d8576b"
            ],
            [
             0.6666666666666666,
             "#ed7953"
            ],
            [
             0.7777777777777778,
             "#fb9f3a"
            ],
            [
             0.8888888888888888,
             "#fdca26"
            ],
            [
             1,
             "#f0f921"
            ]
           ]
          },
          "colorway": [
           "#636efa",
           "#EF553B",
           "#00cc96",
           "#ab63fa",
           "#FFA15A",
           "#19d3f3",
           "#FF6692",
           "#B6E880",
           "#FF97FF",
           "#FECB52"
          ],
          "font": {
           "color": "#2a3f5f"
          },
          "geo": {
           "bgcolor": "white",
           "lakecolor": "white",
           "landcolor": "#E5ECF6",
           "showlakes": true,
           "showland": true,
           "subunitcolor": "white"
          },
          "hoverlabel": {
           "align": "left"
          },
          "hovermode": "closest",
          "mapbox": {
           "style": "light"
          },
          "paper_bgcolor": "white",
          "plot_bgcolor": "#E5ECF6",
          "polar": {
           "angularaxis": {
            "gridcolor": "white",
            "linecolor": "white",
            "ticks": ""
           },
           "bgcolor": "#E5ECF6",
           "radialaxis": {
            "gridcolor": "white",
            "linecolor": "white",
            "ticks": ""
           }
          },
          "scene": {
           "xaxis": {
            "backgroundcolor": "#E5ECF6",
            "gridcolor": "white",
            "gridwidth": 2,
            "linecolor": "white",
            "showbackground": true,
            "ticks": "",
            "zerolinecolor": "white"
           },
           "yaxis": {
            "backgroundcolor": "#E5ECF6",
            "gridcolor": "white",
            "gridwidth": 2,
            "linecolor": "white",
            "showbackground": true,
            "ticks": "",
            "zerolinecolor": "white"
           },
           "zaxis": {
            "backgroundcolor": "#E5ECF6",
            "gridcolor": "white",
            "gridwidth": 2,
            "linecolor": "white",
            "showbackground": true,
            "ticks": "",
            "zerolinecolor": "white"
           }
          },
          "shapedefaults": {
           "line": {
            "color": "#2a3f5f"
           }
          },
          "ternary": {
           "aaxis": {
            "gridcolor": "white",
            "linecolor": "white",
            "ticks": ""
           },
           "baxis": {
            "gridcolor": "white",
            "linecolor": "white",
            "ticks": ""
           },
           "bgcolor": "#E5ECF6",
           "caxis": {
            "gridcolor": "white",
            "linecolor": "white",
            "ticks": ""
           }
          },
          "title": {
           "x": 0.05
          },
          "xaxis": {
           "automargin": true,
           "gridcolor": "white",
           "linecolor": "white",
           "ticks": "",
           "title": {
            "standoff": 15
           },
           "zerolinecolor": "white",
           "zerolinewidth": 2
          },
          "yaxis": {
           "automargin": true,
           "gridcolor": "white",
           "linecolor": "white",
           "ticks": "",
           "title": {
            "standoff": 15
           },
           "zerolinecolor": "white",
           "zerolinewidth": 2
          }
         }
        },
        "title": {
         "text": "Percentage of Data Missing for Each Column by Country in Study 2"
        },
        "width": 1000,
        "xaxis": {
         "anchor": "y",
         "domain": [
          0,
          1
         ],
         "title": {
          "text": "Column"
         }
        },
        "yaxis": {
         "anchor": "x",
         "autorange": "reversed",
         "domain": [
          0,
          1
         ]
        }
       }
      },
      "text/html": [
       "<div>                            <div id=\"1a6214cc-92c4-4c1e-ad81-d51c86f0db77\" class=\"plotly-graph-div\" style=\"height:650px; width:1000px;\"></div>            <script type=\"text/javascript\">                require([\"plotly\"], function(Plotly) {                    window.PLOTLYENV=window.PLOTLYENV || {};                                    if (document.getElementById(\"1a6214cc-92c4-4c1e-ad81-d51c86f0db77\")) {                    Plotly.newPlot(                        \"1a6214cc-92c4-4c1e-ad81-d51c86f0db77\",                        [{\"coloraxis\":\"coloraxis\",\"name\":\"0\",\"x\":[\"Weights\",\"Sex\",\"Age\",\"Country\",\"Pol_Ori\",\"CMQ_1\",\"CMQ_2\",\"CMQ_3\",\"CMQ_4\",\"CMQ_5\",\"Edu_low\",\"Edu_high\",\"Winner_state\",\"CHES_version\",\"lrgen\",\"lrecon\",\"galtan\",\"zlrgen\",\"zlrecon\",\"zgaltan\",\"ZPO\",\"ZmeanPO\",\"CM4x\",\"CM5x\",\"CPO\"],\"y\":[\"Sweden\",\"Spain\",\"Romania\",\"Portugal\",\"Poland\",\"Italy\",\"Hungary\",\"Germany\",\"France\",\"Denmark\",\"Belgium-Wallonia\",\"Belgium-Flanders\",\"Austria\",\"Netherlands\",\"UK\"],\"z\":[[21.408045977011493,19.458128078817737,17.631362889983578,0.0,16.54351395730706,38.526272577996714,38.8752052545156,38.83415435139573,39.01888341543514,39.08045977011494,0.0,0.0,20.894909688013136,0.0,26.642036124794743,26.642036124794743,26.642036124794743,26.642036124794743,26.642036124794743,26.642036124794743,16.54351395730706,0.0,39.860426929392446,39.983579638752055,16.54351395730706],[11.859350026638253,9.770911028236547,7.863612147043154,0.0,7.192328183271178,45.22109749600426,45.55141182738412,45.530101225359616,45.60468833244539,45.56206712839638,0.0,0.0,16.02557272242941,0.0,28.279168886521045,28.279168886521045,28.279168886521045,28.279168886521045,28.279168886521045,28.279168886521045,7.192328183271178,0.0,46.041555673947784,46.05221097496005,7.192328183271178],[11.915297092288244,9.70290771175727,9.27623261694058,0.0,8.4070796460177,33.8653603034134,35.60366624525916,35.176991150442475,35.82490518331226,35.93552465233881,0.0,0.0,21.333754740834387,0.0,75.50568900126422,75.50568900126422,75.50568900126422,75.50568900126422,75.50568900126422,75.50568900126422,8.4070796460177,0.0,37.84766118836915,37.92667509481669,8.4070796460177],[37.97685383626232,34.86926703814831,34.48349764252036,0.0,34.56922417488212,34.29061294470639,34.59065580797257,34.633519074153455,34.95499357051008,34.93356193741963,0.0,0.0,43.93484783540506,0.0,49.39991427346764,49.39991427346764,49.39991427346764,49.39991427346764,49.39991427346764,49.39991427346764,34.56922417488212,0.0,35.662237462494645,35.76939562794685,34.56922417488212],[35.97641857037583,32.17391304347826,32.01179071481208,0.0,31.215917464996316,45.23212969786293,46.779661016949156,47.251289609432575,47.60501105379514,47.840825350036845,0.0,0.0,35.43109801031687,0.0,40.722181282240236,40.722181282240236,40.722181282240236,40.722181282240236,40.722181282240236,40.722181282240236,31.215917464996316,0.0,49.786293294030955,49.83050847457628,31.215917464996316],[47.53182644842816,17.796830345544297,14.679137438295662,0.0,14.211483502208367,43.907508443751624,44.28422967004417,44.453104702520136,44.37516237983892,44.427123928293064,0.0,0.0,37.20446869316706,0.0,65.13380098726942,65.13380098726942,65.13380098726942,65.13380098726942,65.13380098726942,65.13380098726942,14.211483502208367,0.0,45.03767212262925,45.076643283969865,14.211483502208367],[36.23804463336875,33.77258235919235,33.36875664187035,0.0,33.24123273113709,33.11370882040382,35.090329436769395,34.94155154091392,35.557917109458025,35.621679064824654,0.0,0.0,39.76620616365569,0.0,52.96493092454835,52.96493092454835,52.96493092454835,52.96493092454835,52.96493092454835,52.96493092454835,33.24123273113709,0.0,38.80977683315622,39.00106269925611,33.24123273113709],[23.032326071679552,19.624033731553055,17.550948699929727,0.0,16.303583977512297,44.60646521433591,45.27406886858749,45.02810962754744,45.29163738580464,45.34434293745608,0.0,0.0,21.152494729444836,0.0,24.47294448348559,24.47294448348559,24.47294448348559,24.47294448348559,24.47294448348559,24.47294448348559,16.303583977512297,0.0,46.08222066057625,46.08222066057625,16.303583977512297],[12.085952097842705,9.818243587565822,9.062340750806863,0.0,8.603703074571088,42.58535756752166,43.02700866315611,42.89960930864617,43.035501953456766,43.010022082554784,0.0,0.0,27.263461865126548,0.0,30.07474095464583,30.07474095464583,30.07474095464583,30.07474095464583,30.07474095464583,30.07474095464583,8.603703074571088,0.0,43.664005435705796,43.67249872600645,8.603703074571088],[48.071895424836605,44.248366013071895,43.95424836601307,0.0,44.15032679738562,44.15032679738562,44.54248366013072,44.90196078431373,44.90196078431373,45.032679738562095,0.0,0.0,50.98039215686274,0.0,60.62091503267973,60.62091503267973,60.62091503267973,60.62091503267973,60.62091503267973,60.62091503267973,44.15032679738562,0.0,45.98039215686274,46.01307189542484,44.15032679738562],[51.480836236933804,49.88385598141696,48.83855981416957,0.0,46.80603948896632,46.893147502903595,46.864111498257834,47.09639953542393,47.09639953542393,46.922183507549356,0.0,0.0,53.484320557491294,0.0,55.86527293844367,55.86527293844367,55.86527293844367,55.86527293844367,55.86527293844367,55.86527293844367,46.80603948896632,0.0,47.73519163763066,47.851335656213706,46.80603948896632],[40.45970645250623,39.24120742176682,38.63195790639712,0.0,36.00110772639158,36.638050401550814,36.610357241761285,36.74882304070894,36.638050401550814,36.638050401550814,0.0,0.0,39.130434782608695,0.0,41.09664912766547,41.09664912766547,41.09664912766547,41.09664912766547,41.09664912766547,41.09664912766547,36.00110772639158,0.0,38.05040155081695,38.299639988922735,36.00110772639158],[28.749270569928033,24.528301886792452,22.2524800622447,0.0,20.404590546586267,54.05563120015561,54.71698113207547,54.46411204045906,54.83368994359075,54.75588406924723,0.0,0.0,27.873954483563505,0.0,32.69791869286131,32.69791869286131,32.69791869286131,32.69791869286131,32.69791869286131,32.69791869286131,20.404590546586267,0.0,55.689554561369384,55.767360435712895,20.404590546586267],[4.3082899267237575,2.9575350931402844,1.9775757040699213,0.0,0.27368235190253376,29.3458108943233,29.416438598040077,29.557694005473646,29.610664783261235,29.43409552396928,0.0,0.0,3.9639798711044407,0.0,5.7561578529178075,5.7561578529178075,5.7561578529178075,5.7561578529178075,5.7561578529178075,5.7561578529178075,0.27368235190253376,0.0,30.396397987110447,30.52882493157941,0.27368235190253376],[100.0,5.238970588235294,6.158088235294118,0.0,23.34558823529412,29.6875,29.77941176470588,29.59558823529412,29.6875,29.6875,6.341911764705882,6.341911764705882,29.136029411764707,0.0,30.14705882352941,30.14705882352941,30.14705882352941,30.14705882352941,30.14705882352941,30.14705882352941,23.34558823529412,0.0,30.238970588235293,30.422794117647058,23.34558823529412]],\"type\":\"heatmap\",\"xaxis\":\"x\",\"yaxis\":\"y\",\"hovertemplate\":\"x: %{x}<br>y: %{y}<br>% Missing: %{z}<extra></extra>\"}],                        {\"template\":{\"data\":{\"histogram2dcontour\":[{\"type\":\"histogram2dcontour\",\"colorbar\":{\"outlinewidth\":0,\"ticks\":\"\"},\"colorscale\":[[0.0,\"#0d0887\"],[0.1111111111111111,\"#46039f\"],[0.2222222222222222,\"#7201a8\"],[0.3333333333333333,\"#9c179e\"],[0.4444444444444444,\"#bd3786\"],[0.5555555555555556,\"#d8576b\"],[0.6666666666666666,\"#ed7953\"],[0.7777777777777778,\"#fb9f3a\"],[0.8888888888888888,\"#fdca26\"],[1.0,\"#f0f921\"]]}],\"choropleth\":[{\"type\":\"choropleth\",\"colorbar\":{\"outlinewidth\":0,\"ticks\":\"\"}}],\"histogram2d\":[{\"type\":\"histogram2d\",\"colorbar\":{\"outlinewidth\":0,\"ticks\":\"\"},\"colorscale\":[[0.0,\"#0d0887\"],[0.1111111111111111,\"#46039f\"],[0.2222222222222222,\"#7201a8\"],[0.3333333333333333,\"#9c179e\"],[0.4444444444444444,\"#bd3786\"],[0.5555555555555556,\"#d8576b\"],[0.6666666666666666,\"#ed7953\"],[0.7777777777777778,\"#fb9f3a\"],[0.8888888888888888,\"#fdca26\"],[1.0,\"#f0f921\"]]}],\"heatmap\":[{\"type\":\"heatmap\",\"colorbar\":{\"outlinewidth\":0,\"ticks\":\"\"},\"colorscale\":[[0.0,\"#0d0887\"],[0.1111111111111111,\"#46039f\"],[0.2222222222222222,\"#7201a8\"],[0.3333333333333333,\"#9c179e\"],[0.4444444444444444,\"#bd3786\"],[0.5555555555555556,\"#d8576b\"],[0.6666666666666666,\"#ed7953\"],[0.7777777777777778,\"#fb9f3a\"],[0.8888888888888888,\"#fdca26\"],[1.0,\"#f0f921\"]]}],\"heatmapgl\":[{\"type\":\"heatmapgl\",\"colorbar\":{\"outlinewidth\":0,\"ticks\":\"\"},\"colorscale\":[[0.0,\"#0d0887\"],[0.1111111111111111,\"#46039f\"],[0.2222222222222222,\"#7201a8\"],[0.3333333333333333,\"#9c179e\"],[0.4444444444444444,\"#bd3786\"],[0.5555555555555556,\"#d8576b\"],[0.6666666666666666,\"#ed7953\"],[0.7777777777777778,\"#fb9f3a\"],[0.8888888888888888,\"#fdca26\"],[1.0,\"#f0f921\"]]}],\"contourcarpet\":[{\"type\":\"contourcarpet\",\"colorbar\":{\"outlinewidth\":0,\"ticks\":\"\"}}],\"contour\":[{\"type\":\"contour\",\"colorbar\":{\"outlinewidth\":0,\"ticks\":\"\"},\"colorscale\":[[0.0,\"#0d0887\"],[0.1111111111111111,\"#46039f\"],[0.2222222222222222,\"#7201a8\"],[0.3333333333333333,\"#9c179e\"],[0.4444444444444444,\"#bd3786\"],[0.5555555555555556,\"#d8576b\"],[0.6666666666666666,\"#ed7953\"],[0.7777777777777778,\"#fb9f3a\"],[0.8888888888888888,\"#fdca26\"],[1.0,\"#f0f921\"]]}],\"surface\":[{\"type\":\"surface\",\"colorbar\":{\"outlinewidth\":0,\"ticks\":\"\"},\"colorscale\":[[0.0,\"#0d0887\"],[0.1111111111111111,\"#46039f\"],[0.2222222222222222,\"#7201a8\"],[0.3333333333333333,\"#9c179e\"],[0.4444444444444444,\"#bd3786\"],[0.5555555555555556,\"#d8576b\"],[0.6666666666666666,\"#ed7953\"],[0.7777777777777778,\"#fb9f3a\"],[0.8888888888888888,\"#fdca26\"],[1.0,\"#f0f921\"]]}],\"mesh3d\":[{\"type\":\"mesh3d\",\"colorbar\":{\"outlinewidth\":0,\"ticks\":\"\"}}],\"scatter\":[{\"fillpattern\":{\"fillmode\":\"overlay\",\"size\":10,\"solidity\":0.2},\"type\":\"scatter\"}],\"parcoords\":[{\"type\":\"parcoords\",\"line\":{\"colorbar\":{\"outlinewidth\":0,\"ticks\":\"\"}}}],\"scatterpolargl\":[{\"type\":\"scatterpolargl\",\"marker\":{\"colorbar\":{\"outlinewidth\":0,\"ticks\":\"\"}}}],\"bar\":[{\"error_x\":{\"color\":\"#2a3f5f\"},\"error_y\":{\"color\":\"#2a3f5f\"},\"marker\":{\"line\":{\"color\":\"#E5ECF6\",\"width\":0.5},\"pattern\":{\"fillmode\":\"overlay\",\"size\":10,\"solidity\":0.2}},\"type\":\"bar\"}],\"scattergeo\":[{\"type\":\"scattergeo\",\"marker\":{\"colorbar\":{\"outlinewidth\":0,\"ticks\":\"\"}}}],\"scatterpolar\":[{\"type\":\"scatterpolar\",\"marker\":{\"colorbar\":{\"outlinewidth\":0,\"ticks\":\"\"}}}],\"histogram\":[{\"marker\":{\"pattern\":{\"fillmode\":\"overlay\",\"size\":10,\"solidity\":0.2}},\"type\":\"histogram\"}],\"scattergl\":[{\"type\":\"scattergl\",\"marker\":{\"colorbar\":{\"outlinewidth\":0,\"ticks\":\"\"}}}],\"scatter3d\":[{\"type\":\"scatter3d\",\"line\":{\"colorbar\":{\"outlinewidth\":0,\"ticks\":\"\"}},\"marker\":{\"colorbar\":{\"outlinewidth\":0,\"ticks\":\"\"}}}],\"scattermapbox\":[{\"type\":\"scattermapbox\",\"marker\":{\"colorbar\":{\"outlinewidth\":0,\"ticks\":\"\"}}}],\"scatterternary\":[{\"type\":\"scatterternary\",\"marker\":{\"colorbar\":{\"outlinewidth\":0,\"ticks\":\"\"}}}],\"scattercarpet\":[{\"type\":\"scattercarpet\",\"marker\":{\"colorbar\":{\"outlinewidth\":0,\"ticks\":\"\"}}}],\"carpet\":[{\"aaxis\":{\"endlinecolor\":\"#2a3f5f\",\"gridcolor\":\"white\",\"linecolor\":\"white\",\"minorgridcolor\":\"white\",\"startlinecolor\":\"#2a3f5f\"},\"baxis\":{\"endlinecolor\":\"#2a3f5f\",\"gridcolor\":\"white\",\"linecolor\":\"white\",\"minorgridcolor\":\"white\",\"startlinecolor\":\"#2a3f5f\"},\"type\":\"carpet\"}],\"table\":[{\"cells\":{\"fill\":{\"color\":\"#EBF0F8\"},\"line\":{\"color\":\"white\"}},\"header\":{\"fill\":{\"color\":\"#C8D4E3\"},\"line\":{\"color\":\"white\"}},\"type\":\"table\"}],\"barpolar\":[{\"marker\":{\"line\":{\"color\":\"#E5ECF6\",\"width\":0.5},\"pattern\":{\"fillmode\":\"overlay\",\"size\":10,\"solidity\":0.2}},\"type\":\"barpolar\"}],\"pie\":[{\"automargin\":true,\"type\":\"pie\"}]},\"layout\":{\"autotypenumbers\":\"strict\",\"colorway\":[\"#636efa\",\"#EF553B\",\"#00cc96\",\"#ab63fa\",\"#FFA15A\",\"#19d3f3\",\"#FF6692\",\"#B6E880\",\"#FF97FF\",\"#FECB52\"],\"font\":{\"color\":\"#2a3f5f\"},\"hovermode\":\"closest\",\"hoverlabel\":{\"align\":\"left\"},\"paper_bgcolor\":\"white\",\"plot_bgcolor\":\"#E5ECF6\",\"polar\":{\"bgcolor\":\"#E5ECF6\",\"angularaxis\":{\"gridcolor\":\"white\",\"linecolor\":\"white\",\"ticks\":\"\"},\"radialaxis\":{\"gridcolor\":\"white\",\"linecolor\":\"white\",\"ticks\":\"\"}},\"ternary\":{\"bgcolor\":\"#E5ECF6\",\"aaxis\":{\"gridcolor\":\"white\",\"linecolor\":\"white\",\"ticks\":\"\"},\"baxis\":{\"gridcolor\":\"white\",\"linecolor\":\"white\",\"ticks\":\"\"},\"caxis\":{\"gridcolor\":\"white\",\"linecolor\":\"white\",\"ticks\":\"\"}},\"coloraxis\":{\"colorbar\":{\"outlinewidth\":0,\"ticks\":\"\"}},\"colorscale\":{\"sequential\":[[0.0,\"#0d0887\"],[0.1111111111111111,\"#46039f\"],[0.2222222222222222,\"#7201a8\"],[0.3333333333333333,\"#9c179e\"],[0.4444444444444444,\"#bd3786\"],[0.5555555555555556,\"#d8576b\"],[0.6666666666666666,\"#ed7953\"],[0.7777777777777778,\"#fb9f3a\"],[0.8888888888888888,\"#fdca26\"],[1.0,\"#f0f921\"]],\"sequentialminus\":[[0.0,\"#0d0887\"],[0.1111111111111111,\"#46039f\"],[0.2222222222222222,\"#7201a8\"],[0.3333333333333333,\"#9c179e\"],[0.4444444444444444,\"#bd3786\"],[0.5555555555555556,\"#d8576b\"],[0.6666666666666666,\"#ed7953\"],[0.7777777777777778,\"#fb9f3a\"],[0.8888888888888888,\"#fdca26\"],[1.0,\"#f0f921\"]],\"diverging\":[[0,\"#8e0152\"],[0.1,\"#c51b7d\"],[0.2,\"#de77ae\"],[0.3,\"#f1b6da\"],[0.4,\"#fde0ef\"],[0.5,\"#f7f7f7\"],[0.6,\"#e6f5d0\"],[0.7,\"#b8e186\"],[0.8,\"#7fbc41\"],[0.9,\"#4d9221\"],[1,\"#276419\"]]},\"xaxis\":{\"gridcolor\":\"white\",\"linecolor\":\"white\",\"ticks\":\"\",\"title\":{\"standoff\":15},\"zerolinecolor\":\"white\",\"automargin\":true,\"zerolinewidth\":2},\"yaxis\":{\"gridcolor\":\"white\",\"linecolor\":\"white\",\"ticks\":\"\",\"title\":{\"standoff\":15},\"zerolinecolor\":\"white\",\"automargin\":true,\"zerolinewidth\":2},\"scene\":{\"xaxis\":{\"backgroundcolor\":\"#E5ECF6\",\"gridcolor\":\"white\",\"linecolor\":\"white\",\"showbackground\":true,\"ticks\":\"\",\"zerolinecolor\":\"white\",\"gridwidth\":2},\"yaxis\":{\"backgroundcolor\":\"#E5ECF6\",\"gridcolor\":\"white\",\"linecolor\":\"white\",\"showbackground\":true,\"ticks\":\"\",\"zerolinecolor\":\"white\",\"gridwidth\":2},\"zaxis\":{\"backgroundcolor\":\"#E5ECF6\",\"gridcolor\":\"white\",\"linecolor\":\"white\",\"showbackground\":true,\"ticks\":\"\",\"zerolinecolor\":\"white\",\"gridwidth\":2}},\"shapedefaults\":{\"line\":{\"color\":\"#2a3f5f\"}},\"annotationdefaults\":{\"arrowcolor\":\"#2a3f5f\",\"arrowhead\":0,\"arrowwidth\":1},\"geo\":{\"bgcolor\":\"white\",\"landcolor\":\"#E5ECF6\",\"subunitcolor\":\"white\",\"showland\":true,\"showlakes\":true,\"lakecolor\":\"white\"},\"title\":{\"x\":0.05},\"mapbox\":{\"style\":\"light\"}}},\"xaxis\":{\"anchor\":\"y\",\"domain\":[0.0,1.0],\"title\":{\"text\":\"Column\"}},\"yaxis\":{\"anchor\":\"x\",\"domain\":[0.0,1.0],\"autorange\":\"reversed\"},\"coloraxis\":{\"colorbar\":{\"title\":{\"text\":\"% Missing\"}},\"colorscale\":[[0.0,\"#0d0887\"],[0.1111111111111111,\"#46039f\"],[0.2222222222222222,\"#7201a8\"],[0.3333333333333333,\"#9c179e\"],[0.4444444444444444,\"#bd3786\"],[0.5555555555555556,\"#d8576b\"],[0.6666666666666666,\"#ed7953\"],[0.7777777777777778,\"#fb9f3a\"],[0.8888888888888888,\"#fdca26\"],[1.0,\"#f0f921\"]]},\"title\":{\"text\":\"Percentage of Data Missing for Each Column by Country in Study 2\"},\"width\":1000,\"height\":650},                        {\"responsive\": true}                    ).then(function(){\n",
       "                            \n",
       "var gd = document.getElementById('1a6214cc-92c4-4c1e-ad81-d51c86f0db77');\n",
       "var x = new MutationObserver(function (mutations, observer) {{\n",
       "        var display = window.getComputedStyle(gd).display;\n",
       "        if (!display || display === 'none') {{\n",
       "            console.log([gd, 'removed!']);\n",
       "            Plotly.purge(gd);\n",
       "            observer.disconnect();\n",
       "        }}\n",
       "}});\n",
       "\n",
       "// Listen for the removal of the full notebook cells\n",
       "var notebookContainer = gd.closest('#notebook-container');\n",
       "if (notebookContainer) {{\n",
       "    x.observe(notebookContainer, {childList: true});\n",
       "}}\n",
       "\n",
       "// Listen for the clearing of the current output cell\n",
       "var outputEl = gd.closest('.output');\n",
       "if (outputEl) {{\n",
       "    x.observe(outputEl, {childList: true});\n",
       "}}\n",
       "\n",
       "                        })                };                });            </script>        </div>"
      ]
     },
     "metadata": {},
     "output_type": "display_data"
    }
   ],
   "source": [
    "# Displaying missing data from dataset 2 with interactive heatmap\n",
    "fig = px.imshow(missing_by_country2.T,\n",
    "                title='Percentage of Data Missing for Each Column by Country in Study 2',\n",
    "                labels={'color':'% Missing'},\n",
    "                aspect=\"auto\")\n",
    "fig.update_xaxes(title='Column')\n",
    "fig.update_layout(width=1000, height=650)\n",
    "fig.show()"
   ]
  },
  {
   "attachments": {
    "missing_data2.png": {
     "image/png": "[encoded data removed]"
    }
   },
   "cell_type": "markdown",
   "id": "b9f6d63f",
   "metadata": {},
   "source": [
    "![missing_data2.png](attachment:missing_data2.png)"
   ]
  },
  {
   "cell_type": "markdown",
   "id": "aa8c1f86",
   "metadata": {},
   "source": [
    "In our second dataset, we are seeing fewer country-specific patterns in the missing data. We still see correlations between proportions of data missing between certain columns per country. Some things to note:\n",
    "- The UK is the only country with no value for `Weights`. It is also the only country with missing data in the `Edu_high` and `Edu_low` columns (about 6% missing).\n",
    "- Romania is missing a high percentage (75.5%) of data for the party preference on the left-right spectrum columns (and their related Z-scores). Many countries are missing relatively high proportions of this data (~25-65%), with the Netherlands having the most complete data for this column (about 6% missing).\n",
    "- Austria is missing the highest percentage of data related to our target (the `CM_` columns)."
   ]
  },
  {
   "cell_type": "markdown",
   "id": "521e111a",
   "metadata": {},
   "source": [
    "Let's just take note of how the volume of data would be affected if we were to simply drop the missing rows."
   ]
  },
  {
   "cell_type": "code",
   "execution_count": 95,
   "id": "222115d4",
   "metadata": {
    "scrolled": true
   },
   "outputs": [
    {
     "name": "stdout",
     "output_type": "stream",
     "text": [
      "First dataset before dropping null values: 40954 rows \n",
      "After: 20114 rows\n",
      "Reduction: 49.11%\n",
      "\n",
      "Second dataset before dropping null values: 89576 rows \n",
      "After: 35298 rows\n",
      "Reduction: 39.41%\n"
     ]
    }
   ],
   "source": [
    "df1_reduction = round((df1.dropna().shape[0] / len(df1))*100, 2)\n",
    "df2_reduction = round((df2.dropna().shape[0] / len(df2))*100, 2)\n",
    "\n",
    "print('First dataset before dropping null values:', len(df1), 'rows \\nAfter:', df1.dropna().shape[0], 'rows')\n",
    "print(f'Reduction: {df1_reduction}%\\n')\n",
    "\n",
    "print('Second dataset before dropping null values:', len(df2), 'rows \\nAfter:', df2.dropna().shape[0], 'rows')\n",
    "print(f'Reduction: {df2_reduction}%')"
   ]
  },
  {
   "cell_type": "markdown",
   "id": "8b5de78d",
   "metadata": {},
   "source": [
    "We see that simply dropping all rows with missing data will result in a substantial reduction in the sizes of our datasets (around 49% and 39%). In the future, we will investigate strategies for imputing the missing data where possible, or dropping columns with missing data for cases where we can ignore the information those columns stored."
   ]
  },
  {
   "cell_type": "markdown",
   "id": "b113a87f",
   "metadata": {},
   "source": [
    "Next, we will begin some basic analysis of the dataset."
   ]
  },
  {
   "cell_type": "markdown",
   "id": "1d8e2ce4",
   "metadata": {},
   "source": [
    "<a id = 'part3'></a>\n",
    "### Part 3. Basic Analysis"
   ]
  },
  {
   "cell_type": "markdown",
   "id": "1ce1cfb3",
   "metadata": {},
   "source": [
    "While our substantive data analysis will require cleaning the data, we can nonetheless get a sense of some general patterns here.\n",
    "\n",
    "Let's begin by looking at the relationship between conspiracy mentality and country. We can look at the average `CM5x` score for each country, and then plot those averages on a map. We'll repeat the procss for each dataset."
   ]
  },
  {
   "cell_type": "code",
   "execution_count": 96,
   "id": "382f601f",
   "metadata": {
    "scrolled": true
   },
   "outputs": [
    {
     "data": {
      "text/html": [
       "<div>\n",
       "<style scoped>\n",
       "    .dataframe tbody tr th:only-of-type {\n",
       "        vertical-align: middle;\n",
       "    }\n",
       "\n",
       "    .dataframe tbody tr th {\n",
       "        vertical-align: top;\n",
       "    }\n",
       "\n",
       "    .dataframe thead th {\n",
       "        text-align: right;\n",
       "    }\n",
       "</style>\n",
       "<table border=\"1\" class=\"dataframe\">\n",
       "  <thead>\n",
       "    <tr style=\"text-align: right;\">\n",
       "      <th></th>\n",
       "      <th>Average CM Score Out of 10</th>\n",
       "    </tr>\n",
       "    <tr>\n",
       "      <th>Country</th>\n",
       "      <th></th>\n",
       "    </tr>\n",
       "  </thead>\n",
       "  <tbody>\n",
       "    <tr>\n",
       "      <th>Turkey</th>\n",
       "      <td>7.243731</td>\n",
       "    </tr>\n",
       "    <tr>\n",
       "      <th>Portugal</th>\n",
       "      <td>7.243529</td>\n",
       "    </tr>\n",
       "    <tr>\n",
       "      <th>Hungary</th>\n",
       "      <td>7.018000</td>\n",
       "    </tr>\n",
       "    <tr>\n",
       "      <th>Serbia</th>\n",
       "      <td>6.873796</td>\n",
       "    </tr>\n",
       "    <tr>\n",
       "      <th>Belgium, FR</th>\n",
       "      <td>6.831086</td>\n",
       "    </tr>\n",
       "    <tr>\n",
       "      <th>Spain</th>\n",
       "      <td>6.802502</td>\n",
       "    </tr>\n",
       "    <tr>\n",
       "      <th>Israel</th>\n",
       "      <td>6.758852</td>\n",
       "    </tr>\n",
       "    <tr>\n",
       "      <th>Romania</th>\n",
       "      <td>6.756313</td>\n",
       "    </tr>\n",
       "    <tr>\n",
       "      <th>Bosnia</th>\n",
       "      <td>6.664106</td>\n",
       "    </tr>\n",
       "    <tr>\n",
       "      <th>Macedonia</th>\n",
       "      <td>6.466667</td>\n",
       "    </tr>\n",
       "    <tr>\n",
       "      <th>Croatia</th>\n",
       "      <td>6.447667</td>\n",
       "    </tr>\n",
       "    <tr>\n",
       "      <th>Switzerland, GE</th>\n",
       "      <td>6.426752</td>\n",
       "    </tr>\n",
       "    <tr>\n",
       "      <th>Brazil</th>\n",
       "      <td>6.418534</td>\n",
       "    </tr>\n",
       "    <tr>\n",
       "      <th>UK</th>\n",
       "      <td>6.317412</td>\n",
       "    </tr>\n",
       "    <tr>\n",
       "      <th>Greece</th>\n",
       "      <td>6.274542</td>\n",
       "    </tr>\n",
       "    <tr>\n",
       "      <th>Germany</th>\n",
       "      <td>6.145771</td>\n",
       "    </tr>\n",
       "    <tr>\n",
       "      <th>Switzerland, FR</th>\n",
       "      <td>6.112800</td>\n",
       "    </tr>\n",
       "    <tr>\n",
       "      <th>Italy</th>\n",
       "      <td>5.808149</td>\n",
       "    </tr>\n",
       "    <tr>\n",
       "      <th>Iceland</th>\n",
       "      <td>5.776786</td>\n",
       "    </tr>\n",
       "    <tr>\n",
       "      <th>Czech Republic</th>\n",
       "      <td>5.566234</td>\n",
       "    </tr>\n",
       "    <tr>\n",
       "      <th>Norway</th>\n",
       "      <td>5.220638</td>\n",
       "    </tr>\n",
       "    <tr>\n",
       "      <th>France</th>\n",
       "      <td>5.158559</td>\n",
       "    </tr>\n",
       "    <tr>\n",
       "      <th>Poland</th>\n",
       "      <td>5.154391</td>\n",
       "    </tr>\n",
       "    <tr>\n",
       "      <th>Netherlands</th>\n",
       "      <td>4.628722</td>\n",
       "    </tr>\n",
       "  </tbody>\n",
       "</table>\n",
       "</div>"
      ],
      "text/plain": [
       "                 Average CM Score Out of 10\n",
       "Country                                    \n",
       "Turkey                             7.243731\n",
       "Portugal                           7.243529\n",
       "Hungary                            7.018000\n",
       "Serbia                             6.873796\n",
       "Belgium, FR                        6.831086\n",
       "Spain                              6.802502\n",
       "Israel                             6.758852\n",
       "Romania                            6.756313\n",
       "Bosnia                             6.664106\n",
       "Macedonia                          6.466667\n",
       "Croatia                            6.447667\n",
       "Switzerland, GE                    6.426752\n",
       "Brazil                             6.418534\n",
       "UK                                 6.317412\n",
       "Greece                             6.274542\n",
       "Germany                            6.145771\n",
       "Switzerland, FR                    6.112800\n",
       "Italy                              5.808149\n",
       "Iceland                            5.776786\n",
       "Czech Republic                     5.566234\n",
       "Norway                             5.220638\n",
       "France                             5.158559\n",
       "Poland                             5.154391\n",
       "Netherlands                        4.628722"
      ]
     },
     "execution_count": 96,
     "metadata": {},
     "output_type": "execute_result"
    }
   ],
   "source": [
    "# Group by country and average CM5x for df1\n",
    "\n",
    "country_averages1 = pd.DataFrame({'Average CM Score Out of 10': df1.groupby('Country')['CM5x'].mean()-1})\n",
    "country_averages1.sort_values(by='Average CM Score Out of 10', ascending=False)"
   ]
  },
  {
   "cell_type": "code",
   "execution_count": 97,
   "id": "e8bbc21d",
   "metadata": {
    "scrolled": false
   },
   "outputs": [
    {
     "data": {
      "application/vnd.plotly.v1+json": {
       "config": {
        "plotlyServerURL": "https://plot.ly"
       },
       "data": [
        {
         "coloraxis": "coloraxis",
         "geo": "geo",
         "hovertemplate": "Country=%{location}<br>Average CM Score Out of 10=%{z}<extra></extra>",
         "locationmode": "country names",
         "locations": [
          "Belgium, FR",
          "Bosnia",
          "Brazil",
          "Croatia",
          "Czech Republic",
          "France",
          "Germany",
          "Greece",
          "Hungary",
          "Iceland",
          "Israel",
          "Italy",
          "Macedonia",
          "Netherlands",
          "Norway",
          "Poland",
          "Portugal",
          "Romania",
          "Serbia",
          "Spain",
          "Switzerland, FR",
          "Switzerland, GE",
          "Turkey",
          "UK"
         ],
         "marker": {
          "line": {
           "width": 0.3
          }
         },
         "name": "",
         "type": "choropleth",
         "z": [
          6.831086142322098,
          6.664106463878327,
          6.418533886583679,
          6.4476666666666675,
          5.566233766233766,
          5.158558558558559,
          6.145771465461587,
          6.2745417515274955,
          7.018000000000001,
          5.776785714285714,
          6.758851674641148,
          5.808149405772496,
          6.466666666666667,
          4.628722478752593,
          5.220638085742772,
          5.154391371340523,
          7.243529411764705,
          6.7563131313131315,
          6.873795761078998,
          6.802502406159769,
          6.1128,
          6.426751592356688,
          7.243731193580743,
          6.317411607738491
         ]
        }
       ],
       "layout": {
        "coloraxis": {
         "colorbar": {
          "title": {
           "text": "Average CM Score Out of 10"
          }
         },
         "colorscale": [
          [
           0,
           "rgb(255,245,240)"
          ],
          [
           0.125,
           "rgb(254,224,210)"
          ],
          [
           0.25,
           "rgb(252,187,161)"
          ],
          [
           0.375,
           "rgb(252,146,114)"
          ],
          [
           0.5,
           "rgb(251,106,74)"
          ],
          [
           0.625,
           "rgb(239,59,44)"
          ],
          [
           0.75,
           "rgb(203,24,29)"
          ],
          [
           0.875,
           "rgb(165,15,21)"
          ],
          [
           1,
           "rgb(103,0,13)"
          ]
         ]
        },
        "geo": {
         "center": {},
         "domain": {
          "x": [
           0,
           1
          ],
          "y": [
           0,
           1
          ]
         },
         "fitbounds": "locations"
        },
        "legend": {
         "tracegroupgap": 0
        },
        "template": {
         "data": {
          "bar": [
           {
            "error_x": {
             "color": "#2a3f5f"
            },
            "error_y": {
             "color": "#2a3f5f"
            },
            "marker": {
             "line": {
              "color": "#E5ECF6",
              "width": 0.5
             },
             "pattern": {
              "fillmode": "overlay",
              "size": 10,
              "solidity": 0.2
             }
            },
            "type": "bar"
           }
          ],
          "barpolar": [
           {
            "marker": {
             "line": {
              "color": "#E5ECF6",
              "width": 0.5
             },
             "pattern": {
              "fillmode": "overlay",
              "size": 10,
              "solidity": 0.2
             }
            },
            "type": "barpolar"
           }
          ],
          "carpet": [
           {
            "aaxis": {
             "endlinecolor": "#2a3f5f",
             "gridcolor": "white",
             "linecolor": "white",
             "minorgridcolor": "white",
             "startlinecolor": "#2a3f5f"
            },
            "baxis": {
             "endlinecolor": "#2a3f5f",
             "gridcolor": "white",
             "linecolor": "white",
             "minorgridcolor": "white",
             "startlinecolor": "#2a3f5f"
            },
            "type": "carpet"
           }
          ],
          "choropleth": [
           {
            "colorbar": {
             "outlinewidth": 0,
             "ticks": ""
            },
            "type": "choropleth"
           }
          ],
          "contour": [
           {
            "colorbar": {
             "outlinewidth": 0,
             "ticks": ""
            },
            "colorscale": [
             [
              0,
              "#0d0887"
             ],
             [
              0.1111111111111111,
              "#46039f"
             ],
             [
              0.2222222222222222,
              "#7201a8"
             ],
             [
              0.3333333333333333,
              "#9c179e"
             ],
             [
              0.4444444444444444,
              "#bd3786"
             ],
             [
              0.5555555555555556,
              "#d8576b"
             ],
             [
              0.6666666666666666,
              "#ed7953"
             ],
             [
              0.7777777777777778,
              "#fb9f3a"
             ],
             [
              0.8888888888888888,
              "#fdca26"
             ],
             [
              1,
              "#f0f921"
             ]
            ],
            "type": "contour"
           }
          ],
          "contourcarpet": [
           {
            "colorbar": {
             "outlinewidth": 0,
             "ticks": ""
            },
            "type": "contourcarpet"
           }
          ],
          "heatmap": [
           {
            "colorbar": {
             "outlinewidth": 0,
             "ticks": ""
            },
            "colorscale": [
             [
              0,
              "#0d0887"
             ],
             [
              0.1111111111111111,
              "#46039f"
             ],
             [
              0.2222222222222222,
              "#7201a8"
             ],
             [
              0.3333333333333333,
              "#9c179e"
             ],
             [
              0.4444444444444444,
              "#bd3786"
             ],
             [
              0.5555555555555556,
              "#d8576b"
             ],
             [
              0.6666666666666666,
              "#ed7953"
             ],
             [
              0.7777777777777778,
              "#fb9f3a"
             ],
             [
              0.8888888888888888,
              "#fdca26"
             ],
             [
              1,
              "#f0f921"
             ]
            ],
            "type": "heatmap"
           }
          ],
          "heatmapgl": [
           {
            "colorbar": {
             "outlinewidth": 0,
             "ticks": ""
            },
            "colorscale": [
             [
              0,
              "#0d0887"
             ],
             [
              0.1111111111111111,
              "#46039f"
             ],
             [
              0.2222222222222222,
              "#7201a8"
             ],
             [
              0.3333333333333333,
              "#9c179e"
             ],
             [
              0.4444444444444444,
              "#bd3786"
             ],
             [
              0.5555555555555556,
              "#d8576b"
             ],
             [
              0.6666666666666666,
              "#ed7953"
             ],
             [
              0.7777777777777778,
              "#fb9f3a"
             ],
             [
              0.8888888888888888,
              "#fdca26"
             ],
             [
              1,
              "#f0f921"
             ]
            ],
            "type": "heatmapgl"
           }
          ],
          "histogram": [
           {
            "marker": {
             "pattern": {
              "fillmode": "overlay",
              "size": 10,
              "solidity": 0.2
             }
            },
            "type": "histogram"
           }
          ],
          "histogram2d": [
           {
            "colorbar": {
             "outlinewidth": 0,
             "ticks": ""
            },
            "colorscale": [
             [
              0,
              "#0d0887"
             ],
             [
              0.1111111111111111,
              "#46039f"
             ],
             [
              0.2222222222222222,
              "#7201a8"
             ],
             [
              0.3333333333333333,
              "#9c179e"
             ],
             [
              0.4444444444444444,
              "#bd3786"
             ],
             [
              0.5555555555555556,
              "#d8576b"
             ],
             [
              0.6666666666666666,
              "#ed7953"
             ],
             [
              0.7777777777777778,
              "#fb9f3a"
             ],
             [
              0.8888888888888888,
              "#fdca26"
             ],
             [
              1,
              "#f0f921"
             ]
            ],
            "type": "histogram2d"
           }
          ],
          "histogram2dcontour": [
           {
            "colorbar": {
             "outlinewidth": 0,
             "ticks": ""
            },
            "colorscale": [
             [
              0,
              "#0d0887"
             ],
             [
              0.1111111111111111,
              "#46039f"
             ],
             [
              0.2222222222222222,
              "#7201a8"
             ],
             [
              0.3333333333333333,
              "#9c179e"
             ],
             [
              0.4444444444444444,
              "#bd3786"
             ],
             [
              0.5555555555555556,
              "#d8576b"
             ],
             [
              0.6666666666666666,
              "#ed7953"
             ],
             [
              0.7777777777777778,
              "#fb9f3a"
             ],
             [
              0.8888888888888888,
              "#fdca26"
             ],
             [
              1,
              "#f0f921"
             ]
            ],
            "type": "histogram2dcontour"
           }
          ],
          "mesh3d": [
           {
            "colorbar": {
             "outlinewidth": 0,
             "ticks": ""
            },
            "type": "mesh3d"
           }
          ],
          "parcoords": [
           {
            "line": {
             "colorbar": {
              "outlinewidth": 0,
              "ticks": ""
             }
            },
            "type": "parcoords"
           }
          ],
          "pie": [
           {
            "automargin": true,
            "type": "pie"
           }
          ],
          "scatter": [
           {
            "fillpattern": {
             "fillmode": "overlay",
             "size": 10,
             "solidity": 0.2
            },
            "type": "scatter"
           }
          ],
          "scatter3d": [
           {
            "line": {
             "colorbar": {
              "outlinewidth": 0,
              "ticks": ""
             }
            },
            "marker": {
             "colorbar": {
              "outlinewidth": 0,
              "ticks": ""
             }
            },
            "type": "scatter3d"
           }
          ],
          "scattercarpet": [
           {
            "marker": {
             "colorbar": {
              "outlinewidth": 0,
              "ticks": ""
             }
            },
            "type": "scattercarpet"
           }
          ],
          "scattergeo": [
           {
            "marker": {
             "colorbar": {
              "outlinewidth": 0,
              "ticks": ""
             }
            },
            "type": "scattergeo"
           }
          ],
          "scattergl": [
           {
            "marker": {
             "colorbar": {
              "outlinewidth": 0,
              "ticks": ""
             }
            },
            "type": "scattergl"
           }
          ],
          "scattermapbox": [
           {
            "marker": {
             "colorbar": {
              "outlinewidth": 0,
              "ticks": ""
             }
            },
            "type": "scattermapbox"
           }
          ],
          "scatterpolar": [
           {
            "marker": {
             "colorbar": {
              "outlinewidth": 0,
              "ticks": ""
             }
            },
            "type": "scatterpolar"
           }
          ],
          "scatterpolargl": [
           {
            "marker": {
             "colorbar": {
              "outlinewidth": 0,
              "ticks": ""
             }
            },
            "type": "scatterpolargl"
           }
          ],
          "scatterternary": [
           {
            "marker": {
             "colorbar": {
              "outlinewidth": 0,
              "ticks": ""
             }
            },
            "type": "scatterternary"
           }
          ],
          "surface": [
           {
            "colorbar": {
             "outlinewidth": 0,
             "ticks": ""
            },
            "colorscale": [
             [
              0,
              "#0d0887"
             ],
             [
              0.1111111111111111,
              "#46039f"
             ],
             [
              0.2222222222222222,
              "#7201a8"
             ],
             [
              0.3333333333333333,
              "#9c179e"
             ],
             [
              0.4444444444444444,
              "#bd3786"
             ],
             [
              0.5555555555555556,
              "#d8576b"
             ],
             [
              0.6666666666666666,
              "#ed7953"
             ],
             [
              0.7777777777777778,
              "#fb9f3a"
             ],
             [
              0.8888888888888888,
              "#fdca26"
             ],
             [
              1,
              "#f0f921"
             ]
            ],
            "type": "surface"
           }
          ],
          "table": [
           {
            "cells": {
             "fill": {
              "color": "#EBF0F8"
             },
             "line": {
              "color": "white"
             }
            },
            "header": {
             "fill": {
              "color": "#C8D4E3"
             },
             "line": {
              "color": "white"
             }
            },
            "type": "table"
           }
          ]
         },
         "layout": {
          "annotationdefaults": {
           "arrowcolor": "#2a3f5f",
           "arrowhead": 0,
           "arrowwidth": 1
          },
          "autotypenumbers": "strict",
          "coloraxis": {
           "colorbar": {
            "outlinewidth": 0,
            "ticks": ""
           }
          },
          "colorscale": {
           "diverging": [
            [
             0,
             "#8e0152"
            ],
            [
             0.1,
             "#c51b7d"
            ],
            [
             0.2,
             "#de77ae"
            ],
            [
             0.3,
             "#f1b6da"
            ],
            [
             0.4,
             "#fde0ef"
            ],
            [
             0.5,
             "#f7f7f7"
            ],
            [
             0.6,
             "#e6f5d0"
            ],
            [
             0.7,
             "#b8e186"
            ],
            [
             0.8,
             "#7fbc41"
            ],
            [
             0.9,
             "#4d9221"
            ],
            [
             1,
             "#276419"
            ]
           ],
           "sequential": [
            [
             0,
             "#0d0887"
            ],
            [
             0.1111111111111111,
             "#46039f"
            ],
            [
             0.2222222222222222,
             "#7201a8"
            ],
            [
             0.3333333333333333,
             "#9c179e"
            ],
            [
             0.4444444444444444,
             "#bd3786"
            ],
            [
             0.5555555555555556,
             "#d8576b"
            ],
            [
             0.6666666666666666,
             "#ed7953"
            ],
            [
             0.7777777777777778,
             "#fb9f3a"
            ],
            [
             0.8888888888888888,
             "#fdca26"
            ],
            [
             1,
             "#f0f921"
            ]
           ],
           "sequentialminus": [
            [
             0,
             "#0d0887"
            ],
            [
             0.1111111111111111,
             "#46039f"
            ],
            [
             0.2222222222222222,
             "#7201a8"
            ],
            [
             0.3333333333333333,
             "#9c179e"
            ],
            [
             0.4444444444444444,
             "#bd3786"
            ],
            [
             0.5555555555555556,
             "#d8576b"
            ],
            [
             0.6666666666666666,
             "#ed7953"
            ],
            [
             0.7777777777777778,
             "#fb9f3a"
            ],
            [
             0.8888888888888888,
             "#fdca26"
            ],
            [
             1,
             "#f0f921"
            ]
           ]
          },
          "colorway": [
           "#636efa",
           "#EF553B",
           "#00cc96",
           "#ab63fa",
           "#FFA15A",
           "#19d3f3",
           "#FF6692",
           "#B6E880",
           "#FF97FF",
           "#FECB52"
          ],
          "font": {
           "color": "#2a3f5f"
          },
          "geo": {
           "bgcolor": "white",
           "lakecolor": "white",
           "landcolor": "#E5ECF6",
           "showlakes": true,
           "showland": true,
           "subunitcolor": "white"
          },
          "hoverlabel": {
           "align": "left"
          },
          "hovermode": "closest",
          "mapbox": {
           "style": "light"
          },
          "paper_bgcolor": "white",
          "plot_bgcolor": "#E5ECF6",
          "polar": {
           "angularaxis": {
            "gridcolor": "white",
            "linecolor": "white",
            "ticks": ""
           },
           "bgcolor": "#E5ECF6",
           "radialaxis": {
            "gridcolor": "white",
            "linecolor": "white",
            "ticks": ""
           }
          },
          "scene": {
           "xaxis": {
            "backgroundcolor": "#E5ECF6",
            "gridcolor": "white",
            "gridwidth": 2,
            "linecolor": "white",
            "showbackground": true,
            "ticks": "",
            "zerolinecolor": "white"
           },
           "yaxis": {
            "backgroundcolor": "#E5ECF6",
            "gridcolor": "white",
            "gridwidth": 2,
            "linecolor": "white",
            "showbackground": true,
            "ticks": "",
            "zerolinecolor": "white"
           },
           "zaxis": {
            "backgroundcolor": "#E5ECF6",
            "gridcolor": "white",
            "gridwidth": 2,
            "linecolor": "white",
            "showbackground": true,
            "ticks": "",
            "zerolinecolor": "white"
           }
          },
          "shapedefaults": {
           "line": {
            "color": "#2a3f5f"
           }
          },
          "ternary": {
           "aaxis": {
            "gridcolor": "white",
            "linecolor": "white",
            "ticks": ""
           },
           "baxis": {
            "gridcolor": "white",
            "linecolor": "white",
            "ticks": ""
           },
           "bgcolor": "#E5ECF6",
           "caxis": {
            "gridcolor": "white",
            "linecolor": "white",
            "ticks": ""
           }
          },
          "title": {
           "x": 0.05
          },
          "xaxis": {
           "automargin": true,
           "gridcolor": "white",
           "linecolor": "white",
           "ticks": "",
           "title": {
            "standoff": 15
           },
           "zerolinecolor": "white",
           "zerolinewidth": 2
          },
          "yaxis": {
           "automargin": true,
           "gridcolor": "white",
           "linecolor": "white",
           "ticks": "",
           "title": {
            "standoff": 15
           },
           "zerolinecolor": "white",
           "zerolinewidth": 2
          }
         }
        },
        "title": {
         "text": "\n\nAverage Conspiracy Mentality Score by Country <br>\n<sup>This interactive map displays the average conspiracy mentality score for each country\nin the first study from Imhoff et al. 2022.\n\n                    "
        }
       }
      },
      "text/html": [
       "<div>                            <div id=\"8f5cba78-c465-465d-9578-77e3cbf5e55c\" class=\"plotly-graph-div\" style=\"height:525px; width:100%;\"></div>            <script type=\"text/javascript\">                require([\"plotly\"], function(Plotly) {                    window.PLOTLYENV=window.PLOTLYENV || {};                                    if (document.getElementById(\"8f5cba78-c465-465d-9578-77e3cbf5e55c\")) {                    Plotly.newPlot(                        \"8f5cba78-c465-465d-9578-77e3cbf5e55c\",                        [{\"coloraxis\":\"coloraxis\",\"geo\":\"geo\",\"hovertemplate\":\"Country=%{location}<br>Average CM Score Out of 10=%{z}<extra></extra>\",\"locationmode\":\"country names\",\"locations\":[\"Belgium, FR\",\"Bosnia\",\"Brazil\",\"Croatia\",\"Czech Republic\",\"France\",\"Germany\",\"Greece\",\"Hungary\",\"Iceland\",\"Israel\",\"Italy\",\"Macedonia\",\"Netherlands\",\"Norway\",\"Poland\",\"Portugal\",\"Romania\",\"Serbia\",\"Spain\",\"Switzerland, FR\",\"Switzerland, GE\",\"Turkey\",\"UK\"],\"name\":\"\",\"z\":[6.831086142322098,6.664106463878327,6.418533886583679,6.4476666666666675,5.566233766233766,5.158558558558559,6.145771465461587,6.2745417515274955,7.018000000000001,5.776785714285714,6.758851674641148,5.808149405772496,6.466666666666667,4.628722478752593,5.220638085742772,5.154391371340523,7.243529411764705,6.7563131313131315,6.873795761078998,6.802502406159769,6.1128,6.426751592356688,7.243731193580743,6.317411607738491],\"type\":\"choropleth\",\"marker\":{\"line\":{\"width\":0.3}}}],                        {\"template\":{\"data\":{\"histogram2dcontour\":[{\"type\":\"histogram2dcontour\",\"colorbar\":{\"outlinewidth\":0,\"ticks\":\"\"},\"colorscale\":[[0.0,\"#0d0887\"],[0.1111111111111111,\"#46039f\"],[0.2222222222222222,\"#7201a8\"],[0.3333333333333333,\"#9c179e\"],[0.4444444444444444,\"#bd3786\"],[0.5555555555555556,\"#d8576b\"],[0.6666666666666666,\"#ed7953\"],[0.7777777777777778,\"#fb9f3a\"],[0.8888888888888888,\"#fdca26\"],[1.0,\"#f0f921\"]]}],\"choropleth\":[{\"type\":\"choropleth\",\"colorbar\":{\"outlinewidth\":0,\"ticks\":\"\"}}],\"histogram2d\":[{\"type\":\"histogram2d\",\"colorbar\":{\"outlinewidth\":0,\"ticks\":\"\"},\"colorscale\":[[0.0,\"#0d0887\"],[0.1111111111111111,\"#46039f\"],[0.2222222222222222,\"#7201a8\"],[0.3333333333333333,\"#9c179e\"],[0.4444444444444444,\"#bd3786\"],[0.5555555555555556,\"#d8576b\"],[0.6666666666666666,\"#ed7953\"],[0.7777777777777778,\"#fb9f3a\"],[0.8888888888888888,\"#fdca26\"],[1.0,\"#f0f921\"]]}],\"heatmap\":[{\"type\":\"heatmap\",\"colorbar\":{\"outlinewidth\":0,\"ticks\":\"\"},\"colorscale\":[[0.0,\"#0d0887\"],[0.1111111111111111,\"#46039f\"],[0.2222222222222222,\"#7201a8\"],[0.3333333333333333,\"#9c179e\"],[0.4444444444444444,\"#bd3786\"],[0.5555555555555556,\"#d8576b\"],[0.6666666666666666,\"#ed7953\"],[0.7777777777777778,\"#fb9f3a\"],[0.8888888888888888,\"#fdca26\"],[1.0,\"#f0f921\"]]}],\"heatmapgl\":[{\"type\":\"heatmapgl\",\"colorbar\":{\"outlinewidth\":0,\"ticks\":\"\"},\"colorscale\":[[0.0,\"#0d0887\"],[0.1111111111111111,\"#46039f\"],[0.2222222222222222,\"#7201a8\"],[0.3333333333333333,\"#9c179e\"],[0.4444444444444444,\"#bd3786\"],[0.5555555555555556,\"#d8576b\"],[0.6666666666666666,\"#ed7953\"],[0.7777777777777778,\"#fb9f3a\"],[0.8888888888888888,\"#fdca26\"],[1.0,\"#f0f921\"]]}],\"contourcarpet\":[{\"type\":\"contourcarpet\",\"colorbar\":{\"outlinewidth\":0,\"ticks\":\"\"}}],\"contour\":[{\"type\":\"contour\",\"colorbar\":{\"outlinewidth\":0,\"ticks\":\"\"},\"colorscale\":[[0.0,\"#0d0887\"],[0.1111111111111111,\"#46039f\"],[0.2222222222222222,\"#7201a8\"],[0.3333333333333333,\"#9c179e\"],[0.4444444444444444,\"#bd3786\"],[0.5555555555555556,\"#d8576b\"],[0.6666666666666666,\"#ed7953\"],[0.7777777777777778,\"#fb9f3a\"],[0.8888888888888888,\"#fdca26\"],[1.0,\"#f0f921\"]]}],\"surface\":[{\"type\":\"surface\",\"colorbar\":{\"outlinewidth\":0,\"ticks\":\"\"},\"colorscale\":[[0.0,\"#0d0887\"],[0.1111111111111111,\"#46039f\"],[0.2222222222222222,\"#7201a8\"],[0.3333333333333333,\"#9c179e\"],[0.4444444444444444,\"#bd3786\"],[0.5555555555555556,\"#d8576b\"],[0.6666666666666666,\"#ed7953\"],[0.7777777777777778,\"#fb9f3a\"],[0.8888888888888888,\"#fdca26\"],[1.0,\"#f0f921\"]]}],\"mesh3d\":[{\"type\":\"mesh3d\",\"colorbar\":{\"outlinewidth\":0,\"ticks\":\"\"}}],\"scatter\":[{\"fillpattern\":{\"fillmode\":\"overlay\",\"size\":10,\"solidity\":0.2},\"type\":\"scatter\"}],\"parcoords\":[{\"type\":\"parcoords\",\"line\":{\"colorbar\":{\"outlinewidth\":0,\"ticks\":\"\"}}}],\"scatterpolargl\":[{\"type\":\"scatterpolargl\",\"marker\":{\"colorbar\":{\"outlinewidth\":0,\"ticks\":\"\"}}}],\"bar\":[{\"error_x\":{\"color\":\"#2a3f5f\"},\"error_y\":{\"color\":\"#2a3f5f\"},\"marker\":{\"line\":{\"color\":\"#E5ECF6\",\"width\":0.5},\"pattern\":{\"fillmode\":\"overlay\",\"size\":10,\"solidity\":0.2}},\"type\":\"bar\"}],\"scattergeo\":[{\"type\":\"scattergeo\",\"marker\":{\"colorbar\":{\"outlinewidth\":0,\"ticks\":\"\"}}}],\"scatterpolar\":[{\"type\":\"scatterpolar\",\"marker\":{\"colorbar\":{\"outlinewidth\":0,\"ticks\":\"\"}}}],\"histogram\":[{\"marker\":{\"pattern\":{\"fillmode\":\"overlay\",\"size\":10,\"solidity\":0.2}},\"type\":\"histogram\"}],\"scattergl\":[{\"type\":\"scattergl\",\"marker\":{\"colorbar\":{\"outlinewidth\":0,\"ticks\":\"\"}}}],\"scatter3d\":[{\"type\":\"scatter3d\",\"line\":{\"colorbar\":{\"outlinewidth\":0,\"ticks\":\"\"}},\"marker\":{\"colorbar\":{\"outlinewidth\":0,\"ticks\":\"\"}}}],\"scattermapbox\":[{\"type\":\"scattermapbox\",\"marker\":{\"colorbar\":{\"outlinewidth\":0,\"ticks\":\"\"}}}],\"scatterternary\":[{\"type\":\"scatterternary\",\"marker\":{\"colorbar\":{\"outlinewidth\":0,\"ticks\":\"\"}}}],\"scattercarpet\":[{\"type\":\"scattercarpet\",\"marker\":{\"colorbar\":{\"outlinewidth\":0,\"ticks\":\"\"}}}],\"carpet\":[{\"aaxis\":{\"endlinecolor\":\"#2a3f5f\",\"gridcolor\":\"white\",\"linecolor\":\"white\",\"minorgridcolor\":\"white\",\"startlinecolor\":\"#2a3f5f\"},\"baxis\":{\"endlinecolor\":\"#2a3f5f\",\"gridcolor\":\"white\",\"linecolor\":\"white\",\"minorgridcolor\":\"white\",\"startlinecolor\":\"#2a3f5f\"},\"type\":\"carpet\"}],\"table\":[{\"cells\":{\"fill\":{\"color\":\"#EBF0F8\"},\"line\":{\"color\":\"white\"}},\"header\":{\"fill\":{\"color\":\"#C8D4E3\"},\"line\":{\"color\":\"white\"}},\"type\":\"table\"}],\"barpolar\":[{\"marker\":{\"line\":{\"color\":\"#E5ECF6\",\"width\":0.5},\"pattern\":{\"fillmode\":\"overlay\",\"size\":10,\"solidity\":0.2}},\"type\":\"barpolar\"}],\"pie\":[{\"automargin\":true,\"type\":\"pie\"}]},\"layout\":{\"autotypenumbers\":\"strict\",\"colorway\":[\"#636efa\",\"#EF553B\",\"#00cc96\",\"#ab63fa\",\"#FFA15A\",\"#19d3f3\",\"#FF6692\",\"#B6E880\",\"#FF97FF\",\"#FECB52\"],\"font\":{\"color\":\"#2a3f5f\"},\"hovermode\":\"closest\",\"hoverlabel\":{\"align\":\"left\"},\"paper_bgcolor\":\"white\",\"plot_bgcolor\":\"#E5ECF6\",\"polar\":{\"bgcolor\":\"#E5ECF6\",\"angularaxis\":{\"gridcolor\":\"white\",\"linecolor\":\"white\",\"ticks\":\"\"},\"radialaxis\":{\"gridcolor\":\"white\",\"linecolor\":\"white\",\"ticks\":\"\"}},\"ternary\":{\"bgcolor\":\"#E5ECF6\",\"aaxis\":{\"gridcolor\":\"white\",\"linecolor\":\"white\",\"ticks\":\"\"},\"baxis\":{\"gridcolor\":\"white\",\"linecolor\":\"white\",\"ticks\":\"\"},\"caxis\":{\"gridcolor\":\"white\",\"linecolor\":\"white\",\"ticks\":\"\"}},\"coloraxis\":{\"colorbar\":{\"outlinewidth\":0,\"ticks\":\"\"}},\"colorscale\":{\"sequential\":[[0.0,\"#0d0887\"],[0.1111111111111111,\"#46039f\"],[0.2222222222222222,\"#7201a8\"],[0.3333333333333333,\"#9c179e\"],[0.4444444444444444,\"#bd3786\"],[0.5555555555555556,\"#d8576b\"],[0.6666666666666666,\"#ed7953\"],[0.7777777777777778,\"#fb9f3a\"],[0.8888888888888888,\"#fdca26\"],[1.0,\"#f0f921\"]],\"sequentialminus\":[[0.0,\"#0d0887\"],[0.1111111111111111,\"#46039f\"],[0.2222222222222222,\"#7201a8\"],[0.3333333333333333,\"#9c179e\"],[0.4444444444444444,\"#bd3786\"],[0.5555555555555556,\"#d8576b\"],[0.6666666666666666,\"#ed7953\"],[0.7777777777777778,\"#fb9f3a\"],[0.8888888888888888,\"#fdca26\"],[1.0,\"#f0f921\"]],\"diverging\":[[0,\"#8e0152\"],[0.1,\"#c51b7d\"],[0.2,\"#de77ae\"],[0.3,\"#f1b6da\"],[0.4,\"#fde0ef\"],[0.5,\"#f7f7f7\"],[0.6,\"#e6f5d0\"],[0.7,\"#b8e186\"],[0.8,\"#7fbc41\"],[0.9,\"#4d9221\"],[1,\"#276419\"]]},\"xaxis\":{\"gridcolor\":\"white\",\"linecolor\":\"white\",\"ticks\":\"\",\"title\":{\"standoff\":15},\"zerolinecolor\":\"white\",\"automargin\":true,\"zerolinewidth\":2},\"yaxis\":{\"gridcolor\":\"white\",\"linecolor\":\"white\",\"ticks\":\"\",\"title\":{\"standoff\":15},\"zerolinecolor\":\"white\",\"automargin\":true,\"zerolinewidth\":2},\"scene\":{\"xaxis\":{\"backgroundcolor\":\"#E5ECF6\",\"gridcolor\":\"white\",\"linecolor\":\"white\",\"showbackground\":true,\"ticks\":\"\",\"zerolinecolor\":\"white\",\"gridwidth\":2},\"yaxis\":{\"backgroundcolor\":\"#E5ECF6\",\"gridcolor\":\"white\",\"linecolor\":\"white\",\"showbackground\":true,\"ticks\":\"\",\"zerolinecolor\":\"white\",\"gridwidth\":2},\"zaxis\":{\"backgroundcolor\":\"#E5ECF6\",\"gridcolor\":\"white\",\"linecolor\":\"white\",\"showbackground\":true,\"ticks\":\"\",\"zerolinecolor\":\"white\",\"gridwidth\":2}},\"shapedefaults\":{\"line\":{\"color\":\"#2a3f5f\"}},\"annotationdefaults\":{\"arrowcolor\":\"#2a3f5f\",\"arrowhead\":0,\"arrowwidth\":1},\"geo\":{\"bgcolor\":\"white\",\"landcolor\":\"#E5ECF6\",\"subunitcolor\":\"white\",\"showland\":true,\"showlakes\":true,\"lakecolor\":\"white\"},\"title\":{\"x\":0.05},\"mapbox\":{\"style\":\"light\"}}},\"geo\":{\"domain\":{\"x\":[0.0,1.0],\"y\":[0.0,1.0]},\"center\":{},\"fitbounds\":\"locations\"},\"coloraxis\":{\"colorbar\":{\"title\":{\"text\":\"Average CM Score Out of 10\"}},\"colorscale\":[[0.0,\"rgb(255,245,240)\"],[0.125,\"rgb(254,224,210)\"],[0.25,\"rgb(252,187,161)\"],[0.375,\"rgb(252,146,114)\"],[0.5,\"rgb(251,106,74)\"],[0.625,\"rgb(239,59,44)\"],[0.75,\"rgb(203,24,29)\"],[0.875,\"rgb(165,15,21)\"],[1.0,\"rgb(103,0,13)\"]]},\"legend\":{\"tracegroupgap\":0},\"title\":{\"text\":\"\\n\\nAverage Conspiracy Mentality Score by Country <br>\\n<sup>This interactive map displays the average conspiracy mentality score for each country\\nin the first study from Imhoff et al. 2022.\\n\\n                    \"}},                        {\"responsive\": true}                    ).then(function(){\n",
       "                            \n",
       "var gd = document.getElementById('8f5cba78-c465-465d-9578-77e3cbf5e55c');\n",
       "var x = new MutationObserver(function (mutations, observer) {{\n",
       "        var display = window.getComputedStyle(gd).display;\n",
       "        if (!display || display === 'none') {{\n",
       "            console.log([gd, 'removed!']);\n",
       "            Plotly.purge(gd);\n",
       "            observer.disconnect();\n",
       "        }}\n",
       "}});\n",
       "\n",
       "// Listen for the removal of the full notebook cells\n",
       "var notebookContainer = gd.closest('#notebook-container');\n",
       "if (notebookContainer) {{\n",
       "    x.observe(notebookContainer, {childList: true});\n",
       "}}\n",
       "\n",
       "// Listen for the clearing of the current output cell\n",
       "var outputEl = gd.closest('.output');\n",
       "if (outputEl) {{\n",
       "    x.observe(outputEl, {childList: true});\n",
       "}}\n",
       "\n",
       "                        })                };                });            </script>        </div>"
      ]
     },
     "metadata": {},
     "output_type": "display_data"
    }
   ],
   "source": [
    "# Plotting average conspiracy score by country on map for df1\n",
    "\n",
    "fig = px.choropleth(country_averages1,\n",
    "                    locationmode='country names',\n",
    "                    locations=country_averages1.index,\n",
    "                    color='Average CM Score Out of 10',\n",
    "                    color_continuous_scale='reds',\n",
    "                    fitbounds=\"locations\",\n",
    "                    title='''\n",
    "\n",
    "Average Conspiracy Mentality Score by Country <br>\n",
    "<sup>This interactive map displays the average conspiracy mentality score for each country\n",
    "in the first study from Imhoff et al. 2022.\n",
    "\n",
    "                    '''\n",
    "                    )\n",
    "fig.update_traces(marker_line_width=.3)\n",
    "\n",
    "\n",
    "fig.show()"
   ]
  },
  {
   "attachments": {
    "avg_CM_by_country_1-2.png": {
     "image/png": "[encoded data removed]"
    }
   },
   "cell_type": "markdown",
   "id": "730904a8",
   "metadata": {},
   "source": [
    "![avg_CM_by_country_1-2.png](attachment:avg_CM_by_country_1-2.png)"
   ]
  },
  {
   "cell_type": "markdown",
   "id": "604d5a54",
   "metadata": {},
   "source": [
    "The results here are interesting, although the patterns will not be clear until we investigate relationships with the other variables. We can note that Turkey is the country with the highest score, followed closely by Portugal (both around 7.2 out of 10). The country with the lowest score is the Netherlands (4.6). In fact, the Netherlands is the only country with an average score lower than 5, meaning that it is the only country where participants lean towards finding the statements in the CMQ to be unlikely to be true on average (a topic we'll return to shortly).\n",
    "\n",
    "We'll now repeat the process for the second dataset."
   ]
  },
  {
   "cell_type": "code",
   "execution_count": 98,
   "id": "a37cc747",
   "metadata": {},
   "outputs": [
    {
     "data": {
      "text/html": [
       "<div>\n",
       "<style scoped>\n",
       "    .dataframe tbody tr th:only-of-type {\n",
       "        vertical-align: middle;\n",
       "    }\n",
       "\n",
       "    .dataframe tbody tr th {\n",
       "        vertical-align: top;\n",
       "    }\n",
       "\n",
       "    .dataframe thead th {\n",
       "        text-align: right;\n",
       "    }\n",
       "</style>\n",
       "<table border=\"1\" class=\"dataframe\">\n",
       "  <thead>\n",
       "    <tr style=\"text-align: right;\">\n",
       "      <th></th>\n",
       "      <th>Average CM Score Out of 10</th>\n",
       "    </tr>\n",
       "    <tr>\n",
       "      <th>Country</th>\n",
       "      <th></th>\n",
       "    </tr>\n",
       "  </thead>\n",
       "  <tbody>\n",
       "    <tr>\n",
       "      <th>Portugal</th>\n",
       "      <td>7.037971</td>\n",
       "    </tr>\n",
       "    <tr>\n",
       "      <th>Spain</th>\n",
       "      <td>6.961841</td>\n",
       "    </tr>\n",
       "    <tr>\n",
       "      <th>Romania</th>\n",
       "      <td>6.733859</td>\n",
       "    </tr>\n",
       "    <tr>\n",
       "      <th>Hungary</th>\n",
       "      <td>6.551568</td>\n",
       "    </tr>\n",
       "    <tr>\n",
       "      <th>Poland</th>\n",
       "      <td>6.409459</td>\n",
       "    </tr>\n",
       "    <tr>\n",
       "      <th>Belgium-Wallonia</th>\n",
       "      <td>6.385857</td>\n",
       "    </tr>\n",
       "    <tr>\n",
       "      <th>Belgium-Flanders</th>\n",
       "      <td>6.213375</td>\n",
       "    </tr>\n",
       "    <tr>\n",
       "      <th>France</th>\n",
       "      <td>5.931092</td>\n",
       "    </tr>\n",
       "    <tr>\n",
       "      <th>UK</th>\n",
       "      <td>5.852048</td>\n",
       "    </tr>\n",
       "    <tr>\n",
       "      <th>Denmark</th>\n",
       "      <td>5.768523</td>\n",
       "    </tr>\n",
       "    <tr>\n",
       "      <th>Austria</th>\n",
       "      <td>5.671416</td>\n",
       "    </tr>\n",
       "    <tr>\n",
       "      <th>Italy</th>\n",
       "      <td>5.491627</td>\n",
       "    </tr>\n",
       "    <tr>\n",
       "      <th>Sweden</th>\n",
       "      <td>5.288577</td>\n",
       "    </tr>\n",
       "    <tr>\n",
       "      <th>Germany</th>\n",
       "      <td>5.247768</td>\n",
       "    </tr>\n",
       "    <tr>\n",
       "      <th>Netherlands</th>\n",
       "      <td>4.788766</td>\n",
       "    </tr>\n",
       "  </tbody>\n",
       "</table>\n",
       "</div>"
      ],
      "text/plain": [
       "                  Average CM Score Out of 10\n",
       "Country                                     \n",
       "Portugal                            7.037971\n",
       "Spain                               6.961841\n",
       "Romania                             6.733859\n",
       "Hungary                             6.551568\n",
       "Poland                              6.409459\n",
       "Belgium-Wallonia                    6.385857\n",
       "Belgium-Flanders                    6.213375\n",
       "France                              5.931092\n",
       "UK                                  5.852048\n",
       "Denmark                             5.768523\n",
       "Austria                             5.671416\n",
       "Italy                               5.491627\n",
       "Sweden                              5.288577\n",
       "Germany                             5.247768\n",
       "Netherlands                         4.788766"
      ]
     },
     "execution_count": 98,
     "metadata": {},
     "output_type": "execute_result"
    }
   ],
   "source": [
    "# Group by country and average CM5x\n",
    "\n",
    "country_averages2 = pd.DataFrame({'Average CM Score Out of 10': df2.groupby('Country')['CM5x'].mean()-1})\n",
    "country_averages2.sort_values(by='Average CM Score Out of 10', ascending=False)"
   ]
  },
  {
   "cell_type": "code",
   "execution_count": 99,
   "id": "1544b0c7",
   "metadata": {
    "scrolled": true
   },
   "outputs": [
    {
     "data": {
      "application/vnd.plotly.v1+json": {
       "config": {
        "plotlyServerURL": "https://plot.ly"
       },
       "data": [
        {
         "coloraxis": "coloraxis",
         "geo": "geo",
         "hovertemplate": "locations=%{location}<br>Average CM Score Out of 10=%{z}<extra></extra>",
         "locationmode": "country names",
         "locations": [
          "Austria",
          "Belgium-Flanders",
          "Belgium-Wallonia",
          "Denmark",
          "France",
          "Germany",
          "Hungary",
          "Italy",
          "Netherlands",
          "Poland",
          "Portugal",
          "Romania",
          "Spain",
          "Sweden",
          "UK"
         ],
         "marker": {
          "line": {
           "width": 0.3
          }
         },
         "name": "",
         "type": "choropleth",
         "z": [
          5.6714160070360595,
          6.213375224416517,
          6.385857461024499,
          5.768523002421308,
          5.931091676718938,
          5.247768002606713,
          6.551567944250871,
          5.49162724692526,
          4.788766043970009,
          6.409459459459459,
          7.037971304637971,
          6.733859470468431,
          6.961840805846337,
          5.288577291381669,
          5.852047556142669
         ]
        }
       ],
       "layout": {
        "coloraxis": {
         "colorbar": {
          "title": {
           "text": "Average CM Score Out of 10"
          }
         },
         "colorscale": [
          [
           0,
           "rgb(255,245,240)"
          ],
          [
           0.125,
           "rgb(254,224,210)"
          ],
          [
           0.25,
           "rgb(252,187,161)"
          ],
          [
           0.375,
           "rgb(252,146,114)"
          ],
          [
           0.5,
           "rgb(251,106,74)"
          ],
          [
           0.625,
           "rgb(239,59,44)"
          ],
          [
           0.75,
           "rgb(203,24,29)"
          ],
          [
           0.875,
           "rgb(165,15,21)"
          ],
          [
           1,
           "rgb(103,0,13)"
          ]
         ]
        },
        "geo": {
         "center": {},
         "domain": {
          "x": [
           0,
           1
          ],
          "y": [
           0,
           1
          ]
         },
         "fitbounds": "locations",
         "scope": "europe"
        },
        "legend": {
         "tracegroupgap": 0
        },
        "template": {
         "data": {
          "bar": [
           {
            "error_x": {
             "color": "#2a3f5f"
            },
            "error_y": {
             "color": "#2a3f5f"
            },
            "marker": {
             "line": {
              "color": "#E5ECF6",
              "width": 0.5
             },
             "pattern": {
              "fillmode": "overlay",
              "size": 10,
              "solidity": 0.2
             }
            },
            "type": "bar"
           }
          ],
          "barpolar": [
           {
            "marker": {
             "line": {
              "color": "#E5ECF6",
              "width": 0.5
             },
             "pattern": {
              "fillmode": "overlay",
              "size": 10,
              "solidity": 0.2
             }
            },
            "type": "barpolar"
           }
          ],
          "carpet": [
           {
            "aaxis": {
             "endlinecolor": "#2a3f5f",
             "gridcolor": "white",
             "linecolor": "white",
             "minorgridcolor": "white",
             "startlinecolor": "#2a3f5f"
            },
            "baxis": {
             "endlinecolor": "#2a3f5f",
             "gridcolor": "white",
             "linecolor": "white",
             "minorgridcolor": "white",
             "startlinecolor": "#2a3f5f"
            },
            "type": "carpet"
           }
          ],
          "choropleth": [
           {
            "colorbar": {
             "outlinewidth": 0,
             "ticks": ""
            },
            "type": "choropleth"
           }
          ],
          "contour": [
           {
            "colorbar": {
             "outlinewidth": 0,
             "ticks": ""
            },
            "colorscale": [
             [
              0,
              "#0d0887"
             ],
             [
              0.1111111111111111,
              "#46039f"
             ],
             [
              0.2222222222222222,
              "#7201a8"
             ],
             [
              0.3333333333333333,
              "#9c179e"
             ],
             [
              0.4444444444444444,
              "#bd3786"
             ],
             [
              0.5555555555555556,
              "#d8576b"
             ],
             [
              0.6666666666666666,
              "#ed7953"
             ],
             [
              0.7777777777777778,
              "#fb9f3a"
             ],
             [
              0.8888888888888888,
              "#fdca26"
             ],
             [
              1,
              "#f0f921"
             ]
            ],
            "type": "contour"
           }
          ],
          "contourcarpet": [
           {
            "colorbar": {
             "outlinewidth": 0,
             "ticks": ""
            },
            "type": "contourcarpet"
           }
          ],
          "heatmap": [
           {
            "colorbar": {
             "outlinewidth": 0,
             "ticks": ""
            },
            "colorscale": [
             [
              0,
              "#0d0887"
             ],
             [
              0.1111111111111111,
              "#46039f"
             ],
             [
              0.2222222222222222,
              "#7201a8"
             ],
             [
              0.3333333333333333,
              "#9c179e"
             ],
             [
              0.4444444444444444,
              "#bd3786"
             ],
             [
              0.5555555555555556,
              "#d8576b"
             ],
             [
              0.6666666666666666,
              "#ed7953"
             ],
             [
              0.7777777777777778,
              "#fb9f3a"
             ],
             [
              0.8888888888888888,
              "#fdca26"
             ],
             [
              1,
              "#f0f921"
             ]
            ],
            "type": "heatmap"
           }
          ],
          "heatmapgl": [
           {
            "colorbar": {
             "outlinewidth": 0,
             "ticks": ""
            },
            "colorscale": [
             [
              0,
              "#0d0887"
             ],
             [
              0.1111111111111111,
              "#46039f"
             ],
             [
              0.2222222222222222,
              "#7201a8"
             ],
             [
              0.3333333333333333,
              "#9c179e"
             ],
             [
              0.4444444444444444,
              "#bd3786"
             ],
             [
              0.5555555555555556,
              "#d8576b"
             ],
             [
              0.6666666666666666,
              "#ed7953"
             ],
             [
              0.7777777777777778,
              "#fb9f3a"
             ],
             [
              0.8888888888888888,
              "#fdca26"
             ],
             [
              1,
              "#f0f921"
             ]
            ],
            "type": "heatmapgl"
           }
          ],
          "histogram": [
           {
            "marker": {
             "pattern": {
              "fillmode": "overlay",
              "size": 10,
              "solidity": 0.2
             }
            },
            "type": "histogram"
           }
          ],
          "histogram2d": [
           {
            "colorbar": {
             "outlinewidth": 0,
             "ticks": ""
            },
            "colorscale": [
             [
              0,
              "#0d0887"
             ],
             [
              0.1111111111111111,
              "#46039f"
             ],
             [
              0.2222222222222222,
              "#7201a8"
             ],
             [
              0.3333333333333333,
              "#9c179e"
             ],
             [
              0.4444444444444444,
              "#bd3786"
             ],
             [
              0.5555555555555556,
              "#d8576b"
             ],
             [
              0.6666666666666666,
              "#ed7953"
             ],
             [
              0.7777777777777778,
              "#fb9f3a"
             ],
             [
              0.8888888888888888,
              "#fdca26"
             ],
             [
              1,
              "#f0f921"
             ]
            ],
            "type": "histogram2d"
           }
          ],
          "histogram2dcontour": [
           {
            "colorbar": {
             "outlinewidth": 0,
             "ticks": ""
            },
            "colorscale": [
             [
              0,
              "#0d0887"
             ],
             [
              0.1111111111111111,
              "#46039f"
             ],
             [
              0.2222222222222222,
              "#7201a8"
             ],
             [
              0.3333333333333333,
              "#9c179e"
             ],
             [
              0.4444444444444444,
              "#bd3786"
             ],
             [
              0.5555555555555556,
              "#d8576b"
             ],
             [
              0.6666666666666666,
              "#ed7953"
             ],
             [
              0.7777777777777778,
              "#fb9f3a"
             ],
             [
              0.8888888888888888,
              "#fdca26"
             ],
             [
              1,
              "#f0f921"
             ]
            ],
            "type": "histogram2dcontour"
           }
          ],
          "mesh3d": [
           {
            "colorbar": {
             "outlinewidth": 0,
             "ticks": ""
            },
            "type": "mesh3d"
           }
          ],
          "parcoords": [
           {
            "line": {
             "colorbar": {
              "outlinewidth": 0,
              "ticks": ""
             }
            },
            "type": "parcoords"
           }
          ],
          "pie": [
           {
            "automargin": true,
            "type": "pie"
           }
          ],
          "scatter": [
           {
            "fillpattern": {
             "fillmode": "overlay",
             "size": 10,
             "solidity": 0.2
            },
            "type": "scatter"
           }
          ],
          "scatter3d": [
           {
            "line": {
             "colorbar": {
              "outlinewidth": 0,
              "ticks": ""
             }
            },
            "marker": {
             "colorbar": {
              "outlinewidth": 0,
              "ticks": ""
             }
            },
            "type": "scatter3d"
           }
          ],
          "scattercarpet": [
           {
            "marker": {
             "colorbar": {
              "outlinewidth": 0,
              "ticks": ""
             }
            },
            "type": "scattercarpet"
           }
          ],
          "scattergeo": [
           {
            "marker": {
             "colorbar": {
              "outlinewidth": 0,
              "ticks": ""
             }
            },
            "type": "scattergeo"
           }
          ],
          "scattergl": [
           {
            "marker": {
             "colorbar": {
              "outlinewidth": 0,
              "ticks": ""
             }
            },
            "type": "scattergl"
           }
          ],
          "scattermapbox": [
           {
            "marker": {
             "colorbar": {
              "outlinewidth": 0,
              "ticks": ""
             }
            },
            "type": "scattermapbox"
           }
          ],
          "scatterpolar": [
           {
            "marker": {
             "colorbar": {
              "outlinewidth": 0,
              "ticks": ""
             }
            },
            "type": "scatterpolar"
           }
          ],
          "scatterpolargl": [
           {
            "marker": {
             "colorbar": {
              "outlinewidth": 0,
              "ticks": ""
             }
            },
            "type": "scatterpolargl"
           }
          ],
          "scatterternary": [
           {
            "marker": {
             "colorbar": {
              "outlinewidth": 0,
              "ticks": ""
             }
            },
            "type": "scatterternary"
           }
          ],
          "surface": [
           {
            "colorbar": {
             "outlinewidth": 0,
             "ticks": ""
            },
            "colorscale": [
             [
              0,
              "#0d0887"
             ],
             [
              0.1111111111111111,
              "#46039f"
             ],
             [
              0.2222222222222222,
              "#7201a8"
             ],
             [
              0.3333333333333333,
              "#9c179e"
             ],
             [
              0.4444444444444444,
              "#bd3786"
             ],
             [
              0.5555555555555556,
              "#d8576b"
             ],
             [
              0.6666666666666666,
              "#ed7953"
             ],
             [
              0.7777777777777778,
              "#fb9f3a"
             ],
             [
              0.8888888888888888,
              "#fdca26"
             ],
             [
              1,
              "#f0f921"
             ]
            ],
            "type": "surface"
           }
          ],
          "table": [
           {
            "cells": {
             "fill": {
              "color": "#EBF0F8"
             },
             "line": {
              "color": "white"
             }
            },
            "header": {
             "fill": {
              "color": "#C8D4E3"
             },
             "line": {
              "color": "white"
             }
            },
            "type": "table"
           }
          ]
         },
         "layout": {
          "annotationdefaults": {
           "arrowcolor": "#2a3f5f",
           "arrowhead": 0,
           "arrowwidth": 1
          },
          "autotypenumbers": "strict",
          "coloraxis": {
           "colorbar": {
            "outlinewidth": 0,
            "ticks": ""
           }
          },
          "colorscale": {
           "diverging": [
            [
             0,
             "#8e0152"
            ],
            [
             0.1,
             "#c51b7d"
            ],
            [
             0.2,
             "#de77ae"
            ],
            [
             0.3,
             "#f1b6da"
            ],
            [
             0.4,
             "#fde0ef"
            ],
            [
             0.5,
             "#f7f7f7"
            ],
            [
             0.6,
             "#e6f5d0"
            ],
            [
             0.7,
             "#b8e186"
            ],
            [
             0.8,
             "#7fbc41"
            ],
            [
             0.9,
             "#4d9221"
            ],
            [
             1,
             "#276419"
            ]
           ],
           "sequential": [
            [
             0,
             "#0d0887"
            ],
            [
             0.1111111111111111,
             "#46039f"
            ],
            [
             0.2222222222222222,
             "#7201a8"
            ],
            [
             0.3333333333333333,
             "#9c179e"
            ],
            [
             0.4444444444444444,
             "#bd3786"
            ],
            [
             0.5555555555555556,
             "#d8576b"
            ],
            [
             0.6666666666666666,
             "#ed7953"
            ],
            [
             0.7777777777777778,
             "#fb9f3a"
            ],
            [
             0.8888888888888888,
             "#fdca26"
            ],
            [
             1,
             "#f0f921"
            ]
           ],
           "sequentialminus": [
            [
             0,
             "#0d0887"
            ],
            [
             0.1111111111111111,
             "#46039f"
            ],
            [
             0.2222222222222222,
             "#7201a8"
            ],
            [
             0.3333333333333333,
             "#9c179e"
            ],
            [
             0.4444444444444444,
             "#bd3786"
            ],
            [
             0.5555555555555556,
             "#d8576b"
            ],
            [
             0.6666666666666666,
             "#ed7953"
            ],
            [
             0.7777777777777778,
             "#fb9f3a"
            ],
            [
             0.8888888888888888,
             "#fdca26"
            ],
            [
             1,
             "#f0f921"
            ]
           ]
          },
          "colorway": [
           "#636efa",
           "#EF553B",
           "#00cc96",
           "#ab63fa",
           "#FFA15A",
           "#19d3f3",
           "#FF6692",
           "#B6E880",
           "#FF97FF",
           "#FECB52"
          ],
          "font": {
           "color": "#2a3f5f"
          },
          "geo": {
           "bgcolor": "white",
           "lakecolor": "white",
           "landcolor": "#E5ECF6",
           "showlakes": true,
           "showland": true,
           "subunitcolor": "white"
          },
          "hoverlabel": {
           "align": "left"
          },
          "hovermode": "closest",
          "mapbox": {
           "style": "light"
          },
          "paper_bgcolor": "white",
          "plot_bgcolor": "#E5ECF6",
          "polar": {
           "angularaxis": {
            "gridcolor": "white",
            "linecolor": "white",
            "ticks": ""
           },
           "bgcolor": "#E5ECF6",
           "radialaxis": {
            "gridcolor": "white",
            "linecolor": "white",
            "ticks": ""
           }
          },
          "scene": {
           "xaxis": {
            "backgroundcolor": "#E5ECF6",
            "gridcolor": "white",
            "gridwidth": 2,
            "linecolor": "white",
            "showbackground": true,
            "ticks": "",
            "zerolinecolor": "white"
           },
           "yaxis": {
            "backgroundcolor": "#E5ECF6",
            "gridcolor": "white",
            "gridwidth": 2,
            "linecolor": "white",
            "showbackground": true,
            "ticks": "",
            "zerolinecolor": "white"
           },
           "zaxis": {
            "backgroundcolor": "#E5ECF6",
            "gridcolor": "white",
            "gridwidth": 2,
            "linecolor": "white",
            "showbackground": true,
            "ticks": "",
            "zerolinecolor": "white"
           }
          },
          "shapedefaults": {
           "line": {
            "color": "#2a3f5f"
           }
          },
          "ternary": {
           "aaxis": {
            "gridcolor": "white",
            "linecolor": "white",
            "ticks": ""
           },
           "baxis": {
            "gridcolor": "white",
            "linecolor": "white",
            "ticks": ""
           },
           "bgcolor": "#E5ECF6",
           "caxis": {
            "gridcolor": "white",
            "linecolor": "white",
            "ticks": ""
           }
          },
          "title": {
           "x": 0.05
          },
          "xaxis": {
           "automargin": true,
           "gridcolor": "white",
           "linecolor": "white",
           "ticks": "",
           "title": {
            "standoff": 15
           },
           "zerolinecolor": "white",
           "zerolinewidth": 2
          },
          "yaxis": {
           "automargin": true,
           "gridcolor": "white",
           "linecolor": "white",
           "ticks": "",
           "title": {
            "standoff": 15
           },
           "zerolinecolor": "white",
           "zerolinewidth": 2
          }
         }
        },
        "title": {
         "text": "\n\nAverage Conspiracy Mentality Score by Country <br>\n<sup>This interactive map displays the average conspiracy mentality score for each country\nin the second study from Imhoff et al. 2022.\n\n                    "
        }
       }
      },
      "text/html": [
       "<div>                            <div id=\"61a6f274-4448-4382-b8fc-909232ba45c9\" class=\"plotly-graph-div\" style=\"height:525px; width:100%;\"></div>            <script type=\"text/javascript\">                require([\"plotly\"], function(Plotly) {                    window.PLOTLYENV=window.PLOTLYENV || {};                                    if (document.getElementById(\"61a6f274-4448-4382-b8fc-909232ba45c9\")) {                    Plotly.newPlot(                        \"61a6f274-4448-4382-b8fc-909232ba45c9\",                        [{\"coloraxis\":\"coloraxis\",\"geo\":\"geo\",\"hovertemplate\":\"locations=%{location}<br>Average CM Score Out of 10=%{z}<extra></extra>\",\"locationmode\":\"country names\",\"locations\":[\"Austria\",\"Belgium-Flanders\",\"Belgium-Wallonia\",\"Denmark\",\"France\",\"Germany\",\"Hungary\",\"Italy\",\"Netherlands\",\"Poland\",\"Portugal\",\"Romania\",\"Spain\",\"Sweden\",\"UK\"],\"name\":\"\",\"z\":[5.6714160070360595,6.213375224416517,6.385857461024499,5.768523002421308,5.931091676718938,5.247768002606713,6.551567944250871,5.49162724692526,4.788766043970009,6.409459459459459,7.037971304637971,6.733859470468431,6.961840805846337,5.288577291381669,5.852047556142669],\"type\":\"choropleth\",\"marker\":{\"line\":{\"width\":0.3}}}],                        {\"template\":{\"data\":{\"histogram2dcontour\":[{\"type\":\"histogram2dcontour\",\"colorbar\":{\"outlinewidth\":0,\"ticks\":\"\"},\"colorscale\":[[0.0,\"#0d0887\"],[0.1111111111111111,\"#46039f\"],[0.2222222222222222,\"#7201a8\"],[0.3333333333333333,\"#9c179e\"],[0.4444444444444444,\"#bd3786\"],[0.5555555555555556,\"#d8576b\"],[0.6666666666666666,\"#ed7953\"],[0.7777777777777778,\"#fb9f3a\"],[0.8888888888888888,\"#fdca26\"],[1.0,\"#f0f921\"]]}],\"choropleth\":[{\"type\":\"choropleth\",\"colorbar\":{\"outlinewidth\":0,\"ticks\":\"\"}}],\"histogram2d\":[{\"type\":\"histogram2d\",\"colorbar\":{\"outlinewidth\":0,\"ticks\":\"\"},\"colorscale\":[[0.0,\"#0d0887\"],[0.1111111111111111,\"#46039f\"],[0.2222222222222222,\"#7201a8\"],[0.3333333333333333,\"#9c179e\"],[0.4444444444444444,\"#bd3786\"],[0.5555555555555556,\"#d8576b\"],[0.6666666666666666,\"#ed7953\"],[0.7777777777777778,\"#fb9f3a\"],[0.8888888888888888,\"#fdca26\"],[1.0,\"#f0f921\"]]}],\"heatmap\":[{\"type\":\"heatmap\",\"colorbar\":{\"outlinewidth\":0,\"ticks\":\"\"},\"colorscale\":[[0.0,\"#0d0887\"],[0.1111111111111111,\"#46039f\"],[0.2222222222222222,\"#7201a8\"],[0.3333333333333333,\"#9c179e\"],[0.4444444444444444,\"#bd3786\"],[0.5555555555555556,\"#d8576b\"],[0.6666666666666666,\"#ed7953\"],[0.7777777777777778,\"#fb9f3a\"],[0.8888888888888888,\"#fdca26\"],[1.0,\"#f0f921\"]]}],\"heatmapgl\":[{\"type\":\"heatmapgl\",\"colorbar\":{\"outlinewidth\":0,\"ticks\":\"\"},\"colorscale\":[[0.0,\"#0d0887\"],[0.1111111111111111,\"#46039f\"],[0.2222222222222222,\"#7201a8\"],[0.3333333333333333,\"#9c179e\"],[0.4444444444444444,\"#bd3786\"],[0.5555555555555556,\"#d8576b\"],[0.6666666666666666,\"#ed7953\"],[0.7777777777777778,\"#fb9f3a\"],[0.8888888888888888,\"#fdca26\"],[1.0,\"#f0f921\"]]}],\"contourcarpet\":[{\"type\":\"contourcarpet\",\"colorbar\":{\"outlinewidth\":0,\"ticks\":\"\"}}],\"contour\":[{\"type\":\"contour\",\"colorbar\":{\"outlinewidth\":0,\"ticks\":\"\"},\"colorscale\":[[0.0,\"#0d0887\"],[0.1111111111111111,\"#46039f\"],[0.2222222222222222,\"#7201a8\"],[0.3333333333333333,\"#9c179e\"],[0.4444444444444444,\"#bd3786\"],[0.5555555555555556,\"#d8576b\"],[0.6666666666666666,\"#ed7953\"],[0.7777777777777778,\"#fb9f3a\"],[0.8888888888888888,\"#fdca26\"],[1.0,\"#f0f921\"]]}],\"surface\":[{\"type\":\"surface\",\"colorbar\":{\"outlinewidth\":0,\"ticks\":\"\"},\"colorscale\":[[0.0,\"#0d0887\"],[0.1111111111111111,\"#46039f\"],[0.2222222222222222,\"#7201a8\"],[0.3333333333333333,\"#9c179e\"],[0.4444444444444444,\"#bd3786\"],[0.5555555555555556,\"#d8576b\"],[0.6666666666666666,\"#ed7953\"],[0.7777777777777778,\"#fb9f3a\"],[0.8888888888888888,\"#fdca26\"],[1.0,\"#f0f921\"]]}],\"mesh3d\":[{\"type\":\"mesh3d\",\"colorbar\":{\"outlinewidth\":0,\"ticks\":\"\"}}],\"scatter\":[{\"fillpattern\":{\"fillmode\":\"overlay\",\"size\":10,\"solidity\":0.2},\"type\":\"scatter\"}],\"parcoords\":[{\"type\":\"parcoords\",\"line\":{\"colorbar\":{\"outlinewidth\":0,\"ticks\":\"\"}}}],\"scatterpolargl\":[{\"type\":\"scatterpolargl\",\"marker\":{\"colorbar\":{\"outlinewidth\":0,\"ticks\":\"\"}}}],\"bar\":[{\"error_x\":{\"color\":\"#2a3f5f\"},\"error_y\":{\"color\":\"#2a3f5f\"},\"marker\":{\"line\":{\"color\":\"#E5ECF6\",\"width\":0.5},\"pattern\":{\"fillmode\":\"overlay\",\"size\":10,\"solidity\":0.2}},\"type\":\"bar\"}],\"scattergeo\":[{\"type\":\"scattergeo\",\"marker\":{\"colorbar\":{\"outlinewidth\":0,\"ticks\":\"\"}}}],\"scatterpolar\":[{\"type\":\"scatterpolar\",\"marker\":{\"colorbar\":{\"outlinewidth\":0,\"ticks\":\"\"}}}],\"histogram\":[{\"marker\":{\"pattern\":{\"fillmode\":\"overlay\",\"size\":10,\"solidity\":0.2}},\"type\":\"histogram\"}],\"scattergl\":[{\"type\":\"scattergl\",\"marker\":{\"colorbar\":{\"outlinewidth\":0,\"ticks\":\"\"}}}],\"scatter3d\":[{\"type\":\"scatter3d\",\"line\":{\"colorbar\":{\"outlinewidth\":0,\"ticks\":\"\"}},\"marker\":{\"colorbar\":{\"outlinewidth\":0,\"ticks\":\"\"}}}],\"scattermapbox\":[{\"type\":\"scattermapbox\",\"marker\":{\"colorbar\":{\"outlinewidth\":0,\"ticks\":\"\"}}}],\"scatterternary\":[{\"type\":\"scatterternary\",\"marker\":{\"colorbar\":{\"outlinewidth\":0,\"ticks\":\"\"}}}],\"scattercarpet\":[{\"type\":\"scattercarpet\",\"marker\":{\"colorbar\":{\"outlinewidth\":0,\"ticks\":\"\"}}}],\"carpet\":[{\"aaxis\":{\"endlinecolor\":\"#2a3f5f\",\"gridcolor\":\"white\",\"linecolor\":\"white\",\"minorgridcolor\":\"white\",\"startlinecolor\":\"#2a3f5f\"},\"baxis\":{\"endlinecolor\":\"#2a3f5f\",\"gridcolor\":\"white\",\"linecolor\":\"white\",\"minorgridcolor\":\"white\",\"startlinecolor\":\"#2a3f5f\"},\"type\":\"carpet\"}],\"table\":[{\"cells\":{\"fill\":{\"color\":\"#EBF0F8\"},\"line\":{\"color\":\"white\"}},\"header\":{\"fill\":{\"color\":\"#C8D4E3\"},\"line\":{\"color\":\"white\"}},\"type\":\"table\"}],\"barpolar\":[{\"marker\":{\"line\":{\"color\":\"#E5ECF6\",\"width\":0.5},\"pattern\":{\"fillmode\":\"overlay\",\"size\":10,\"solidity\":0.2}},\"type\":\"barpolar\"}],\"pie\":[{\"automargin\":true,\"type\":\"pie\"}]},\"layout\":{\"autotypenumbers\":\"strict\",\"colorway\":[\"#636efa\",\"#EF553B\",\"#00cc96\",\"#ab63fa\",\"#FFA15A\",\"#19d3f3\",\"#FF6692\",\"#B6E880\",\"#FF97FF\",\"#FECB52\"],\"font\":{\"color\":\"#2a3f5f\"},\"hovermode\":\"closest\",\"hoverlabel\":{\"align\":\"left\"},\"paper_bgcolor\":\"white\",\"plot_bgcolor\":\"#E5ECF6\",\"polar\":{\"bgcolor\":\"#E5ECF6\",\"angularaxis\":{\"gridcolor\":\"white\",\"linecolor\":\"white\",\"ticks\":\"\"},\"radialaxis\":{\"gridcolor\":\"white\",\"linecolor\":\"white\",\"ticks\":\"\"}},\"ternary\":{\"bgcolor\":\"#E5ECF6\",\"aaxis\":{\"gridcolor\":\"white\",\"linecolor\":\"white\",\"ticks\":\"\"},\"baxis\":{\"gridcolor\":\"white\",\"linecolor\":\"white\",\"ticks\":\"\"},\"caxis\":{\"gridcolor\":\"white\",\"linecolor\":\"white\",\"ticks\":\"\"}},\"coloraxis\":{\"colorbar\":{\"outlinewidth\":0,\"ticks\":\"\"}},\"colorscale\":{\"sequential\":[[0.0,\"#0d0887\"],[0.1111111111111111,\"#46039f\"],[0.2222222222222222,\"#7201a8\"],[0.3333333333333333,\"#9c179e\"],[0.4444444444444444,\"#bd3786\"],[0.5555555555555556,\"#d8576b\"],[0.6666666666666666,\"#ed7953\"],[0.7777777777777778,\"#fb9f3a\"],[0.8888888888888888,\"#fdca26\"],[1.0,\"#f0f921\"]],\"sequentialminus\":[[0.0,\"#0d0887\"],[0.1111111111111111,\"#46039f\"],[0.2222222222222222,\"#7201a8\"],[0.3333333333333333,\"#9c179e\"],[0.4444444444444444,\"#bd3786\"],[0.5555555555555556,\"#d8576b\"],[0.6666666666666666,\"#ed7953\"],[0.7777777777777778,\"#fb9f3a\"],[0.8888888888888888,\"#fdca26\"],[1.0,\"#f0f921\"]],\"diverging\":[[0,\"#8e0152\"],[0.1,\"#c51b7d\"],[0.2,\"#de77ae\"],[0.3,\"#f1b6da\"],[0.4,\"#fde0ef\"],[0.5,\"#f7f7f7\"],[0.6,\"#e6f5d0\"],[0.7,\"#b8e186\"],[0.8,\"#7fbc41\"],[0.9,\"#4d9221\"],[1,\"#276419\"]]},\"xaxis\":{\"gridcolor\":\"white\",\"linecolor\":\"white\",\"ticks\":\"\",\"title\":{\"standoff\":15},\"zerolinecolor\":\"white\",\"automargin\":true,\"zerolinewidth\":2},\"yaxis\":{\"gridcolor\":\"white\",\"linecolor\":\"white\",\"ticks\":\"\",\"title\":{\"standoff\":15},\"zerolinecolor\":\"white\",\"automargin\":true,\"zerolinewidth\":2},\"scene\":{\"xaxis\":{\"backgroundcolor\":\"#E5ECF6\",\"gridcolor\":\"white\",\"linecolor\":\"white\",\"showbackground\":true,\"ticks\":\"\",\"zerolinecolor\":\"white\",\"gridwidth\":2},\"yaxis\":{\"backgroundcolor\":\"#E5ECF6\",\"gridcolor\":\"white\",\"linecolor\":\"white\",\"showbackground\":true,\"ticks\":\"\",\"zerolinecolor\":\"white\",\"gridwidth\":2},\"zaxis\":{\"backgroundcolor\":\"#E5ECF6\",\"gridcolor\":\"white\",\"linecolor\":\"white\",\"showbackground\":true,\"ticks\":\"\",\"zerolinecolor\":\"white\",\"gridwidth\":2}},\"shapedefaults\":{\"line\":{\"color\":\"#2a3f5f\"}},\"annotationdefaults\":{\"arrowcolor\":\"#2a3f5f\",\"arrowhead\":0,\"arrowwidth\":1},\"geo\":{\"bgcolor\":\"white\",\"landcolor\":\"#E5ECF6\",\"subunitcolor\":\"white\",\"showland\":true,\"showlakes\":true,\"lakecolor\":\"white\"},\"title\":{\"x\":0.05},\"mapbox\":{\"style\":\"light\"}}},\"geo\":{\"domain\":{\"x\":[0.0,1.0],\"y\":[0.0,1.0]},\"center\":{},\"scope\":\"europe\",\"fitbounds\":\"locations\"},\"coloraxis\":{\"colorbar\":{\"title\":{\"text\":\"Average CM Score Out of 10\"}},\"colorscale\":[[0.0,\"rgb(255,245,240)\"],[0.125,\"rgb(254,224,210)\"],[0.25,\"rgb(252,187,161)\"],[0.375,\"rgb(252,146,114)\"],[0.5,\"rgb(251,106,74)\"],[0.625,\"rgb(239,59,44)\"],[0.75,\"rgb(203,24,29)\"],[0.875,\"rgb(165,15,21)\"],[1.0,\"rgb(103,0,13)\"]]},\"legend\":{\"tracegroupgap\":0},\"title\":{\"text\":\"\\n\\nAverage Conspiracy Mentality Score by Country <br>\\n<sup>This interactive map displays the average conspiracy mentality score for each country\\nin the second study from Imhoff et al. 2022.\\n\\n                    \"}},                        {\"responsive\": true}                    ).then(function(){\n",
       "                            \n",
       "var gd = document.getElementById('61a6f274-4448-4382-b8fc-909232ba45c9');\n",
       "var x = new MutationObserver(function (mutations, observer) {{\n",
       "        var display = window.getComputedStyle(gd).display;\n",
       "        if (!display || display === 'none') {{\n",
       "            console.log([gd, 'removed!']);\n",
       "            Plotly.purge(gd);\n",
       "            observer.disconnect();\n",
       "        }}\n",
       "}});\n",
       "\n",
       "// Listen for the removal of the full notebook cells\n",
       "var notebookContainer = gd.closest('#notebook-container');\n",
       "if (notebookContainer) {{\n",
       "    x.observe(notebookContainer, {childList: true});\n",
       "}}\n",
       "\n",
       "// Listen for the clearing of the current output cell\n",
       "var outputEl = gd.closest('.output');\n",
       "if (outputEl) {{\n",
       "    x.observe(outputEl, {childList: true});\n",
       "}}\n",
       "\n",
       "                        })                };                });            </script>        </div>"
      ]
     },
     "metadata": {},
     "output_type": "display_data"
    }
   ],
   "source": [
    "# Plotting average conspiracy score by country on map for df2\n",
    "\n",
    "fig = px.choropleth(country_averages2,\n",
    "                    locationmode='country names',\n",
    "                    locations=country_averages.index,\n",
    "                    color='Average CM Score Out of 10',\n",
    "                    color_continuous_scale='reds',\n",
    "                    fitbounds=\"locations\",\n",
    "                    scope='europe',\n",
    "                    title='''\n",
    "\n",
    "Average Conspiracy Mentality Score by Country <br>\n",
    "<sup>This interactive map displays the average conspiracy mentality score for each country\n",
    "in the second study from Imhoff et al. 2022.\n",
    "\n",
    "                    '''\n",
    "                    )\n",
    "fig.update_traces(marker_line_width=.3)\n",
    "\n",
    "fig.show()"
   ]
  },
  {
   "attachments": {
    "avg_CM_by_country2.png": {
     "image/png": "[encoded data removed]"
    }
   },
   "cell_type": "markdown",
   "id": "7eb134da",
   "metadata": {},
   "source": [
    "![avg_CM_by_country2.png](attachment:avg_CM_by_country2.png)"
   ]
  },
  {
   "cell_type": "markdown",
   "id": "dafb926f",
   "metadata": {},
   "source": [
    "The second survey involves fewer countries than the first, so we do not see results for initially high-scoring countries like Turkey and Hungary here. Portugal again rates very high on the CMQ, followed closely by Spain. The Netherlands again rates the lowest, and is again the only country with an average score below 5.\n",
    "\n",
    "Let's see what the mean and median `CM5x` score is for both datasets."
   ]
  },
  {
   "cell_type": "code",
   "execution_count": 100,
   "id": "a157f221",
   "metadata": {},
   "outputs": [
    {
     "name": "stdout",
     "output_type": "stream",
     "text": [
      "Dataset 1 mean CMQ score: 5.5293038797726295\n",
      "Dataset 1 median CMQ score: 5.6 \n",
      "\n",
      "Dataset 2 mean CMQ score: 5.94661353040181\n",
      "Dataset 2 median CMQ score: 6.0 \n",
      "\n"
     ]
    }
   ],
   "source": [
    "# Average CM5x for each dataset (note: subtracting 1 to put on a 10 point scale)\n",
    "\n",
    "print('Dataset 1 mean CMQ score:', df1['CM5x'].mean()-1)\n",
    "print('Dataset 1 median CMQ score:', df1['CM5x'].median()-1,'\\n')\n",
    "print('Dataset 2 mean CMQ score:', df2['CM5x'].mean()-1)\n",
    "print('Dataset 2 median CMQ score:', df2['CM5x'].median()-1,'\\n')"
   ]
  },
  {
   "cell_type": "markdown",
   "id": "fe1647c2",
   "metadata": {},
   "source": [
    "Notably, the mean and median values in CMQ score for both datasets is above 5, and close to 6 for the second dataset. This means that on average, respondants are more willing to say they find the statements somewhat likely to be true than that they are unlikely to be true.\n",
    "\n",
    "Let's also see how these values break down by sex."
   ]
  },
  {
   "cell_type": "code",
   "execution_count": 101,
   "id": "12f42aac",
   "metadata": {},
   "outputs": [
    {
     "name": "stdout",
     "output_type": "stream",
     "text": [
      "Mean scores by sex in df1\n",
      "Sex\n",
      "female    6.422864\n",
      "male      6.701631\n",
      "other     6.104651\n",
      "Name: CM5x, dtype: float64\n",
      "\n",
      "Median scores by sex in df1\n",
      "Sex\n",
      "female    6.6\n",
      "male      6.8\n",
      "other     6.3\n",
      "Name: CM5x, dtype: float64\n",
      "\n",
      "Mean scores by sex in df2\n",
      "Sex\n",
      "Female    7.177107\n",
      "Male      6.831201\n",
      "Name: CM5x, dtype: float64\n",
      "\n",
      "Median scores by sex in df2\n",
      "Sex\n",
      "Female    7.2\n",
      "Male      6.8\n",
      "Name: CM5x, dtype: float64\n"
     ]
    }
   ],
   "source": [
    "print('Mean scores by sex in df1')\n",
    "print(df1.groupby('Sex')['CM5x'].mean())\n",
    "\n",
    "print('\\nMedian scores by sex in df1')\n",
    "print(df1.groupby('Sex')['CM5x'].median())\n",
    "\n",
    "print('\\nMean scores by sex in df2')\n",
    "print(df2.groupby('Sex')['CM5x'].mean())\n",
    "\n",
    "print('\\nMedian scores by sex in df2')\n",
    "print(df2.groupby('Sex')['CM5x'].median())\n"
   ]
  },
  {
   "cell_type": "markdown",
   "id": "cc7e5433",
   "metadata": {},
   "source": [
    "Interestingly, we see a pattern where in the first dataset, male respondants scored slightly higher than female respondants (who scored higher than respondants who selected 'other'). In the second survey, the pattern is reversed; female respondants scored higher (and 'other' was no longer an option).\n",
    "\n",
    "Let's quickly see if these patterns are statistically significant."
   ]
  },
  {
   "cell_type": "markdown",
   "id": "21d89a77",
   "metadata": {},
   "source": [
    "$H_0$: the mean conspiracy mentalities among the different sex categories in the population are equal.\n",
    "\n",
    "$H_1$: the mean conspiracy mentalities among the sex categories in the population are not equal."
   ]
  },
  {
   "cell_type": "code",
   "execution_count": 102,
   "id": "30dc227d",
   "metadata": {
    "scrolled": true
   },
   "outputs": [
    {
     "data": {
      "text/plain": [
       "F_onewayResult(statistic=62.92405385698298, pvalue=5.311636281739257e-28)"
      ]
     },
     "execution_count": 102,
     "metadata": {},
     "output_type": "execute_result"
    }
   ],
   "source": [
    "# Preparing data for ANOVA test\n",
    "\n",
    "anova_data = {}\n",
    "sex_types = df1[\"Sex\"].unique()\n",
    "\n",
    "for sex in sex_types:\n",
    "    anova_data[sex] = df1.loc[df1[\"Sex\"] == sex, \"CM5x\"].dropna()\n",
    "\n",
    "# Running the test\n",
    "\n",
    "stats.f_oneway(anova_data[\"male\"], \n",
    "               anova_data[\"female\"], \n",
    "               anova_data[\"other\"])"
   ]
  },
  {
   "cell_type": "markdown",
   "id": "5fb74032",
   "metadata": {},
   "source": [
    "We see that the result here is statistically significant at the .05 level (and at stricter significance levels as well). Our test suggests that we can reject the null hypothesis, that the means in the population between sexes are the same. We can do the same for the second datset."
   ]
  },
  {
   "cell_type": "code",
   "execution_count": 103,
   "id": "afd15073",
   "metadata": {},
   "outputs": [
    {
     "data": {
      "text/plain": [
       "F_onewayResult(statistic=305.8878414921635, pvalue=2.7401679735184845e-68)"
      ]
     },
     "execution_count": 103,
     "metadata": {},
     "output_type": "execute_result"
    }
   ],
   "source": [
    "# Preparing data for ANOVA test\n",
    "\n",
    "anova_data2 = {}\n",
    "sex_types = df2[\"Sex\"].unique()\n",
    "\n",
    "for sex in sex_types:\n",
    "    anova_data2[sex] = df2.loc[df2[\"Sex\"] == sex, \"CM5x\"].dropna()\n",
    "\n",
    "# Running the test\n",
    "\n",
    "stats.f_oneway(anova_data2[\"Male\"], \n",
    "               anova_data2[\"Female\"])"
   ]
  },
  {
   "cell_type": "markdown",
   "id": "052c7f03",
   "metadata": {},
   "source": [
    "Again, our p-value is below the .05 threshold as well as far stricter thresholds. We can tentatively reject the null hypothesis that the means are the same in the population. This could reflect a change in male and female attitudes between the two surveys. But it could also reflect the inclusion of a third category ('other') in survey 1 but not survey 2, which is perhaps affecting the data.\n",
    "\n",
    "Let's also look at the average and median score for each statement in the CMQ."
   ]
  },
  {
   "cell_type": "code",
   "execution_count": 104,
   "id": "bded2b03",
   "metadata": {},
   "outputs": [
    {
     "name": "stdout",
     "output_type": "stream",
     "text": [
      "Dataset 1 mean CMQ_1 score: 6.831420321420321\n",
      "Dataset 1 median CMQ_1 score: 7.0 \n",
      "\n",
      "Dataset 2 mean CMQ_1 score: 6.952635814136273\n",
      "Dataset 2 median CMQ_1 score: 7.0 \n",
      "\n",
      "Dataset 1 mean CMQ_2 score: 6.812729506653588\n",
      "Dataset 1 median CMQ_2 score: 7.0 \n",
      "\n",
      "Dataset 2 mean CMQ_2 score: 7.164571320540693\n",
      "Dataset 2 median CMQ_2 score: 7.0 \n",
      "\n",
      "Dataset 1 mean CMQ_3 score: 4.674315313169801\n",
      "Dataset 1 median CMQ_3 score: 5.0 \n",
      "\n",
      "Dataset 2 mean CMQ_3 score: 5.307487237663074\n",
      "Dataset 2 median CMQ_3 score: 6.0 \n",
      "\n",
      "Dataset 1 mean CMQ_4 score: 4.287526202316766\n",
      "Dataset 1 median CMQ_4 score: 4.0 \n",
      "\n",
      "Dataset 2 mean CMQ_4 score: 4.891422284608672\n",
      "Dataset 2 median CMQ_4 score: 5.0 \n",
      "\n",
      "Dataset 1 mean CMQ_5 score: 5.068313850337429\n",
      "Dataset 1 median CMQ_5 score: 5.0 \n",
      "\n",
      "Dataset 2 mean CMQ_5 score: 5.476970938614462\n",
      "Dataset 2 median CMQ_5 score: 6.0 \n",
      "\n"
     ]
    }
   ],
   "source": [
    "# Average CMQ scores by question\n",
    "\n",
    "for i in range(1,6):\n",
    "    print(f'Dataset 1 mean CMQ_{i} score:', df1['CMQ_'+str(i)].mean()-1)\n",
    "    print(f'Dataset 1 median CMQ_{i} score:', df1['CMQ_'+str(i)].median()-1,'\\n')\n",
    "    print(f'Dataset 2 mean CMQ_{i} score:', df2['CMQ_'+str(i)].mean()-1)\n",
    "    print(f'Dataset 2 median CMQ_{i} score:', df2['CMQ_'+str(i)].median()-1,'\\n')"
   ]
  },
  {
   "cell_type": "markdown",
   "id": "24fbdf3b",
   "metadata": {},
   "source": [
    "For reference, recall that the statments are as follows:\n",
    "1. *I think that many very important things happen in the world, which the public is never informed about.*\n",
    "2. *I think that politicians usually do not tell us the true motives for their decisions.*\n",
    "3. *I think that government agencies closely monitor all citizens.*\n",
    "4. *I think that events which superficially seem to lack a connection are often the result of secret activities.*\n",
    "5. *I think that there are secret organizations that greatly influence political decisions.*\n",
    "\n",
    "We see quite high levels of mean and median confidence in statements 1 and 2 (around 7). However, there is a case to be made that these statements have interpretations which we would not ordinarily understand as reflecting high conspiracy mentality. For example, someone who believes that politicians make the policy choices they do because they think it will help them to get elected or stay in power (rather than because they truly believe them to be optimal) might express high confidence in statement 2, but it seems odd to characterize such a response as high in conspiracy mentality.\n",
    "\n",
    "In future data analysis, we should investigate further whether we can correlate these columns with the independent measures of conspiracy mentality (i.e., with the `CT_` columns, reflecting endorsement of country-specific conspiracy theories). Perhaps we can make a case that the best version of our target variable is not a straightforward average of the CMQ responses."
   ]
  },
  {
   "cell_type": "markdown",
   "id": "d3199f5b",
   "metadata": {},
   "source": [
    "<a id = 'conclusion'></a>\n",
    "### Conclusion and Next Steps"
   ]
  },
  {
   "cell_type": "markdown",
   "id": "063e60bf",
   "metadata": {},
   "source": [
    "The main conclusions of our initial EDA are as follows:\n",
    "\n",
    "- There is a large amount of missing data in various columns, and there are patterns in the missing data by country (especially in the first dataset).\n",
    "- We can see some interesting differences in the average CMQ scores across countries and between sexes.\n",
    "- The average scores for each CMQ item are different, and this perhaps reflects variability in the validity of each statement as a measure of conspiracy mentality.\n",
    "\n",
    "The next steps we plan to take:\n",
    "\n",
    "- Further investigate and decide how to handle missing data (what can be imputed and how, and what cannot).\n",
    "- Determine initial modeling approaches\n",
    "- Decide how to encode target variable (should it be a straight average, or an average of certain questions? Are there further patterns in the CMQ data which would support, e.g., turning it into a binary variable of 'low/high' score?)"
   ]
  }
 ],
 "metadata": {
  "kernelspec": {
   "display_name": "Python 3 (ipykernel)",
   "language": "python",
   "name": "python3"
  },
  "language_info": {
   "codemirror_mode": {
    "name": "ipython",
    "version": 3
   },
   "file_extension": ".py",
   "mimetype": "text/x-python",
   "name": "python",
   "nbconvert_exporter": "python",
   "pygments_lexer": "ipython3",
   "version": "3.10.9"
  }
 },
 "nbformat": 4,
 "nbformat_minor": 5
}
